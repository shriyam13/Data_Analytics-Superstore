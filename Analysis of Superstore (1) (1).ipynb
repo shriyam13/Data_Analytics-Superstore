{
 "cells": [
  {
   "cell_type": "markdown",
   "id": "f5413985",
   "metadata": {},
   "source": [
    "# Import all libraries"
   ]
  },
  {
   "cell_type": "code",
   "execution_count": 1,
   "id": "018d7064",
   "metadata": {},
   "outputs": [],
   "source": [
    "import pandas as pd\n",
    "import numpy as np\n",
    "import matplotlib.pyplot as plt\n",
    "import seaborn as sns"
   ]
  },
  {
   "cell_type": "markdown",
   "id": "0c4eda89",
   "metadata": {},
   "source": [
    "# Loading the dataset"
   ]
  },
  {
   "cell_type": "code",
   "execution_count": 2,
   "id": "1fc3c609",
   "metadata": {},
   "outputs": [],
   "source": [
    "dataset = pd.read_csv('SampleSuperstore.csv',encoding='windows-1254')"
   ]
  },
  {
   "cell_type": "code",
   "execution_count": 3,
   "id": "ecc534a6",
   "metadata": {},
   "outputs": [
    {
     "data": {
      "text/html": [
       "<div>\n",
       "<style scoped>\n",
       "    .dataframe tbody tr th:only-of-type {\n",
       "        vertical-align: middle;\n",
       "    }\n",
       "\n",
       "    .dataframe tbody tr th {\n",
       "        vertical-align: top;\n",
       "    }\n",
       "\n",
       "    .dataframe thead th {\n",
       "        text-align: right;\n",
       "    }\n",
       "</style>\n",
       "<table border=\"1\" class=\"dataframe\">\n",
       "  <thead>\n",
       "    <tr style=\"text-align: right;\">\n",
       "      <th></th>\n",
       "      <th>Row ID</th>\n",
       "      <th>Order ID</th>\n",
       "      <th>Order Date</th>\n",
       "      <th>Ship Date</th>\n",
       "      <th>Ship Mode</th>\n",
       "      <th>Customer ID</th>\n",
       "      <th>Customer Name</th>\n",
       "      <th>Segment</th>\n",
       "      <th>Country</th>\n",
       "      <th>City</th>\n",
       "      <th>...</th>\n",
       "      <th>Postal Code</th>\n",
       "      <th>Region</th>\n",
       "      <th>Product ID</th>\n",
       "      <th>Category</th>\n",
       "      <th>Sub-Category</th>\n",
       "      <th>Product Name</th>\n",
       "      <th>Sales</th>\n",
       "      <th>Quantity</th>\n",
       "      <th>Discount</th>\n",
       "      <th>Profit</th>\n",
       "    </tr>\n",
       "  </thead>\n",
       "  <tbody>\n",
       "    <tr>\n",
       "      <th>0</th>\n",
       "      <td>1</td>\n",
       "      <td>CA-2016-152156</td>\n",
       "      <td>11/8/2016</td>\n",
       "      <td>11/11/2016</td>\n",
       "      <td>Second Class</td>\n",
       "      <td>CG-12520</td>\n",
       "      <td>Claire Gute</td>\n",
       "      <td>Consumer</td>\n",
       "      <td>United States</td>\n",
       "      <td>Henderson</td>\n",
       "      <td>...</td>\n",
       "      <td>42420</td>\n",
       "      <td>South</td>\n",
       "      <td>FUR-BO-10001798</td>\n",
       "      <td>Furniture</td>\n",
       "      <td>Bookcases</td>\n",
       "      <td>Bush Somerset Collection Bookcase</td>\n",
       "      <td>261.9600</td>\n",
       "      <td>2</td>\n",
       "      <td>0.00</td>\n",
       "      <td>41.9136</td>\n",
       "    </tr>\n",
       "    <tr>\n",
       "      <th>1</th>\n",
       "      <td>2</td>\n",
       "      <td>CA-2016-152156</td>\n",
       "      <td>11/8/2016</td>\n",
       "      <td>11/11/2016</td>\n",
       "      <td>Second Class</td>\n",
       "      <td>CG-12520</td>\n",
       "      <td>Claire Gute</td>\n",
       "      <td>Consumer</td>\n",
       "      <td>United States</td>\n",
       "      <td>Henderson</td>\n",
       "      <td>...</td>\n",
       "      <td>42420</td>\n",
       "      <td>South</td>\n",
       "      <td>FUR-CH-10000454</td>\n",
       "      <td>Furniture</td>\n",
       "      <td>Chairs</td>\n",
       "      <td>Hon Deluxe Fabric Upholstered Stacking Chairs,...</td>\n",
       "      <td>731.9400</td>\n",
       "      <td>3</td>\n",
       "      <td>0.00</td>\n",
       "      <td>219.5820</td>\n",
       "    </tr>\n",
       "    <tr>\n",
       "      <th>2</th>\n",
       "      <td>3</td>\n",
       "      <td>CA-2016-138688</td>\n",
       "      <td>6/12/2016</td>\n",
       "      <td>6/16/2016</td>\n",
       "      <td>Second Class</td>\n",
       "      <td>DV-13045</td>\n",
       "      <td>Darrin Van Huff</td>\n",
       "      <td>Corporate</td>\n",
       "      <td>United States</td>\n",
       "      <td>Los Angeles</td>\n",
       "      <td>...</td>\n",
       "      <td>90036</td>\n",
       "      <td>West</td>\n",
       "      <td>OFF-LA-10000240</td>\n",
       "      <td>Office Supplies</td>\n",
       "      <td>Labels</td>\n",
       "      <td>Self-Adhesive Address Labels for Typewriters b...</td>\n",
       "      <td>14.6200</td>\n",
       "      <td>2</td>\n",
       "      <td>0.00</td>\n",
       "      <td>6.8714</td>\n",
       "    </tr>\n",
       "    <tr>\n",
       "      <th>3</th>\n",
       "      <td>4</td>\n",
       "      <td>US-2015-108966</td>\n",
       "      <td>10/11/2015</td>\n",
       "      <td>10/18/2015</td>\n",
       "      <td>Standard Class</td>\n",
       "      <td>SO-20335</td>\n",
       "      <td>Sean O'Donnell</td>\n",
       "      <td>Consumer</td>\n",
       "      <td>United States</td>\n",
       "      <td>Fort Lauderdale</td>\n",
       "      <td>...</td>\n",
       "      <td>33311</td>\n",
       "      <td>South</td>\n",
       "      <td>FUR-TA-10000577</td>\n",
       "      <td>Furniture</td>\n",
       "      <td>Tables</td>\n",
       "      <td>Bretford CR4500 Series Slim Rectangular Table</td>\n",
       "      <td>957.5775</td>\n",
       "      <td>5</td>\n",
       "      <td>0.45</td>\n",
       "      <td>-383.0310</td>\n",
       "    </tr>\n",
       "    <tr>\n",
       "      <th>4</th>\n",
       "      <td>5</td>\n",
       "      <td>US-2015-108966</td>\n",
       "      <td>10/11/2015</td>\n",
       "      <td>10/18/2015</td>\n",
       "      <td>Standard Class</td>\n",
       "      <td>SO-20335</td>\n",
       "      <td>Sean O'Donnell</td>\n",
       "      <td>Consumer</td>\n",
       "      <td>United States</td>\n",
       "      <td>Fort Lauderdale</td>\n",
       "      <td>...</td>\n",
       "      <td>33311</td>\n",
       "      <td>South</td>\n",
       "      <td>OFF-ST-10000760</td>\n",
       "      <td>Office Supplies</td>\n",
       "      <td>Storage</td>\n",
       "      <td>Eldon Fold 'N Roll Cart System</td>\n",
       "      <td>22.3680</td>\n",
       "      <td>2</td>\n",
       "      <td>0.20</td>\n",
       "      <td>2.5164</td>\n",
       "    </tr>\n",
       "  </tbody>\n",
       "</table>\n",
       "<p>5 rows × 21 columns</p>\n",
       "</div>"
      ],
      "text/plain": [
       "   Row ID        Order ID  Order Date   Ship Date       Ship Mode Customer ID  \\\n",
       "0       1  CA-2016-152156   11/8/2016  11/11/2016    Second Class    CG-12520   \n",
       "1       2  CA-2016-152156   11/8/2016  11/11/2016    Second Class    CG-12520   \n",
       "2       3  CA-2016-138688   6/12/2016   6/16/2016    Second Class    DV-13045   \n",
       "3       4  US-2015-108966  10/11/2015  10/18/2015  Standard Class    SO-20335   \n",
       "4       5  US-2015-108966  10/11/2015  10/18/2015  Standard Class    SO-20335   \n",
       "\n",
       "     Customer Name    Segment        Country             City  ...  \\\n",
       "0      Claire Gute   Consumer  United States        Henderson  ...   \n",
       "1      Claire Gute   Consumer  United States        Henderson  ...   \n",
       "2  Darrin Van Huff  Corporate  United States      Los Angeles  ...   \n",
       "3   Sean O'Donnell   Consumer  United States  Fort Lauderdale  ...   \n",
       "4   Sean O'Donnell   Consumer  United States  Fort Lauderdale  ...   \n",
       "\n",
       "  Postal Code  Region       Product ID         Category Sub-Category  \\\n",
       "0       42420   South  FUR-BO-10001798        Furniture    Bookcases   \n",
       "1       42420   South  FUR-CH-10000454        Furniture       Chairs   \n",
       "2       90036    West  OFF-LA-10000240  Office Supplies       Labels   \n",
       "3       33311   South  FUR-TA-10000577        Furniture       Tables   \n",
       "4       33311   South  OFF-ST-10000760  Office Supplies      Storage   \n",
       "\n",
       "                                        Product Name     Sales  Quantity  \\\n",
       "0                  Bush Somerset Collection Bookcase  261.9600         2   \n",
       "1  Hon Deluxe Fabric Upholstered Stacking Chairs,...  731.9400         3   \n",
       "2  Self-Adhesive Address Labels for Typewriters b...   14.6200         2   \n",
       "3      Bretford CR4500 Series Slim Rectangular Table  957.5775         5   \n",
       "4                     Eldon Fold 'N Roll Cart System   22.3680         2   \n",
       "\n",
       "   Discount    Profit  \n",
       "0      0.00   41.9136  \n",
       "1      0.00  219.5820  \n",
       "2      0.00    6.8714  \n",
       "3      0.45 -383.0310  \n",
       "4      0.20    2.5164  \n",
       "\n",
       "[5 rows x 21 columns]"
      ]
     },
     "execution_count": 3,
     "metadata": {},
     "output_type": "execute_result"
    }
   ],
   "source": [
    "dataset.head()"
   ]
  },
  {
   "cell_type": "code",
   "execution_count": 4,
   "id": "ad89394c",
   "metadata": {},
   "outputs": [
    {
     "data": {
      "text/html": [
       "<div>\n",
       "<style scoped>\n",
       "    .dataframe tbody tr th:only-of-type {\n",
       "        vertical-align: middle;\n",
       "    }\n",
       "\n",
       "    .dataframe tbody tr th {\n",
       "        vertical-align: top;\n",
       "    }\n",
       "\n",
       "    .dataframe thead th {\n",
       "        text-align: right;\n",
       "    }\n",
       "</style>\n",
       "<table border=\"1\" class=\"dataframe\">\n",
       "  <thead>\n",
       "    <tr style=\"text-align: right;\">\n",
       "      <th></th>\n",
       "      <th>Row ID</th>\n",
       "      <th>Order ID</th>\n",
       "      <th>Order Date</th>\n",
       "      <th>Ship Date</th>\n",
       "      <th>Ship Mode</th>\n",
       "      <th>Customer ID</th>\n",
       "      <th>Customer Name</th>\n",
       "      <th>Segment</th>\n",
       "      <th>Country</th>\n",
       "      <th>City</th>\n",
       "      <th>...</th>\n",
       "      <th>Postal Code</th>\n",
       "      <th>Region</th>\n",
       "      <th>Product ID</th>\n",
       "      <th>Category</th>\n",
       "      <th>Sub-Category</th>\n",
       "      <th>Product Name</th>\n",
       "      <th>Sales</th>\n",
       "      <th>Quantity</th>\n",
       "      <th>Discount</th>\n",
       "      <th>Profit</th>\n",
       "    </tr>\n",
       "  </thead>\n",
       "  <tbody>\n",
       "    <tr>\n",
       "      <th>9989</th>\n",
       "      <td>9990</td>\n",
       "      <td>CA-2014-110422</td>\n",
       "      <td>1/21/2014</td>\n",
       "      <td>1/23/2014</td>\n",
       "      <td>Second Class</td>\n",
       "      <td>TB-21400</td>\n",
       "      <td>Tom Boeckenhauer</td>\n",
       "      <td>Consumer</td>\n",
       "      <td>United States</td>\n",
       "      <td>Miami</td>\n",
       "      <td>...</td>\n",
       "      <td>33180</td>\n",
       "      <td>South</td>\n",
       "      <td>FUR-FU-10001889</td>\n",
       "      <td>Furniture</td>\n",
       "      <td>Furnishings</td>\n",
       "      <td>Ultra Door Pull Handle</td>\n",
       "      <td>25.248</td>\n",
       "      <td>3</td>\n",
       "      <td>0.2</td>\n",
       "      <td>4.1028</td>\n",
       "    </tr>\n",
       "    <tr>\n",
       "      <th>9990</th>\n",
       "      <td>9991</td>\n",
       "      <td>CA-2017-121258</td>\n",
       "      <td>2/26/2017</td>\n",
       "      <td>3/3/2017</td>\n",
       "      <td>Standard Class</td>\n",
       "      <td>DB-13060</td>\n",
       "      <td>Dave Brooks</td>\n",
       "      <td>Consumer</td>\n",
       "      <td>United States</td>\n",
       "      <td>Costa Mesa</td>\n",
       "      <td>...</td>\n",
       "      <td>92627</td>\n",
       "      <td>West</td>\n",
       "      <td>FUR-FU-10000747</td>\n",
       "      <td>Furniture</td>\n",
       "      <td>Furnishings</td>\n",
       "      <td>Tenex B1-RE Series Chair Mats for Low Pile Car...</td>\n",
       "      <td>91.960</td>\n",
       "      <td>2</td>\n",
       "      <td>0.0</td>\n",
       "      <td>15.6332</td>\n",
       "    </tr>\n",
       "    <tr>\n",
       "      <th>9991</th>\n",
       "      <td>9992</td>\n",
       "      <td>CA-2017-121258</td>\n",
       "      <td>2/26/2017</td>\n",
       "      <td>3/3/2017</td>\n",
       "      <td>Standard Class</td>\n",
       "      <td>DB-13060</td>\n",
       "      <td>Dave Brooks</td>\n",
       "      <td>Consumer</td>\n",
       "      <td>United States</td>\n",
       "      <td>Costa Mesa</td>\n",
       "      <td>...</td>\n",
       "      <td>92627</td>\n",
       "      <td>West</td>\n",
       "      <td>TEC-PH-10003645</td>\n",
       "      <td>Technology</td>\n",
       "      <td>Phones</td>\n",
       "      <td>Aastra 57i VoIP phone</td>\n",
       "      <td>258.576</td>\n",
       "      <td>2</td>\n",
       "      <td>0.2</td>\n",
       "      <td>19.3932</td>\n",
       "    </tr>\n",
       "    <tr>\n",
       "      <th>9992</th>\n",
       "      <td>9993</td>\n",
       "      <td>CA-2017-121258</td>\n",
       "      <td>2/26/2017</td>\n",
       "      <td>3/3/2017</td>\n",
       "      <td>Standard Class</td>\n",
       "      <td>DB-13060</td>\n",
       "      <td>Dave Brooks</td>\n",
       "      <td>Consumer</td>\n",
       "      <td>United States</td>\n",
       "      <td>Costa Mesa</td>\n",
       "      <td>...</td>\n",
       "      <td>92627</td>\n",
       "      <td>West</td>\n",
       "      <td>OFF-PA-10004041</td>\n",
       "      <td>Office Supplies</td>\n",
       "      <td>Paper</td>\n",
       "      <td>It's Hot Message Books with Stickers, 2 3/4\" x 5\"</td>\n",
       "      <td>29.600</td>\n",
       "      <td>4</td>\n",
       "      <td>0.0</td>\n",
       "      <td>13.3200</td>\n",
       "    </tr>\n",
       "    <tr>\n",
       "      <th>9993</th>\n",
       "      <td>9994</td>\n",
       "      <td>CA-2017-119914</td>\n",
       "      <td>5/4/2017</td>\n",
       "      <td>5/9/2017</td>\n",
       "      <td>Second Class</td>\n",
       "      <td>CC-12220</td>\n",
       "      <td>Chris Cortes</td>\n",
       "      <td>Consumer</td>\n",
       "      <td>United States</td>\n",
       "      <td>Westminster</td>\n",
       "      <td>...</td>\n",
       "      <td>92683</td>\n",
       "      <td>West</td>\n",
       "      <td>OFF-AP-10002684</td>\n",
       "      <td>Office Supplies</td>\n",
       "      <td>Appliances</td>\n",
       "      <td>Acco 7-Outlet Masterpiece Power Center, Wihtou...</td>\n",
       "      <td>243.160</td>\n",
       "      <td>2</td>\n",
       "      <td>0.0</td>\n",
       "      <td>72.9480</td>\n",
       "    </tr>\n",
       "  </tbody>\n",
       "</table>\n",
       "<p>5 rows × 21 columns</p>\n",
       "</div>"
      ],
      "text/plain": [
       "      Row ID        Order ID Order Date  Ship Date       Ship Mode  \\\n",
       "9989    9990  CA-2014-110422  1/21/2014  1/23/2014    Second Class   \n",
       "9990    9991  CA-2017-121258  2/26/2017   3/3/2017  Standard Class   \n",
       "9991    9992  CA-2017-121258  2/26/2017   3/3/2017  Standard Class   \n",
       "9992    9993  CA-2017-121258  2/26/2017   3/3/2017  Standard Class   \n",
       "9993    9994  CA-2017-119914   5/4/2017   5/9/2017    Second Class   \n",
       "\n",
       "     Customer ID     Customer Name   Segment        Country         City  ...  \\\n",
       "9989    TB-21400  Tom Boeckenhauer  Consumer  United States        Miami  ...   \n",
       "9990    DB-13060       Dave Brooks  Consumer  United States   Costa Mesa  ...   \n",
       "9991    DB-13060       Dave Brooks  Consumer  United States   Costa Mesa  ...   \n",
       "9992    DB-13060       Dave Brooks  Consumer  United States   Costa Mesa  ...   \n",
       "9993    CC-12220      Chris Cortes  Consumer  United States  Westminster  ...   \n",
       "\n",
       "     Postal Code  Region       Product ID         Category Sub-Category  \\\n",
       "9989       33180   South  FUR-FU-10001889        Furniture  Furnishings   \n",
       "9990       92627    West  FUR-FU-10000747        Furniture  Furnishings   \n",
       "9991       92627    West  TEC-PH-10003645       Technology       Phones   \n",
       "9992       92627    West  OFF-PA-10004041  Office Supplies        Paper   \n",
       "9993       92683    West  OFF-AP-10002684  Office Supplies   Appliances   \n",
       "\n",
       "                                           Product Name    Sales  Quantity  \\\n",
       "9989                             Ultra Door Pull Handle   25.248         3   \n",
       "9990  Tenex B1-RE Series Chair Mats for Low Pile Car...   91.960         2   \n",
       "9991                              Aastra 57i VoIP phone  258.576         2   \n",
       "9992  It's Hot Message Books with Stickers, 2 3/4\" x 5\"   29.600         4   \n",
       "9993  Acco 7-Outlet Masterpiece Power Center, Wihtou...  243.160         2   \n",
       "\n",
       "      Discount   Profit  \n",
       "9989       0.2   4.1028  \n",
       "9990       0.0  15.6332  \n",
       "9991       0.2  19.3932  \n",
       "9992       0.0  13.3200  \n",
       "9993       0.0  72.9480  \n",
       "\n",
       "[5 rows x 21 columns]"
      ]
     },
     "execution_count": 4,
     "metadata": {},
     "output_type": "execute_result"
    }
   ],
   "source": [
    "dataset.tail()"
   ]
  },
  {
   "cell_type": "code",
   "execution_count": 5,
   "id": "74a323e0",
   "metadata": {},
   "outputs": [
    {
     "data": {
      "text/plain": [
       "(9994, 21)"
      ]
     },
     "execution_count": 5,
     "metadata": {},
     "output_type": "execute_result"
    }
   ],
   "source": [
    "dataset.shape"
   ]
  },
  {
   "cell_type": "code",
   "execution_count": 6,
   "id": "7265a9dc",
   "metadata": {},
   "outputs": [
    {
     "data": {
      "text/plain": [
       "Index(['Row ID', 'Order ID', 'Order Date', 'Ship Date', 'Ship Mode',\n",
       "       'Customer ID', 'Customer Name', 'Segment', 'Country', 'City', 'State',\n",
       "       'Postal Code', 'Region', 'Product ID', 'Category', 'Sub-Category',\n",
       "       'Product Name', 'Sales', 'Quantity', 'Discount', 'Profit'],\n",
       "      dtype='object')"
      ]
     },
     "execution_count": 6,
     "metadata": {},
     "output_type": "execute_result"
    }
   ],
   "source": [
    "dataset.columns"
   ]
  },
  {
   "cell_type": "code",
   "execution_count": 7,
   "id": "9ecd517d",
   "metadata": {},
   "outputs": [
    {
     "data": {
      "text/html": [
       "<div>\n",
       "<style scoped>\n",
       "    .dataframe tbody tr th:only-of-type {\n",
       "        vertical-align: middle;\n",
       "    }\n",
       "\n",
       "    .dataframe tbody tr th {\n",
       "        vertical-align: top;\n",
       "    }\n",
       "\n",
       "    .dataframe thead th {\n",
       "        text-align: right;\n",
       "    }\n",
       "</style>\n",
       "<table border=\"1\" class=\"dataframe\">\n",
       "  <thead>\n",
       "    <tr style=\"text-align: right;\">\n",
       "      <th></th>\n",
       "      <th>Order ID</th>\n",
       "      <th>Ship Mode</th>\n",
       "      <th>Segment</th>\n",
       "      <th>Country</th>\n",
       "      <th>City</th>\n",
       "      <th>State</th>\n",
       "      <th>Postal Code</th>\n",
       "      <th>Region</th>\n",
       "      <th>Category</th>\n",
       "      <th>Sub-Category</th>\n",
       "      <th>Product Name</th>\n",
       "      <th>Sales</th>\n",
       "      <th>Quantity</th>\n",
       "      <th>Discount</th>\n",
       "      <th>Profit</th>\n",
       "    </tr>\n",
       "  </thead>\n",
       "  <tbody>\n",
       "    <tr>\n",
       "      <th>0</th>\n",
       "      <td>CA-2016-152156</td>\n",
       "      <td>Second Class</td>\n",
       "      <td>Consumer</td>\n",
       "      <td>United States</td>\n",
       "      <td>Henderson</td>\n",
       "      <td>Kentucky</td>\n",
       "      <td>42420</td>\n",
       "      <td>South</td>\n",
       "      <td>Furniture</td>\n",
       "      <td>Bookcases</td>\n",
       "      <td>Bush Somerset Collection Bookcase</td>\n",
       "      <td>261.9600</td>\n",
       "      <td>2</td>\n",
       "      <td>0.00</td>\n",
       "      <td>41.9136</td>\n",
       "    </tr>\n",
       "    <tr>\n",
       "      <th>1</th>\n",
       "      <td>CA-2016-152156</td>\n",
       "      <td>Second Class</td>\n",
       "      <td>Consumer</td>\n",
       "      <td>United States</td>\n",
       "      <td>Henderson</td>\n",
       "      <td>Kentucky</td>\n",
       "      <td>42420</td>\n",
       "      <td>South</td>\n",
       "      <td>Furniture</td>\n",
       "      <td>Chairs</td>\n",
       "      <td>Hon Deluxe Fabric Upholstered Stacking Chairs,...</td>\n",
       "      <td>731.9400</td>\n",
       "      <td>3</td>\n",
       "      <td>0.00</td>\n",
       "      <td>219.5820</td>\n",
       "    </tr>\n",
       "    <tr>\n",
       "      <th>2</th>\n",
       "      <td>CA-2016-138688</td>\n",
       "      <td>Second Class</td>\n",
       "      <td>Corporate</td>\n",
       "      <td>United States</td>\n",
       "      <td>Los Angeles</td>\n",
       "      <td>California</td>\n",
       "      <td>90036</td>\n",
       "      <td>West</td>\n",
       "      <td>Office Supplies</td>\n",
       "      <td>Labels</td>\n",
       "      <td>Self-Adhesive Address Labels for Typewriters b...</td>\n",
       "      <td>14.6200</td>\n",
       "      <td>2</td>\n",
       "      <td>0.00</td>\n",
       "      <td>6.8714</td>\n",
       "    </tr>\n",
       "    <tr>\n",
       "      <th>3</th>\n",
       "      <td>US-2015-108966</td>\n",
       "      <td>Standard Class</td>\n",
       "      <td>Consumer</td>\n",
       "      <td>United States</td>\n",
       "      <td>Fort Lauderdale</td>\n",
       "      <td>Florida</td>\n",
       "      <td>33311</td>\n",
       "      <td>South</td>\n",
       "      <td>Furniture</td>\n",
       "      <td>Tables</td>\n",
       "      <td>Bretford CR4500 Series Slim Rectangular Table</td>\n",
       "      <td>957.5775</td>\n",
       "      <td>5</td>\n",
       "      <td>0.45</td>\n",
       "      <td>-383.0310</td>\n",
       "    </tr>\n",
       "    <tr>\n",
       "      <th>4</th>\n",
       "      <td>US-2015-108966</td>\n",
       "      <td>Standard Class</td>\n",
       "      <td>Consumer</td>\n",
       "      <td>United States</td>\n",
       "      <td>Fort Lauderdale</td>\n",
       "      <td>Florida</td>\n",
       "      <td>33311</td>\n",
       "      <td>South</td>\n",
       "      <td>Office Supplies</td>\n",
       "      <td>Storage</td>\n",
       "      <td>Eldon Fold 'N Roll Cart System</td>\n",
       "      <td>22.3680</td>\n",
       "      <td>2</td>\n",
       "      <td>0.20</td>\n",
       "      <td>2.5164</td>\n",
       "    </tr>\n",
       "  </tbody>\n",
       "</table>\n",
       "</div>"
      ],
      "text/plain": [
       "         Order ID       Ship Mode    Segment        Country             City  \\\n",
       "0  CA-2016-152156    Second Class   Consumer  United States        Henderson   \n",
       "1  CA-2016-152156    Second Class   Consumer  United States        Henderson   \n",
       "2  CA-2016-138688    Second Class  Corporate  United States      Los Angeles   \n",
       "3  US-2015-108966  Standard Class   Consumer  United States  Fort Lauderdale   \n",
       "4  US-2015-108966  Standard Class   Consumer  United States  Fort Lauderdale   \n",
       "\n",
       "        State  Postal Code Region         Category Sub-Category  \\\n",
       "0    Kentucky        42420  South        Furniture    Bookcases   \n",
       "1    Kentucky        42420  South        Furniture       Chairs   \n",
       "2  California        90036   West  Office Supplies       Labels   \n",
       "3     Florida        33311  South        Furniture       Tables   \n",
       "4     Florida        33311  South  Office Supplies      Storage   \n",
       "\n",
       "                                        Product Name     Sales  Quantity  \\\n",
       "0                  Bush Somerset Collection Bookcase  261.9600         2   \n",
       "1  Hon Deluxe Fabric Upholstered Stacking Chairs,...  731.9400         3   \n",
       "2  Self-Adhesive Address Labels for Typewriters b...   14.6200         2   \n",
       "3      Bretford CR4500 Series Slim Rectangular Table  957.5775         5   \n",
       "4                     Eldon Fold 'N Roll Cart System   22.3680         2   \n",
       "\n",
       "   Discount    Profit  \n",
       "0      0.00   41.9136  \n",
       "1      0.00  219.5820  \n",
       "2      0.00    6.8714  \n",
       "3      0.45 -383.0310  \n",
       "4      0.20    2.5164  "
      ]
     },
     "execution_count": 7,
     "metadata": {},
     "output_type": "execute_result"
    }
   ],
   "source": [
    "data=dataset.drop(columns=['Row ID','Order Date', 'Ship Date','Customer ID', 'Customer Name','Product ID'],axis=1)\n",
    "data.head()"
   ]
  },
  {
   "cell_type": "code",
   "execution_count": 8,
   "id": "b04a8cdd",
   "metadata": {},
   "outputs": [
    {
     "name": "stdout",
     "output_type": "stream",
     "text": [
      "<class 'pandas.core.frame.DataFrame'>\n",
      "RangeIndex: 9994 entries, 0 to 9993\n",
      "Data columns (total 21 columns):\n",
      " #   Column         Non-Null Count  Dtype  \n",
      "---  ------         --------------  -----  \n",
      " 0   Row ID         9994 non-null   int64  \n",
      " 1   Order ID       9994 non-null   object \n",
      " 2   Order Date     9994 non-null   object \n",
      " 3   Ship Date      9994 non-null   object \n",
      " 4   Ship Mode      9994 non-null   object \n",
      " 5   Customer ID    9994 non-null   object \n",
      " 6   Customer Name  9994 non-null   object \n",
      " 7   Segment        9994 non-null   object \n",
      " 8   Country        9994 non-null   object \n",
      " 9   City           9994 non-null   object \n",
      " 10  State          9994 non-null   object \n",
      " 11  Postal Code    9994 non-null   int64  \n",
      " 12  Region         9994 non-null   object \n",
      " 13  Product ID     9994 non-null   object \n",
      " 14  Category       9994 non-null   object \n",
      " 15  Sub-Category   9994 non-null   object \n",
      " 16  Product Name   9994 non-null   object \n",
      " 17  Sales          9994 non-null   float64\n",
      " 18  Quantity       9994 non-null   int64  \n",
      " 19  Discount       9994 non-null   float64\n",
      " 20  Profit         9994 non-null   float64\n",
      "dtypes: float64(3), int64(3), object(15)\n",
      "memory usage: 1.6+ MB\n"
     ]
    }
   ],
   "source": [
    "dataset.info()"
   ]
  },
  {
   "cell_type": "code",
   "execution_count": 9,
   "id": "9959c262",
   "metadata": {},
   "outputs": [
    {
     "data": {
      "text/html": [
       "<div>\n",
       "<style scoped>\n",
       "    .dataframe tbody tr th:only-of-type {\n",
       "        vertical-align: middle;\n",
       "    }\n",
       "\n",
       "    .dataframe tbody tr th {\n",
       "        vertical-align: top;\n",
       "    }\n",
       "\n",
       "    .dataframe thead th {\n",
       "        text-align: right;\n",
       "    }\n",
       "</style>\n",
       "<table border=\"1\" class=\"dataframe\">\n",
       "  <thead>\n",
       "    <tr style=\"text-align: right;\">\n",
       "      <th></th>\n",
       "      <th>Row ID</th>\n",
       "      <th>Postal Code</th>\n",
       "      <th>Sales</th>\n",
       "      <th>Quantity</th>\n",
       "      <th>Discount</th>\n",
       "      <th>Profit</th>\n",
       "    </tr>\n",
       "  </thead>\n",
       "  <tbody>\n",
       "    <tr>\n",
       "      <th>count</th>\n",
       "      <td>9994.000000</td>\n",
       "      <td>9994.000000</td>\n",
       "      <td>9994.000000</td>\n",
       "      <td>9994.000000</td>\n",
       "      <td>9994.000000</td>\n",
       "      <td>9994.000000</td>\n",
       "    </tr>\n",
       "    <tr>\n",
       "      <th>mean</th>\n",
       "      <td>4997.500000</td>\n",
       "      <td>55190.379428</td>\n",
       "      <td>229.858001</td>\n",
       "      <td>3.789574</td>\n",
       "      <td>0.156203</td>\n",
       "      <td>28.656896</td>\n",
       "    </tr>\n",
       "    <tr>\n",
       "      <th>std</th>\n",
       "      <td>2885.163629</td>\n",
       "      <td>32063.693350</td>\n",
       "      <td>623.245101</td>\n",
       "      <td>2.225110</td>\n",
       "      <td>0.206452</td>\n",
       "      <td>234.260108</td>\n",
       "    </tr>\n",
       "    <tr>\n",
       "      <th>min</th>\n",
       "      <td>1.000000</td>\n",
       "      <td>1040.000000</td>\n",
       "      <td>0.444000</td>\n",
       "      <td>1.000000</td>\n",
       "      <td>0.000000</td>\n",
       "      <td>-6599.978000</td>\n",
       "    </tr>\n",
       "    <tr>\n",
       "      <th>25%</th>\n",
       "      <td>2499.250000</td>\n",
       "      <td>23223.000000</td>\n",
       "      <td>17.280000</td>\n",
       "      <td>2.000000</td>\n",
       "      <td>0.000000</td>\n",
       "      <td>1.728750</td>\n",
       "    </tr>\n",
       "    <tr>\n",
       "      <th>50%</th>\n",
       "      <td>4997.500000</td>\n",
       "      <td>56430.500000</td>\n",
       "      <td>54.490000</td>\n",
       "      <td>3.000000</td>\n",
       "      <td>0.200000</td>\n",
       "      <td>8.666500</td>\n",
       "    </tr>\n",
       "    <tr>\n",
       "      <th>75%</th>\n",
       "      <td>7495.750000</td>\n",
       "      <td>90008.000000</td>\n",
       "      <td>209.940000</td>\n",
       "      <td>5.000000</td>\n",
       "      <td>0.200000</td>\n",
       "      <td>29.364000</td>\n",
       "    </tr>\n",
       "    <tr>\n",
       "      <th>max</th>\n",
       "      <td>9994.000000</td>\n",
       "      <td>99301.000000</td>\n",
       "      <td>22638.480000</td>\n",
       "      <td>14.000000</td>\n",
       "      <td>0.800000</td>\n",
       "      <td>8399.976000</td>\n",
       "    </tr>\n",
       "  </tbody>\n",
       "</table>\n",
       "</div>"
      ],
      "text/plain": [
       "            Row ID   Postal Code         Sales     Quantity     Discount  \\\n",
       "count  9994.000000   9994.000000   9994.000000  9994.000000  9994.000000   \n",
       "mean   4997.500000  55190.379428    229.858001     3.789574     0.156203   \n",
       "std    2885.163629  32063.693350    623.245101     2.225110     0.206452   \n",
       "min       1.000000   1040.000000      0.444000     1.000000     0.000000   \n",
       "25%    2499.250000  23223.000000     17.280000     2.000000     0.000000   \n",
       "50%    4997.500000  56430.500000     54.490000     3.000000     0.200000   \n",
       "75%    7495.750000  90008.000000    209.940000     5.000000     0.200000   \n",
       "max    9994.000000  99301.000000  22638.480000    14.000000     0.800000   \n",
       "\n",
       "            Profit  \n",
       "count  9994.000000  \n",
       "mean     28.656896  \n",
       "std     234.260108  \n",
       "min   -6599.978000  \n",
       "25%       1.728750  \n",
       "50%       8.666500  \n",
       "75%      29.364000  \n",
       "max    8399.976000  "
      ]
     },
     "execution_count": 9,
     "metadata": {},
     "output_type": "execute_result"
    }
   ],
   "source": [
    "dataset.describe()"
   ]
  },
  {
   "cell_type": "code",
   "execution_count": 10,
   "id": "f18288b8",
   "metadata": {},
   "outputs": [
    {
     "data": {
      "text/html": [
       "<div>\n",
       "<style scoped>\n",
       "    .dataframe tbody tr th:only-of-type {\n",
       "        vertical-align: middle;\n",
       "    }\n",
       "\n",
       "    .dataframe tbody tr th {\n",
       "        vertical-align: top;\n",
       "    }\n",
       "\n",
       "    .dataframe thead th {\n",
       "        text-align: right;\n",
       "    }\n",
       "</style>\n",
       "<table border=\"1\" class=\"dataframe\">\n",
       "  <thead>\n",
       "    <tr style=\"text-align: right;\">\n",
       "      <th></th>\n",
       "      <th>Ship Mode</th>\n",
       "      <th>Segment</th>\n",
       "      <th>Country</th>\n",
       "      <th>City</th>\n",
       "      <th>State</th>\n",
       "      <th>Region</th>\n",
       "      <th>Category</th>\n",
       "      <th>Sub-Category</th>\n",
       "      <th>Product Name</th>\n",
       "      <th>Sales</th>\n",
       "      <th>Quantity</th>\n",
       "      <th>Discount</th>\n",
       "      <th>Profit</th>\n",
       "    </tr>\n",
       "  </thead>\n",
       "  <tbody>\n",
       "    <tr>\n",
       "      <th>0</th>\n",
       "      <td>Second Class</td>\n",
       "      <td>Consumer</td>\n",
       "      <td>United States</td>\n",
       "      <td>Henderson</td>\n",
       "      <td>Kentucky</td>\n",
       "      <td>South</td>\n",
       "      <td>Furniture</td>\n",
       "      <td>Bookcases</td>\n",
       "      <td>Bush Somerset Collection Bookcase</td>\n",
       "      <td>261.9600</td>\n",
       "      <td>2</td>\n",
       "      <td>0.00</td>\n",
       "      <td>41.9136</td>\n",
       "    </tr>\n",
       "    <tr>\n",
       "      <th>1</th>\n",
       "      <td>Second Class</td>\n",
       "      <td>Consumer</td>\n",
       "      <td>United States</td>\n",
       "      <td>Henderson</td>\n",
       "      <td>Kentucky</td>\n",
       "      <td>South</td>\n",
       "      <td>Furniture</td>\n",
       "      <td>Chairs</td>\n",
       "      <td>Hon Deluxe Fabric Upholstered Stacking Chairs,...</td>\n",
       "      <td>731.9400</td>\n",
       "      <td>3</td>\n",
       "      <td>0.00</td>\n",
       "      <td>219.5820</td>\n",
       "    </tr>\n",
       "    <tr>\n",
       "      <th>2</th>\n",
       "      <td>Second Class</td>\n",
       "      <td>Corporate</td>\n",
       "      <td>United States</td>\n",
       "      <td>Los Angeles</td>\n",
       "      <td>California</td>\n",
       "      <td>West</td>\n",
       "      <td>Office Supplies</td>\n",
       "      <td>Labels</td>\n",
       "      <td>Self-Adhesive Address Labels for Typewriters b...</td>\n",
       "      <td>14.6200</td>\n",
       "      <td>2</td>\n",
       "      <td>0.00</td>\n",
       "      <td>6.8714</td>\n",
       "    </tr>\n",
       "    <tr>\n",
       "      <th>3</th>\n",
       "      <td>Standard Class</td>\n",
       "      <td>Consumer</td>\n",
       "      <td>United States</td>\n",
       "      <td>Fort Lauderdale</td>\n",
       "      <td>Florida</td>\n",
       "      <td>South</td>\n",
       "      <td>Furniture</td>\n",
       "      <td>Tables</td>\n",
       "      <td>Bretford CR4500 Series Slim Rectangular Table</td>\n",
       "      <td>957.5775</td>\n",
       "      <td>5</td>\n",
       "      <td>0.45</td>\n",
       "      <td>-383.0310</td>\n",
       "    </tr>\n",
       "    <tr>\n",
       "      <th>4</th>\n",
       "      <td>Standard Class</td>\n",
       "      <td>Consumer</td>\n",
       "      <td>United States</td>\n",
       "      <td>Fort Lauderdale</td>\n",
       "      <td>Florida</td>\n",
       "      <td>South</td>\n",
       "      <td>Office Supplies</td>\n",
       "      <td>Storage</td>\n",
       "      <td>Eldon Fold 'N Roll Cart System</td>\n",
       "      <td>22.3680</td>\n",
       "      <td>2</td>\n",
       "      <td>0.20</td>\n",
       "      <td>2.5164</td>\n",
       "    </tr>\n",
       "  </tbody>\n",
       "</table>\n",
       "</div>"
      ],
      "text/plain": [
       "        Ship Mode    Segment        Country             City       State  \\\n",
       "0    Second Class   Consumer  United States        Henderson    Kentucky   \n",
       "1    Second Class   Consumer  United States        Henderson    Kentucky   \n",
       "2    Second Class  Corporate  United States      Los Angeles  California   \n",
       "3  Standard Class   Consumer  United States  Fort Lauderdale     Florida   \n",
       "4  Standard Class   Consumer  United States  Fort Lauderdale     Florida   \n",
       "\n",
       "  Region         Category Sub-Category  \\\n",
       "0  South        Furniture    Bookcases   \n",
       "1  South        Furniture       Chairs   \n",
       "2   West  Office Supplies       Labels   \n",
       "3  South        Furniture       Tables   \n",
       "4  South  Office Supplies      Storage   \n",
       "\n",
       "                                        Product Name     Sales  Quantity  \\\n",
       "0                  Bush Somerset Collection Bookcase  261.9600         2   \n",
       "1  Hon Deluxe Fabric Upholstered Stacking Chairs,...  731.9400         3   \n",
       "2  Self-Adhesive Address Labels for Typewriters b...   14.6200         2   \n",
       "3      Bretford CR4500 Series Slim Rectangular Table  957.5775         5   \n",
       "4                     Eldon Fold 'N Roll Cart System   22.3680         2   \n",
       "\n",
       "   Discount    Profit  \n",
       "0      0.00   41.9136  \n",
       "1      0.00  219.5820  \n",
       "2      0.00    6.8714  \n",
       "3      0.45 -383.0310  \n",
       "4      0.20    2.5164  "
      ]
     },
     "execution_count": 10,
     "metadata": {},
     "output_type": "execute_result"
    }
   ],
   "source": [
    "data=dataset.drop(columns=['Row ID',\"Order ID\",'Order Date', 'Ship Date','Customer ID', 'Customer Name','Product ID','Postal Code'],axis=1)\n",
    "data.head()"
   ]
  },
  {
   "cell_type": "code",
   "execution_count": 11,
   "id": "e7483cb4",
   "metadata": {},
   "outputs": [
    {
     "data": {
      "text/plain": [
       "(9994, 13)"
      ]
     },
     "execution_count": 11,
     "metadata": {},
     "output_type": "execute_result"
    }
   ],
   "source": [
    "data.shape"
   ]
  },
  {
   "cell_type": "code",
   "execution_count": 12,
   "id": "52f82af1",
   "metadata": {},
   "outputs": [
    {
     "name": "stderr",
     "output_type": "stream",
     "text": [
      "C:\\Users\\rohan\\AppData\\Local\\Temp\\ipykernel_10244\\2627137660.py:1: FutureWarning: The default value of numeric_only in DataFrame.corr is deprecated. In a future version, it will default to False. Select only valid columns or specify the value of numeric_only to silence this warning.\n",
      "  data.corr()\n"
     ]
    },
    {
     "data": {
      "text/html": [
       "<div>\n",
       "<style scoped>\n",
       "    .dataframe tbody tr th:only-of-type {\n",
       "        vertical-align: middle;\n",
       "    }\n",
       "\n",
       "    .dataframe tbody tr th {\n",
       "        vertical-align: top;\n",
       "    }\n",
       "\n",
       "    .dataframe thead th {\n",
       "        text-align: right;\n",
       "    }\n",
       "</style>\n",
       "<table border=\"1\" class=\"dataframe\">\n",
       "  <thead>\n",
       "    <tr style=\"text-align: right;\">\n",
       "      <th></th>\n",
       "      <th>Sales</th>\n",
       "      <th>Quantity</th>\n",
       "      <th>Discount</th>\n",
       "      <th>Profit</th>\n",
       "    </tr>\n",
       "  </thead>\n",
       "  <tbody>\n",
       "    <tr>\n",
       "      <th>Sales</th>\n",
       "      <td>1.000000</td>\n",
       "      <td>0.200795</td>\n",
       "      <td>-0.028190</td>\n",
       "      <td>0.479064</td>\n",
       "    </tr>\n",
       "    <tr>\n",
       "      <th>Quantity</th>\n",
       "      <td>0.200795</td>\n",
       "      <td>1.000000</td>\n",
       "      <td>0.008623</td>\n",
       "      <td>0.066253</td>\n",
       "    </tr>\n",
       "    <tr>\n",
       "      <th>Discount</th>\n",
       "      <td>-0.028190</td>\n",
       "      <td>0.008623</td>\n",
       "      <td>1.000000</td>\n",
       "      <td>-0.219487</td>\n",
       "    </tr>\n",
       "    <tr>\n",
       "      <th>Profit</th>\n",
       "      <td>0.479064</td>\n",
       "      <td>0.066253</td>\n",
       "      <td>-0.219487</td>\n",
       "      <td>1.000000</td>\n",
       "    </tr>\n",
       "  </tbody>\n",
       "</table>\n",
       "</div>"
      ],
      "text/plain": [
       "             Sales  Quantity  Discount    Profit\n",
       "Sales     1.000000  0.200795 -0.028190  0.479064\n",
       "Quantity  0.200795  1.000000  0.008623  0.066253\n",
       "Discount -0.028190  0.008623  1.000000 -0.219487\n",
       "Profit    0.479064  0.066253 -0.219487  1.000000"
      ]
     },
     "execution_count": 12,
     "metadata": {},
     "output_type": "execute_result"
    }
   ],
   "source": [
    "data.corr()"
   ]
  },
  {
   "cell_type": "code",
   "execution_count": 17,
   "id": "88c9476c",
   "metadata": {},
   "outputs": [
    {
     "name": "stderr",
     "output_type": "stream",
     "text": [
      "C:\\Users\\rohan\\AppData\\Local\\Temp\\ipykernel_10244\\675936283.py:2: FutureWarning:\n",
      "\n",
      "The default value of numeric_only in DataFrame.corr is deprecated. In a future version, it will default to False. Select only valid columns or specify the value of numeric_only to silence this warning.\n",
      "\n"
     ]
    },
    {
     "data": {
      "application/vnd.plotly.v1+json": {
       "config": {
        "plotlyServerURL": "https://plot.ly"
       },
       "data": [
        {
         "coloraxis": "coloraxis",
         "hovertemplate": "x: %{x}<br>y: %{y}<br>color: %{z}<extra></extra>",
         "name": "0",
         "texttemplate": "%{z}",
         "type": "heatmap",
         "x": [
          "Sales",
          "Quantity",
          "Discount",
          "Profit"
         ],
         "xaxis": "x",
         "y": [
          "Sales",
          "Quantity",
          "Discount",
          "Profit"
         ],
         "yaxis": "y",
         "z": [
          [
           1,
           0.20079477137389737,
           -0.028190124157535527,
           0.47906434973770706
          ],
          [
           0.20079477137389737,
           1,
           0.008622970271156362,
           0.06625318912428484
          ],
          [
           -0.028190124157535527,
           0.008622970271156362,
           1,
           -0.21948745637176792
          ],
          [
           0.47906434973770706,
           0.06625318912428484,
           -0.21948745637176792,
           1
          ]
         ]
        }
       ],
       "layout": {
        "coloraxis": {
         "colorscale": [
          [
           0,
           "#0d0887"
          ],
          [
           0.1111111111111111,
           "#46039f"
          ],
          [
           0.2222222222222222,
           "#7201a8"
          ],
          [
           0.3333333333333333,
           "#9c179e"
          ],
          [
           0.4444444444444444,
           "#bd3786"
          ],
          [
           0.5555555555555556,
           "#d8576b"
          ],
          [
           0.6666666666666666,
           "#ed7953"
          ],
          [
           0.7777777777777778,
           "#fb9f3a"
          ],
          [
           0.8888888888888888,
           "#fdca26"
          ],
          [
           1,
           "#f0f921"
          ]
         ]
        },
        "margin": {
         "t": 60
        },
        "template": {
         "data": {
          "bar": [
           {
            "error_x": {
             "color": "#2a3f5f"
            },
            "error_y": {
             "color": "#2a3f5f"
            },
            "marker": {
             "line": {
              "color": "#E5ECF6",
              "width": 0.5
             },
             "pattern": {
              "fillmode": "overlay",
              "size": 10,
              "solidity": 0.2
             }
            },
            "type": "bar"
           }
          ],
          "barpolar": [
           {
            "marker": {
             "line": {
              "color": "#E5ECF6",
              "width": 0.5
             },
             "pattern": {
              "fillmode": "overlay",
              "size": 10,
              "solidity": 0.2
             }
            },
            "type": "barpolar"
           }
          ],
          "carpet": [
           {
            "aaxis": {
             "endlinecolor": "#2a3f5f",
             "gridcolor": "white",
             "linecolor": "white",
             "minorgridcolor": "white",
             "startlinecolor": "#2a3f5f"
            },
            "baxis": {
             "endlinecolor": "#2a3f5f",
             "gridcolor": "white",
             "linecolor": "white",
             "minorgridcolor": "white",
             "startlinecolor": "#2a3f5f"
            },
            "type": "carpet"
           }
          ],
          "choropleth": [
           {
            "colorbar": {
             "outlinewidth": 0,
             "ticks": ""
            },
            "type": "choropleth"
           }
          ],
          "contour": [
           {
            "colorbar": {
             "outlinewidth": 0,
             "ticks": ""
            },
            "colorscale": [
             [
              0,
              "#0d0887"
             ],
             [
              0.1111111111111111,
              "#46039f"
             ],
             [
              0.2222222222222222,
              "#7201a8"
             ],
             [
              0.3333333333333333,
              "#9c179e"
             ],
             [
              0.4444444444444444,
              "#bd3786"
             ],
             [
              0.5555555555555556,
              "#d8576b"
             ],
             [
              0.6666666666666666,
              "#ed7953"
             ],
             [
              0.7777777777777778,
              "#fb9f3a"
             ],
             [
              0.8888888888888888,
              "#fdca26"
             ],
             [
              1,
              "#f0f921"
             ]
            ],
            "type": "contour"
           }
          ],
          "contourcarpet": [
           {
            "colorbar": {
             "outlinewidth": 0,
             "ticks": ""
            },
            "type": "contourcarpet"
           }
          ],
          "heatmap": [
           {
            "colorbar": {
             "outlinewidth": 0,
             "ticks": ""
            },
            "colorscale": [
             [
              0,
              "#0d0887"
             ],
             [
              0.1111111111111111,
              "#46039f"
             ],
             [
              0.2222222222222222,
              "#7201a8"
             ],
             [
              0.3333333333333333,
              "#9c179e"
             ],
             [
              0.4444444444444444,
              "#bd3786"
             ],
             [
              0.5555555555555556,
              "#d8576b"
             ],
             [
              0.6666666666666666,
              "#ed7953"
             ],
             [
              0.7777777777777778,
              "#fb9f3a"
             ],
             [
              0.8888888888888888,
              "#fdca26"
             ],
             [
              1,
              "#f0f921"
             ]
            ],
            "type": "heatmap"
           }
          ],
          "heatmapgl": [
           {
            "colorbar": {
             "outlinewidth": 0,
             "ticks": ""
            },
            "colorscale": [
             [
              0,
              "#0d0887"
             ],
             [
              0.1111111111111111,
              "#46039f"
             ],
             [
              0.2222222222222222,
              "#7201a8"
             ],
             [
              0.3333333333333333,
              "#9c179e"
             ],
             [
              0.4444444444444444,
              "#bd3786"
             ],
             [
              0.5555555555555556,
              "#d8576b"
             ],
             [
              0.6666666666666666,
              "#ed7953"
             ],
             [
              0.7777777777777778,
              "#fb9f3a"
             ],
             [
              0.8888888888888888,
              "#fdca26"
             ],
             [
              1,
              "#f0f921"
             ]
            ],
            "type": "heatmapgl"
           }
          ],
          "histogram": [
           {
            "marker": {
             "pattern": {
              "fillmode": "overlay",
              "size": 10,
              "solidity": 0.2
             }
            },
            "type": "histogram"
           }
          ],
          "histogram2d": [
           {
            "colorbar": {
             "outlinewidth": 0,
             "ticks": ""
            },
            "colorscale": [
             [
              0,
              "#0d0887"
             ],
             [
              0.1111111111111111,
              "#46039f"
             ],
             [
              0.2222222222222222,
              "#7201a8"
             ],
             [
              0.3333333333333333,
              "#9c179e"
             ],
             [
              0.4444444444444444,
              "#bd3786"
             ],
             [
              0.5555555555555556,
              "#d8576b"
             ],
             [
              0.6666666666666666,
              "#ed7953"
             ],
             [
              0.7777777777777778,
              "#fb9f3a"
             ],
             [
              0.8888888888888888,
              "#fdca26"
             ],
             [
              1,
              "#f0f921"
             ]
            ],
            "type": "histogram2d"
           }
          ],
          "histogram2dcontour": [
           {
            "colorbar": {
             "outlinewidth": 0,
             "ticks": ""
            },
            "colorscale": [
             [
              0,
              "#0d0887"
             ],
             [
              0.1111111111111111,
              "#46039f"
             ],
             [
              0.2222222222222222,
              "#7201a8"
             ],
             [
              0.3333333333333333,
              "#9c179e"
             ],
             [
              0.4444444444444444,
              "#bd3786"
             ],
             [
              0.5555555555555556,
              "#d8576b"
             ],
             [
              0.6666666666666666,
              "#ed7953"
             ],
             [
              0.7777777777777778,
              "#fb9f3a"
             ],
             [
              0.8888888888888888,
              "#fdca26"
             ],
             [
              1,
              "#f0f921"
             ]
            ],
            "type": "histogram2dcontour"
           }
          ],
          "mesh3d": [
           {
            "colorbar": {
             "outlinewidth": 0,
             "ticks": ""
            },
            "type": "mesh3d"
           }
          ],
          "parcoords": [
           {
            "line": {
             "colorbar": {
              "outlinewidth": 0,
              "ticks": ""
             }
            },
            "type": "parcoords"
           }
          ],
          "pie": [
           {
            "automargin": true,
            "type": "pie"
           }
          ],
          "scatter": [
           {
            "fillpattern": {
             "fillmode": "overlay",
             "size": 10,
             "solidity": 0.2
            },
            "type": "scatter"
           }
          ],
          "scatter3d": [
           {
            "line": {
             "colorbar": {
              "outlinewidth": 0,
              "ticks": ""
             }
            },
            "marker": {
             "colorbar": {
              "outlinewidth": 0,
              "ticks": ""
             }
            },
            "type": "scatter3d"
           }
          ],
          "scattercarpet": [
           {
            "marker": {
             "colorbar": {
              "outlinewidth": 0,
              "ticks": ""
             }
            },
            "type": "scattercarpet"
           }
          ],
          "scattergeo": [
           {
            "marker": {
             "colorbar": {
              "outlinewidth": 0,
              "ticks": ""
             }
            },
            "type": "scattergeo"
           }
          ],
          "scattergl": [
           {
            "marker": {
             "colorbar": {
              "outlinewidth": 0,
              "ticks": ""
             }
            },
            "type": "scattergl"
           }
          ],
          "scattermapbox": [
           {
            "marker": {
             "colorbar": {
              "outlinewidth": 0,
              "ticks": ""
             }
            },
            "type": "scattermapbox"
           }
          ],
          "scatterpolar": [
           {
            "marker": {
             "colorbar": {
              "outlinewidth": 0,
              "ticks": ""
             }
            },
            "type": "scatterpolar"
           }
          ],
          "scatterpolargl": [
           {
            "marker": {
             "colorbar": {
              "outlinewidth": 0,
              "ticks": ""
             }
            },
            "type": "scatterpolargl"
           }
          ],
          "scatterternary": [
           {
            "marker": {
             "colorbar": {
              "outlinewidth": 0,
              "ticks": ""
             }
            },
            "type": "scatterternary"
           }
          ],
          "surface": [
           {
            "colorbar": {
             "outlinewidth": 0,
             "ticks": ""
            },
            "colorscale": [
             [
              0,
              "#0d0887"
             ],
             [
              0.1111111111111111,
              "#46039f"
             ],
             [
              0.2222222222222222,
              "#7201a8"
             ],
             [
              0.3333333333333333,
              "#9c179e"
             ],
             [
              0.4444444444444444,
              "#bd3786"
             ],
             [
              0.5555555555555556,
              "#d8576b"
             ],
             [
              0.6666666666666666,
              "#ed7953"
             ],
             [
              0.7777777777777778,
              "#fb9f3a"
             ],
             [
              0.8888888888888888,
              "#fdca26"
             ],
             [
              1,
              "#f0f921"
             ]
            ],
            "type": "surface"
           }
          ],
          "table": [
           {
            "cells": {
             "fill": {
              "color": "#EBF0F8"
             },
             "line": {
              "color": "white"
             }
            },
            "header": {
             "fill": {
              "color": "#C8D4E3"
             },
             "line": {
              "color": "white"
             }
            },
            "type": "table"
           }
          ]
         },
         "layout": {
          "annotationdefaults": {
           "arrowcolor": "#2a3f5f",
           "arrowhead": 0,
           "arrowwidth": 1
          },
          "autotypenumbers": "strict",
          "coloraxis": {
           "colorbar": {
            "outlinewidth": 0,
            "ticks": ""
           }
          },
          "colorscale": {
           "diverging": [
            [
             0,
             "#8e0152"
            ],
            [
             0.1,
             "#c51b7d"
            ],
            [
             0.2,
             "#de77ae"
            ],
            [
             0.3,
             "#f1b6da"
            ],
            [
             0.4,
             "#fde0ef"
            ],
            [
             0.5,
             "#f7f7f7"
            ],
            [
             0.6,
             "#e6f5d0"
            ],
            [
             0.7,
             "#b8e186"
            ],
            [
             0.8,
             "#7fbc41"
            ],
            [
             0.9,
             "#4d9221"
            ],
            [
             1,
             "#276419"
            ]
           ],
           "sequential": [
            [
             0,
             "#0d0887"
            ],
            [
             0.1111111111111111,
             "#46039f"
            ],
            [
             0.2222222222222222,
             "#7201a8"
            ],
            [
             0.3333333333333333,
             "#9c179e"
            ],
            [
             0.4444444444444444,
             "#bd3786"
            ],
            [
             0.5555555555555556,
             "#d8576b"
            ],
            [
             0.6666666666666666,
             "#ed7953"
            ],
            [
             0.7777777777777778,
             "#fb9f3a"
            ],
            [
             0.8888888888888888,
             "#fdca26"
            ],
            [
             1,
             "#f0f921"
            ]
           ],
           "sequentialminus": [
            [
             0,
             "#0d0887"
            ],
            [
             0.1111111111111111,
             "#46039f"
            ],
            [
             0.2222222222222222,
             "#7201a8"
            ],
            [
             0.3333333333333333,
             "#9c179e"
            ],
            [
             0.4444444444444444,
             "#bd3786"
            ],
            [
             0.5555555555555556,
             "#d8576b"
            ],
            [
             0.6666666666666666,
             "#ed7953"
            ],
            [
             0.7777777777777778,
             "#fb9f3a"
            ],
            [
             0.8888888888888888,
             "#fdca26"
            ],
            [
             1,
             "#f0f921"
            ]
           ]
          },
          "colorway": [
           "#636efa",
           "#EF553B",
           "#00cc96",
           "#ab63fa",
           "#FFA15A",
           "#19d3f3",
           "#FF6692",
           "#B6E880",
           "#FF97FF",
           "#FECB52"
          ],
          "font": {
           "color": "#2a3f5f"
          },
          "geo": {
           "bgcolor": "white",
           "lakecolor": "white",
           "landcolor": "#E5ECF6",
           "showlakes": true,
           "showland": true,
           "subunitcolor": "white"
          },
          "hoverlabel": {
           "align": "left"
          },
          "hovermode": "closest",
          "mapbox": {
           "style": "light"
          },
          "paper_bgcolor": "white",
          "plot_bgcolor": "#E5ECF6",
          "polar": {
           "angularaxis": {
            "gridcolor": "white",
            "linecolor": "white",
            "ticks": ""
           },
           "bgcolor": "#E5ECF6",
           "radialaxis": {
            "gridcolor": "white",
            "linecolor": "white",
            "ticks": ""
           }
          },
          "scene": {
           "xaxis": {
            "backgroundcolor": "#E5ECF6",
            "gridcolor": "white",
            "gridwidth": 2,
            "linecolor": "white",
            "showbackground": true,
            "ticks": "",
            "zerolinecolor": "white"
           },
           "yaxis": {
            "backgroundcolor": "#E5ECF6",
            "gridcolor": "white",
            "gridwidth": 2,
            "linecolor": "white",
            "showbackground": true,
            "ticks": "",
            "zerolinecolor": "white"
           },
           "zaxis": {
            "backgroundcolor": "#E5ECF6",
            "gridcolor": "white",
            "gridwidth": 2,
            "linecolor": "white",
            "showbackground": true,
            "ticks": "",
            "zerolinecolor": "white"
           }
          },
          "shapedefaults": {
           "line": {
            "color": "#2a3f5f"
           }
          },
          "ternary": {
           "aaxis": {
            "gridcolor": "white",
            "linecolor": "white",
            "ticks": ""
           },
           "baxis": {
            "gridcolor": "white",
            "linecolor": "white",
            "ticks": ""
           },
           "bgcolor": "#E5ECF6",
           "caxis": {
            "gridcolor": "white",
            "linecolor": "white",
            "ticks": ""
           }
          },
          "title": {
           "x": 0.05
          },
          "xaxis": {
           "automargin": true,
           "gridcolor": "white",
           "linecolor": "white",
           "ticks": "",
           "title": {
            "standoff": 15
           },
           "zerolinecolor": "white",
           "zerolinewidth": 2
          },
          "yaxis": {
           "automargin": true,
           "gridcolor": "white",
           "linecolor": "white",
           "ticks": "",
           "title": {
            "standoff": 15
           },
           "zerolinecolor": "white",
           "zerolinewidth": 2
          }
         }
        },
        "xaxis": {
         "anchor": "y",
         "constrain": "domain",
         "domain": [
          0,
          1
         ],
         "scaleanchor": "y"
        },
        "yaxis": {
         "anchor": "x",
         "autorange": "reversed",
         "constrain": "domain",
         "domain": [
          0,
          1
         ]
        }
       }
      },
      "text/html": [
       "<div>                            <div id=\"19de56f9-7322-44e4-8bf4-104e282cac43\" class=\"plotly-graph-div\" style=\"height:525px; width:100%;\"></div>            <script type=\"text/javascript\">                require([\"plotly\"], function(Plotly) {                    window.PLOTLYENV=window.PLOTLYENV || {};                                    if (document.getElementById(\"19de56f9-7322-44e4-8bf4-104e282cac43\")) {                    Plotly.newPlot(                        \"19de56f9-7322-44e4-8bf4-104e282cac43\",                        [{\"coloraxis\":\"coloraxis\",\"name\":\"0\",\"texttemplate\":\"%{z}\",\"x\":[\"Sales\",\"Quantity\",\"Discount\",\"Profit\"],\"y\":[\"Sales\",\"Quantity\",\"Discount\",\"Profit\"],\"z\":[[1.0,0.20079477137389737,-0.028190124157535527,0.47906434973770706],[0.20079477137389737,1.0,0.008622970271156362,0.06625318912428484],[-0.028190124157535527,0.008622970271156362,1.0,-0.21948745637176792],[0.47906434973770706,0.06625318912428484,-0.21948745637176792,1.0]],\"type\":\"heatmap\",\"xaxis\":\"x\",\"yaxis\":\"y\",\"hovertemplate\":\"x: %{x}<br>y: %{y}<br>color: %{z}<extra></extra>\"}],                        {\"template\":{\"data\":{\"histogram2dcontour\":[{\"type\":\"histogram2dcontour\",\"colorbar\":{\"outlinewidth\":0,\"ticks\":\"\"},\"colorscale\":[[0.0,\"#0d0887\"],[0.1111111111111111,\"#46039f\"],[0.2222222222222222,\"#7201a8\"],[0.3333333333333333,\"#9c179e\"],[0.4444444444444444,\"#bd3786\"],[0.5555555555555556,\"#d8576b\"],[0.6666666666666666,\"#ed7953\"],[0.7777777777777778,\"#fb9f3a\"],[0.8888888888888888,\"#fdca26\"],[1.0,\"#f0f921\"]]}],\"choropleth\":[{\"type\":\"choropleth\",\"colorbar\":{\"outlinewidth\":0,\"ticks\":\"\"}}],\"histogram2d\":[{\"type\":\"histogram2d\",\"colorbar\":{\"outlinewidth\":0,\"ticks\":\"\"},\"colorscale\":[[0.0,\"#0d0887\"],[0.1111111111111111,\"#46039f\"],[0.2222222222222222,\"#7201a8\"],[0.3333333333333333,\"#9c179e\"],[0.4444444444444444,\"#bd3786\"],[0.5555555555555556,\"#d8576b\"],[0.6666666666666666,\"#ed7953\"],[0.7777777777777778,\"#fb9f3a\"],[0.8888888888888888,\"#fdca26\"],[1.0,\"#f0f921\"]]}],\"heatmap\":[{\"type\":\"heatmap\",\"colorbar\":{\"outlinewidth\":0,\"ticks\":\"\"},\"colorscale\":[[0.0,\"#0d0887\"],[0.1111111111111111,\"#46039f\"],[0.2222222222222222,\"#7201a8\"],[0.3333333333333333,\"#9c179e\"],[0.4444444444444444,\"#bd3786\"],[0.5555555555555556,\"#d8576b\"],[0.6666666666666666,\"#ed7953\"],[0.7777777777777778,\"#fb9f3a\"],[0.8888888888888888,\"#fdca26\"],[1.0,\"#f0f921\"]]}],\"heatmapgl\":[{\"type\":\"heatmapgl\",\"colorbar\":{\"outlinewidth\":0,\"ticks\":\"\"},\"colorscale\":[[0.0,\"#0d0887\"],[0.1111111111111111,\"#46039f\"],[0.2222222222222222,\"#7201a8\"],[0.3333333333333333,\"#9c179e\"],[0.4444444444444444,\"#bd3786\"],[0.5555555555555556,\"#d8576b\"],[0.6666666666666666,\"#ed7953\"],[0.7777777777777778,\"#fb9f3a\"],[0.8888888888888888,\"#fdca26\"],[1.0,\"#f0f921\"]]}],\"contourcarpet\":[{\"type\":\"contourcarpet\",\"colorbar\":{\"outlinewidth\":0,\"ticks\":\"\"}}],\"contour\":[{\"type\":\"contour\",\"colorbar\":{\"outlinewidth\":0,\"ticks\":\"\"},\"colorscale\":[[0.0,\"#0d0887\"],[0.1111111111111111,\"#46039f\"],[0.2222222222222222,\"#7201a8\"],[0.3333333333333333,\"#9c179e\"],[0.4444444444444444,\"#bd3786\"],[0.5555555555555556,\"#d8576b\"],[0.6666666666666666,\"#ed7953\"],[0.7777777777777778,\"#fb9f3a\"],[0.8888888888888888,\"#fdca26\"],[1.0,\"#f0f921\"]]}],\"surface\":[{\"type\":\"surface\",\"colorbar\":{\"outlinewidth\":0,\"ticks\":\"\"},\"colorscale\":[[0.0,\"#0d0887\"],[0.1111111111111111,\"#46039f\"],[0.2222222222222222,\"#7201a8\"],[0.3333333333333333,\"#9c179e\"],[0.4444444444444444,\"#bd3786\"],[0.5555555555555556,\"#d8576b\"],[0.6666666666666666,\"#ed7953\"],[0.7777777777777778,\"#fb9f3a\"],[0.8888888888888888,\"#fdca26\"],[1.0,\"#f0f921\"]]}],\"mesh3d\":[{\"type\":\"mesh3d\",\"colorbar\":{\"outlinewidth\":0,\"ticks\":\"\"}}],\"scatter\":[{\"fillpattern\":{\"fillmode\":\"overlay\",\"size\":10,\"solidity\":0.2},\"type\":\"scatter\"}],\"parcoords\":[{\"type\":\"parcoords\",\"line\":{\"colorbar\":{\"outlinewidth\":0,\"ticks\":\"\"}}}],\"scatterpolargl\":[{\"type\":\"scatterpolargl\",\"marker\":{\"colorbar\":{\"outlinewidth\":0,\"ticks\":\"\"}}}],\"bar\":[{\"error_x\":{\"color\":\"#2a3f5f\"},\"error_y\":{\"color\":\"#2a3f5f\"},\"marker\":{\"line\":{\"color\":\"#E5ECF6\",\"width\":0.5},\"pattern\":{\"fillmode\":\"overlay\",\"size\":10,\"solidity\":0.2}},\"type\":\"bar\"}],\"scattergeo\":[{\"type\":\"scattergeo\",\"marker\":{\"colorbar\":{\"outlinewidth\":0,\"ticks\":\"\"}}}],\"scatterpolar\":[{\"type\":\"scatterpolar\",\"marker\":{\"colorbar\":{\"outlinewidth\":0,\"ticks\":\"\"}}}],\"histogram\":[{\"marker\":{\"pattern\":{\"fillmode\":\"overlay\",\"size\":10,\"solidity\":0.2}},\"type\":\"histogram\"}],\"scattergl\":[{\"type\":\"scattergl\",\"marker\":{\"colorbar\":{\"outlinewidth\":0,\"ticks\":\"\"}}}],\"scatter3d\":[{\"type\":\"scatter3d\",\"line\":{\"colorbar\":{\"outlinewidth\":0,\"ticks\":\"\"}},\"marker\":{\"colorbar\":{\"outlinewidth\":0,\"ticks\":\"\"}}}],\"scattermapbox\":[{\"type\":\"scattermapbox\",\"marker\":{\"colorbar\":{\"outlinewidth\":0,\"ticks\":\"\"}}}],\"scatterternary\":[{\"type\":\"scatterternary\",\"marker\":{\"colorbar\":{\"outlinewidth\":0,\"ticks\":\"\"}}}],\"scattercarpet\":[{\"type\":\"scattercarpet\",\"marker\":{\"colorbar\":{\"outlinewidth\":0,\"ticks\":\"\"}}}],\"carpet\":[{\"aaxis\":{\"endlinecolor\":\"#2a3f5f\",\"gridcolor\":\"white\",\"linecolor\":\"white\",\"minorgridcolor\":\"white\",\"startlinecolor\":\"#2a3f5f\"},\"baxis\":{\"endlinecolor\":\"#2a3f5f\",\"gridcolor\":\"white\",\"linecolor\":\"white\",\"minorgridcolor\":\"white\",\"startlinecolor\":\"#2a3f5f\"},\"type\":\"carpet\"}],\"table\":[{\"cells\":{\"fill\":{\"color\":\"#EBF0F8\"},\"line\":{\"color\":\"white\"}},\"header\":{\"fill\":{\"color\":\"#C8D4E3\"},\"line\":{\"color\":\"white\"}},\"type\":\"table\"}],\"barpolar\":[{\"marker\":{\"line\":{\"color\":\"#E5ECF6\",\"width\":0.5},\"pattern\":{\"fillmode\":\"overlay\",\"size\":10,\"solidity\":0.2}},\"type\":\"barpolar\"}],\"pie\":[{\"automargin\":true,\"type\":\"pie\"}]},\"layout\":{\"autotypenumbers\":\"strict\",\"colorway\":[\"#636efa\",\"#EF553B\",\"#00cc96\",\"#ab63fa\",\"#FFA15A\",\"#19d3f3\",\"#FF6692\",\"#B6E880\",\"#FF97FF\",\"#FECB52\"],\"font\":{\"color\":\"#2a3f5f\"},\"hovermode\":\"closest\",\"hoverlabel\":{\"align\":\"left\"},\"paper_bgcolor\":\"white\",\"plot_bgcolor\":\"#E5ECF6\",\"polar\":{\"bgcolor\":\"#E5ECF6\",\"angularaxis\":{\"gridcolor\":\"white\",\"linecolor\":\"white\",\"ticks\":\"\"},\"radialaxis\":{\"gridcolor\":\"white\",\"linecolor\":\"white\",\"ticks\":\"\"}},\"ternary\":{\"bgcolor\":\"#E5ECF6\",\"aaxis\":{\"gridcolor\":\"white\",\"linecolor\":\"white\",\"ticks\":\"\"},\"baxis\":{\"gridcolor\":\"white\",\"linecolor\":\"white\",\"ticks\":\"\"},\"caxis\":{\"gridcolor\":\"white\",\"linecolor\":\"white\",\"ticks\":\"\"}},\"coloraxis\":{\"colorbar\":{\"outlinewidth\":0,\"ticks\":\"\"}},\"colorscale\":{\"sequential\":[[0.0,\"#0d0887\"],[0.1111111111111111,\"#46039f\"],[0.2222222222222222,\"#7201a8\"],[0.3333333333333333,\"#9c179e\"],[0.4444444444444444,\"#bd3786\"],[0.5555555555555556,\"#d8576b\"],[0.6666666666666666,\"#ed7953\"],[0.7777777777777778,\"#fb9f3a\"],[0.8888888888888888,\"#fdca26\"],[1.0,\"#f0f921\"]],\"sequentialminus\":[[0.0,\"#0d0887\"],[0.1111111111111111,\"#46039f\"],[0.2222222222222222,\"#7201a8\"],[0.3333333333333333,\"#9c179e\"],[0.4444444444444444,\"#bd3786\"],[0.5555555555555556,\"#d8576b\"],[0.6666666666666666,\"#ed7953\"],[0.7777777777777778,\"#fb9f3a\"],[0.8888888888888888,\"#fdca26\"],[1.0,\"#f0f921\"]],\"diverging\":[[0,\"#8e0152\"],[0.1,\"#c51b7d\"],[0.2,\"#de77ae\"],[0.3,\"#f1b6da\"],[0.4,\"#fde0ef\"],[0.5,\"#f7f7f7\"],[0.6,\"#e6f5d0\"],[0.7,\"#b8e186\"],[0.8,\"#7fbc41\"],[0.9,\"#4d9221\"],[1,\"#276419\"]]},\"xaxis\":{\"gridcolor\":\"white\",\"linecolor\":\"white\",\"ticks\":\"\",\"title\":{\"standoff\":15},\"zerolinecolor\":\"white\",\"automargin\":true,\"zerolinewidth\":2},\"yaxis\":{\"gridcolor\":\"white\",\"linecolor\":\"white\",\"ticks\":\"\",\"title\":{\"standoff\":15},\"zerolinecolor\":\"white\",\"automargin\":true,\"zerolinewidth\":2},\"scene\":{\"xaxis\":{\"backgroundcolor\":\"#E5ECF6\",\"gridcolor\":\"white\",\"linecolor\":\"white\",\"showbackground\":true,\"ticks\":\"\",\"zerolinecolor\":\"white\",\"gridwidth\":2},\"yaxis\":{\"backgroundcolor\":\"#E5ECF6\",\"gridcolor\":\"white\",\"linecolor\":\"white\",\"showbackground\":true,\"ticks\":\"\",\"zerolinecolor\":\"white\",\"gridwidth\":2},\"zaxis\":{\"backgroundcolor\":\"#E5ECF6\",\"gridcolor\":\"white\",\"linecolor\":\"white\",\"showbackground\":true,\"ticks\":\"\",\"zerolinecolor\":\"white\",\"gridwidth\":2}},\"shapedefaults\":{\"line\":{\"color\":\"#2a3f5f\"}},\"annotationdefaults\":{\"arrowcolor\":\"#2a3f5f\",\"arrowhead\":0,\"arrowwidth\":1},\"geo\":{\"bgcolor\":\"white\",\"landcolor\":\"#E5ECF6\",\"subunitcolor\":\"white\",\"showland\":true,\"showlakes\":true,\"lakecolor\":\"white\"},\"title\":{\"x\":0.05},\"mapbox\":{\"style\":\"light\"}}},\"xaxis\":{\"anchor\":\"y\",\"domain\":[0.0,1.0],\"scaleanchor\":\"y\",\"constrain\":\"domain\"},\"yaxis\":{\"anchor\":\"x\",\"domain\":[0.0,1.0],\"autorange\":\"reversed\",\"constrain\":\"domain\"},\"coloraxis\":{\"colorscale\":[[0.0,\"#0d0887\"],[0.1111111111111111,\"#46039f\"],[0.2222222222222222,\"#7201a8\"],[0.3333333333333333,\"#9c179e\"],[0.4444444444444444,\"#bd3786\"],[0.5555555555555556,\"#d8576b\"],[0.6666666666666666,\"#ed7953\"],[0.7777777777777778,\"#fb9f3a\"],[0.8888888888888888,\"#fdca26\"],[1.0,\"#f0f921\"]]},\"margin\":{\"t\":60}},                        {\"responsive\": true}                    ).then(function(){\n",
       "                            \n",
       "var gd = document.getElementById('19de56f9-7322-44e4-8bf4-104e282cac43');\n",
       "var x = new MutationObserver(function (mutations, observer) {{\n",
       "        var display = window.getComputedStyle(gd).display;\n",
       "        if (!display || display === 'none') {{\n",
       "            console.log([gd, 'removed!']);\n",
       "            Plotly.purge(gd);\n",
       "            observer.disconnect();\n",
       "        }}\n",
       "}});\n",
       "\n",
       "// Listen for the removal of the full notebook cells\n",
       "var notebookContainer = gd.closest('#notebook-container');\n",
       "if (notebookContainer) {{\n",
       "    x.observe(notebookContainer, {childList: true});\n",
       "}}\n",
       "\n",
       "// Listen for the clearing of the current output cell\n",
       "var outputEl = gd.closest('.output');\n",
       "if (outputEl) {{\n",
       "    x.observe(outputEl, {childList: true});\n",
       "}}\n",
       "\n",
       "                        })                };                });            </script>        </div>"
      ]
     },
     "metadata": {},
     "output_type": "display_data"
    }
   ],
   "source": [
    "import plotly.express as px\n",
    "fig = px.imshow(data.corr(),text_auto=True)\n",
    "fig.show()"
   ]
  },
  {
   "cell_type": "code",
   "execution_count": 18,
   "id": "c736d963",
   "metadata": {},
   "outputs": [
    {
     "name": "stderr",
     "output_type": "stream",
     "text": [
      "C:\\Users\\rohan\\AppData\\Local\\Temp\\ipykernel_10244\\1461774314.py:1: FutureWarning:\n",
      "\n",
      "The default value of numeric_only in DataFrame.corr is deprecated. In a future version, it will default to False. Select only valid columns or specify the value of numeric_only to silence this warning.\n",
      "\n"
     ]
    },
    {
     "data": {
      "image/png": "[encoded data removed]",
      "text/plain": [
       "<Figure size 640x480 with 2 Axes>"
      ]
     },
     "metadata": {},
     "output_type": "display_data"
    }
   ],
   "source": [
    "ax=sns.heatmap(data.corr(),annot=True,cbar=True,square=True,linecolor=\"blue\",linewidths=1,xticklabels=\"auto\",yticklabels=\"auto\",fmt=\".2f\")\n",
    "ax.set(xlabel=\"\", ylabel=\"\")\n",
    "ax.xaxis.tick_top()"
   ]
  },
  {
   "cell_type": "markdown",
   "id": "d752c05f",
   "metadata": {},
   "source": [
    "# Top 10 most profit cities"
   ]
  },
  {
   "cell_type": "code",
   "execution_count": 19,
   "id": "2cfc9e2f",
   "metadata": {},
   "outputs": [
    {
     "data": {
      "text/plain": [
       "array(['Henderson', 'Los Angeles', 'Fort Lauderdale', 'Concord',\n",
       "       'Seattle', 'Fort Worth', 'Madison', 'West Jordan', 'San Francisco',\n",
       "       'Fremont', 'Philadelphia', 'Orem', 'Houston', 'Richardson',\n",
       "       'Naperville', 'Melbourne', 'Eagan', 'Westland', 'Dover',\n",
       "       'New Albany', 'New York City', 'Troy', 'Chicago', 'Gilbert',\n",
       "       'Springfield', 'Jackson', 'Memphis', 'Decatur', 'Durham',\n",
       "       'Columbia', 'Rochester', 'Minneapolis', 'Portland', 'Saint Paul',\n",
       "       'Aurora', 'Charlotte', 'Orland Park', 'Urbandale', 'Columbus',\n",
       "       'Bristol', 'Wilmington', 'Bloomington', 'Phoenix', 'Roseville',\n",
       "       'Independence', 'Pasadena', 'Newark', 'Franklin', 'Scottsdale',\n",
       "       'San Jose', 'Edmond', 'Carlsbad', 'San Antonio', 'Monroe',\n",
       "       'Fairfield', 'Grand Prairie', 'Redlands', 'Hamilton', 'Westfield',\n",
       "       'Akron', 'Denver', 'Dallas', 'Whittier', 'Saginaw', 'Medina',\n",
       "       'Dublin', 'Detroit', 'Tampa', 'Santa Clara', 'Lakeville',\n",
       "       'San Diego', 'Brentwood', 'Chapel Hill', 'Morristown',\n",
       "       'Cincinnati', 'Inglewood', 'Tamarac', 'Colorado Springs',\n",
       "       'Belleville', 'Taylor', 'Lakewood', 'Arlington', 'Arvada',\n",
       "       'Hackensack', 'Saint Petersburg', 'Long Beach', 'Hesperia',\n",
       "       'Murfreesboro', 'Layton', 'Austin', 'Lowell', 'Manchester',\n",
       "       'Harlingen', 'Tucson', 'Quincy', 'Pembroke Pines', 'Des Moines',\n",
       "       'Peoria', 'Las Vegas', 'Warwick', 'Miami', 'Huntington Beach',\n",
       "       'Richmond', 'Louisville', 'Lawrence', 'Canton', 'New Rochelle',\n",
       "       'Gastonia', 'Jacksonville', 'Auburn', 'Norman', 'Park Ridge',\n",
       "       'Amarillo', 'Lindenhurst', 'Huntsville', 'Fayetteville',\n",
       "       'Costa Mesa', 'Parker', 'Atlanta', 'Gladstone', 'Great Falls',\n",
       "       'Lakeland', 'Montgomery', 'Mesa', 'Green Bay', 'Anaheim',\n",
       "       'Marysville', 'Salem', 'Laredo', 'Grove City', 'Dearborn',\n",
       "       'Warner Robins', 'Vallejo', 'Mission Viejo', 'Rochester Hills',\n",
       "       'Plainfield', 'Sierra Vista', 'Vancouver', 'Cleveland', 'Tyler',\n",
       "       'Burlington', 'Waynesboro', 'Chester', 'Cary', 'Palm Coast',\n",
       "       'Mount Vernon', 'Hialeah', 'Oceanside', 'Evanston', 'Trenton',\n",
       "       'Cottage Grove', 'Bossier City', 'Lancaster', 'Asheville',\n",
       "       'Lake Elsinore', 'Omaha', 'Edmonds', 'Santa Ana', 'Milwaukee',\n",
       "       'Florence', 'Lorain', 'Linden', 'Salinas', 'New Brunswick',\n",
       "       'Garland', 'Norwich', 'Alexandria', 'Toledo', 'Farmington',\n",
       "       'Riverside', 'Torrance', 'Round Rock', 'Boca Raton',\n",
       "       'Virginia Beach', 'Murrieta', 'Olympia', 'Washington',\n",
       "       'Jefferson City', 'Saint Peters', 'Rockford', 'Brownsville',\n",
       "       'Yonkers', 'Oakland', 'Clinton', 'Encinitas', 'Roswell',\n",
       "       'Jonesboro', 'Antioch', 'Homestead', 'La Porte', 'Lansing',\n",
       "       'Cuyahoga Falls', 'Reno', 'Harrisonburg', 'Escondido', 'Royal Oak',\n",
       "       'Rockville', 'Coral Springs', 'Buffalo', 'Boynton Beach',\n",
       "       'Gulfport', 'Fresno', 'Greenville', 'Macon', 'Cedar Rapids',\n",
       "       'Providence', 'Pueblo', 'Deltona', 'Murray', 'Middletown',\n",
       "       'Freeport', 'Pico Rivera', 'Provo', 'Pleasant Grove', 'Smyrna',\n",
       "       'Parma', 'Mobile', 'New Bedford', 'Irving', 'Vineland', 'Glendale',\n",
       "       'Niagara Falls', 'Thomasville', 'Westminster', 'Coppell', 'Pomona',\n",
       "       'North Las Vegas', 'Allentown', 'Tempe', 'Laguna Niguel',\n",
       "       'Bridgeton', 'Everett', 'Watertown', 'Appleton', 'Bellevue',\n",
       "       'Allen', 'El Paso', 'Grapevine', 'Carrollton', 'Kent', 'Lafayette',\n",
       "       'Tigard', 'Skokie', 'Plano', 'Suffolk', 'Indianapolis', 'Bayonne',\n",
       "       'Greensboro', 'Baltimore', 'Kenosha', 'Olathe', 'Tulsa', 'Redmond',\n",
       "       'Raleigh', 'Muskogee', 'Meriden', 'Bowling Green', 'South Bend',\n",
       "       'Spokane', 'Keller', 'Port Orange', 'Medford', 'Charlottesville',\n",
       "       'Missoula', 'Apopka', 'Reading', 'Broomfield', 'Paterson',\n",
       "       'Oklahoma City', 'Chesapeake', 'Lubbock', 'Johnson City',\n",
       "       'San Bernardino', 'Leominster', 'Bozeman', 'Perth Amboy',\n",
       "       'Ontario', 'Rancho Cucamonga', 'Moorhead', 'Mesquite', 'Stockton',\n",
       "       'Ormond Beach', 'Sunnyvale', 'York', 'College Station',\n",
       "       'Saint Louis', 'Manteca', 'San Angelo', 'Salt Lake City',\n",
       "       'Knoxville', 'Little Rock', 'Lincoln Park', 'Marion', 'Littleton',\n",
       "       'Bangor', 'Southaven', 'New Castle', 'Midland', 'Sioux Falls',\n",
       "       'Fort Collins', 'Clarksville', 'Sacramento', 'Thousand Oaks',\n",
       "       'Malden', 'Holyoke', 'Albuquerque', 'Sparks', 'Coachella',\n",
       "       'Elmhurst', 'Passaic', 'North Charleston', 'Newport News',\n",
       "       'Jamestown', 'Mishawaka', 'La Quinta', 'Tallahassee', 'Nashville',\n",
       "       'Bellingham', 'Woodstock', 'Haltom City', 'Wheeling',\n",
       "       'Summerville', 'Hot Springs', 'Englewood', 'Las Cruces', 'Hoover',\n",
       "       'Frisco', 'Vacaville', 'Waukesha', 'Bakersfield', 'Pompano Beach',\n",
       "       'Corpus Christi', 'Redondo Beach', 'Orlando', 'Orange',\n",
       "       'Lake Charles', 'Highland Park', 'Hempstead', 'Noblesville',\n",
       "       'Apple Valley', 'Mount Pleasant', 'Sterling Heights', 'Eau Claire',\n",
       "       'Pharr', 'Billings', 'Gresham', 'Chattanooga', 'Meridian',\n",
       "       'Bolingbrook', 'Maple Grove', 'Woodland', 'Missouri City',\n",
       "       'Pearland', 'San Mateo', 'Grand Rapids', 'Visalia',\n",
       "       'Overland Park', 'Temecula', 'Yucaipa', 'Revere', 'Conroe',\n",
       "       'Tinley Park', 'Dubuque', 'Dearborn Heights', 'Santa Fe',\n",
       "       'Hickory', 'Carol Stream', 'Saint Cloud', 'North Miami',\n",
       "       'Plantation', 'Port Saint Lucie', 'Rock Hill', 'Odessa',\n",
       "       'West Allis', 'Chula Vista', 'Manhattan', 'Altoona', 'Thornton',\n",
       "       'Champaign', 'Texarkana', 'Edinburg', 'Baytown', 'Greenwood',\n",
       "       'Woonsocket', 'Superior', 'Bedford', 'Covington', 'Broken Arrow',\n",
       "       'Miramar', 'Hollywood', 'Deer Park', 'Wichita', 'Mcallen',\n",
       "       'Iowa City', 'Boise', 'Cranston', 'Port Arthur', 'Citrus Heights',\n",
       "       'The Colony', 'Daytona Beach', 'Bullhead City', 'Portage', 'Fargo',\n",
       "       'Elkhart', 'San Gabriel', 'Margate', 'Sandy Springs', 'Mentor',\n",
       "       'Lawton', 'Hampton', 'Rome', 'La Crosse', 'Lewiston',\n",
       "       'Hattiesburg', 'Danville', 'Logan', 'Waterbury', 'Athens',\n",
       "       'Avondale', 'Marietta', 'Yuma', 'Wausau', 'Pasco', 'Oak Park',\n",
       "       'Pensacola', 'League City', 'Gaithersburg', 'Lehi', 'Tuscaloosa',\n",
       "       'Moreno Valley', 'Georgetown', 'Loveland', 'Chandler', 'Helena',\n",
       "       'Kirkwood', 'Waco', 'Frankfort', 'Bethlehem', 'Grand Island',\n",
       "       'Woodbury', 'Rogers', 'Clovis', 'Jupiter', 'Santa Barbara',\n",
       "       'Cedar Hill', 'Norfolk', 'Draper', 'Ann Arbor', 'La Mesa',\n",
       "       'Pocatello', 'Holland', 'Milford', 'Buffalo Grove', 'Lake Forest',\n",
       "       'Redding', 'Chico', 'Utica', 'Conway', 'Cheyenne', 'Owensboro',\n",
       "       'Caldwell', 'Kenner', 'Nashua', 'Bartlett', 'Redwood City',\n",
       "       'Lebanon', 'Santa Maria', 'Des Plaines', 'Longview',\n",
       "       'Hendersonville', 'Waterloo', 'Cambridge', 'Palatine', 'Beverly',\n",
       "       'Eugene', 'Oxnard', 'Renton', 'Glenview', 'Delray Beach',\n",
       "       'Commerce City', 'Texas City', 'Wilson', 'Rio Rancho', 'Goldsboro',\n",
       "       'Montebello', 'El Cajon', 'Beaumont', 'West Palm Beach', 'Abilene',\n",
       "       'Normal', 'Saint Charles', 'Camarillo', 'Hillsboro', 'Burbank',\n",
       "       'Modesto', 'Garden City', 'Atlantic City', 'Longmont', 'Davis',\n",
       "       'Morgan Hill', 'Clifton', 'Sheboygan', 'East Point', 'Rapid City',\n",
       "       'Andover', 'Kissimmee', 'Shelton', 'Danbury', 'Sanford',\n",
       "       'San Marcos', 'Greeley', 'Mansfield', 'Elyria', 'Twin Falls',\n",
       "       'Coral Gables', 'Romeoville', 'Marlborough', 'Laurel', 'Bryan',\n",
       "       'Pine Bluff', 'Aberdeen', 'Hagerstown', 'East Orange',\n",
       "       'Arlington Heights', 'Oswego', 'Coon Rapids', 'San Clemente',\n",
       "       'San Luis Obispo', 'Springdale', 'Lodi', 'Mason'], dtype=object)"
      ]
     },
     "execution_count": 19,
     "metadata": {},
     "output_type": "execute_result"
    }
   ],
   "source": [
    "data[\"City\"].unique()"
   ]
  },
  {
   "cell_type": "code",
   "execution_count": 20,
   "id": "a06a74b5",
   "metadata": {},
   "outputs": [],
   "source": [
    "cities_profit=pd.DataFrame(data.groupby(\"City\")[\"Profit\"].sum())\n",
    "cities_profit.reset_index(inplace=True)"
   ]
  },
  {
   "cell_type": "code",
   "execution_count": 21,
   "id": "91bf9ec1",
   "metadata": {},
   "outputs": [
    {
     "data": {
      "text/html": [
       "<div>\n",
       "<style scoped>\n",
       "    .dataframe tbody tr th:only-of-type {\n",
       "        vertical-align: middle;\n",
       "    }\n",
       "\n",
       "    .dataframe tbody tr th {\n",
       "        vertical-align: top;\n",
       "    }\n",
       "\n",
       "    .dataframe thead th {\n",
       "        text-align: right;\n",
       "    }\n",
       "</style>\n",
       "<table border=\"1\" class=\"dataframe\">\n",
       "  <thead>\n",
       "    <tr style=\"text-align: right;\">\n",
       "      <th></th>\n",
       "      <th>City</th>\n",
       "      <th>Profit</th>\n",
       "    </tr>\n",
       "  </thead>\n",
       "  <tbody>\n",
       "    <tr>\n",
       "      <th>329</th>\n",
       "      <td>New York City</td>\n",
       "      <td>62036.9837</td>\n",
       "    </tr>\n",
       "    <tr>\n",
       "      <th>266</th>\n",
       "      <td>Los Angeles</td>\n",
       "      <td>30440.7579</td>\n",
       "    </tr>\n",
       "    <tr>\n",
       "      <th>452</th>\n",
       "      <td>Seattle</td>\n",
       "      <td>29156.0967</td>\n",
       "    </tr>\n",
       "    <tr>\n",
       "      <th>438</th>\n",
       "      <td>San Francisco</td>\n",
       "      <td>17507.3854</td>\n",
       "    </tr>\n",
       "    <tr>\n",
       "      <th>123</th>\n",
       "      <td>Detroit</td>\n",
       "      <td>13181.7908</td>\n",
       "    </tr>\n",
       "    <tr>\n",
       "      <th>233</th>\n",
       "      <td>Lafayette</td>\n",
       "      <td>10018.3876</td>\n",
       "    </tr>\n",
       "    <tr>\n",
       "      <th>215</th>\n",
       "      <td>Jackson</td>\n",
       "      <td>7581.6828</td>\n",
       "    </tr>\n",
       "    <tr>\n",
       "      <th>21</th>\n",
       "      <td>Atlanta</td>\n",
       "      <td>6993.6629</td>\n",
       "    </tr>\n",
       "    <tr>\n",
       "      <th>300</th>\n",
       "      <td>Minneapolis</td>\n",
       "      <td>6824.5846</td>\n",
       "    </tr>\n",
       "    <tr>\n",
       "      <th>437</th>\n",
       "      <td>San Diego</td>\n",
       "      <td>6377.1960</td>\n",
       "    </tr>\n",
       "  </tbody>\n",
       "</table>\n",
       "</div>"
      ],
      "text/plain": [
       "              City      Profit\n",
       "329  New York City  62036.9837\n",
       "266    Los Angeles  30440.7579\n",
       "452        Seattle  29156.0967\n",
       "438  San Francisco  17507.3854\n",
       "123        Detroit  13181.7908\n",
       "233      Lafayette  10018.3876\n",
       "215        Jackson   7581.6828\n",
       "21         Atlanta   6993.6629\n",
       "300    Minneapolis   6824.5846\n",
       "437      San Diego   6377.1960"
      ]
     },
     "execution_count": 21,
     "metadata": {},
     "output_type": "execute_result"
    }
   ],
   "source": [
    "cities_profit=cities_profit.sort_values(by=\"Profit\",ascending=False)\n",
    "cities_profit.head(10)"
   ]
  },
  {
   "cell_type": "code",
   "execution_count": 22,
   "id": "27cdf355",
   "metadata": {},
   "outputs": [
    {
     "data": {
      "application/vnd.plotly.v1+json": {
       "config": {
        "plotlyServerURL": "https://plot.ly"
       },
       "data": [
        {
         "branchvalues": "total",
         "customdata": [
          [
           -13837.767400000002
          ],
          [
           -10153.548499999999
          ],
          [
           -7299.050200000001
          ],
          [
           -7239.0684
          ],
          [
           -6654.5688
          ],
          [
           -3622.8771999999994
          ],
          [
           -2846.5257
          ],
          [
           -2790.8831999999998
          ],
          [
           -2691.7386
          ],
          [
           -2323.835
          ],
          [
           -1479.04
          ],
          [
           -1430.3129000000001
          ],
          [
           -1343.0446
          ],
          [
           -1183.4313
          ],
          [
           -1165.0755000000001
          ],
          [
           -1150.3704
          ],
          [
           -1149.5077999999999
          ],
          [
           -1055.3532000000002
          ],
          [
           -1003.0958
          ],
          [
           -956.6841000000001
          ],
          [
           -900.9719
          ],
          [
           -848.0079000000001
          ],
          [
           -837.4908
          ],
          [
           -718.6388999999999
          ],
          [
           -632.9229
          ],
          [
           -559.2314
          ],
          [
           -548.9884
          ],
          [
           -544.1518000000001
          ],
          [
           -536.1275999999999
          ],
          [
           -520.1034
          ],
          [
           -470.21389999999997
          ],
          [
           -465.9909
          ],
          [
           -443.7086
          ],
          [
           -429.7824
          ],
          [
           -387.9683
          ],
          [
           -383.0554
          ],
          [
           -380.36229999999995
          ],
          [
           -351.89610000000005
          ],
          [
           -349.9295
          ],
          [
           -346.87
          ],
          [
           -339.99679999999995
          ],
          [
           -325.2366
          ],
          [
           -268.76419999999996
          ],
          [
           -252.6926
          ],
          [
           -249.35500000000002
          ],
          [
           -244.92000000000002
          ],
          [
           -238.45
          ],
          [
           -237.5528
          ],
          [
           -236.7674
          ],
          [
           -226.4504
          ],
          [
           -216.28610000000003
          ],
          [
           -213.7116
          ],
          [
           -212.13209999999998
          ],
          [
           -188.63649999999998
          ],
          [
           -186.6356
          ],
          [
           -182.35200000000003
          ],
          [
           -179.9007
          ],
          [
           -179.22749999999996
          ],
          [
           -169.9406
          ],
          [
           -164.1893
          ],
          [
           -163.87169999999998
          ],
          [
           -161.3551
          ],
          [
           -153.7178
          ],
          [
           -146.5324
          ],
          [
           -127.86630000000002
          ],
          [
           -123.27420000000002
          ],
          [
           -122.9534
          ],
          [
           -117.6224
          ],
          [
           -110.0232
          ],
          [
           -107.39620000000005
          ],
          [
           -102.16919999999999
          ],
          [
           -100.5125
          ],
          [
           -98.8018
          ],
          [
           -89.6478
          ],
          [
           -89.4879
          ],
          [
           -87.61999999999999
          ],
          [
           -85.2311
          ],
          [
           -72.4491
          ],
          [
           -69.71180000000001
          ],
          [
           -66.7913
          ],
          [
           -64.96680000000002
          ],
          [
           -58.5532
          ],
          [
           -54.613899999999994
          ],
          [
           -52.334
          ],
          [
           -46.137
          ],
          [
           -45.386700000000005
          ],
          [
           -43.7304
          ],
          [
           -39.8775
          ],
          [
           -39.8683
          ],
          [
           -32.9292
          ],
          [
           -32.373
          ],
          [
           -31.349899999999998
          ],
          [
           -26.055999999999997
          ],
          [
           -24.489299999999997
          ],
          [
           -22.645599999999995
          ],
          [
           -20.393799999999967
          ],
          [
           -20.087999999999994
          ],
          [
           -19.3413
          ],
          [
           -18.8016
          ],
          [
           -14.7708
          ],
          [
           -14.743599999999994
          ],
          [
           -14.336000000000002
          ],
          [
           -12.575199999999999
          ],
          [
           -11.827200000000001
          ],
          [
           -10.386
          ],
          [
           -9.555
          ],
          [
           -9.385000000000002
          ],
          [
           -8.9152
          ],
          [
           -4.660999999999998
          ],
          [
           -4.235199999999999
          ],
          [
           -3.7584
          ],
          [
           -1.9656
          ],
          [
           -1.476
          ],
          [
           -1.3984
          ],
          [
           -1.1835
          ],
          [
           -1.0956000000000001
          ],
          [
           0.1548
          ],
          [
           1.1946
          ],
          [
           1.2348
          ],
          [
           1.419
          ],
          [
           1.5455000000000005
          ],
          [
           2.1
          ],
          [
           2.3312
          ],
          [
           2.3328
          ],
          [
           2.6936
          ],
          [
           2.934
          ],
          [
           3.0576
          ],
          [
           3.0798000000000005
          ],
          [
           3.3150000000000004
          ],
          [
           3.4415999999999998
          ],
          [
           3.6288
          ],
          [
           3.792
          ],
          [
           3.9032
          ],
          [
           4.449
          ],
          [
           4.4778
          ],
          [
           4.4955
          ],
          [
           4.7304
          ],
          [
           6.5120000000000005
          ],
          [
           6.63
          ],
          [
           6.7232
          ],
          [
           6.9795
          ],
          [
           7.156700000000001
          ],
          [
           7.846
          ],
          [
           7.98
          ],
          [
           8.0178
          ],
          [
           8.662
          ],
          [
           8.7749
          ],
          [
           9.3312
          ],
          [
           9.5616
          ],
          [
           9.670200000000001
          ],
          [
           9.757299999999997
          ],
          [
           9.8856
          ],
          [
           10.008
          ],
          [
           10.3614
          ],
          [
           10.6202
          ],
          [
           10.9584
          ],
          [
           11.635200000000003
          ],
          [
           11.679999999999998
          ],
          [
           11.824800000000002
          ],
          [
           11.856199999999994
          ],
          [
           12.039100000000005
          ],
          [
           13.1952
          ],
          [
           13.208
          ],
          [
           13.5126
          ],
          [
           13.7547
          ],
          [
           13.8579
          ],
          [
           14.1426
          ],
          [
           14.169999999999998
          ],
          [
           15.006499999999999
          ],
          [
           15.552
          ],
          [
           15.6891
          ],
          [
           16.6721
          ],
          [
           16.8281
          ],
          [
           16.9632
          ],
          [
           17.6552
          ],
          [
           17.745
          ],
          [
           18.0648
          ],
          [
           18.1275
          ],
          [
           18.556800000000003
          ],
          [
           18.5886
          ],
          [
           18.7173
          ],
          [
           19.700899999999997
          ],
          [
           19.7976
          ],
          [
           19.943
          ],
          [
           20.221799999999995
          ],
          [
           20.586
          ],
          [
           20.688000000000002
          ],
          [
           20.8106
          ],
          [
           21.4053
          ],
          [
           22.3291
          ],
          [
           22.357799999999997
          ],
          [
           22.6278
          ],
          [
           23.0839
          ],
          [
           23.2624
          ],
          [
           24.8842
          ],
          [
           25.0182
          ],
          [
           26.6304
          ],
          [
           27.191799999999994
          ],
          [
           27.642799999999994
          ],
          [
           27.753
          ],
          [
           27.8086
          ],
          [
           28.370800000000003
          ],
          [
           29.0542
          ],
          [
           30.0144
          ],
          [
           31.061799999999995
          ],
          [
           31.1692
          ],
          [
           31.6092
          ],
          [
           31.6586
          ],
          [
           32.28099999999999
          ],
          [
           33.0676
          ],
          [
           33.3848
          ],
          [
           33.3939
          ],
          [
           34.3419
          ],
          [
           34.8252
          ],
          [
           35.3346
          ],
          [
           35.6202
          ],
          [
           37.0548
          ],
          [
           38.8983
          ],
          [
           39.4131
          ],
          [
           41.4892
          ],
          [
           41.9815
          ],
          [
           42.5419
          ],
          [
           42.8316
          ],
          [
           43.9394
          ],
          [
           44.4768
          ],
          [
           44.4858
          ],
          [
           44.7684
          ],
          [
           44.8682
          ],
          [
           45.294
          ],
          [
           46.1733
          ],
          [
           46.9632
          ],
          [
           47.1344
          ],
          [
           47.17359999999999
          ],
          [
           48.357800000000005
          ],
          [
           49.6048
          ],
          [
           50.4861
          ],
          [
           50.6615
          ],
          [
           51.010400000000004
          ],
          [
           51.955799999999996
          ],
          [
           52.5888
          ],
          [
           52.6872
          ],
          [
           53.6884
          ],
          [
           54.0386
          ],
          [
           54.3332
          ],
          [
           54.3438
          ],
          [
           54.3634
          ],
          [
           54.796800000000005
          ],
          [
           57.718
          ],
          [
           58.6966
          ],
          [
           59.11639999999999
          ],
          [
           59.238299999999995
          ],
          [
           59.85560000000001
          ],
          [
           60.392
          ],
          [
           62.083800000000004
          ],
          [
           62.2518
          ],
          [
           62.445
          ],
          [
           62.737
          ],
          [
           66.5698
          ],
          [
           66.6588
          ],
          [
           67.60679999999999
          ],
          [
           67.992
          ],
          [
           68.3691
          ],
          [
           69.982
          ],
          [
           70.2048
          ],
          [
           71.0588
          ],
          [
           73.3529
          ],
          [
           73.7442
          ],
          [
           74.62219999999999
          ],
          [
           75.4546
          ],
          [
           76.0016
          ],
          [
           76.169
          ],
          [
           77.18010000000001
          ],
          [
           77.5074
          ],
          [
           77.5761
          ],
          [
           78.6791
          ],
          [
           79.403
          ],
          [
           79.5016
          ],
          [
           79.9929
          ],
          [
           80.736
          ],
          [
           81.46049999999998
          ],
          [
           81.6363
          ],
          [
           83.8057
          ],
          [
           84.5982
          ],
          [
           87.0338
          ],
          [
           88.0478
          ],
          [
           89.87190000000004
          ],
          [
           90.4306
          ],
          [
           90.6259
          ],
          [
           92.0835
          ],
          [
           92.72550000000001
          ],
          [
           93.52079999999998
          ],
          [
           95.214
          ],
          [
           95.4496
          ],
          [
           96.592
          ],
          [
           98.5269
          ],
          [
           98.5541
          ],
          [
           98.5884
          ],
          [
           99.914
          ],
          [
           100.196
          ],
          [
           101.4106
          ],
          [
           101.8869
          ],
          [
           102.0138
          ],
          [
           102.6723
          ],
          [
           105.541
          ],
          [
           105.77600000000002
          ],
          [
           107.5073
          ],
          [
           108.2012
          ],
          [
           110.0528
          ],
          [
           114.387
          ],
          [
           115.0527
          ],
          [
           115.10940000000001
          ],
          [
           116.8699
          ],
          [
           119.5878
          ],
          [
           122.1344
          ],
          [
           124.1886
          ],
          [
           131.5286
          ],
          [
           133.2147
          ],
          [
           134.03719999999998
          ],
          [
           136.4532
          ],
          [
           138.253
          ],
          [
           139.6269
          ],
          [
           140.8398
          ],
          [
           140.8905
          ],
          [
           144.8535
          ],
          [
           146.4036
          ],
          [
           147.1387
          ],
          [
           149.2776
          ],
          [
           150.299
          ],
          [
           150.86440000000002
          ],
          [
           151.06449999999998
          ],
          [
           151.9823
          ],
          [
           152.0428
          ],
          [
           152.495
          ],
          [
           153.17579999999998
          ],
          [
           154.2138
          ],
          [
           157.6159
          ],
          [
           157.7661
          ],
          [
           158.79559999999998
          ],
          [
           161.83080000000012
          ],
          [
           163.3746
          ],
          [
           164.08960000000002
          ],
          [
           169.4115
          ],
          [
           172.2261
          ],
          [
           172.2358
          ],
          [
           173.7276
          ],
          [
           174.6191
          ],
          [
           175.3371
          ],
          [
           176.4289
          ],
          [
           179.4696
          ],
          [
           181.35590000000002
          ],
          [
           182.8598
          ],
          [
           185.4324
          ],
          [
           187.9247
          ],
          [
           188.55960000000002
          ],
          [
           191.9858
          ],
          [
           196.09619999999998
          ],
          [
           196.91320000000002
          ],
          [
           202.07199999999997
          ],
          [
           203.5218
          ],
          [
           205.12539999999998
          ],
          [
           207.4108
          ],
          [
           213.0453
          ],
          [
           217.0617
          ],
          [
           221.9373
          ],
          [
           228.4764
          ],
          [
           228.536
          ],
          [
           228.9158
          ],
          [
           230.1497
          ],
          [
           233.92270000000002
          ],
          [
           235.50850000000003
          ],
          [
           241.2558
          ],
          [
           243.10389999999998
          ],
          [
           248.43460000000002
          ],
          [
           258.8366
          ],
          [
           266.1649
          ],
          [
           269.5287
          ],
          [
           270.5181
          ],
          [
           270.694
          ],
          [
           272.0761
          ],
          [
           279.5512
          ],
          [
           283.6492
          ],
          [
           290.8953
          ],
          [
           292.589
          ],
          [
           297.20889999999997
          ],
          [
           298.73269999999997
          ],
          [
           311.4834
          ],
          [
           318.61830000000003
          ],
          [
           319.054
          ],
          [
           323.9266
          ],
          [
           327.53139999999996
          ],
          [
           329.2601
          ],
          [
           332.4433
          ],
          [
           336.03549999999996
          ],
          [
           336.9608
          ],
          [
           338.9355
          ],
          [
           339.52639999999997
          ],
          [
           343.4299
          ],
          [
           346.4577
          ],
          [
           347.0908
          ],
          [
           353.313
          ],
          [
           353.6301
          ],
          [
           356.8186
          ],
          [
           357.5244
          ],
          [
           368.41099999999994
          ],
          [
           374.7296
          ],
          [
           377.72529999999995
          ],
          [
           385.01009999999997
          ],
          [
           388.5674
          ],
          [
           389.5995
          ],
          [
           389.8122
          ],
          [
           392.71160000000003
          ],
          [
           402.76
          ],
          [
           411.88379999999995
          ],
          [
           412.8734
          ],
          [
           412.8902
          ],
          [
           422.2204
          ],
          [
           427.49780000000004
          ],
          [
           442.5966
          ],
          [
           451.25470000000007
          ],
          [
           451.6626
          ],
          [
           454.1556
          ],
          [
           457.2858
          ],
          [
           467.3864
          ],
          [
           469.614
          ],
          [
           470.2212
          ],
          [
           471.73220000000003
          ],
          [
           472.59399999999994
          ],
          [
           477.6744
          ],
          [
           479.3221
          ],
          [
           512.1456
          ],
          [
           514.0822000000001
          ],
          [
           514.6335
          ],
          [
           520.5891
          ],
          [
           545.1510000000001
          ],
          [
           554.7663
          ],
          [
           575.5226
          ],
          [
           580.6549
          ],
          [
           582.0694
          ],
          [
           591.7956
          ],
          [
           600.5054
          ],
          [
           603.3858
          ],
          [
           610.5908
          ],
          [
           629.0645999999999
          ],
          [
           633.644
          ],
          [
           634.0880999999999
          ],
          [
           634.2478
          ],
          [
           637.4977
          ],
          [
           652.0998
          ],
          [
           654.9194
          ],
          [
           662.5146
          ],
          [
           689.0556
          ],
          [
           696.6242
          ],
          [
           734.9167
          ],
          [
           740.49
          ],
          [
           763.6886000000001
          ],
          [
           764.5337999999998
          ],
          [
           772.6798999999999
          ],
          [
           801.1113
          ],
          [
           826.7036
          ],
          [
           834.1029000000001
          ],
          [
           834.6571
          ],
          [
           836.7465000000001
          ],
          [
           880.0391999999999
          ],
          [
           889.5239
          ],
          [
           907.0072
          ],
          [
           948.2681
          ],
          [
           953.8323
          ],
          [
           975.663
          ],
          [
           992.8791
          ],
          [
           1021.4940999999999
          ],
          [
           1026.6960000000001
          ],
          [
           1028.0728
          ],
          [
           1059.5892999999999
          ],
          [
           1063.7956
          ],
          [
           1123.6552
          ],
          [
           1154.6691
          ],
          [
           1197.0469
          ],
          [
           1210.3119
          ],
          [
           1216.0579
          ],
          [
           1216.8104
          ],
          [
           1234.0036
          ],
          [
           1235.6657
          ],
          [
           1253.3871
          ],
          [
           1262.787
          ],
          [
           1274.2421
          ],
          [
           1285.7714999999998
          ],
          [
           1312.5717
          ],
          [
           1346.6021
          ],
          [
           1361.4787000000001
          ],
          [
           1506.9349999999997
          ],
          [
           1580.7606999999998
          ],
          [
           1582.7071
          ],
          [
           1610.7442999999998
          ],
          [
           1664.8679
          ],
          [
           1676.198
          ],
          [
           1743.4191
          ],
          [
           1818.6692
          ],
          [
           1838.2271000000003
          ],
          [
           1841.6268
          ],
          [
           1947.7019
          ],
          [
           2024.8837
          ],
          [
           2069.6859
          ],
          [
           2108.9306
          ],
          [
           2168.9661
          ],
          [
           2175.8292
          ],
          [
           2247.6899000000003
          ],
          [
           2293.6828
          ],
          [
           2382.1465
          ],
          [
           2427.4353
          ],
          [
           2741.6538
          ],
          [
           2767.7557
          ],
          [
           2793.0851000000002
          ],
          [
           3234.0278
          ],
          [
           4169.6969
          ],
          [
           4911.8609
          ],
          [
           5505.6569
          ],
          [
           5567.2486
          ],
          [
           5606.1167
          ],
          [
           5793.758799999999
          ],
          [
           5897.101300000001
          ],
          [
           6200.6974
          ],
          [
           6377.196
          ],
          [
           6824.584599999999
          ],
          [
           6993.6629
          ],
          [
           7581.6828
          ],
          [
           10018.3876
          ],
          [
           13181.790799999999
          ],
          [
           17507.3854
          ],
          [
           29156.0967
          ],
          [
           30440.7579
          ],
          [
           62036.9837
          ],
          [
           6.63
          ],
          [
           -3.7584
          ],
          [
           -186.6356
          ],
          [
           634.0880999999999
          ],
          [
           318.61830000000003
          ],
          [
           -39.8775
          ],
          [
           -226.4504
          ],
          [
           -1.1835
          ],
          [
           -387.9683
          ],
          [
           1234.0036
          ],
          [
           124.1886
          ],
          [
           228.9158
          ],
          [
           9.3312
          ],
          [
           54.3634
          ],
          [
           292.589
          ],
          [
           554.7663
          ],
          [
           4169.6969
          ],
          [
           1.2348
          ],
          [
           59.85560000000001
          ],
          [
           77.5074
          ],
          [
           479.3221
          ],
          [
           6993.6629
          ],
          [
           11.679999999999998
          ],
          [
           734.9167
          ],
          [
           -2691.7386
          ],
          [
           -20.393799999999967
          ],
          [
           76.169
          ],
          [
           187.9247
          ],
          [
           1676.198
          ],
          [
           422.2204
          ],
          [
           10.008
          ],
          [
           79.403
          ],
          [
           3.6288
          ],
          [
           59.11639999999999
          ],
          [
           10.6202
          ],
          [
           283.6492
          ],
          [
           37.0548
          ],
          [
           610.5908
          ],
          [
           -1003.0958
          ],
          [
           654.9194
          ],
          [
           2.6936
          ],
          [
           -249.35500000000002
          ],
          [
           -22.645599999999995
          ],
          [
           221.9373
          ],
          [
           -4.660999999999998
          ],
          [
           336.9608
          ],
          [
           217.0617
          ],
          [
           50.6615
          ],
          [
           20.8106
          ],
          [
           1216.8104
          ],
          [
           3.4415999999999998
          ],
          [
           81.6363
          ],
          [
           575.5226
          ],
          [
           62.445
          ],
          [
           202.07199999999997
          ],
          [
           -213.7116
          ],
          [
           992.8791
          ],
          [
           -89.6478
          ],
          [
           6.7232
          ],
          [
           764.5337999999998
          ],
          [
           -3622.8771999999994
          ],
          [
           58.6966
          ],
          [
           158.79559999999998
          ],
          [
           173.7276
          ],
          [
           149.2776
          ],
          [
           157.7661
          ],
          [
           -39.8683
          ],
          [
           -470.21389999999997
          ],
          [
           54.0386
          ],
          [
           42.8316
          ],
          [
           80.736
          ],
          [
           -182.35200000000003
          ],
          [
           81.46049999999998
          ],
          [
           4.7304
          ],
          [
           -429.7824
          ],
          [
           22.6278
          ],
          [
           27.191799999999994
          ],
          [
           1262.787
          ],
          [
           48.357800000000005
          ],
          [
           100.196
          ],
          [
           -6654.5688
          ],
          [
           205.12539999999998
          ],
          [
           248.43460000000002
          ],
          [
           175.3371
          ],
          [
           54.3438
          ],
          [
           -1055.3532000000002
          ],
          [
           -848.0079000000001
          ],
          [
           98.5884
          ],
          [
           1274.2421
          ],
          [
           11.635200000000003
          ],
          [
           47.17359999999999
          ],
          [
           -117.6224
          ],
          [
           -956.6841000000001
          ],
          [
           5606.1167
          ],
          [
           5897.101300000001
          ],
          [
           -32.9292
          ],
          [
           -718.6388999999999
          ],
          [
           6.9795
          ],
          [
           45.294
          ],
          [
           136.4532
          ],
          [
           41.4892
          ],
          [
           22.357799999999997
          ],
          [
           18.556800000000003
          ],
          [
           -43.7304
          ],
          [
           297.20889999999997
          ],
          [
           54.796800000000005
          ],
          [
           115.10940000000001
          ],
          [
           637.4977
          ],
          [
           -12.575199999999999
          ],
          [
           -2846.5257
          ],
          [
           9.8856
          ],
          [
           213.0453
          ],
          [
           15.552
          ],
          [
           -52.334
          ],
          [
           467.3864
          ],
          [
           140.8905
          ],
          [
           689.0556
          ],
          [
           -10.386
          ],
          [
           29.0542
          ],
          [
           122.1344
          ],
          [
           -244.92000000000002
          ],
          [
           1610.7442999999998
          ],
          [
           -236.7674
          ],
          [
           13181.790799999999
          ],
          [
           1021.4940999999999
          ],
          [
           92.72550000000001
          ],
          [
           -349.9295
          ],
          [
           477.6744
          ],
          [
           116.8699
          ],
          [
           87.0338
          ],
          [
           174.6191
          ],
          [
           102.0138
          ],
          [
           427.49780000000004
          ],
          [
           27.8086
          ],
          [
           243.10389999999998
          ],
          [
           634.2478
          ],
          [
           52.6872
          ],
          [
           -179.9007
          ],
          [
           16.6721
          ],
          [
           -212.13209999999998
          ],
          [
           -1.3984
          ],
          [
           71.0588
          ],
          [
           13.7547
          ],
          [
           27.753
          ],
          [
           134.03719999999998
          ],
          [
           411.88379999999995
          ],
          [
           1361.4787000000001
          ],
          [
           1210.3119
          ],
          [
           230.1497
          ],
          [
           169.4115
          ],
          [
           1818.6692
          ],
          [
           2168.9661
          ],
          [
           -252.6926
          ],
          [
           -161.3551
          ],
          [
           298.73269999999997
          ],
          [
           -26.055999999999997
          ],
          [
           1664.8679
          ],
          [
           -20.087999999999994
          ],
          [
           179.4696
          ],
          [
           948.2681
          ],
          [
           -18.8016
          ],
          [
           105.541
          ],
          [
           90.6259
          ],
          [
           -32.373
          ],
          [
           -14.743599999999994
          ],
          [
           402.76
          ],
          [
           138.253
          ],
          [
           52.5888
          ],
          [
           182.8598
          ],
          [
           13.8579
          ],
          [
           3.0576
          ],
          [
           7.98
          ],
          [
           -85.2311
          ],
          [
           233.92270000000002
          ],
          [
           8.7749
          ],
          [
           1582.7071
          ],
          [
           10.3614
          ],
          [
           228.4764
          ],
          [
           -122.9534
          ],
          [
           -548.9884
          ],
          [
           471.73220000000003
          ],
          [
           150.86440000000002
          ],
          [
           13.1952
          ],
          [
           77.5761
          ],
          [
           451.25470000000007
          ],
          [
           20.586
          ],
          [
           51.955799999999996
          ],
          [
           -9.385000000000002
          ],
          [
           953.8323
          ],
          [
           18.1275
          ],
          [
           889.5239
          ],
          [
           582.0694
          ],
          [
           74.62219999999999
          ],
          [
           629.0645999999999
          ],
          [
           4911.8609
          ],
          [
           -45.386700000000005
          ],
          [
           98.5269
          ],
          [
           -179.22749999999996
          ],
          [
           -1.0956000000000001
          ],
          [
           -169.9406
          ],
          [
           1.5455000000000005
          ],
          [
           66.6588
          ],
          [
           108.2012
          ],
          [
           60.392
          ],
          [
           22.3291
          ],
          [
           18.7173
          ],
          [
           62.083800000000004
          ],
          [
           -10153.548499999999
          ],
          [
           880.0391999999999
          ],
          [
           161.83080000000012
          ],
          [
           975.663
          ],
          [
           2741.6538
          ],
          [
           1026.6960000000001
          ],
          [
           4.4955
          ],
          [
           -100.5125
          ],
          [
           7581.6828
          ],
          [
           -2323.835
          ],
          [
           1285.7714999999998
          ],
          [
           8.662
          ],
          [
           11.856199999999994
          ],
          [
           801.1113
          ],
          [
           0.1548
          ],
          [
           2.1
          ],
          [
           19.7976
          ],
          [
           1028.0728
          ],
          [
           591.7956
          ],
          [
           47.1344
          ],
          [
           84.5982
          ],
          [
           -1165.0755000000001
          ],
          [
           272.0761
          ],
          [
           114.387
          ],
          [
           191.9858
          ],
          [
           18.0648
          ],
          [
           10018.3876
          ],
          [
           41.9815
          ],
          [
           241.2558
          ],
          [
           17.745
          ],
          [
           327.53139999999996
          ],
          [
           -188.63649999999998
          ],
          [
           1346.6021
          ],
          [
           3234.0278
          ],
          [
           -7239.0684
          ],
          [
           412.8734
          ],
          [
           -54.613899999999994
          ],
          [
           43.9394
          ],
          [
           332.4433
          ],
          [
           46.1733
          ],
          [
           2382.1465
          ],
          [
           235.50850000000003
          ],
          [
           2.3312
          ],
          [
           -31.349899999999998
          ],
          [
           83.8057
          ],
          [
           451.6626
          ],
          [
           79.5016
          ],
          [
           35.6202
          ],
          [
           68.3691
          ],
          [
           49.6048
          ],
          [
           26.6304
          ],
          [
           1154.6691
          ],
          [
           -98.8018
          ],
          [
           44.4858
          ],
          [
           46.9632
          ],
          [
           2108.9306
          ],
          [
           34.8252
          ],
          [
           38.8983
          ],
          [
           -632.9229
          ],
          [
           30440.7579
          ],
          [
           -1430.3129000000001
          ],
          [
           4.4778
          ],
          [
           1312.5717
          ],
          [
           147.1387
          ],
          [
           144.8535
          ],
          [
           1123.6552
          ],
          [
           31.1692
          ],
          [
           600.5054
          ],
          [
           10.9584
          ],
          [
           -66.7913
          ],
          [
           172.2358
          ],
          [
           385.01009999999997
          ],
          [
           2.3328
          ],
          [
           512.1456
          ],
          [
           -380.36229999999995
          ],
          [
           67.60679999999999
          ],
          [
           3.3150000000000004
          ],
          [
           -4.235199999999999
          ],
          [
           -163.87169999999998
          ],
          [
           19.700899999999997
          ],
          [
           -1343.0446
          ],
          [
           9.5616
          ],
          [
           -1479.04
          ],
          [
           -123.27420000000002
          ],
          [
           470.2212
          ],
          [
           95.214
          ],
          [
           -559.2314
          ],
          [
           -87.61999999999999
          ],
          [
           -1150.3704
          ],
          [
           157.6159
          ],
          [
           2293.6828
          ],
          [
           319.054
          ],
          [
           2793.0851000000002
          ],
          [
           6824.584599999999
          ],
          [
           32.28099999999999
          ],
          [
           96.592
          ],
          [
           151.06449999999998
          ],
          [
           152.495
          ],
          [
           -9.555
          ],
          [
           2175.8292
          ],
          [
           19.943
          ],
          [
           696.6242
          ],
          [
           3.9032
          ],
          [
           834.6571
          ],
          [
           101.4106
          ],
          [
           353.6301
          ],
          [
           7.846
          ],
          [
           1838.2271000000003
          ],
          [
           93.52079999999998
          ],
          [
           662.5146
          ],
          [
           15.6891
          ],
          [
           131.5286
          ],
          [
           92.0835
          ],
          [
           442.5966
          ],
          [
           -146.5324
          ],
          [
           13.5126
          ],
          [
           -837.4908
          ],
          [
           73.3529
          ],
          [
           50.4861
          ],
          [
           7.156700000000001
          ],
          [
           23.0839
          ],
          [
           368.41099999999994
          ],
          [
           62036.9837
          ],
          [
           5793.758799999999
          ],
          [
           1197.0469
          ],
          [
           59.238299999999995
          ],
          [
           353.313
          ],
          [
           8.0178
          ],
          [
           -110.0232
          ],
          [
           269.5287
          ],
          [
           9.670200000000001
          ],
          [
           2247.6899000000003
          ],
          [
           3.0798000000000005
          ],
          [
           164.08960000000002
          ],
          [
           152.0428
          ],
          [
           834.1029000000001
          ],
          [
           772.6798999999999
          ],
          [
           -69.71180000000001
          ],
          [
           1580.7606999999998
          ],
          [
           207.4108
          ],
          [
           139.6269
          ],
          [
           1841.6268
          ],
          [
           -46.137
          ],
          [
           66.5698
          ],
          [
           514.6335
          ],
          [
           67.992
          ],
          [
           377.72529999999995
          ],
          [
           -1.9656
          ],
          [
           -536.1275999999999
          ],
          [
           203.5218
          ],
          [
           27.642799999999994
          ],
          [
           346.4577
          ],
          [
           23.2624
          ],
          [
           17.6552
          ],
          [
           -238.45
          ],
          [
           -164.1893
          ],
          [
           31.061799999999995
          ],
          [
           89.87190000000004
          ],
          [
           357.5244
          ],
          [
           356.8186
          ],
          [
           740.49
          ],
          [
           39.4131
          ],
          [
           -72.4491
          ],
          [
           -1.476
          ],
          [
           -127.86630000000002
          ],
          [
           633.644
          ],
          [
           -237.5528
          ],
          [
           -13837.767400000002
          ],
          [
           -2790.8831999999998
          ],
          [
           62.737
          ],
          [
           70.2048
          ],
          [
           1235.6657
          ],
          [
           -383.0554
          ],
          [
           12.039100000000005
          ],
          [
           580.6549
          ],
          [
           181.35590000000002
          ],
          [
           150.299
          ],
          [
           15.006499999999999
          ],
          [
           105.77600000000002
          ],
          [
           2.934
          ],
          [
           4.449
          ],
          [
           6.5120000000000005
          ],
          [
           9.757299999999997
          ],
          [
           5505.6569
          ],
          [
           388.5674
          ],
          [
           -900.9719
          ],
          [
           347.0908
          ],
          [
           472.59399999999994
          ],
          [
           73.7442
          ],
          [
           44.7684
          ],
          [
           -268.76419999999996
          ],
          [
           25.0182
          ],
          [
           454.1556
          ],
          [
           -153.7178
          ],
          [
           176.4289
          ],
          [
           14.1426
          ],
          [
           115.0527
          ],
          [
           185.4324
          ],
          [
           258.8366
          ],
          [
           -24.489299999999997
          ],
          [
           5567.2486
          ],
          [
           119.5878
          ],
          [
           374.7296
          ],
          [
           1743.4191
          ],
          [
           54.3332
          ],
          [
           3.792
          ],
          [
           -1149.5077999999999
          ],
          [
           133.2147
          ],
          [
           18.5886
          ],
          [
           154.2138
          ],
          [
           -14.7708
          ],
          [
           1253.3871
          ],
          [
           2427.4353
          ],
          [
           -1183.4313
          ],
          [
           16.9632
          ],
          [
           2069.6859
          ],
          [
           77.18010000000001
          ],
          [
           311.4834
          ],
          [
           469.614
          ],
          [
           98.5541
          ],
          [
           24.8842
          ],
          [
           146.4036
          ],
          [
           151.9823
          ],
          [
           270.694
          ],
          [
           270.5181
          ],
          [
           329.2601
          ],
          [
           -58.5532
          ],
          [
           -7299.050200000001
          ],
          [
           69.982
          ],
          [
           42.5419
          ],
          [
           6377.196
          ],
          [
           17507.3854
          ],
          [
           290.8953
          ],
          [
           1216.0579
          ],
          [
           1.1946
          ],
          [
           -19.3413
          ],
          [
           35.3346
          ],
          [
           520.5891
          ],
          [
           -11.827200000000001
          ],
          [
           836.7465000000001
          ],
          [
           457.2858
          ],
          [
           76.0016
          ],
          [
           20.688000000000002
          ],
          [
           30.0144
          ],
          [
           -89.4879
          ],
          [
           29156.0967
          ],
          [
           34.3419
          ],
          [
           21.4053
          ],
          [
           16.8281
          ],
          [
           343.4299
          ],
          [
           -346.87
          ],
          [
           826.7036
          ],
          [
           279.5512
          ],
          [
           412.8902
          ],
          [
           228.536
          ],
          [
           172.2261
          ],
          [
           1.419
          ],
          [
           6200.6974
          ],
          [
           33.0676
          ],
          [
           339.52639999999997
          ],
          [
           389.8122
          ],
          [
           196.91320000000002
          ],
          [
           107.5073
          ],
          [
           514.0822000000001
          ],
          [
           392.71160000000003
          ],
          [
           -351.89610000000005
          ],
          [
           -325.2366
          ],
          [
           44.8682
          ],
          [
           101.8869
          ],
          [
           95.4496
          ],
          [
           163.3746
          ],
          [
           20.221799999999995
          ],
          [
           31.6586
          ],
          [
           33.3939
          ],
          [
           140.8398
          ],
          [
           99.914
          ],
          [
           -216.28610000000003
          ],
          [
           -8.9152
          ],
          [
           -339.99679999999995
          ],
          [
           545.1510000000001
          ],
          [
           652.0998
          ],
          [
           -544.1518000000001
          ],
          [
           -64.96680000000002
          ],
          [
           1506.9349999999997
          ],
          [
           51.010400000000004
          ],
          [
           266.1649
          ],
          [
           -443.7086
          ],
          [
           57.718
          ],
          [
           188.55960000000002
          ],
          [
           110.0528
          ],
          [
           336.03549999999996
          ],
          [
           75.4546
          ],
          [
           62.2518
          ],
          [
           2024.8837
          ],
          [
           88.0478
          ],
          [
           -520.1034
          ],
          [
           53.6884
          ],
          [
           1063.7956
          ],
          [
           1059.5892999999999
          ],
          [
           338.9355
          ],
          [
           11.824800000000002
          ],
          [
           907.0072
          ],
          [
           14.169999999999998
          ],
          [
           90.4306
          ],
          [
           603.3858
          ],
          [
           28.370800000000003
          ],
          [
           102.6723
          ],
          [
           31.6092
          ],
          [
           153.17579999999998
          ],
          [
           389.5995
          ],
          [
           763.6886000000001
          ],
          [
           -107.39620000000005
          ],
          [
           44.4768
          ],
          [
           323.9266
          ],
          [
           1947.7019
          ],
          [
           -14.336000000000002
          ],
          [
           196.09619999999998
          ],
          [
           33.3848
          ],
          [
           79.9929
          ],
          [
           78.6791
          ],
          [
           2767.7557
          ],
          [
           -102.16919999999999
          ],
          [
           13.208
          ],
          [
           -465.9909
          ]
         ],
         "domain": {
          "x": [
           0,
           1
          ],
          "y": [
           0,
           1
          ]
         },
         "hovertemplate": "labels=%{label}<br>Profit_sum=%{value}<br>parent=%{parent}<br>id=%{id}<br>Profit=%{color}<extra></extra>",
         "ids": [
          "Philadelphia/-13837.7674",
          "Houston/-10153.548499999999",
          "San Antonio/-7299.050200000001",
          "Lancaster/-7239.0684",
          "Chicago/-6654.5688",
          "Burlington/-3622.8772",
          "Dallas/-2846.5257",
          "Phoenix/-2790.8831999999998",
          "Aurora/-2691.7386",
          "Jacksonville/-2323.835",
          "Memphis/-1479.04",
          "Louisville/-1430.3129000000001",
          "Medina/-1343.0446",
          "Round Rock/-1183.4313",
          "Knoxville/-1165.0755000000001",
          "Miami/-1150.3704",
          "Rockford/-1149.5077999999999",
          "Clarksville/-1055.3532000000002",
          "Bethlehem/-1003.0958",
          "Colorado Springs/-956.6841000000001",
          "Pueblo/-900.9719",
          "Cleveland/-848.0079000000001",
          "Nashville/-837.4908",
          "Concord/-718.6388999999999",
          "Lorain/-632.9229",
          "Mesa/-559.2314",
          "Greenville/-548.9884",
          "Troy/-544.1518000000001",
          "Oswego/-536.1275999999999",
          "Waco/-520.1034",
          "Carrollton/-470.21389999999997",
          "Yuma/-465.9909",
          "Tyler/-443.7086",
          "Charlotte/-429.7824",
          "Amarillo/-387.9683",
          "Plano/-383.0554",
          "Marion/-380.3623",
          "Tamarac/-351.89610000000005",
          "Dublin/-349.9295",
          "Skokie/-346.87",
          "Toledo/-339.99679999999995",
          "Tampa/-325.2366",
          "Reading/-268.76419999999996",
          "Fort Collins/-252.6926",
          "Bloomington/-249.35500000000002",
          "Denver/-244.92000000000002",
          "Park Ridge/-238.45",
          "Pharr/-237.5528",
          "Des Plaines/-236.7674",
          "Allentown/-226.4504",
          "Tigard/-216.2861",
          "Bryan/-213.7116",
          "Elmhurst/-212.13209999999998",
          "Lakeland/-188.63649999999998",
          "Akron/-186.6356",
          "Champaign/-182.352",
          "El Paso/-179.9007",
          "Hialeah/-179.22749999999996",
          "Highland Park/-169.9406",
          "Parker/-164.1893",
          "Mcallen/-163.87169999999998",
          "Fort Lauderdale/-161.3551",
          "Redmond/-153.7178",
          "Naperville/-146.5324",
          "Peoria/-127.86630000000002",
          "Mentor/-123.27420000000002",
          "Greensboro/-122.9534",
          "College Station/-117.6224",
          "Normal/-110.0232",
          "Wheeling/-107.39620000000005",
          "York/-102.16919999999999",
          "Irving/-100.51250000000002",
          "Littleton/-98.8018",
          "Buffalo Grove/-89.6478",
          "Scottsdale/-89.4879",
          "Mesquite/-87.61999999999999",
          "Grand Prairie/-85.2311",
          "Pembroke Pines/-72.4491",
          "Odessa/-69.71180000000001",
          "Mansfield/-66.7913",
          "Tucson/-64.96680000000002",
          "San Angelo/-58.5532",
          "Laredo/-54.613899999999994",
          "Daytona Beach/-52.334",
          "Ontario/-46.137",
          "Hendersonville/-45.386700000000005",
          "Corpus Christi/-43.7304",
          "Allen/-39.8775",
          "Carol Stream/-39.8683",
          "Commerce City/-32.9292",
          "Garland/-32.373",
          "League City/-31.349899999999998",
          "Frankfort/-26.055999999999997",
          "Richardson/-24.4893",
          "Boca Raton/-22.645599999999998",
          "Austin/-20.393799999999967",
          "Freeport/-20.087999999999994",
          "San Marcos/-19.3413",
          "Frisco/-18.8016",
          "Romeoville/-14.7708",
          "Gastonia/-14.743599999999995",
          "Wilson/-14.336000000000002",
          "Cuyahoga Falls/-12.575199999999999",
          "Sanford/-11.827200000000001",
          "Deer Park/-10.386",
          "Missouri City/-9.555",
          "Hamilton/-9.385000000000002",
          "Tinley Park/-8.9152",
          "Bolingbrook/-4.660999999999998",
          "Mason/-4.235199999999999",
          "Abilene/-3.7584",
          "Ormond Beach/-1.9656",
          "Pensacola/-1.476",
          "Elyria/-1.3984",
          "Altoona/-1.1835",
          "Hickory/-1.0956000000000001",
          "Jupiter/0.1548",
          "San Luis Obispo/1.1946",
          "Arlington Heights/1.2348",
          "Springdale/1.419",
          "Hillsboro/1.5455000000000005",
          "Keller/2.1",
          "Layton/2.3312",
          "Margate/2.3328",
          "Billings/2.6936",
          "Port Orange/2.934",
          "Goldsboro/3.0576",
          "North Miami/3.0798000000000005",
          "Marysville/3.3150000000000004",
          "Bridgeton/3.4415999999999998",
          "Baytown/3.6288",
          "Rock Hill/3.792",
          "Montebello/3.9032",
          "Port Saint Lucie/4.449",
          "Loveland/4.4778",
          "Iowa City/4.4955",
          "Chapel Hill/4.7304",
          "Portage/6.512",
          "Aberdeen/6.63",
          "Bullhead City/6.7232",
          "Conroe/6.9795",
          "New Brunswick/7.156700000000001",
          "Morgan Hill/7.846",
          "Grand Island/7.98",
          "Norfolk/8.0178",
          "Jefferson City/8.662",
          "Grapevine/8.7749",
          "Antioch/9.3312",
          "Melbourne/9.5616",
          "North Charleston/9.670200000000001",
          "Portland/9.757299999999997",
          "Danbury/9.8856",
          "Bartlett/10.008",
          "Greeley/10.3614",
          "Bedford/10.6202",
          "Manhattan/10.9584",
          "Clovis/11.635200000000001",
          "Atlantic City/11.68",
          "Waterloo/11.8248",
          "Johnson City/11.856199999999994",
          "Plantation/12.039100000000005",
          "Grove City/13.1952",
          "Yucaipa/13.208",
          "Nashua/13.512599999999999",
          "Englewood/13.7547",
          "Glenview/13.8579",
          "Redwood City/14.1426",
          "Waukesha/14.17",
          "Pompano Beach/15.006499999999999",
          "Davis/15.552",
          "Murfreesboro/15.6891",
          "Elkhart/16.6721",
          "Sierra Vista/16.8281",
          "Royal Oak/16.9632",
          "Palm Coast/17.6552",
          "Lake Elsinore/17.745",
          "La Quinta/18.0648",
          "Harlingen/18.1275",
          "Coral Springs/18.556800000000003",
          "Rogers/18.5886",
          "Hoover/18.7173",
          "Medford/19.700899999999997",
          "Kenner/19.7976",
          "Modesto/19.943",
          "Texas City/20.221799999999995",
          "Hagerstown/20.586",
          "Santa Fe/20.688000000000002",
          "Bozeman/20.8106",
          "Shelton/21.4053",
          "Homestead/22.3291",
          "Coral Gables/22.357799999999997",
          "Charlottesville/22.6278",
          "New Castle/23.0839",
          "Palatine/23.2624",
          "Saint Paul/24.8842",
          "Redding/25.0182",
          "Lindenhurst/26.6304",
          "Chattanooga/27.191799999999994",
          "Owensboro/27.642799999999998",
          "Escondido/27.753",
          "Edinburg/27.8086",
          "West Allis/28.370800000000003",
          "Delray Beach/29.0542",
          "Santa Maria/30.0144",
          "Parma/31.061799999999995",
          "Malden/31.1692",
          "West Palm Beach/31.6092",
          "The Colony/31.6586",
          "Miramar/32.28099999999999",
          "Sterling Heights/33.0676",
          "Woodland/33.3848",
          "Thomasville/33.3939",
          "Sheboygan/34.3419",
          "Longmont/34.8252",
          "San Mateo/35.3346",
          "Lewiston/35.6202",
          "Bellevue/37.0548",
          "Longview/38.8983",
          "Pearland/39.4131",
          "Coppell/41.4892",
          "Laguna Niguel/41.9815",
          "San Clemente/42.5419",
          "Cedar Hill/42.8316",
          "Las Cruces/43.9394",
          "Whittier/44.4768",
          "Lodi/44.4858",
          "Rapid City/44.7684",
          "Taylor/44.8682",
          "Conway/45.294",
          "Laurel/46.1733",
          "Logan/46.9632",
          "Kirkwood/47.1344",
          "Coachella/47.1736",
          "Chester/48.357800000000005",
          "Linden/49.6048",
          "New Bedford/50.4861",
          "Boynton Beach/50.661500000000004",
          "Tuscaloosa/51.010400000000004",
          "Haltom City/51.955799999999996",
          "Gladstone/52.5888",
          "El Cajon/52.6872",
          "Warner Robins/53.6884",
          "Cary/54.0386",
          "Rochester Hills/54.3332",
          "Citrus Heights/54.3438",
          "Apopka/54.3634",
          "Cottage Grove/54.796800000000005",
          "Urbandale/57.718",
          "Caldwell/58.6966",
          "Beaumont/59.11639999999999",
          "Niagara Falls/59.238299999999995",
          "Arvada/59.8556",
          "Holyoke/60.392",
          "Hot Springs/62.083800000000004",
          "Vineland/62.2518",
          "Broomfield/62.445",
          "Pico Rivera/62.737",
          "Orange/66.5698",
          "Holland/66.6588",
          "Marlborough/67.60679999999999",
          "Orland Park/67.992",
          "Lincoln Park/68.3691",
          "San Bernardino/69.982",
          "Pine Bluff/70.2048",
          "Encinitas/71.0588",
          "New Albany/73.3529",
          "Rancho Cucamonga/73.7442",
          "Helena/74.62219999999999",
          "Vancouver/75.4546",
          "Santa Clara/76.0016",
          "Avondale/76.169",
          "Saginaw/77.18010000000001",
          "Asheville/77.5074",
          "Gulfport/77.5761",
          "Woonsocket/78.6791",
          "Bayonne/79.403",
          "Leominster/79.5016",
          "Woodstock/79.9929",
          "Cedar Rapids/80.736",
          "Chandler/81.46049999999998",
          "Bristol/81.6363",
          "Lebanon/83.8057",
          "Kissimmee/84.5982",
          "Eagan/87.0338",
          "Visalia/88.0478",
          "Pasadena/89.87190000000004",
          "Wausau/90.4306",
          "Garden City/90.6259",
          "Murrieta/92.0835",
          "Draper/92.72550000000001",
          "Mount Pleasant/93.5208",
          "Meridian/95.214",
          "Tempe/95.4496",
          "Mishawaka/96.59200000000001",
          "Hesperia/98.5269",
          "Saint Louis/98.5541",
          "Clifton/98.58840000000001",
          "Thousand Oaks/99.914",
          "Cheyenne/100.196",
          "Moorhead/101.4106",
          "Temecula/101.8869",
          "East Point/102.0138",
          "West Jordan/102.6723",
          "Gaithersburg/105.541",
          "Port Arthur/105.77600000000001",
          "Sunnyvale/107.5073",
          "Hollywood/108.2012",
          "Vacaville/110.0528",
          "La Mesa/114.387",
          "Reno/115.0527",
          "Covington/115.10940000000001",
          "Durham/116.8699",
          "Rio Rancho/119.5878",
          "Deltona/122.1344",
          "Andover/124.1886",
          "Murray/131.5286",
          "Rockville/133.2147",
          "Eugene/134.03719999999998",
          "Coon Rapids/136.4532",
          "Gilbert/138.253",
          "Olympia/139.6269",
          "Thornton/140.8398",
          "Dearborn Heights/140.8905",
          "Macon/144.8535",
          "Saint Peters/146.4036",
          "Lubbock/147.1387",
          "Canton/149.2776",
          "Pomona/150.299",
          "Gresham/150.86440000000002",
          "Mission Viejo/151.06449999999998",
          "Saint Petersburg/151.9823",
          "Oak Park/152.0428",
          "Missoula/152.495",
          "Westfield/153.17579999999998",
          "Rome/154.2138",
          "Middletown/157.6159",
          "Carlsbad/157.7661",
          "Camarillo/158.79559999999998",
          "Huntsville/161.83080000000012",
          "Texarkana/163.3746",
          "Norwich/164.08960000000002",
          "Farmington/169.4115",
          "Spokane/172.2261",
          "Manteca/172.2358",
          "Cambridge/173.7276",
          "East Orange/174.6191",
          "Cincinnati/175.3371",
          "Redondo Beach/176.4289",
          "Fremont/179.4696",
          "Pocatello/181.35590000000002",
          "Glendale/182.8598",
          "Renton/185.4324",
          "Bakersfield/187.9247",
          "Utica/188.55960000000002",
          "La Porte/191.98579999999998",
          "Woodbury/196.09619999999998",
          "Summerville/196.91320000000002",
          "Brownsville/202.072",
          "Overland Park/203.5218",
          "Chico/205.12539999999998",
          "Olathe/207.4108",
          "Danville/213.0453",
          "Bowling Green/217.0617",
          "Boise/221.9373",
          "Green Bay/228.4764",
          "Sparks/228.536",
          "Ann Arbor/228.9158",
          "Fargo/230.1497",
          "Grand Rapids/233.92270000000002",
          "Lawton/235.50850000000003",
          "Lake Charles/241.2558",
          "Edmond/243.10389999999998",
          "Chula Vista/248.43460000000002",
          "Revere/258.8366",
          "Twin Falls/266.1649",
          "Norman/269.5287",
          "Salinas/270.5181",
          "Salem/270.694",
          "La Crosse/272.0761",
          "South Bend/279.5512",
          "Belleville/283.6492",
          "San Gabriel/290.8953",
          "Apple Valley/292.589",
          "Costa Mesa/297.20889999999997",
          "Fort Worth/298.73269999999997",
          "Saint Charles/311.4834",
          "Alexandria/318.61830000000003",
          "Milford/319.054",
          "Wichita/323.9266",
          "Lake Forest/327.53139999999996",
          "Salt Lake City/329.2601",
          "Las Vegas/332.4433",
          "Vallejo/336.03549999999996",
          "Bossier City/336.9608",
          "Waterbury/338.9355",
          "Stockton/339.52639999999997",
          "Sioux Falls/343.4299",
          "Oxnard/346.4577",
          "Quincy/347.0908",
          "Noblesville/353.313",
          "Moreno Valley/353.6301",
          "Passaic/356.8186",
          "Pasco/357.5244",
          "New Rochelle/368.411",
          "Riverside/374.7296",
          "Orlando/377.7253",
          "Maple Grove/385.01009999999997",
          "Provo/388.5674",
          "Westland/389.5995",
          "Suffolk/389.8122",
          "Tallahassee/392.71160000000003",
          "Georgetown/402.76",
          "Evanston/411.88379999999995",
          "Lansing/412.8734",
          "Southaven/412.8902",
          "Bangor/422.2204",
          "Eau Claire/427.49780000000004",
          "Muskogee/442.5966",
          "Hackensack/451.2547",
          "Lehi/451.6626",
          "Redlands/454.1556",
          "Santa Barbara/457.2858",
          "Dearborn/467.3864",
          "Saint Cloud/469.614",
          "Meriden/470.2212",
          "Greenwood/471.73220000000003",
          "Raleigh/472.594",
          "Dubuque/477.6744",
          "Athens/479.3221",
          "Marietta/512.1456",
          "Superior/514.0822000000001",
          "Orem/514.6335",
          "Sandy Springs/520.5891",
          "Torrance/545.1510000000001",
          "Appleton/554.7663",
          "Broken Arrow/575.5226",
          "Pleasant Grove/580.6549",
          "Hattiesburg/582.0694",
          "Kent/591.7956",
          "Manchester/600.5054",
          "Waynesboro/603.3858",
          "Bellingham/610.5908",
          "Hempstead/629.0645999999999",
          "Perth Amboy/633.644",
          "Albuquerque/634.0880999999999",
          "Edmonds/634.2478",
          "Cranston/637.4977",
          "Trenton/652.0998",
          "Beverly/654.9194",
          "Mount Vernon/662.5146",
          "Decatur/689.0556",
          "Monroe/696.6242",
          "Auburn/734.9167",
          "Paterson/740.49",
          "Westminster/763.6886000000001",
          "Burbank/764.5337999999999",
          "Oceanside/772.6799",
          "Jonesboro/801.1113",
          "Smyrna/826.7036",
          "Oakland/834.1029000000001",
          "Montgomery/834.6571",
          "Santa Ana/836.7465000000001",
          "Huntington Beach/880.0391999999999",
          "Harrisonburg/889.5239",
          "Watertown/907.0072",
          "Fresno/948.2681",
          "Hampton/953.8323",
          "Independence/975.663",
          "Buffalo/992.8791000000001",
          "Dover/1021.4940999999999",
          "Inglewood/1026.6960000000001",
          "Kenosha/1028.0728",
          "Washington/1059.5892999999999",
          "Warwick/1063.7956",
          "Madison/1123.6552",
          "Little Rock/1154.6691",
          "Newport News/1197.0469",
          "Fairfield/1210.3119",
          "San Jose/1216.0579",
          "Brentwood/1216.8104",
          "Anaheim/1234.0036",
          "Plainfield/1235.6657",
          "Roseville/1253.3871",
          "Chesapeake/1262.787",
          "Clinton/1274.2421",
          "Jamestown/1285.7714999999998",
          "Lowell/1312.5717",
          "Lakeville/1346.6021",
          "Everett/1361.4787000000001",
          "Tulsa/1506.935",
          "Oklahoma City/1580.7607",
          "Great Falls/1582.7071",
          "Des Moines/1610.7442999999998",
          "Franklin/1664.8679",
          "Baltimore/1676.198",
          "Rochester/1743.4191",
          "Fayetteville/1818.6692",
          "Morristown/1838.2271",
          "Omaha/1841.6268",
          "Wilmington/1947.7019",
          "Virginia Beach/2024.8837",
          "Sacramento/2069.6859",
          "Long Beach/2108.9306",
          "Florence/2168.9661",
          "Mobile/2175.8292",
          "North Las Vegas/2247.6899000000003",
          "Midland/2293.6828",
          "Lawrence/2382.1465",
          "Roswell/2427.4353",
          "Indianapolis/2741.6538",
          "Yonkers/2767.7557",
          "Milwaukee/2793.0851000000002",
          "Lakewood/3234.0278",
          "Arlington/4169.6969",
          "Henderson/4911.8609",
          "Providence/5505.6569",
          "Richmond/5567.2486",
          "Columbia/5606.1167",
          "Newark/5793.7588",
          "Columbus/5897.1013",
          "Springfield/6200.6974",
          "San Diego/6377.196",
          "Minneapolis/6824.584599999999",
          "Atlanta/6993.6629",
          "Jackson/7581.6828",
          "Lafayette/10018.3876",
          "Detroit/13181.790799999999",
          "San Francisco/17507.3854",
          "Seattle/29156.0967",
          "Los Angeles/30440.7579",
          "New York City/62036.9837",
          "Aberdeen",
          "Abilene",
          "Akron",
          "Albuquerque",
          "Alexandria",
          "Allen",
          "Allentown",
          "Altoona",
          "Amarillo",
          "Anaheim",
          "Andover",
          "Ann Arbor",
          "Antioch",
          "Apopka",
          "Apple Valley",
          "Appleton",
          "Arlington",
          "Arlington Heights",
          "Arvada",
          "Asheville",
          "Athens",
          "Atlanta",
          "Atlantic City",
          "Auburn",
          "Aurora",
          "Austin",
          "Avondale",
          "Bakersfield",
          "Baltimore",
          "Bangor",
          "Bartlett",
          "Bayonne",
          "Baytown",
          "Beaumont",
          "Bedford",
          "Belleville",
          "Bellevue",
          "Bellingham",
          "Bethlehem",
          "Beverly",
          "Billings",
          "Bloomington",
          "Boca Raton",
          "Boise",
          "Bolingbrook",
          "Bossier City",
          "Bowling Green",
          "Boynton Beach",
          "Bozeman",
          "Brentwood",
          "Bridgeton",
          "Bristol",
          "Broken Arrow",
          "Broomfield",
          "Brownsville",
          "Bryan",
          "Buffalo",
          "Buffalo Grove",
          "Bullhead City",
          "Burbank",
          "Burlington",
          "Caldwell",
          "Camarillo",
          "Cambridge",
          "Canton",
          "Carlsbad",
          "Carol Stream",
          "Carrollton",
          "Cary",
          "Cedar Hill",
          "Cedar Rapids",
          "Champaign",
          "Chandler",
          "Chapel Hill",
          "Charlotte",
          "Charlottesville",
          "Chattanooga",
          "Chesapeake",
          "Chester",
          "Cheyenne",
          "Chicago",
          "Chico",
          "Chula Vista",
          "Cincinnati",
          "Citrus Heights",
          "Clarksville",
          "Cleveland",
          "Clifton",
          "Clinton",
          "Clovis",
          "Coachella",
          "College Station",
          "Colorado Springs",
          "Columbia",
          "Columbus",
          "Commerce City",
          "Concord",
          "Conroe",
          "Conway",
          "Coon Rapids",
          "Coppell",
          "Coral Gables",
          "Coral Springs",
          "Corpus Christi",
          "Costa Mesa",
          "Cottage Grove",
          "Covington",
          "Cranston",
          "Cuyahoga Falls",
          "Dallas",
          "Danbury",
          "Danville",
          "Davis",
          "Daytona Beach",
          "Dearborn",
          "Dearborn Heights",
          "Decatur",
          "Deer Park",
          "Delray Beach",
          "Deltona",
          "Denver",
          "Des Moines",
          "Des Plaines",
          "Detroit",
          "Dover",
          "Draper",
          "Dublin",
          "Dubuque",
          "Durham",
          "Eagan",
          "East Orange",
          "East Point",
          "Eau Claire",
          "Edinburg",
          "Edmond",
          "Edmonds",
          "El Cajon",
          "El Paso",
          "Elkhart",
          "Elmhurst",
          "Elyria",
          "Encinitas",
          "Englewood",
          "Escondido",
          "Eugene",
          "Evanston",
          "Everett",
          "Fairfield",
          "Fargo",
          "Farmington",
          "Fayetteville",
          "Florence",
          "Fort Collins",
          "Fort Lauderdale",
          "Fort Worth",
          "Frankfort",
          "Franklin",
          "Freeport",
          "Fremont",
          "Fresno",
          "Frisco",
          "Gaithersburg",
          "Garden City",
          "Garland",
          "Gastonia",
          "Georgetown",
          "Gilbert",
          "Gladstone",
          "Glendale",
          "Glenview",
          "Goldsboro",
          "Grand Island",
          "Grand Prairie",
          "Grand Rapids",
          "Grapevine",
          "Great Falls",
          "Greeley",
          "Green Bay",
          "Greensboro",
          "Greenville",
          "Greenwood",
          "Gresham",
          "Grove City",
          "Gulfport",
          "Hackensack",
          "Hagerstown",
          "Haltom City",
          "Hamilton",
          "Hampton",
          "Harlingen",
          "Harrisonburg",
          "Hattiesburg",
          "Helena",
          "Hempstead",
          "Henderson",
          "Hendersonville",
          "Hesperia",
          "Hialeah",
          "Hickory",
          "Highland Park",
          "Hillsboro",
          "Holland",
          "Hollywood",
          "Holyoke",
          "Homestead",
          "Hoover",
          "Hot Springs",
          "Houston",
          "Huntington Beach",
          "Huntsville",
          "Independence",
          "Indianapolis",
          "Inglewood",
          "Iowa City",
          "Irving",
          "Jackson",
          "Jacksonville",
          "Jamestown",
          "Jefferson City",
          "Johnson City",
          "Jonesboro",
          "Jupiter",
          "Keller",
          "Kenner",
          "Kenosha",
          "Kent",
          "Kirkwood",
          "Kissimmee",
          "Knoxville",
          "La Crosse",
          "La Mesa",
          "La Porte",
          "La Quinta",
          "Lafayette",
          "Laguna Niguel",
          "Lake Charles",
          "Lake Elsinore",
          "Lake Forest",
          "Lakeland",
          "Lakeville",
          "Lakewood",
          "Lancaster",
          "Lansing",
          "Laredo",
          "Las Cruces",
          "Las Vegas",
          "Laurel",
          "Lawrence",
          "Lawton",
          "Layton",
          "League City",
          "Lebanon",
          "Lehi",
          "Leominster",
          "Lewiston",
          "Lincoln Park",
          "Linden",
          "Lindenhurst",
          "Little Rock",
          "Littleton",
          "Lodi",
          "Logan",
          "Long Beach",
          "Longmont",
          "Longview",
          "Lorain",
          "Los Angeles",
          "Louisville",
          "Loveland",
          "Lowell",
          "Lubbock",
          "Macon",
          "Madison",
          "Malden",
          "Manchester",
          "Manhattan",
          "Mansfield",
          "Manteca",
          "Maple Grove",
          "Margate",
          "Marietta",
          "Marion",
          "Marlborough",
          "Marysville",
          "Mason",
          "Mcallen",
          "Medford",
          "Medina",
          "Melbourne",
          "Memphis",
          "Mentor",
          "Meriden",
          "Meridian",
          "Mesa",
          "Mesquite",
          "Miami",
          "Middletown",
          "Midland",
          "Milford",
          "Milwaukee",
          "Minneapolis",
          "Miramar",
          "Mishawaka",
          "Mission Viejo",
          "Missoula",
          "Missouri City",
          "Mobile",
          "Modesto",
          "Monroe",
          "Montebello",
          "Montgomery",
          "Moorhead",
          "Moreno Valley",
          "Morgan Hill",
          "Morristown",
          "Mount Pleasant",
          "Mount Vernon",
          "Murfreesboro",
          "Murray",
          "Murrieta",
          "Muskogee",
          "Naperville",
          "Nashua",
          "Nashville",
          "New Albany",
          "New Bedford",
          "New Brunswick",
          "New Castle",
          "New Rochelle",
          "New York City",
          "Newark",
          "Newport News",
          "Niagara Falls",
          "Noblesville",
          "Norfolk",
          "Normal",
          "Norman",
          "North Charleston",
          "North Las Vegas",
          "North Miami",
          "Norwich",
          "Oak Park",
          "Oakland",
          "Oceanside",
          "Odessa",
          "Oklahoma City",
          "Olathe",
          "Olympia",
          "Omaha",
          "Ontario",
          "Orange",
          "Orem",
          "Orland Park",
          "Orlando",
          "Ormond Beach",
          "Oswego",
          "Overland Park",
          "Owensboro",
          "Oxnard",
          "Palatine",
          "Palm Coast",
          "Park Ridge",
          "Parker",
          "Parma",
          "Pasadena",
          "Pasco",
          "Passaic",
          "Paterson",
          "Pearland",
          "Pembroke Pines",
          "Pensacola",
          "Peoria",
          "Perth Amboy",
          "Pharr",
          "Philadelphia",
          "Phoenix",
          "Pico Rivera",
          "Pine Bluff",
          "Plainfield",
          "Plano",
          "Plantation",
          "Pleasant Grove",
          "Pocatello",
          "Pomona",
          "Pompano Beach",
          "Port Arthur",
          "Port Orange",
          "Port Saint Lucie",
          "Portage",
          "Portland",
          "Providence",
          "Provo",
          "Pueblo",
          "Quincy",
          "Raleigh",
          "Rancho Cucamonga",
          "Rapid City",
          "Reading",
          "Redding",
          "Redlands",
          "Redmond",
          "Redondo Beach",
          "Redwood City",
          "Reno",
          "Renton",
          "Revere",
          "Richardson",
          "Richmond",
          "Rio Rancho",
          "Riverside",
          "Rochester",
          "Rochester Hills",
          "Rock Hill",
          "Rockford",
          "Rockville",
          "Rogers",
          "Rome",
          "Romeoville",
          "Roseville",
          "Roswell",
          "Round Rock",
          "Royal Oak",
          "Sacramento",
          "Saginaw",
          "Saint Charles",
          "Saint Cloud",
          "Saint Louis",
          "Saint Paul",
          "Saint Peters",
          "Saint Petersburg",
          "Salem",
          "Salinas",
          "Salt Lake City",
          "San Angelo",
          "San Antonio",
          "San Bernardino",
          "San Clemente",
          "San Diego",
          "San Francisco",
          "San Gabriel",
          "San Jose",
          "San Luis Obispo",
          "San Marcos",
          "San Mateo",
          "Sandy Springs",
          "Sanford",
          "Santa Ana",
          "Santa Barbara",
          "Santa Clara",
          "Santa Fe",
          "Santa Maria",
          "Scottsdale",
          "Seattle",
          "Sheboygan",
          "Shelton",
          "Sierra Vista",
          "Sioux Falls",
          "Skokie",
          "Smyrna",
          "South Bend",
          "Southaven",
          "Sparks",
          "Spokane",
          "Springdale",
          "Springfield",
          "Sterling Heights",
          "Stockton",
          "Suffolk",
          "Summerville",
          "Sunnyvale",
          "Superior",
          "Tallahassee",
          "Tamarac",
          "Tampa",
          "Taylor",
          "Temecula",
          "Tempe",
          "Texarkana",
          "Texas City",
          "The Colony",
          "Thomasville",
          "Thornton",
          "Thousand Oaks",
          "Tigard",
          "Tinley Park",
          "Toledo",
          "Torrance",
          "Trenton",
          "Troy",
          "Tucson",
          "Tulsa",
          "Tuscaloosa",
          "Twin Falls",
          "Tyler",
          "Urbandale",
          "Utica",
          "Vacaville",
          "Vallejo",
          "Vancouver",
          "Vineland",
          "Virginia Beach",
          "Visalia",
          "Waco",
          "Warner Robins",
          "Warwick",
          "Washington",
          "Waterbury",
          "Waterloo",
          "Watertown",
          "Waukesha",
          "Wausau",
          "Waynesboro",
          "West Allis",
          "West Jordan",
          "West Palm Beach",
          "Westfield",
          "Westland",
          "Westminster",
          "Wheeling",
          "Whittier",
          "Wichita",
          "Wilmington",
          "Wilson",
          "Woodbury",
          "Woodland",
          "Woodstock",
          "Woonsocket",
          "Yonkers",
          "York",
          "Yucaipa",
          "Yuma"
         ],
         "labels": [
          "-13837.7674",
          "-10153.548499999999",
          "-7299.050200000001",
          "-7239.0684",
          "-6654.5688",
          "-3622.8772",
          "-2846.5257",
          "-2790.8831999999998",
          "-2691.7386",
          "-2323.835",
          "-1479.04",
          "-1430.3129000000001",
          "-1343.0446",
          "-1183.4313",
          "-1165.0755000000001",
          "-1150.3704",
          "-1149.5077999999999",
          "-1055.3532000000002",
          "-1003.0958",
          "-956.6841000000001",
          "-900.9719",
          "-848.0079000000001",
          "-837.4908",
          "-718.6388999999999",
          "-632.9229",
          "-559.2314",
          "-548.9884",
          "-544.1518000000001",
          "-536.1275999999999",
          "-520.1034",
          "-470.21389999999997",
          "-465.9909",
          "-443.7086",
          "-429.7824",
          "-387.9683",
          "-383.0554",
          "-380.3623",
          "-351.89610000000005",
          "-349.9295",
          "-346.87",
          "-339.99679999999995",
          "-325.2366",
          "-268.76419999999996",
          "-252.6926",
          "-249.35500000000002",
          "-244.92000000000002",
          "-238.45",
          "-237.5528",
          "-236.7674",
          "-226.4504",
          "-216.2861",
          "-213.7116",
          "-212.13209999999998",
          "-188.63649999999998",
          "-186.6356",
          "-182.352",
          "-179.9007",
          "-179.22749999999996",
          "-169.9406",
          "-164.1893",
          "-163.87169999999998",
          "-161.3551",
          "-153.7178",
          "-146.5324",
          "-127.86630000000002",
          "-123.27420000000002",
          "-122.9534",
          "-117.6224",
          "-110.0232",
          "-107.39620000000005",
          "-102.16919999999999",
          "-100.51250000000002",
          "-98.8018",
          "-89.6478",
          "-89.4879",
          "-87.61999999999999",
          "-85.2311",
          "-72.4491",
          "-69.71180000000001",
          "-66.7913",
          "-64.96680000000002",
          "-58.5532",
          "-54.613899999999994",
          "-52.334",
          "-46.137",
          "-45.386700000000005",
          "-43.7304",
          "-39.8775",
          "-39.8683",
          "-32.9292",
          "-32.373",
          "-31.349899999999998",
          "-26.055999999999997",
          "-24.4893",
          "-22.645599999999998",
          "-20.393799999999967",
          "-20.087999999999994",
          "-19.3413",
          "-18.8016",
          "-14.7708",
          "-14.743599999999995",
          "-14.336000000000002",
          "-12.575199999999999",
          "-11.827200000000001",
          "-10.386",
          "-9.555",
          "-9.385000000000002",
          "-8.9152",
          "-4.660999999999998",
          "-4.235199999999999",
          "-3.7584",
          "-1.9656",
          "-1.476",
          "-1.3984",
          "-1.1835",
          "-1.0956000000000001",
          "0.1548",
          "1.1946",
          "1.2348",
          "1.419",
          "1.5455000000000005",
          "2.1",
          "2.3312",
          "2.3328",
          "2.6936",
          "2.934",
          "3.0576",
          "3.0798000000000005",
          "3.3150000000000004",
          "3.4415999999999998",
          "3.6288",
          "3.792",
          "3.9032",
          "4.449",
          "4.4778",
          "4.4955",
          "4.7304",
          "6.512",
          "6.63",
          "6.7232",
          "6.9795",
          "7.156700000000001",
          "7.846",
          "7.98",
          "8.0178",
          "8.662",
          "8.7749",
          "9.3312",
          "9.5616",
          "9.670200000000001",
          "9.757299999999997",
          "9.8856",
          "10.008",
          "10.3614",
          "10.6202",
          "10.9584",
          "11.635200000000001",
          "11.68",
          "11.8248",
          "11.856199999999994",
          "12.039100000000005",
          "13.1952",
          "13.208",
          "13.512599999999999",
          "13.7547",
          "13.8579",
          "14.1426",
          "14.17",
          "15.006499999999999",
          "15.552",
          "15.6891",
          "16.6721",
          "16.8281",
          "16.9632",
          "17.6552",
          "17.745",
          "18.0648",
          "18.1275",
          "18.556800000000003",
          "18.5886",
          "18.7173",
          "19.700899999999997",
          "19.7976",
          "19.943",
          "20.221799999999995",
          "20.586",
          "20.688000000000002",
          "20.8106",
          "21.4053",
          "22.3291",
          "22.357799999999997",
          "22.6278",
          "23.0839",
          "23.2624",
          "24.8842",
          "25.0182",
          "26.6304",
          "27.191799999999994",
          "27.642799999999998",
          "27.753",
          "27.8086",
          "28.370800000000003",
          "29.0542",
          "30.0144",
          "31.061799999999995",
          "31.1692",
          "31.6092",
          "31.6586",
          "32.28099999999999",
          "33.0676",
          "33.3848",
          "33.3939",
          "34.3419",
          "34.8252",
          "35.3346",
          "35.6202",
          "37.0548",
          "38.8983",
          "39.4131",
          "41.4892",
          "41.9815",
          "42.5419",
          "42.8316",
          "43.9394",
          "44.4768",
          "44.4858",
          "44.7684",
          "44.8682",
          "45.294",
          "46.1733",
          "46.9632",
          "47.1344",
          "47.1736",
          "48.357800000000005",
          "49.6048",
          "50.4861",
          "50.661500000000004",
          "51.010400000000004",
          "51.955799999999996",
          "52.5888",
          "52.6872",
          "53.6884",
          "54.0386",
          "54.3332",
          "54.3438",
          "54.3634",
          "54.796800000000005",
          "57.718",
          "58.6966",
          "59.11639999999999",
          "59.238299999999995",
          "59.8556",
          "60.392",
          "62.083800000000004",
          "62.2518",
          "62.445",
          "62.737",
          "66.5698",
          "66.6588",
          "67.60679999999999",
          "67.992",
          "68.3691",
          "69.982",
          "70.2048",
          "71.0588",
          "73.3529",
          "73.7442",
          "74.62219999999999",
          "75.4546",
          "76.0016",
          "76.169",
          "77.18010000000001",
          "77.5074",
          "77.5761",
          "78.6791",
          "79.403",
          "79.5016",
          "79.9929",
          "80.736",
          "81.46049999999998",
          "81.6363",
          "83.8057",
          "84.5982",
          "87.0338",
          "88.0478",
          "89.87190000000004",
          "90.4306",
          "90.6259",
          "92.0835",
          "92.72550000000001",
          "93.5208",
          "95.214",
          "95.4496",
          "96.59200000000001",
          "98.5269",
          "98.5541",
          "98.58840000000001",
          "99.914",
          "100.196",
          "101.4106",
          "101.8869",
          "102.0138",
          "102.6723",
          "105.541",
          "105.77600000000001",
          "107.5073",
          "108.2012",
          "110.0528",
          "114.387",
          "115.0527",
          "115.10940000000001",
          "116.8699",
          "119.5878",
          "122.1344",
          "124.1886",
          "131.5286",
          "133.2147",
          "134.03719999999998",
          "136.4532",
          "138.253",
          "139.6269",
          "140.8398",
          "140.8905",
          "144.8535",
          "146.4036",
          "147.1387",
          "149.2776",
          "150.299",
          "150.86440000000002",
          "151.06449999999998",
          "151.9823",
          "152.0428",
          "152.495",
          "153.17579999999998",
          "154.2138",
          "157.6159",
          "157.7661",
          "158.79559999999998",
          "161.83080000000012",
          "163.3746",
          "164.08960000000002",
          "169.4115",
          "172.2261",
          "172.2358",
          "173.7276",
          "174.6191",
          "175.3371",
          "176.4289",
          "179.4696",
          "181.35590000000002",
          "182.8598",
          "185.4324",
          "187.9247",
          "188.55960000000002",
          "191.98579999999998",
          "196.09619999999998",
          "196.91320000000002",
          "202.072",
          "203.5218",
          "205.12539999999998",
          "207.4108",
          "213.0453",
          "217.0617",
          "221.9373",
          "228.4764",
          "228.536",
          "228.9158",
          "230.1497",
          "233.92270000000002",
          "235.50850000000003",
          "241.2558",
          "243.10389999999998",
          "248.43460000000002",
          "258.8366",
          "266.1649",
          "269.5287",
          "270.5181",
          "270.694",
          "272.0761",
          "279.5512",
          "283.6492",
          "290.8953",
          "292.589",
          "297.20889999999997",
          "298.73269999999997",
          "311.4834",
          "318.61830000000003",
          "319.054",
          "323.9266",
          "327.53139999999996",
          "329.2601",
          "332.4433",
          "336.03549999999996",
          "336.9608",
          "338.9355",
          "339.52639999999997",
          "343.4299",
          "346.4577",
          "347.0908",
          "353.313",
          "353.6301",
          "356.8186",
          "357.5244",
          "368.411",
          "374.7296",
          "377.7253",
          "385.01009999999997",
          "388.5674",
          "389.5995",
          "389.8122",
          "392.71160000000003",
          "402.76",
          "411.88379999999995",
          "412.8734",
          "412.8902",
          "422.2204",
          "427.49780000000004",
          "442.5966",
          "451.2547",
          "451.6626",
          "454.1556",
          "457.2858",
          "467.3864",
          "469.614",
          "470.2212",
          "471.73220000000003",
          "472.594",
          "477.6744",
          "479.3221",
          "512.1456",
          "514.0822000000001",
          "514.6335",
          "520.5891",
          "545.1510000000001",
          "554.7663",
          "575.5226",
          "580.6549",
          "582.0694",
          "591.7956",
          "600.5054",
          "603.3858",
          "610.5908",
          "629.0645999999999",
          "633.644",
          "634.0880999999999",
          "634.2478",
          "637.4977",
          "652.0998",
          "654.9194",
          "662.5146",
          "689.0556",
          "696.6242",
          "734.9167",
          "740.49",
          "763.6886000000001",
          "764.5337999999999",
          "772.6799",
          "801.1113",
          "826.7036",
          "834.1029000000001",
          "834.6571",
          "836.7465000000001",
          "880.0391999999999",
          "889.5239",
          "907.0072",
          "948.2681",
          "953.8323",
          "975.663",
          "992.8791000000001",
          "1021.4940999999999",
          "1026.6960000000001",
          "1028.0728",
          "1059.5892999999999",
          "1063.7956",
          "1123.6552",
          "1154.6691",
          "1197.0469",
          "1210.3119",
          "1216.0579",
          "1216.8104",
          "1234.0036",
          "1235.6657",
          "1253.3871",
          "1262.787",
          "1274.2421",
          "1285.7714999999998",
          "1312.5717",
          "1346.6021",
          "1361.4787000000001",
          "1506.935",
          "1580.7607",
          "1582.7071",
          "1610.7442999999998",
          "1664.8679",
          "1676.198",
          "1743.4191",
          "1818.6692",
          "1838.2271",
          "1841.6268",
          "1947.7019",
          "2024.8837",
          "2069.6859",
          "2108.9306",
          "2168.9661",
          "2175.8292",
          "2247.6899000000003",
          "2293.6828",
          "2382.1465",
          "2427.4353",
          "2741.6538",
          "2767.7557",
          "2793.0851000000002",
          "3234.0278",
          "4169.6969",
          "4911.8609",
          "5505.6569",
          "5567.2486",
          "5606.1167",
          "5793.7588",
          "5897.1013",
          "6200.6974",
          "6377.196",
          "6824.584599999999",
          "6993.6629",
          "7581.6828",
          "10018.3876",
          "13181.790799999999",
          "17507.3854",
          "29156.0967",
          "30440.7579",
          "62036.9837",
          "Aberdeen",
          "Abilene",
          "Akron",
          "Albuquerque",
          "Alexandria",
          "Allen",
          "Allentown",
          "Altoona",
          "Amarillo",
          "Anaheim",
          "Andover",
          "Ann Arbor",
          "Antioch",
          "Apopka",
          "Apple Valley",
          "Appleton",
          "Arlington",
          "Arlington Heights",
          "Arvada",
          "Asheville",
          "Athens",
          "Atlanta",
          "Atlantic City",
          "Auburn",
          "Aurora",
          "Austin",
          "Avondale",
          "Bakersfield",
          "Baltimore",
          "Bangor",
          "Bartlett",
          "Bayonne",
          "Baytown",
          "Beaumont",
          "Bedford",
          "Belleville",
          "Bellevue",
          "Bellingham",
          "Bethlehem",
          "Beverly",
          "Billings",
          "Bloomington",
          "Boca Raton",
          "Boise",
          "Bolingbrook",
          "Bossier City",
          "Bowling Green",
          "Boynton Beach",
          "Bozeman",
          "Brentwood",
          "Bridgeton",
          "Bristol",
          "Broken Arrow",
          "Broomfield",
          "Brownsville",
          "Bryan",
          "Buffalo",
          "Buffalo Grove",
          "Bullhead City",
          "Burbank",
          "Burlington",
          "Caldwell",
          "Camarillo",
          "Cambridge",
          "Canton",
          "Carlsbad",
          "Carol Stream",
          "Carrollton",
          "Cary",
          "Cedar Hill",
          "Cedar Rapids",
          "Champaign",
          "Chandler",
          "Chapel Hill",
          "Charlotte",
          "Charlottesville",
          "Chattanooga",
          "Chesapeake",
          "Chester",
          "Cheyenne",
          "Chicago",
          "Chico",
          "Chula Vista",
          "Cincinnati",
          "Citrus Heights",
          "Clarksville",
          "Cleveland",
          "Clifton",
          "Clinton",
          "Clovis",
          "Coachella",
          "College Station",
          "Colorado Springs",
          "Columbia",
          "Columbus",
          "Commerce City",
          "Concord",
          "Conroe",
          "Conway",
          "Coon Rapids",
          "Coppell",
          "Coral Gables",
          "Coral Springs",
          "Corpus Christi",
          "Costa Mesa",
          "Cottage Grove",
          "Covington",
          "Cranston",
          "Cuyahoga Falls",
          "Dallas",
          "Danbury",
          "Danville",
          "Davis",
          "Daytona Beach",
          "Dearborn",
          "Dearborn Heights",
          "Decatur",
          "Deer Park",
          "Delray Beach",
          "Deltona",
          "Denver",
          "Des Moines",
          "Des Plaines",
          "Detroit",
          "Dover",
          "Draper",
          "Dublin",
          "Dubuque",
          "Durham",
          "Eagan",
          "East Orange",
          "East Point",
          "Eau Claire",
          "Edinburg",
          "Edmond",
          "Edmonds",
          "El Cajon",
          "El Paso",
          "Elkhart",
          "Elmhurst",
          "Elyria",
          "Encinitas",
          "Englewood",
          "Escondido",
          "Eugene",
          "Evanston",
          "Everett",
          "Fairfield",
          "Fargo",
          "Farmington",
          "Fayetteville",
          "Florence",
          "Fort Collins",
          "Fort Lauderdale",
          "Fort Worth",
          "Frankfort",
          "Franklin",
          "Freeport",
          "Fremont",
          "Fresno",
          "Frisco",
          "Gaithersburg",
          "Garden City",
          "Garland",
          "Gastonia",
          "Georgetown",
          "Gilbert",
          "Gladstone",
          "Glendale",
          "Glenview",
          "Goldsboro",
          "Grand Island",
          "Grand Prairie",
          "Grand Rapids",
          "Grapevine",
          "Great Falls",
          "Greeley",
          "Green Bay",
          "Greensboro",
          "Greenville",
          "Greenwood",
          "Gresham",
          "Grove City",
          "Gulfport",
          "Hackensack",
          "Hagerstown",
          "Haltom City",
          "Hamilton",
          "Hampton",
          "Harlingen",
          "Harrisonburg",
          "Hattiesburg",
          "Helena",
          "Hempstead",
          "Henderson",
          "Hendersonville",
          "Hesperia",
          "Hialeah",
          "Hickory",
          "Highland Park",
          "Hillsboro",
          "Holland",
          "Hollywood",
          "Holyoke",
          "Homestead",
          "Hoover",
          "Hot Springs",
          "Houston",
          "Huntington Beach",
          "Huntsville",
          "Independence",
          "Indianapolis",
          "Inglewood",
          "Iowa City",
          "Irving",
          "Jackson",
          "Jacksonville",
          "Jamestown",
          "Jefferson City",
          "Johnson City",
          "Jonesboro",
          "Jupiter",
          "Keller",
          "Kenner",
          "Kenosha",
          "Kent",
          "Kirkwood",
          "Kissimmee",
          "Knoxville",
          "La Crosse",
          "La Mesa",
          "La Porte",
          "La Quinta",
          "Lafayette",
          "Laguna Niguel",
          "Lake Charles",
          "Lake Elsinore",
          "Lake Forest",
          "Lakeland",
          "Lakeville",
          "Lakewood",
          "Lancaster",
          "Lansing",
          "Laredo",
          "Las Cruces",
          "Las Vegas",
          "Laurel",
          "Lawrence",
          "Lawton",
          "Layton",
          "League City",
          "Lebanon",
          "Lehi",
          "Leominster",
          "Lewiston",
          "Lincoln Park",
          "Linden",
          "Lindenhurst",
          "Little Rock",
          "Littleton",
          "Lodi",
          "Logan",
          "Long Beach",
          "Longmont",
          "Longview",
          "Lorain",
          "Los Angeles",
          "Louisville",
          "Loveland",
          "Lowell",
          "Lubbock",
          "Macon",
          "Madison",
          "Malden",
          "Manchester",
          "Manhattan",
          "Mansfield",
          "Manteca",
          "Maple Grove",
          "Margate",
          "Marietta",
          "Marion",
          "Marlborough",
          "Marysville",
          "Mason",
          "Mcallen",
          "Medford",
          "Medina",
          "Melbourne",
          "Memphis",
          "Mentor",
          "Meriden",
          "Meridian",
          "Mesa",
          "Mesquite",
          "Miami",
          "Middletown",
          "Midland",
          "Milford",
          "Milwaukee",
          "Minneapolis",
          "Miramar",
          "Mishawaka",
          "Mission Viejo",
          "Missoula",
          "Missouri City",
          "Mobile",
          "Modesto",
          "Monroe",
          "Montebello",
          "Montgomery",
          "Moorhead",
          "Moreno Valley",
          "Morgan Hill",
          "Morristown",
          "Mount Pleasant",
          "Mount Vernon",
          "Murfreesboro",
          "Murray",
          "Murrieta",
          "Muskogee",
          "Naperville",
          "Nashua",
          "Nashville",
          "New Albany",
          "New Bedford",
          "New Brunswick",
          "New Castle",
          "New Rochelle",
          "New York City",
          "Newark",
          "Newport News",
          "Niagara Falls",
          "Noblesville",
          "Norfolk",
          "Normal",
          "Norman",
          "North Charleston",
          "North Las Vegas",
          "North Miami",
          "Norwich",
          "Oak Park",
          "Oakland",
          "Oceanside",
          "Odessa",
          "Oklahoma City",
          "Olathe",
          "Olympia",
          "Omaha",
          "Ontario",
          "Orange",
          "Orem",
          "Orland Park",
          "Orlando",
          "Ormond Beach",
          "Oswego",
          "Overland Park",
          "Owensboro",
          "Oxnard",
          "Palatine",
          "Palm Coast",
          "Park Ridge",
          "Parker",
          "Parma",
          "Pasadena",
          "Pasco",
          "Passaic",
          "Paterson",
          "Pearland",
          "Pembroke Pines",
          "Pensacola",
          "Peoria",
          "Perth Amboy",
          "Pharr",
          "Philadelphia",
          "Phoenix",
          "Pico Rivera",
          "Pine Bluff",
          "Plainfield",
          "Plano",
          "Plantation",
          "Pleasant Grove",
          "Pocatello",
          "Pomona",
          "Pompano Beach",
          "Port Arthur",
          "Port Orange",
          "Port Saint Lucie",
          "Portage",
          "Portland",
          "Providence",
          "Provo",
          "Pueblo",
          "Quincy",
          "Raleigh",
          "Rancho Cucamonga",
          "Rapid City",
          "Reading",
          "Redding",
          "Redlands",
          "Redmond",
          "Redondo Beach",
          "Redwood City",
          "Reno",
          "Renton",
          "Revere",
          "Richardson",
          "Richmond",
          "Rio Rancho",
          "Riverside",
          "Rochester",
          "Rochester Hills",
          "Rock Hill",
          "Rockford",
          "Rockville",
          "Rogers",
          "Rome",
          "Romeoville",
          "Roseville",
          "Roswell",
          "Round Rock",
          "Royal Oak",
          "Sacramento",
          "Saginaw",
          "Saint Charles",
          "Saint Cloud",
          "Saint Louis",
          "Saint Paul",
          "Saint Peters",
          "Saint Petersburg",
          "Salem",
          "Salinas",
          "Salt Lake City",
          "San Angelo",
          "San Antonio",
          "San Bernardino",
          "San Clemente",
          "San Diego",
          "San Francisco",
          "San Gabriel",
          "San Jose",
          "San Luis Obispo",
          "San Marcos",
          "San Mateo",
          "Sandy Springs",
          "Sanford",
          "Santa Ana",
          "Santa Barbara",
          "Santa Clara",
          "Santa Fe",
          "Santa Maria",
          "Scottsdale",
          "Seattle",
          "Sheboygan",
          "Shelton",
          "Sierra Vista",
          "Sioux Falls",
          "Skokie",
          "Smyrna",
          "South Bend",
          "Southaven",
          "Sparks",
          "Spokane",
          "Springdale",
          "Springfield",
          "Sterling Heights",
          "Stockton",
          "Suffolk",
          "Summerville",
          "Sunnyvale",
          "Superior",
          "Tallahassee",
          "Tamarac",
          "Tampa",
          "Taylor",
          "Temecula",
          "Tempe",
          "Texarkana",
          "Texas City",
          "The Colony",
          "Thomasville",
          "Thornton",
          "Thousand Oaks",
          "Tigard",
          "Tinley Park",
          "Toledo",
          "Torrance",
          "Trenton",
          "Troy",
          "Tucson",
          "Tulsa",
          "Tuscaloosa",
          "Twin Falls",
          "Tyler",
          "Urbandale",
          "Utica",
          "Vacaville",
          "Vallejo",
          "Vancouver",
          "Vineland",
          "Virginia Beach",
          "Visalia",
          "Waco",
          "Warner Robins",
          "Warwick",
          "Washington",
          "Waterbury",
          "Waterloo",
          "Watertown",
          "Waukesha",
          "Wausau",
          "Waynesboro",
          "West Allis",
          "West Jordan",
          "West Palm Beach",
          "Westfield",
          "Westland",
          "Westminster",
          "Wheeling",
          "Whittier",
          "Wichita",
          "Wilmington",
          "Wilson",
          "Woodbury",
          "Woodland",
          "Woodstock",
          "Woonsocket",
          "Yonkers",
          "York",
          "Yucaipa",
          "Yuma"
         ],
         "marker": {
          "coloraxis": "coloraxis",
          "colors": [
           -13837.767400000002,
           -10153.548499999999,
           -7299.050200000001,
           -7239.0684,
           -6654.5688,
           -3622.8771999999994,
           -2846.5257,
           -2790.8831999999998,
           -2691.7386,
           -2323.835,
           -1479.04,
           -1430.3129000000001,
           -1343.0446,
           -1183.4313,
           -1165.0755000000001,
           -1150.3704,
           -1149.5077999999999,
           -1055.3532000000002,
           -1003.0958,
           -956.6841000000001,
           -900.9719,
           -848.0079000000001,
           -837.4908,
           -718.6388999999999,
           -632.9229,
           -559.2314,
           -548.9884,
           -544.1518000000001,
           -536.1275999999999,
           -520.1034,
           -470.21389999999997,
           -465.9909,
           -443.7086,
           -429.7824,
           -387.9683,
           -383.0554,
           -380.36229999999995,
           -351.89610000000005,
           -349.9295,
           -346.87,
           -339.99679999999995,
           -325.2366,
           -268.76419999999996,
           -252.6926,
           -249.35500000000002,
           -244.92000000000002,
           -238.45,
           -237.5528,
           -236.7674,
           -226.4504,
           -216.28610000000003,
           -213.7116,
           -212.13209999999998,
           -188.63649999999998,
           -186.6356,
           -182.35200000000003,
           -179.9007,
           -179.22749999999996,
           -169.9406,
           -164.1893,
           -163.87169999999998,
           -161.3551,
           -153.7178,
           -146.5324,
           -127.86630000000002,
           -123.27420000000002,
           -122.9534,
           -117.6224,
           -110.0232,
           -107.39620000000005,
           -102.16919999999999,
           -100.5125,
           -98.8018,
           -89.6478,
           -89.4879,
           -87.61999999999999,
           -85.2311,
           -72.4491,
           -69.71180000000001,
           -66.7913,
           -64.96680000000002,
           -58.5532,
           -54.613899999999994,
           -52.334,
           -46.137,
           -45.386700000000005,
           -43.7304,
           -39.8775,
           -39.8683,
           -32.9292,
           -32.373,
           -31.349899999999998,
           -26.055999999999997,
           -24.489299999999997,
           -22.645599999999995,
           -20.393799999999967,
           -20.087999999999994,
           -19.3413,
           -18.8016,
           -14.7708,
           -14.743599999999994,
           -14.336000000000002,
           -12.575199999999999,
           -11.827200000000001,
           -10.386,
           -9.555,
           -9.385000000000002,
           -8.9152,
           -4.660999999999998,
           -4.235199999999999,
           -3.7584,
           -1.9656,
           -1.476,
           -1.3984,
           -1.1835,
           -1.0956000000000001,
           0.1548,
           1.1946,
           1.2348,
           1.419,
           1.5455000000000005,
           2.1,
           2.3312,
           2.3328,
           2.6936,
           2.934,
           3.0576,
           3.0798000000000005,
           3.3150000000000004,
           3.4415999999999998,
           3.6288,
           3.792,
           3.9032,
           4.449,
           4.4778,
           4.4955,
           4.7304,
           6.5120000000000005,
           6.63,
           6.7232,
           6.9795,
           7.156700000000001,
           7.846,
           7.98,
           8.0178,
           8.662,
           8.7749,
           9.3312,
           9.5616,
           9.670200000000001,
           9.757299999999997,
           9.8856,
           10.008,
           10.3614,
           10.6202,
           10.9584,
           11.635200000000003,
           11.679999999999998,
           11.824800000000002,
           11.856199999999994,
           12.039100000000005,
           13.1952,
           13.208,
           13.5126,
           13.7547,
           13.8579,
           14.1426,
           14.169999999999998,
           15.006499999999999,
           15.552,
           15.6891,
           16.6721,
           16.8281,
           16.9632,
           17.6552,
           17.745,
           18.0648,
           18.1275,
           18.556800000000003,
           18.5886,
           18.7173,
           19.700899999999997,
           19.7976,
           19.943,
           20.221799999999995,
           20.586,
           20.688000000000002,
           20.8106,
           21.4053,
           22.3291,
           22.357799999999997,
           22.6278,
           23.0839,
           23.2624,
           24.8842,
           25.0182,
           26.6304,
           27.191799999999994,
           27.642799999999994,
           27.753,
           27.8086,
           28.370800000000003,
           29.0542,
           30.0144,
           31.061799999999995,
           31.1692,
           31.6092,
           31.6586,
           32.28099999999999,
           33.0676,
           33.3848,
           33.3939,
           34.3419,
           34.8252,
           35.3346,
           35.6202,
           37.0548,
           38.8983,
           39.4131,
           41.4892,
           41.9815,
           42.5419,
           42.8316,
           43.9394,
           44.4768,
           44.4858,
           44.7684,
           44.8682,
           45.294,
           46.1733,
           46.9632,
           47.1344,
           47.17359999999999,
           48.357800000000005,
           49.6048,
           50.4861,
           50.6615,
           51.010400000000004,
           51.955799999999996,
           52.5888,
           52.6872,
           53.6884,
           54.0386,
           54.3332,
           54.3438,
           54.3634,
           54.796800000000005,
           57.718,
           58.6966,
           59.11639999999999,
           59.238299999999995,
           59.85560000000001,
           60.392,
           62.083800000000004,
           62.2518,
           62.445,
           62.737,
           66.5698,
           66.6588,
           67.60679999999999,
           67.992,
           68.3691,
           69.982,
           70.2048,
           71.0588,
           73.3529,
           73.7442,
           74.62219999999999,
           75.4546,
           76.0016,
           76.169,
           77.18010000000001,
           77.5074,
           77.5761,
           78.6791,
           79.403,
           79.5016,
           79.9929,
           80.736,
           81.46049999999998,
           81.6363,
           83.8057,
           84.5982,
           87.0338,
           88.0478,
           89.87190000000004,
           90.4306,
           90.6259,
           92.0835,
           92.72550000000001,
           93.52079999999998,
           95.214,
           95.4496,
           96.592,
           98.5269,
           98.5541,
           98.5884,
           99.914,
           100.196,
           101.4106,
           101.8869,
           102.0138,
           102.6723,
           105.541,
           105.77600000000002,
           107.5073,
           108.2012,
           110.0528,
           114.387,
           115.0527,
           115.10940000000001,
           116.8699,
           119.5878,
           122.1344,
           124.1886,
           131.5286,
           133.2147,
           134.03719999999998,
           136.4532,
           138.253,
           139.6269,
           140.8398,
           140.8905,
           144.8535,
           146.4036,
           147.1387,
           149.2776,
           150.299,
           150.86440000000002,
           151.06449999999998,
           151.9823,
           152.0428,
           152.495,
           153.17579999999998,
           154.2138,
           157.6159,
           157.7661,
           158.79559999999998,
           161.83080000000012,
           163.3746,
           164.08960000000002,
           169.4115,
           172.2261,
           172.2358,
           173.7276,
           174.6191,
           175.3371,
           176.4289,
           179.4696,
           181.35590000000002,
           182.8598,
           185.4324,
           187.9247,
           188.55960000000002,
           191.9858,
           196.09619999999998,
           196.91320000000002,
           202.07199999999997,
           203.5218,
           205.12539999999998,
           207.4108,
           213.0453,
           217.0617,
           221.9373,
           228.4764,
           228.536,
           228.9158,
           230.1497,
           233.92270000000002,
           235.50850000000003,
           241.2558,
           243.10389999999998,
           248.43460000000002,
           258.8366,
           266.1649,
           269.5287,
           270.5181,
           270.694,
           272.0761,
           279.5512,
           283.6492,
           290.8953,
           292.589,
           297.20889999999997,
           298.73269999999997,
           311.4834,
           318.61830000000003,
           319.054,
           323.9266,
           327.53139999999996,
           329.2601,
           332.4433,
           336.03549999999996,
           336.9608,
           338.9355,
           339.52639999999997,
           343.4299,
           346.4577,
           347.0908,
           353.313,
           353.6301,
           356.8186,
           357.5244,
           368.41099999999994,
           374.7296,
           377.72529999999995,
           385.01009999999997,
           388.5674,
           389.5995,
           389.8122,
           392.71160000000003,
           402.76,
           411.88379999999995,
           412.8734,
           412.8902,
           422.2204,
           427.49780000000004,
           442.5966,
           451.25470000000007,
           451.6626,
           454.1556,
           457.2858,
           467.3864,
           469.614,
           470.2212,
           471.73220000000003,
           472.59399999999994,
           477.6744,
           479.3221,
           512.1456,
           514.0822000000001,
           514.6335,
           520.5891,
           545.1510000000001,
           554.7663,
           575.5226,
           580.6549,
           582.0694,
           591.7956,
           600.5054,
           603.3858,
           610.5908,
           629.0645999999999,
           633.644,
           634.0880999999999,
           634.2478,
           637.4977,
           652.0998,
           654.9194,
           662.5146,
           689.0556,
           696.6242,
           734.9167,
           740.49,
           763.6886000000001,
           764.5337999999998,
           772.6798999999999,
           801.1113,
           826.7036,
           834.1029000000001,
           834.6571,
           836.7465000000001,
           880.0391999999999,
           889.5239,
           907.0072,
           948.2681,
           953.8323,
           975.663,
           992.8791,
           1021.4940999999999,
           1026.6960000000001,
           1028.0728,
           1059.5892999999999,
           1063.7956,
           1123.6552,
           1154.6691,
           1197.0469,
           1210.3119,
           1216.0579,
           1216.8104,
           1234.0036,
           1235.6657,
           1253.3871,
           1262.787,
           1274.2421,
           1285.7714999999998,
           1312.5717,
           1346.6021,
           1361.4787000000001,
           1506.9349999999997,
           1580.7606999999998,
           1582.7071,
           1610.7442999999998,
           1664.8679,
           1676.198,
           1743.4191,
           1818.6692,
           1838.2271000000003,
           1841.6268,
           1947.7019,
           2024.8837,
           2069.6859,
           2108.9306,
           2168.9661,
           2175.8292,
           2247.6899000000003,
           2293.6828,
           2382.1465,
           2427.4353,
           2741.6538,
           2767.7557,
           2793.0851000000002,
           3234.0278,
           4169.6969,
           4911.8609,
           5505.6569,
           5567.2486,
           5606.1167,
           5793.758799999999,
           5897.101300000001,
           6200.6974,
           6377.196,
           6824.584599999999,
           6993.6629,
           7581.6828,
           10018.3876,
           13181.790799999999,
           17507.3854,
           29156.0967,
           30440.7579,
           62036.9837,
           6.63,
           -3.7584,
           -186.6356,
           634.0880999999999,
           318.61830000000003,
           -39.8775,
           -226.4504,
           -1.1835,
           -387.9683,
           1234.0036,
           124.1886,
           228.9158,
           9.3312,
           54.3634,
           292.589,
           554.7663,
           4169.6969,
           1.2348,
           59.85560000000001,
           77.5074,
           479.3221,
           6993.6629,
           11.679999999999998,
           734.9167,
           -2691.7386,
           -20.393799999999967,
           76.169,
           187.9247,
           1676.198,
           422.2204,
           10.008,
           79.403,
           3.6288,
           59.11639999999999,
           10.6202,
           283.6492,
           37.0548,
           610.5908,
           -1003.0958,
           654.9194,
           2.6936,
           -249.35500000000002,
           -22.645599999999995,
           221.9373,
           -4.660999999999998,
           336.9608,
           217.0617,
           50.6615,
           20.8106,
           1216.8104,
           3.4415999999999998,
           81.6363,
           575.5226,
           62.445,
           202.07199999999997,
           -213.7116,
           992.8791,
           -89.6478,
           6.7232,
           764.5337999999998,
           -3622.8771999999994,
           58.6966,
           158.79559999999998,
           173.7276,
           149.2776,
           157.7661,
           -39.8683,
           -470.21389999999997,
           54.0386,
           42.8316,
           80.736,
           -182.35200000000003,
           81.46049999999998,
           4.7304,
           -429.7824,
           22.6278,
           27.191799999999994,
           1262.787,
           48.357800000000005,
           100.196,
           -6654.5688,
           205.12539999999998,
           248.43460000000002,
           175.3371,
           54.3438,
           -1055.3532000000002,
           -848.0079000000001,
           98.5884,
           1274.2421,
           11.635200000000003,
           47.17359999999999,
           -117.6224,
           -956.6841000000001,
           5606.1167,
           5897.101300000001,
           -32.9292,
           -718.6388999999999,
           6.9795,
           45.294,
           136.4532,
           41.4892,
           22.357799999999997,
           18.556800000000003,
           -43.7304,
           297.20889999999997,
           54.796800000000005,
           115.10940000000001,
           637.4977,
           -12.575199999999999,
           -2846.5257,
           9.8856,
           213.0453,
           15.552,
           -52.334,
           467.3864,
           140.8905,
           689.0556,
           -10.386,
           29.0542,
           122.1344,
           -244.92000000000002,
           1610.7442999999998,
           -236.7674,
           13181.790799999999,
           1021.4940999999999,
           92.72550000000001,
           -349.9295,
           477.6744,
           116.8699,
           87.0338,
           174.6191,
           102.0138,
           427.49780000000004,
           27.8086,
           243.10389999999998,
           634.2478,
           52.6872,
           -179.9007,
           16.6721,
           -212.13209999999998,
           -1.3984,
           71.0588,
           13.7547,
           27.753,
           134.03719999999998,
           411.88379999999995,
           1361.4787000000001,
           1210.3119,
           230.1497,
           169.4115,
           1818.6692,
           2168.9661,
           -252.6926,
           -161.3551,
           298.73269999999997,
           -26.055999999999997,
           1664.8679,
           -20.087999999999994,
           179.4696,
           948.2681,
           -18.8016,
           105.541,
           90.6259,
           -32.373,
           -14.743599999999994,
           402.76,
           138.253,
           52.5888,
           182.8598,
           13.8579,
           3.0576,
           7.98,
           -85.2311,
           233.92270000000002,
           8.7749,
           1582.7071,
           10.3614,
           228.4764,
           -122.9534,
           -548.9884,
           471.73220000000003,
           150.86440000000002,
           13.1952,
           77.5761,
           451.25470000000007,
           20.586,
           51.955799999999996,
           -9.385000000000002,
           953.8323,
           18.1275,
           889.5239,
           582.0694,
           74.62219999999999,
           629.0645999999999,
           4911.8609,
           -45.386700000000005,
           98.5269,
           -179.22749999999996,
           -1.0956000000000001,
           -169.9406,
           1.5455000000000005,
           66.6588,
           108.2012,
           60.392,
           22.3291,
           18.7173,
           62.083800000000004,
           -10153.548499999999,
           880.0391999999999,
           161.83080000000012,
           975.663,
           2741.6538,
           1026.6960000000001,
           4.4955,
           -100.5125,
           7581.6828,
           -2323.835,
           1285.7714999999998,
           8.662,
           11.856199999999994,
           801.1113,
           0.1548,
           2.1,
           19.7976,
           1028.0728,
           591.7956,
           47.1344,
           84.5982,
           -1165.0755000000001,
           272.0761,
           114.387,
           191.9858,
           18.0648,
           10018.3876,
           41.9815,
           241.2558,
           17.745,
           327.53139999999996,
           -188.63649999999998,
           1346.6021,
           3234.0278,
           -7239.0684,
           412.8734,
           -54.613899999999994,
           43.9394,
           332.4433,
           46.1733,
           2382.1465,
           235.50850000000003,
           2.3312,
           -31.349899999999998,
           83.8057,
           451.6626,
           79.5016,
           35.6202,
           68.3691,
           49.6048,
           26.6304,
           1154.6691,
           -98.8018,
           44.4858,
           46.9632,
           2108.9306,
           34.8252,
           38.8983,
           -632.9229,
           30440.7579,
           -1430.3129000000001,
           4.4778,
           1312.5717,
           147.1387,
           144.8535,
           1123.6552,
           31.1692,
           600.5054,
           10.9584,
           -66.7913,
           172.2358,
           385.01009999999997,
           2.3328,
           512.1456,
           -380.36229999999995,
           67.60679999999999,
           3.3150000000000004,
           -4.235199999999999,
           -163.87169999999998,
           19.700899999999997,
           -1343.0446,
           9.5616,
           -1479.04,
           -123.27420000000002,
           470.2212,
           95.214,
           -559.2314,
           -87.61999999999999,
           -1150.3704,
           157.6159,
           2293.6828,
           319.054,
           2793.0851000000002,
           6824.584599999999,
           32.28099999999999,
           96.592,
           151.06449999999998,
           152.495,
           -9.555,
           2175.8292,
           19.943,
           696.6242,
           3.9032,
           834.6571,
           101.4106,
           353.6301,
           7.846,
           1838.2271000000003,
           93.52079999999998,
           662.5146,
           15.6891,
           131.5286,
           92.0835,
           442.5966,
           -146.5324,
           13.5126,
           -837.4908,
           73.3529,
           50.4861,
           7.156700000000001,
           23.0839,
           368.41099999999994,
           62036.9837,
           5793.758799999999,
           1197.0469,
           59.238299999999995,
           353.313,
           8.0178,
           -110.0232,
           269.5287,
           9.670200000000001,
           2247.6899000000003,
           3.0798000000000005,
           164.08960000000002,
           152.0428,
           834.1029000000001,
           772.6798999999999,
           -69.71180000000001,
           1580.7606999999998,
           207.4108,
           139.6269,
           1841.6268,
           -46.137,
           66.5698,
           514.6335,
           67.992,
           377.72529999999995,
           -1.9656,
           -536.1275999999999,
           203.5218,
           27.642799999999994,
           346.4577,
           23.2624,
           17.6552,
           -238.45,
           -164.1893,
           31.061799999999995,
           89.87190000000004,
           357.5244,
           356.8186,
           740.49,
           39.4131,
           -72.4491,
           -1.476,
           -127.86630000000002,
           633.644,
           -237.5528,
           -13837.767400000002,
           -2790.8831999999998,
           62.737,
           70.2048,
           1235.6657,
           -383.0554,
           12.039100000000005,
           580.6549,
           181.35590000000002,
           150.299,
           15.006499999999999,
           105.77600000000002,
           2.934,
           4.449,
           6.5120000000000005,
           9.757299999999997,
           5505.6569,
           388.5674,
           -900.9719,
           347.0908,
           472.59399999999994,
           73.7442,
           44.7684,
           -268.76419999999996,
           25.0182,
           454.1556,
           -153.7178,
           176.4289,
           14.1426,
           115.0527,
           185.4324,
           258.8366,
           -24.489299999999997,
           5567.2486,
           119.5878,
           374.7296,
           1743.4191,
           54.3332,
           3.792,
           -1149.5077999999999,
           133.2147,
           18.5886,
           154.2138,
           -14.7708,
           1253.3871,
           2427.4353,
           -1183.4313,
           16.9632,
           2069.6859,
           77.18010000000001,
           311.4834,
           469.614,
           98.5541,
           24.8842,
           146.4036,
           151.9823,
           270.694,
           270.5181,
           329.2601,
           -58.5532,
           -7299.050200000001,
           69.982,
           42.5419,
           6377.196,
           17507.3854,
           290.8953,
           1216.0579,
           1.1946,
           -19.3413,
           35.3346,
           520.5891,
           -11.827200000000001,
           836.7465000000001,
           457.2858,
           76.0016,
           20.688000000000002,
           30.0144,
           -89.4879,
           29156.0967,
           34.3419,
           21.4053,
           16.8281,
           343.4299,
           -346.87,
           826.7036,
           279.5512,
           412.8902,
           228.536,
           172.2261,
           1.419,
           6200.6974,
           33.0676,
           339.52639999999997,
           389.8122,
           196.91320000000002,
           107.5073,
           514.0822000000001,
           392.71160000000003,
           -351.89610000000005,
           -325.2366,
           44.8682,
           101.8869,
           95.4496,
           163.3746,
           20.221799999999995,
           31.6586,
           33.3939,
           140.8398,
           99.914,
           -216.28610000000003,
           -8.9152,
           -339.99679999999995,
           545.1510000000001,
           652.0998,
           -544.1518000000001,
           -64.96680000000002,
           1506.9349999999997,
           51.010400000000004,
           266.1649,
           -443.7086,
           57.718,
           188.55960000000002,
           110.0528,
           336.03549999999996,
           75.4546,
           62.2518,
           2024.8837,
           88.0478,
           -520.1034,
           53.6884,
           1063.7956,
           1059.5892999999999,
           338.9355,
           11.824800000000002,
           907.0072,
           14.169999999999998,
           90.4306,
           603.3858,
           28.370800000000003,
           102.6723,
           31.6092,
           153.17579999999998,
           389.5995,
           763.6886000000001,
           -107.39620000000005,
           44.4768,
           323.9266,
           1947.7019,
           -14.336000000000002,
           196.09619999999998,
           33.3848,
           79.9929,
           78.6791,
           2767.7557,
           -102.16919999999999,
           13.208,
           -465.9909
          ]
         },
         "name": "",
         "parents": [
          "Philadelphia",
          "Houston",
          "San Antonio",
          "Lancaster",
          "Chicago",
          "Burlington",
          "Dallas",
          "Phoenix",
          "Aurora",
          "Jacksonville",
          "Memphis",
          "Louisville",
          "Medina",
          "Round Rock",
          "Knoxville",
          "Miami",
          "Rockford",
          "Clarksville",
          "Bethlehem",
          "Colorado Springs",
          "Pueblo",
          "Cleveland",
          "Nashville",
          "Concord",
          "Lorain",
          "Mesa",
          "Greenville",
          "Troy",
          "Oswego",
          "Waco",
          "Carrollton",
          "Yuma",
          "Tyler",
          "Charlotte",
          "Amarillo",
          "Plano",
          "Marion",
          "Tamarac",
          "Dublin",
          "Skokie",
          "Toledo",
          "Tampa",
          "Reading",
          "Fort Collins",
          "Bloomington",
          "Denver",
          "Park Ridge",
          "Pharr",
          "Des Plaines",
          "Allentown",
          "Tigard",
          "Bryan",
          "Elmhurst",
          "Lakeland",
          "Akron",
          "Champaign",
          "El Paso",
          "Hialeah",
          "Highland Park",
          "Parker",
          "Mcallen",
          "Fort Lauderdale",
          "Redmond",
          "Naperville",
          "Peoria",
          "Mentor",
          "Greensboro",
          "College Station",
          "Normal",
          "Wheeling",
          "York",
          "Irving",
          "Littleton",
          "Buffalo Grove",
          "Scottsdale",
          "Mesquite",
          "Grand Prairie",
          "Pembroke Pines",
          "Odessa",
          "Mansfield",
          "Tucson",
          "San Angelo",
          "Laredo",
          "Daytona Beach",
          "Ontario",
          "Hendersonville",
          "Corpus Christi",
          "Allen",
          "Carol Stream",
          "Commerce City",
          "Garland",
          "League City",
          "Frankfort",
          "Richardson",
          "Boca Raton",
          "Austin",
          "Freeport",
          "San Marcos",
          "Frisco",
          "Romeoville",
          "Gastonia",
          "Wilson",
          "Cuyahoga Falls",
          "Sanford",
          "Deer Park",
          "Missouri City",
          "Hamilton",
          "Tinley Park",
          "Bolingbrook",
          "Mason",
          "Abilene",
          "Ormond Beach",
          "Pensacola",
          "Elyria",
          "Altoona",
          "Hickory",
          "Jupiter",
          "San Luis Obispo",
          "Arlington Heights",
          "Springdale",
          "Hillsboro",
          "Keller",
          "Layton",
          "Margate",
          "Billings",
          "Port Orange",
          "Goldsboro",
          "North Miami",
          "Marysville",
          "Bridgeton",
          "Baytown",
          "Rock Hill",
          "Montebello",
          "Port Saint Lucie",
          "Loveland",
          "Iowa City",
          "Chapel Hill",
          "Portage",
          "Aberdeen",
          "Bullhead City",
          "Conroe",
          "New Brunswick",
          "Morgan Hill",
          "Grand Island",
          "Norfolk",
          "Jefferson City",
          "Grapevine",
          "Antioch",
          "Melbourne",
          "North Charleston",
          "Portland",
          "Danbury",
          "Bartlett",
          "Greeley",
          "Bedford",
          "Manhattan",
          "Clovis",
          "Atlantic City",
          "Waterloo",
          "Johnson City",
          "Plantation",
          "Grove City",
          "Yucaipa",
          "Nashua",
          "Englewood",
          "Glenview",
          "Redwood City",
          "Waukesha",
          "Pompano Beach",
          "Davis",
          "Murfreesboro",
          "Elkhart",
          "Sierra Vista",
          "Royal Oak",
          "Palm Coast",
          "Lake Elsinore",
          "La Quinta",
          "Harlingen",
          "Coral Springs",
          "Rogers",
          "Hoover",
          "Medford",
          "Kenner",
          "Modesto",
          "Texas City",
          "Hagerstown",
          "Santa Fe",
          "Bozeman",
          "Shelton",
          "Homestead",
          "Coral Gables",
          "Charlottesville",
          "New Castle",
          "Palatine",
          "Saint Paul",
          "Redding",
          "Lindenhurst",
          "Chattanooga",
          "Owensboro",
          "Escondido",
          "Edinburg",
          "West Allis",
          "Delray Beach",
          "Santa Maria",
          "Parma",
          "Malden",
          "West Palm Beach",
          "The Colony",
          "Miramar",
          "Sterling Heights",
          "Woodland",
          "Thomasville",
          "Sheboygan",
          "Longmont",
          "San Mateo",
          "Lewiston",
          "Bellevue",
          "Longview",
          "Pearland",
          "Coppell",
          "Laguna Niguel",
          "San Clemente",
          "Cedar Hill",
          "Las Cruces",
          "Whittier",
          "Lodi",
          "Rapid City",
          "Taylor",
          "Conway",
          "Laurel",
          "Logan",
          "Kirkwood",
          "Coachella",
          "Chester",
          "Linden",
          "New Bedford",
          "Boynton Beach",
          "Tuscaloosa",
          "Haltom City",
          "Gladstone",
          "El Cajon",
          "Warner Robins",
          "Cary",
          "Rochester Hills",
          "Citrus Heights",
          "Apopka",
          "Cottage Grove",
          "Urbandale",
          "Caldwell",
          "Beaumont",
          "Niagara Falls",
          "Arvada",
          "Holyoke",
          "Hot Springs",
          "Vineland",
          "Broomfield",
          "Pico Rivera",
          "Orange",
          "Holland",
          "Marlborough",
          "Orland Park",
          "Lincoln Park",
          "San Bernardino",
          "Pine Bluff",
          "Encinitas",
          "New Albany",
          "Rancho Cucamonga",
          "Helena",
          "Vancouver",
          "Santa Clara",
          "Avondale",
          "Saginaw",
          "Asheville",
          "Gulfport",
          "Woonsocket",
          "Bayonne",
          "Leominster",
          "Woodstock",
          "Cedar Rapids",
          "Chandler",
          "Bristol",
          "Lebanon",
          "Kissimmee",
          "Eagan",
          "Visalia",
          "Pasadena",
          "Wausau",
          "Garden City",
          "Murrieta",
          "Draper",
          "Mount Pleasant",
          "Meridian",
          "Tempe",
          "Mishawaka",
          "Hesperia",
          "Saint Louis",
          "Clifton",
          "Thousand Oaks",
          "Cheyenne",
          "Moorhead",
          "Temecula",
          "East Point",
          "West Jordan",
          "Gaithersburg",
          "Port Arthur",
          "Sunnyvale",
          "Hollywood",
          "Vacaville",
          "La Mesa",
          "Reno",
          "Covington",
          "Durham",
          "Rio Rancho",
          "Deltona",
          "Andover",
          "Murray",
          "Rockville",
          "Eugene",
          "Coon Rapids",
          "Gilbert",
          "Olympia",
          "Thornton",
          "Dearborn Heights",
          "Macon",
          "Saint Peters",
          "Lubbock",
          "Canton",
          "Pomona",
          "Gresham",
          "Mission Viejo",
          "Saint Petersburg",
          "Oak Park",
          "Missoula",
          "Westfield",
          "Rome",
          "Middletown",
          "Carlsbad",
          "Camarillo",
          "Huntsville",
          "Texarkana",
          "Norwich",
          "Farmington",
          "Spokane",
          "Manteca",
          "Cambridge",
          "East Orange",
          "Cincinnati",
          "Redondo Beach",
          "Fremont",
          "Pocatello",
          "Glendale",
          "Renton",
          "Bakersfield",
          "Utica",
          "La Porte",
          "Woodbury",
          "Summerville",
          "Brownsville",
          "Overland Park",
          "Chico",
          "Olathe",
          "Danville",
          "Bowling Green",
          "Boise",
          "Green Bay",
          "Sparks",
          "Ann Arbor",
          "Fargo",
          "Grand Rapids",
          "Lawton",
          "Lake Charles",
          "Edmond",
          "Chula Vista",
          "Revere",
          "Twin Falls",
          "Norman",
          "Salinas",
          "Salem",
          "La Crosse",
          "South Bend",
          "Belleville",
          "San Gabriel",
          "Apple Valley",
          "Costa Mesa",
          "Fort Worth",
          "Saint Charles",
          "Alexandria",
          "Milford",
          "Wichita",
          "Lake Forest",
          "Salt Lake City",
          "Las Vegas",
          "Vallejo",
          "Bossier City",
          "Waterbury",
          "Stockton",
          "Sioux Falls",
          "Oxnard",
          "Quincy",
          "Noblesville",
          "Moreno Valley",
          "Passaic",
          "Pasco",
          "New Rochelle",
          "Riverside",
          "Orlando",
          "Maple Grove",
          "Provo",
          "Westland",
          "Suffolk",
          "Tallahassee",
          "Georgetown",
          "Evanston",
          "Lansing",
          "Southaven",
          "Bangor",
          "Eau Claire",
          "Muskogee",
          "Hackensack",
          "Lehi",
          "Redlands",
          "Santa Barbara",
          "Dearborn",
          "Saint Cloud",
          "Meriden",
          "Greenwood",
          "Raleigh",
          "Dubuque",
          "Athens",
          "Marietta",
          "Superior",
          "Orem",
          "Sandy Springs",
          "Torrance",
          "Appleton",
          "Broken Arrow",
          "Pleasant Grove",
          "Hattiesburg",
          "Kent",
          "Manchester",
          "Waynesboro",
          "Bellingham",
          "Hempstead",
          "Perth Amboy",
          "Albuquerque",
          "Edmonds",
          "Cranston",
          "Trenton",
          "Beverly",
          "Mount Vernon",
          "Decatur",
          "Monroe",
          "Auburn",
          "Paterson",
          "Westminster",
          "Burbank",
          "Oceanside",
          "Jonesboro",
          "Smyrna",
          "Oakland",
          "Montgomery",
          "Santa Ana",
          "Huntington Beach",
          "Harrisonburg",
          "Watertown",
          "Fresno",
          "Hampton",
          "Independence",
          "Buffalo",
          "Dover",
          "Inglewood",
          "Kenosha",
          "Washington",
          "Warwick",
          "Madison",
          "Little Rock",
          "Newport News",
          "Fairfield",
          "San Jose",
          "Brentwood",
          "Anaheim",
          "Plainfield",
          "Roseville",
          "Chesapeake",
          "Clinton",
          "Jamestown",
          "Lowell",
          "Lakeville",
          "Everett",
          "Tulsa",
          "Oklahoma City",
          "Great Falls",
          "Des Moines",
          "Franklin",
          "Baltimore",
          "Rochester",
          "Fayetteville",
          "Morristown",
          "Omaha",
          "Wilmington",
          "Virginia Beach",
          "Sacramento",
          "Long Beach",
          "Florence",
          "Mobile",
          "North Las Vegas",
          "Midland",
          "Lawrence",
          "Roswell",
          "Indianapolis",
          "Yonkers",
          "Milwaukee",
          "Lakewood",
          "Arlington",
          "Henderson",
          "Providence",
          "Richmond",
          "Columbia",
          "Newark",
          "Columbus",
          "Springfield",
          "San Diego",
          "Minneapolis",
          "Atlanta",
          "Jackson",
          "Lafayette",
          "Detroit",
          "San Francisco",
          "Seattle",
          "Los Angeles",
          "New York City",
          "",
          "",
          "",
          "",
          "",
          "",
          "",
          "",
          "",
          "",
          "",
          "",
          "",
          "",
          "",
          "",
          "",
          "",
          "",
          "",
          "",
          "",
          "",
          "",
          "",
          "",
          "",
          "",
          "",
          "",
          "",
          "",
          "",
          "",
          "",
          "",
          "",
          "",
          "",
          "",
          "",
          "",
          "",
          "",
          "",
          "",
          "",
          "",
          "",
          "",
          "",
          "",
          "",
          "",
          "",
          "",
          "",
          "",
          "",
          "",
          "",
          "",
          "",
          "",
          "",
          "",
          "",
          "",
          "",
          "",
          "",
          "",
          "",
          "",
          "",
          "",
          "",
          "",
          "",
          "",
          "",
          "",
          "",
          "",
          "",
          "",
          "",
          "",
          "",
          "",
          "",
          "",
          "",
          "",
          "",
          "",
          "",
          "",
          "",
          "",
          "",
          "",
          "",
          "",
          "",
          "",
          "",
          "",
          "",
          "",
          "",
          "",
          "",
          "",
          "",
          "",
          "",
          "",
          "",
          "",
          "",
          "",
          "",
          "",
          "",
          "",
          "",
          "",
          "",
          "",
          "",
          "",
          "",
          "",
          "",
          "",
          "",
          "",
          "",
          "",
          "",
          "",
          "",
          "",
          "",
          "",
          "",
          "",
          "",
          "",
          "",
          "",
          "",
          "",
          "",
          "",
          "",
          "",
          "",
          "",
          "",
          "",
          "",
          "",
          "",
          "",
          "",
          "",
          "",
          "",
          "",
          "",
          "",
          "",
          "",
          "",
          "",
          "",
          "",
          "",
          "",
          "",
          "",
          "",
          "",
          "",
          "",
          "",
          "",
          "",
          "",
          "",
          "",
          "",
          "",
          "",
          "",
          "",
          "",
          "",
          "",
          "",
          "",
          "",
          "",
          "",
          "",
          "",
          "",
          "",
          "",
          "",
          "",
          "",
          "",
          "",
          "",
          "",
          "",
          "",
          "",
          "",
          "",
          "",
          "",
          "",
          "",
          "",
          "",
          "",
          "",
          "",
          "",
          "",
          "",
          "",
          "",
          "",
          "",
          "",
          "",
          "",
          "",
          "",
          "",
          "",
          "",
          "",
          "",
          "",
          "",
          "",
          "",
          "",
          "",
          "",
          "",
          "",
          "",
          "",
          "",
          "",
          "",
          "",
          "",
          "",
          "",
          "",
          "",
          "",
          "",
          "",
          "",
          "",
          "",
          "",
          "",
          "",
          "",
          "",
          "",
          "",
          "",
          "",
          "",
          "",
          "",
          "",
          "",
          "",
          "",
          "",
          "",
          "",
          "",
          "",
          "",
          "",
          "",
          "",
          "",
          "",
          "",
          "",
          "",
          "",
          "",
          "",
          "",
          "",
          "",
          "",
          "",
          "",
          "",
          "",
          "",
          "",
          "",
          "",
          "",
          "",
          "",
          "",
          "",
          "",
          "",
          "",
          "",
          "",
          "",
          "",
          "",
          "",
          "",
          "",
          "",
          "",
          "",
          "",
          "",
          "",
          "",
          "",
          "",
          "",
          "",
          "",
          "",
          "",
          "",
          "",
          "",
          "",
          "",
          "",
          "",
          "",
          "",
          "",
          "",
          "",
          "",
          "",
          "",
          "",
          "",
          "",
          "",
          "",
          "",
          "",
          "",
          "",
          "",
          "",
          "",
          "",
          "",
          "",
          "",
          "",
          "",
          "",
          "",
          "",
          "",
          "",
          "",
          "",
          "",
          "",
          "",
          "",
          "",
          "",
          "",
          "",
          "",
          "",
          "",
          "",
          "",
          "",
          "",
          "",
          "",
          "",
          "",
          "",
          "",
          "",
          "",
          "",
          "",
          "",
          "",
          "",
          "",
          "",
          "",
          "",
          "",
          "",
          "",
          "",
          "",
          "",
          "",
          "",
          "",
          "",
          "",
          "",
          "",
          "",
          "",
          "",
          "",
          "",
          "",
          "",
          "",
          "",
          "",
          "",
          "",
          "",
          "",
          "",
          "",
          "",
          "",
          "",
          "",
          "",
          "",
          "",
          "",
          "",
          "",
          "",
          "",
          "",
          "",
          "",
          "",
          "",
          "",
          "",
          "",
          "",
          "",
          "",
          "",
          "",
          "",
          "",
          "",
          "",
          "",
          "",
          "",
          "",
          "",
          "",
          "",
          "",
          "",
          "",
          "",
          "",
          "",
          "",
          "",
          "",
          "",
          "",
          "",
          "",
          "",
          "",
          "",
          "",
          "",
          "",
          "",
          "",
          "",
          "",
          "",
          "",
          "",
          "",
          "",
          "",
          "",
          "",
          "",
          "",
          "",
          "",
          "",
          "",
          "",
          "",
          "",
          "",
          "",
          "",
          ""
         ],
         "type": "treemap",
         "values": [
          -13837.7674,
          -10153.548499999999,
          -7299.050200000001,
          -7239.0684,
          -6654.5688,
          -3622.8772,
          -2846.5257,
          -2790.8831999999998,
          -2691.7386,
          -2323.835,
          -1479.04,
          -1430.3129000000001,
          -1343.0446,
          -1183.4313,
          -1165.0755000000001,
          -1150.3704,
          -1149.5077999999999,
          -1055.3532000000002,
          -1003.0958,
          -956.6841000000001,
          -900.9719,
          -848.0079000000001,
          -837.4908,
          -718.6388999999999,
          -632.9229,
          -559.2314,
          -548.9884,
          -544.1518000000001,
          -536.1275999999999,
          -520.1034,
          -470.21389999999997,
          -465.9909,
          -443.7086,
          -429.7824,
          -387.9683,
          -383.0554,
          -380.3623,
          -351.89610000000005,
          -349.9295,
          -346.87,
          -339.99679999999995,
          -325.2366,
          -268.76419999999996,
          -252.6926,
          -249.35500000000002,
          -244.92000000000002,
          -238.45,
          -237.5528,
          -236.7674,
          -226.4504,
          -216.2861,
          -213.7116,
          -212.13209999999998,
          -188.63649999999998,
          -186.6356,
          -182.352,
          -179.9007,
          -179.22749999999996,
          -169.9406,
          -164.1893,
          -163.87169999999998,
          -161.3551,
          -153.7178,
          -146.5324,
          -127.86630000000002,
          -123.27420000000002,
          -122.9534,
          -117.6224,
          -110.0232,
          -107.39620000000005,
          -102.16919999999999,
          -100.51250000000002,
          -98.8018,
          -89.6478,
          -89.4879,
          -87.61999999999999,
          -85.2311,
          -72.4491,
          -69.71180000000001,
          -66.7913,
          -64.96680000000002,
          -58.5532,
          -54.613899999999994,
          -52.334,
          -46.137,
          -45.386700000000005,
          -43.7304,
          -39.8775,
          -39.8683,
          -32.9292,
          -32.373,
          -31.349899999999998,
          -26.055999999999997,
          -24.4893,
          -22.645599999999998,
          -20.393799999999967,
          -20.087999999999994,
          -19.3413,
          -18.8016,
          -14.7708,
          -14.743599999999995,
          -14.336000000000002,
          -12.575199999999999,
          -11.827200000000001,
          -10.386,
          -9.555,
          -9.385000000000002,
          -8.9152,
          -4.660999999999998,
          -4.235199999999999,
          -3.7584,
          -1.9656,
          -1.476,
          -1.3984,
          -1.1835,
          -1.0956000000000001,
          0.1548,
          1.1946,
          1.2348,
          1.419,
          1.5455000000000005,
          2.1,
          2.3312,
          2.3328,
          2.6936,
          2.934,
          3.0576,
          3.0798000000000005,
          3.3150000000000004,
          3.4415999999999998,
          3.6288,
          3.792,
          3.9032,
          4.449,
          4.4778,
          4.4955,
          4.7304,
          6.512,
          6.63,
          6.7232,
          6.9795,
          7.156700000000001,
          7.846,
          7.98,
          8.0178,
          8.662,
          8.7749,
          9.3312,
          9.5616,
          9.670200000000001,
          9.757299999999997,
          9.8856,
          10.008,
          10.3614,
          10.6202,
          10.9584,
          11.635200000000001,
          11.68,
          11.8248,
          11.856199999999994,
          12.039100000000005,
          13.1952,
          13.208,
          13.512599999999999,
          13.7547,
          13.8579,
          14.1426,
          14.17,
          15.006499999999999,
          15.552,
          15.6891,
          16.6721,
          16.8281,
          16.9632,
          17.6552,
          17.745,
          18.0648,
          18.1275,
          18.556800000000003,
          18.5886,
          18.7173,
          19.700899999999997,
          19.7976,
          19.943,
          20.221799999999995,
          20.586,
          20.688000000000002,
          20.8106,
          21.4053,
          22.3291,
          22.357799999999997,
          22.6278,
          23.0839,
          23.2624,
          24.8842,
          25.0182,
          26.6304,
          27.191799999999994,
          27.642799999999998,
          27.753,
          27.8086,
          28.370800000000003,
          29.0542,
          30.0144,
          31.061799999999995,
          31.1692,
          31.6092,
          31.6586,
          32.28099999999999,
          33.0676,
          33.3848,
          33.3939,
          34.3419,
          34.8252,
          35.3346,
          35.6202,
          37.0548,
          38.8983,
          39.4131,
          41.4892,
          41.9815,
          42.5419,
          42.8316,
          43.9394,
          44.4768,
          44.4858,
          44.7684,
          44.8682,
          45.294,
          46.1733,
          46.9632,
          47.1344,
          47.1736,
          48.357800000000005,
          49.6048,
          50.4861,
          50.661500000000004,
          51.010400000000004,
          51.955799999999996,
          52.5888,
          52.6872,
          53.6884,
          54.0386,
          54.3332,
          54.3438,
          54.3634,
          54.796800000000005,
          57.718,
          58.6966,
          59.11639999999999,
          59.238299999999995,
          59.8556,
          60.392,
          62.083800000000004,
          62.2518,
          62.445,
          62.737,
          66.5698,
          66.6588,
          67.60679999999999,
          67.992,
          68.3691,
          69.982,
          70.2048,
          71.0588,
          73.3529,
          73.7442,
          74.62219999999999,
          75.4546,
          76.0016,
          76.169,
          77.18010000000001,
          77.5074,
          77.5761,
          78.6791,
          79.403,
          79.5016,
          79.9929,
          80.736,
          81.46049999999998,
          81.6363,
          83.8057,
          84.5982,
          87.0338,
          88.0478,
          89.87190000000004,
          90.4306,
          90.6259,
          92.0835,
          92.72550000000001,
          93.5208,
          95.214,
          95.4496,
          96.59200000000001,
          98.5269,
          98.5541,
          98.58840000000001,
          99.914,
          100.196,
          101.4106,
          101.8869,
          102.0138,
          102.6723,
          105.541,
          105.77600000000001,
          107.5073,
          108.2012,
          110.0528,
          114.387,
          115.0527,
          115.10940000000001,
          116.8699,
          119.5878,
          122.1344,
          124.1886,
          131.5286,
          133.2147,
          134.03719999999998,
          136.4532,
          138.253,
          139.6269,
          140.8398,
          140.8905,
          144.8535,
          146.4036,
          147.1387,
          149.2776,
          150.299,
          150.86440000000002,
          151.06449999999998,
          151.9823,
          152.0428,
          152.495,
          153.17579999999998,
          154.2138,
          157.6159,
          157.7661,
          158.79559999999998,
          161.83080000000012,
          163.3746,
          164.08960000000002,
          169.4115,
          172.2261,
          172.2358,
          173.7276,
          174.6191,
          175.3371,
          176.4289,
          179.4696,
          181.35590000000002,
          182.8598,
          185.4324,
          187.9247,
          188.55960000000002,
          191.98579999999998,
          196.09619999999998,
          196.91320000000002,
          202.072,
          203.5218,
          205.12539999999998,
          207.4108,
          213.0453,
          217.0617,
          221.9373,
          228.4764,
          228.536,
          228.9158,
          230.1497,
          233.92270000000002,
          235.50850000000003,
          241.2558,
          243.10389999999998,
          248.43460000000002,
          258.8366,
          266.1649,
          269.5287,
          270.5181,
          270.694,
          272.0761,
          279.5512,
          283.6492,
          290.8953,
          292.589,
          297.20889999999997,
          298.73269999999997,
          311.4834,
          318.61830000000003,
          319.054,
          323.9266,
          327.53139999999996,
          329.2601,
          332.4433,
          336.03549999999996,
          336.9608,
          338.9355,
          339.52639999999997,
          343.4299,
          346.4577,
          347.0908,
          353.313,
          353.6301,
          356.8186,
          357.5244,
          368.411,
          374.7296,
          377.7253,
          385.01009999999997,
          388.5674,
          389.5995,
          389.8122,
          392.71160000000003,
          402.76,
          411.88379999999995,
          412.8734,
          412.8902,
          422.2204,
          427.49780000000004,
          442.5966,
          451.2547,
          451.6626,
          454.1556,
          457.2858,
          467.3864,
          469.614,
          470.2212,
          471.73220000000003,
          472.594,
          477.6744,
          479.3221,
          512.1456,
          514.0822000000001,
          514.6335,
          520.5891,
          545.1510000000001,
          554.7663,
          575.5226,
          580.6549,
          582.0694,
          591.7956,
          600.5054,
          603.3858,
          610.5908,
          629.0645999999999,
          633.644,
          634.0880999999999,
          634.2478,
          637.4977,
          652.0998,
          654.9194,
          662.5146,
          689.0556,
          696.6242,
          734.9167,
          740.49,
          763.6886000000001,
          764.5337999999999,
          772.6799,
          801.1113,
          826.7036,
          834.1029000000001,
          834.6571,
          836.7465000000001,
          880.0391999999999,
          889.5239,
          907.0072,
          948.2681,
          953.8323,
          975.663,
          992.8791000000001,
          1021.4940999999999,
          1026.6960000000001,
          1028.0728,
          1059.5892999999999,
          1063.7956,
          1123.6552,
          1154.6691,
          1197.0469,
          1210.3119,
          1216.0579,
          1216.8104,
          1234.0036,
          1235.6657,
          1253.3871,
          1262.787,
          1274.2421,
          1285.7714999999998,
          1312.5717,
          1346.6021,
          1361.4787000000001,
          1506.935,
          1580.7607,
          1582.7071,
          1610.7442999999998,
          1664.8679,
          1676.198,
          1743.4191,
          1818.6692,
          1838.2271,
          1841.6268,
          1947.7019,
          2024.8837,
          2069.6859,
          2108.9306,
          2168.9661,
          2175.8292,
          2247.6899000000003,
          2293.6828,
          2382.1465,
          2427.4353,
          2741.6538,
          2767.7557,
          2793.0851000000002,
          3234.0278,
          4169.6969,
          4911.8609,
          5505.6569,
          5567.2486,
          5606.1167,
          5793.7588,
          5897.1013,
          6200.6974,
          6377.196,
          6824.584599999999,
          6993.6629,
          7581.6828,
          10018.3876,
          13181.790799999999,
          17507.3854,
          29156.0967,
          30440.7579,
          62036.9837,
          6.63,
          -3.7584,
          -186.6356,
          634.0880999999999,
          318.61830000000003,
          -39.8775,
          -226.4504,
          -1.1835,
          -387.9683,
          1234.0036,
          124.1886,
          228.9158,
          9.3312,
          54.3634,
          292.589,
          554.7663,
          4169.6969,
          1.2348,
          59.8556,
          77.5074,
          479.3221,
          6993.6629,
          11.68,
          734.9167,
          -2691.7386,
          -20.393799999999967,
          76.169,
          187.9247,
          1676.198,
          422.2204,
          10.008,
          79.403,
          3.6288,
          59.11639999999999,
          10.6202,
          283.6492,
          37.0548,
          610.5908,
          -1003.0958,
          654.9194,
          2.6936,
          -249.35500000000002,
          -22.645599999999998,
          221.9373,
          -4.660999999999998,
          336.9608,
          217.0617,
          50.661500000000004,
          20.8106,
          1216.8104,
          3.4415999999999998,
          81.6363,
          575.5226,
          62.445,
          202.072,
          -213.7116,
          992.8791000000001,
          -89.6478,
          6.7232,
          764.5337999999999,
          -3622.8772,
          58.6966,
          158.79559999999998,
          173.7276,
          149.2776,
          157.7661,
          -39.8683,
          -470.21389999999997,
          54.0386,
          42.8316,
          80.736,
          -182.352,
          81.46049999999998,
          4.7304,
          -429.7824,
          22.6278,
          27.191799999999994,
          1262.787,
          48.357800000000005,
          100.196,
          -6654.5688,
          205.12539999999998,
          248.43460000000002,
          175.3371,
          54.3438,
          -1055.3532000000002,
          -848.0079000000001,
          98.58840000000001,
          1274.2421,
          11.635200000000001,
          47.1736,
          -117.6224,
          -956.6841000000001,
          5606.1167,
          5897.1013,
          -32.9292,
          -718.6388999999999,
          6.9795,
          45.294,
          136.4532,
          41.4892,
          22.357799999999997,
          18.556800000000003,
          -43.7304,
          297.20889999999997,
          54.796800000000005,
          115.10940000000001,
          637.4977,
          -12.575199999999999,
          -2846.5257,
          9.8856,
          213.0453,
          15.552,
          -52.334,
          467.3864,
          140.8905,
          689.0556,
          -10.386,
          29.0542,
          122.1344,
          -244.92000000000002,
          1610.7442999999998,
          -236.7674,
          13181.790799999999,
          1021.4940999999999,
          92.72550000000001,
          -349.9295,
          477.6744,
          116.8699,
          87.0338,
          174.6191,
          102.0138,
          427.49780000000004,
          27.8086,
          243.10389999999998,
          634.2478,
          52.6872,
          -179.9007,
          16.6721,
          -212.13209999999998,
          -1.3984,
          71.0588,
          13.7547,
          27.753,
          134.03719999999998,
          411.88379999999995,
          1361.4787000000001,
          1210.3119,
          230.1497,
          169.4115,
          1818.6692,
          2168.9661,
          -252.6926,
          -161.3551,
          298.73269999999997,
          -26.055999999999997,
          1664.8679,
          -20.087999999999994,
          179.4696,
          948.2681,
          -18.8016,
          105.541,
          90.6259,
          -32.373,
          -14.743599999999995,
          402.76,
          138.253,
          52.5888,
          182.8598,
          13.8579,
          3.0576,
          7.98,
          -85.2311,
          233.92270000000002,
          8.7749,
          1582.7071,
          10.3614,
          228.4764,
          -122.9534,
          -548.9884,
          471.73220000000003,
          150.86440000000002,
          13.1952,
          77.5761,
          451.2547,
          20.586,
          51.955799999999996,
          -9.385000000000002,
          953.8323,
          18.1275,
          889.5239,
          582.0694,
          74.62219999999999,
          629.0645999999999,
          4911.8609,
          -45.386700000000005,
          98.5269,
          -179.22749999999996,
          -1.0956000000000001,
          -169.9406,
          1.5455000000000005,
          66.6588,
          108.2012,
          60.392,
          22.3291,
          18.7173,
          62.083800000000004,
          -10153.548499999999,
          880.0391999999999,
          161.83080000000012,
          975.663,
          2741.6538,
          1026.6960000000001,
          4.4955,
          -100.51250000000002,
          7581.6828,
          -2323.835,
          1285.7714999999998,
          8.662,
          11.856199999999994,
          801.1113,
          0.1548,
          2.1,
          19.7976,
          1028.0728,
          591.7956,
          47.1344,
          84.5982,
          -1165.0755000000001,
          272.0761,
          114.387,
          191.98579999999998,
          18.0648,
          10018.3876,
          41.9815,
          241.2558,
          17.745,
          327.53139999999996,
          -188.63649999999998,
          1346.6021,
          3234.0278,
          -7239.0684,
          412.8734,
          -54.613899999999994,
          43.9394,
          332.4433,
          46.1733,
          2382.1465,
          235.50850000000003,
          2.3312,
          -31.349899999999998,
          83.8057,
          451.6626,
          79.5016,
          35.6202,
          68.3691,
          49.6048,
          26.6304,
          1154.6691,
          -98.8018,
          44.4858,
          46.9632,
          2108.9306,
          34.8252,
          38.8983,
          -632.9229,
          30440.7579,
          -1430.3129000000001,
          4.4778,
          1312.5717,
          147.1387,
          144.8535,
          1123.6552,
          31.1692,
          600.5054,
          10.9584,
          -66.7913,
          172.2358,
          385.01009999999997,
          2.3328,
          512.1456,
          -380.3623,
          67.60679999999999,
          3.3150000000000004,
          -4.235199999999999,
          -163.87169999999998,
          19.700899999999997,
          -1343.0446,
          9.5616,
          -1479.04,
          -123.27420000000002,
          470.2212,
          95.214,
          -559.2314,
          -87.61999999999999,
          -1150.3704,
          157.6159,
          2293.6828,
          319.054,
          2793.0851000000002,
          6824.584599999999,
          32.28099999999999,
          96.59200000000001,
          151.06449999999998,
          152.495,
          -9.555,
          2175.8292,
          19.943,
          696.6242,
          3.9032,
          834.6571,
          101.4106,
          353.6301,
          7.846,
          1838.2271,
          93.5208,
          662.5146,
          15.6891,
          131.5286,
          92.0835,
          442.5966,
          -146.5324,
          13.512599999999999,
          -837.4908,
          73.3529,
          50.4861,
          7.156700000000001,
          23.0839,
          368.411,
          62036.9837,
          5793.7588,
          1197.0469,
          59.238299999999995,
          353.313,
          8.0178,
          -110.0232,
          269.5287,
          9.670200000000001,
          2247.6899000000003,
          3.0798000000000005,
          164.08960000000002,
          152.0428,
          834.1029000000001,
          772.6799,
          -69.71180000000001,
          1580.7607,
          207.4108,
          139.6269,
          1841.6268,
          -46.137,
          66.5698,
          514.6335,
          67.992,
          377.7253,
          -1.9656,
          -536.1275999999999,
          203.5218,
          27.642799999999998,
          346.4577,
          23.2624,
          17.6552,
          -238.45,
          -164.1893,
          31.061799999999995,
          89.87190000000004,
          357.5244,
          356.8186,
          740.49,
          39.4131,
          -72.4491,
          -1.476,
          -127.86630000000002,
          633.644,
          -237.5528,
          -13837.7674,
          -2790.8831999999998,
          62.737,
          70.2048,
          1235.6657,
          -383.0554,
          12.039100000000005,
          580.6549,
          181.35590000000002,
          150.299,
          15.006499999999999,
          105.77600000000001,
          2.934,
          4.449,
          6.512,
          9.757299999999997,
          5505.6569,
          388.5674,
          -900.9719,
          347.0908,
          472.594,
          73.7442,
          44.7684,
          -268.76419999999996,
          25.0182,
          454.1556,
          -153.7178,
          176.4289,
          14.1426,
          115.0527,
          185.4324,
          258.8366,
          -24.4893,
          5567.2486,
          119.5878,
          374.7296,
          1743.4191,
          54.3332,
          3.792,
          -1149.5077999999999,
          133.2147,
          18.5886,
          154.2138,
          -14.7708,
          1253.3871,
          2427.4353,
          -1183.4313,
          16.9632,
          2069.6859,
          77.18010000000001,
          311.4834,
          469.614,
          98.5541,
          24.8842,
          146.4036,
          151.9823,
          270.694,
          270.5181,
          329.2601,
          -58.5532,
          -7299.050200000001,
          69.982,
          42.5419,
          6377.196,
          17507.3854,
          290.8953,
          1216.0579,
          1.1946,
          -19.3413,
          35.3346,
          520.5891,
          -11.827200000000001,
          836.7465000000001,
          457.2858,
          76.0016,
          20.688000000000002,
          30.0144,
          -89.4879,
          29156.0967,
          34.3419,
          21.4053,
          16.8281,
          343.4299,
          -346.87,
          826.7036,
          279.5512,
          412.8902,
          228.536,
          172.2261,
          1.419,
          6200.6974,
          33.0676,
          339.52639999999997,
          389.8122,
          196.91320000000002,
          107.5073,
          514.0822000000001,
          392.71160000000003,
          -351.89610000000005,
          -325.2366,
          44.8682,
          101.8869,
          95.4496,
          163.3746,
          20.221799999999995,
          31.6586,
          33.3939,
          140.8398,
          99.914,
          -216.2861,
          -8.9152,
          -339.99679999999995,
          545.1510000000001,
          652.0998,
          -544.1518000000001,
          -64.96680000000002,
          1506.935,
          51.010400000000004,
          266.1649,
          -443.7086,
          57.718,
          188.55960000000002,
          110.0528,
          336.03549999999996,
          75.4546,
          62.2518,
          2024.8837,
          88.0478,
          -520.1034,
          53.6884,
          1063.7956,
          1059.5892999999999,
          338.9355,
          11.8248,
          907.0072,
          14.17,
          90.4306,
          603.3858,
          28.370800000000003,
          102.6723,
          31.6092,
          153.17579999999998,
          389.5995,
          763.6886000000001,
          -107.39620000000005,
          44.4768,
          323.9266,
          1947.7019,
          -14.336000000000002,
          196.09619999999998,
          33.3848,
          79.9929,
          78.6791,
          2767.7557,
          -102.16919999999999,
          13.208,
          -465.9909
         ]
        }
       ],
       "layout": {
        "coloraxis": {
         "colorbar": {
          "title": {
           "text": "Profit"
          }
         },
         "colorscale": [
          [
           0,
           "rgb(253, 253, 204)"
          ],
          [
           0.09090909090909091,
           "rgb(206, 236, 179)"
          ],
          [
           0.18181818181818182,
           "rgb(156, 219, 165)"
          ],
          [
           0.2727272727272727,
           "rgb(111, 201, 163)"
          ],
          [
           0.36363636363636365,
           "rgb(86, 177, 163)"
          ],
          [
           0.45454545454545453,
           "rgb(76, 153, 160)"
          ],
          [
           0.5454545454545454,
           "rgb(68, 130, 155)"
          ],
          [
           0.6363636363636364,
           "rgb(62, 108, 150)"
          ],
          [
           0.7272727272727273,
           "rgb(62, 82, 143)"
          ],
          [
           0.8181818181818182,
           "rgb(64, 60, 115)"
          ],
          [
           0.9090909090909091,
           "rgb(54, 43, 77)"
          ],
          [
           1,
           "rgb(39, 26, 44)"
          ]
         ]
        },
        "height": 500,
        "legend": {
         "tracegroupgap": 0
        },
        "margin": {
         "t": 60
        },
        "template": {
         "data": {
          "bar": [
           {
            "error_x": {
             "color": "#2a3f5f"
            },
            "error_y": {
             "color": "#2a3f5f"
            },
            "marker": {
             "line": {
              "color": "#E5ECF6",
              "width": 0.5
             },
             "pattern": {
              "fillmode": "overlay",
              "size": 10,
              "solidity": 0.2
             }
            },
            "type": "bar"
           }
          ],
          "barpolar": [
           {
            "marker": {
             "line": {
              "color": "#E5ECF6",
              "width": 0.5
             },
             "pattern": {
              "fillmode": "overlay",
              "size": 10,
              "solidity": 0.2
             }
            },
            "type": "barpolar"
           }
          ],
          "carpet": [
           {
            "aaxis": {
             "endlinecolor": "#2a3f5f",
             "gridcolor": "white",
             "linecolor": "white",
             "minorgridcolor": "white",
             "startlinecolor": "#2a3f5f"
            },
            "baxis": {
             "endlinecolor": "#2a3f5f",
             "gridcolor": "white",
             "linecolor": "white",
             "minorgridcolor": "white",
             "startlinecolor": "#2a3f5f"
            },
            "type": "carpet"
           }
          ],
          "choropleth": [
           {
            "colorbar": {
             "outlinewidth": 0,
             "ticks": ""
            },
            "type": "choropleth"
           }
          ],
          "contour": [
           {
            "colorbar": {
             "outlinewidth": 0,
             "ticks": ""
            },
            "colorscale": [
             [
              0,
              "#0d0887"
             ],
             [
              0.1111111111111111,
              "#46039f"
             ],
             [
              0.2222222222222222,
              "#7201a8"
             ],
             [
              0.3333333333333333,
              "#9c179e"
             ],
             [
              0.4444444444444444,
              "#bd3786"
             ],
             [
              0.5555555555555556,
              "#d8576b"
             ],
             [
              0.6666666666666666,
              "#ed7953"
             ],
             [
              0.7777777777777778,
              "#fb9f3a"
             ],
             [
              0.8888888888888888,
              "#fdca26"
             ],
             [
              1,
              "#f0f921"
             ]
            ],
            "type": "contour"
           }
          ],
          "contourcarpet": [
           {
            "colorbar": {
             "outlinewidth": 0,
             "ticks": ""
            },
            "type": "contourcarpet"
           }
          ],
          "heatmap": [
           {
            "colorbar": {
             "outlinewidth": 0,
             "ticks": ""
            },
            "colorscale": [
             [
              0,
              "#0d0887"
             ],
             [
              0.1111111111111111,
              "#46039f"
             ],
             [
              0.2222222222222222,
              "#7201a8"
             ],
             [
              0.3333333333333333,
              "#9c179e"
             ],
             [
              0.4444444444444444,
              "#bd3786"
             ],
             [
              0.5555555555555556,
              "#d8576b"
             ],
             [
              0.6666666666666666,
              "#ed7953"
             ],
             [
              0.7777777777777778,
              "#fb9f3a"
             ],
             [
              0.8888888888888888,
              "#fdca26"
             ],
             [
              1,
              "#f0f921"
             ]
            ],
            "type": "heatmap"
           }
          ],
          "heatmapgl": [
           {
            "colorbar": {
             "outlinewidth": 0,
             "ticks": ""
            },
            "colorscale": [
             [
              0,
              "#0d0887"
             ],
             [
              0.1111111111111111,
              "#46039f"
             ],
             [
              0.2222222222222222,
              "#7201a8"
             ],
             [
              0.3333333333333333,
              "#9c179e"
             ],
             [
              0.4444444444444444,
              "#bd3786"
             ],
             [
              0.5555555555555556,
              "#d8576b"
             ],
             [
              0.6666666666666666,
              "#ed7953"
             ],
             [
              0.7777777777777778,
              "#fb9f3a"
             ],
             [
              0.8888888888888888,
              "#fdca26"
             ],
             [
              1,
              "#f0f921"
             ]
            ],
            "type": "heatmapgl"
           }
          ],
          "histogram": [
           {
            "marker": {
             "pattern": {
              "fillmode": "overlay",
              "size": 10,
              "solidity": 0.2
             }
            },
            "type": "histogram"
           }
          ],
          "histogram2d": [
           {
            "colorbar": {
             "outlinewidth": 0,
             "ticks": ""
            },
            "colorscale": [
             [
              0,
              "#0d0887"
             ],
             [
              0.1111111111111111,
              "#46039f"
             ],
             [
              0.2222222222222222,
              "#7201a8"
             ],
             [
              0.3333333333333333,
              "#9c179e"
             ],
             [
              0.4444444444444444,
              "#bd3786"
             ],
             [
              0.5555555555555556,
              "#d8576b"
             ],
             [
              0.6666666666666666,
              "#ed7953"
             ],
             [
              0.7777777777777778,
              "#fb9f3a"
             ],
             [
              0.8888888888888888,
              "#fdca26"
             ],
             [
              1,
              "#f0f921"
             ]
            ],
            "type": "histogram2d"
           }
          ],
          "histogram2dcontour": [
           {
            "colorbar": {
             "outlinewidth": 0,
             "ticks": ""
            },
            "colorscale": [
             [
              0,
              "#0d0887"
             ],
             [
              0.1111111111111111,
              "#46039f"
             ],
             [
              0.2222222222222222,
              "#7201a8"
             ],
             [
              0.3333333333333333,
              "#9c179e"
             ],
             [
              0.4444444444444444,
              "#bd3786"
             ],
             [
              0.5555555555555556,
              "#d8576b"
             ],
             [
              0.6666666666666666,
              "#ed7953"
             ],
             [
              0.7777777777777778,
              "#fb9f3a"
             ],
             [
              0.8888888888888888,
              "#fdca26"
             ],
             [
              1,
              "#f0f921"
             ]
            ],
            "type": "histogram2dcontour"
           }
          ],
          "mesh3d": [
           {
            "colorbar": {
             "outlinewidth": 0,
             "ticks": ""
            },
            "type": "mesh3d"
           }
          ],
          "parcoords": [
           {
            "line": {
             "colorbar": {
              "outlinewidth": 0,
              "ticks": ""
             }
            },
            "type": "parcoords"
           }
          ],
          "pie": [
           {
            "automargin": true,
            "type": "pie"
           }
          ],
          "scatter": [
           {
            "fillpattern": {
             "fillmode": "overlay",
             "size": 10,
             "solidity": 0.2
            },
            "type": "scatter"
           }
          ],
          "scatter3d": [
           {
            "line": {
             "colorbar": {
              "outlinewidth": 0,
              "ticks": ""
             }
            },
            "marker": {
             "colorbar": {
              "outlinewidth": 0,
              "ticks": ""
             }
            },
            "type": "scatter3d"
           }
          ],
          "scattercarpet": [
           {
            "marker": {
             "colorbar": {
              "outlinewidth": 0,
              "ticks": ""
             }
            },
            "type": "scattercarpet"
           }
          ],
          "scattergeo": [
           {
            "marker": {
             "colorbar": {
              "outlinewidth": 0,
              "ticks": ""
             }
            },
            "type": "scattergeo"
           }
          ],
          "scattergl": [
           {
            "marker": {
             "colorbar": {
              "outlinewidth": 0,
              "ticks": ""
             }
            },
            "type": "scattergl"
           }
          ],
          "scattermapbox": [
           {
            "marker": {
             "colorbar": {
              "outlinewidth": 0,
              "ticks": ""
             }
            },
            "type": "scattermapbox"
           }
          ],
          "scatterpolar": [
           {
            "marker": {
             "colorbar": {
              "outlinewidth": 0,
              "ticks": ""
             }
            },
            "type": "scatterpolar"
           }
          ],
          "scatterpolargl": [
           {
            "marker": {
             "colorbar": {
              "outlinewidth": 0,
              "ticks": ""
             }
            },
            "type": "scatterpolargl"
           }
          ],
          "scatterternary": [
           {
            "marker": {
             "colorbar": {
              "outlinewidth": 0,
              "ticks": ""
             }
            },
            "type": "scatterternary"
           }
          ],
          "surface": [
           {
            "colorbar": {
             "outlinewidth": 0,
             "ticks": ""
            },
            "colorscale": [
             [
              0,
              "#0d0887"
             ],
             [
              0.1111111111111111,
              "#46039f"
             ],
             [
              0.2222222222222222,
              "#7201a8"
             ],
             [
              0.3333333333333333,
              "#9c179e"
             ],
             [
              0.4444444444444444,
              "#bd3786"
             ],
             [
              0.5555555555555556,
              "#d8576b"
             ],
             [
              0.6666666666666666,
              "#ed7953"
             ],
             [
              0.7777777777777778,
              "#fb9f3a"
             ],
             [
              0.8888888888888888,
              "#fdca26"
             ],
             [
              1,
              "#f0f921"
             ]
            ],
            "type": "surface"
           }
          ],
          "table": [
           {
            "cells": {
             "fill": {
              "color": "#EBF0F8"
             },
             "line": {
              "color": "white"
             }
            },
            "header": {
             "fill": {
              "color": "#C8D4E3"
             },
             "line": {
              "color": "white"
             }
            },
            "type": "table"
           }
          ]
         },
         "layout": {
          "annotationdefaults": {
           "arrowcolor": "#2a3f5f",
           "arrowhead": 0,
           "arrowwidth": 1
          },
          "autotypenumbers": "strict",
          "coloraxis": {
           "colorbar": {
            "outlinewidth": 0,
            "ticks": ""
           }
          },
          "colorscale": {
           "diverging": [
            [
             0,
             "#8e0152"
            ],
            [
             0.1,
             "#c51b7d"
            ],
            [
             0.2,
             "#de77ae"
            ],
            [
             0.3,
             "#f1b6da"
            ],
            [
             0.4,
             "#fde0ef"
            ],
            [
             0.5,
             "#f7f7f7"
            ],
            [
             0.6,
             "#e6f5d0"
            ],
            [
             0.7,
             "#b8e186"
            ],
            [
             0.8,
             "#7fbc41"
            ],
            [
             0.9,
             "#4d9221"
            ],
            [
             1,
             "#276419"
            ]
           ],
           "sequential": [
            [
             0,
             "#0d0887"
            ],
            [
             0.1111111111111111,
             "#46039f"
            ],
            [
             0.2222222222222222,
             "#7201a8"
            ],
            [
             0.3333333333333333,
             "#9c179e"
            ],
            [
             0.4444444444444444,
             "#bd3786"
            ],
            [
             0.5555555555555556,
             "#d8576b"
            ],
            [
             0.6666666666666666,
             "#ed7953"
            ],
            [
             0.7777777777777778,
             "#fb9f3a"
            ],
            [
             0.8888888888888888,
             "#fdca26"
            ],
            [
             1,
             "#f0f921"
            ]
           ],
           "sequentialminus": [
            [
             0,
             "#0d0887"
            ],
            [
             0.1111111111111111,
             "#46039f"
            ],
            [
             0.2222222222222222,
             "#7201a8"
            ],
            [
             0.3333333333333333,
             "#9c179e"
            ],
            [
             0.4444444444444444,
             "#bd3786"
            ],
            [
             0.5555555555555556,
             "#d8576b"
            ],
            [
             0.6666666666666666,
             "#ed7953"
            ],
            [
             0.7777777777777778,
             "#fb9f3a"
            ],
            [
             0.8888888888888888,
             "#fdca26"
            ],
            [
             1,
             "#f0f921"
            ]
           ]
          },
          "colorway": [
           "#636efa",
           "#EF553B",
           "#00cc96",
           "#ab63fa",
           "#FFA15A",
           "#19d3f3",
           "#FF6692",
           "#B6E880",
           "#FF97FF",
           "#FECB52"
          ],
          "font": {
           "color": "#2a3f5f"
          },
          "geo": {
           "bgcolor": "white",
           "lakecolor": "white",
           "landcolor": "#E5ECF6",
           "showlakes": true,
           "showland": true,
           "subunitcolor": "white"
          },
          "hoverlabel": {
           "align": "left"
          },
          "hovermode": "closest",
          "mapbox": {
           "style": "light"
          },
          "paper_bgcolor": "white",
          "plot_bgcolor": "#E5ECF6",
          "polar": {
           "angularaxis": {
            "gridcolor": "white",
            "linecolor": "white",
            "ticks": ""
           },
           "bgcolor": "#E5ECF6",
           "radialaxis": {
            "gridcolor": "white",
            "linecolor": "white",
            "ticks": ""
           }
          },
          "scene": {
           "xaxis": {
            "backgroundcolor": "#E5ECF6",
            "gridcolor": "white",
            "gridwidth": 2,
            "linecolor": "white",
            "showbackground": true,
            "ticks": "",
            "zerolinecolor": "white"
           },
           "yaxis": {
            "backgroundcolor": "#E5ECF6",
            "gridcolor": "white",
            "gridwidth": 2,
            "linecolor": "white",
            "showbackground": true,
            "ticks": "",
            "zerolinecolor": "white"
           },
           "zaxis": {
            "backgroundcolor": "#E5ECF6",
            "gridcolor": "white",
            "gridwidth": 2,
            "linecolor": "white",
            "showbackground": true,
            "ticks": "",
            "zerolinecolor": "white"
           }
          },
          "shapedefaults": {
           "line": {
            "color": "#2a3f5f"
           }
          },
          "ternary": {
           "aaxis": {
            "gridcolor": "white",
            "linecolor": "white",
            "ticks": ""
           },
           "baxis": {
            "gridcolor": "white",
            "linecolor": "white",
            "ticks": ""
           },
           "bgcolor": "#E5ECF6",
           "caxis": {
            "gridcolor": "white",
            "linecolor": "white",
            "ticks": ""
           }
          },
          "title": {
           "x": 0.05
          },
          "xaxis": {
           "automargin": true,
           "gridcolor": "white",
           "linecolor": "white",
           "ticks": "",
           "title": {
            "standoff": 15
           },
           "zerolinecolor": "white",
           "zerolinewidth": 2
          },
          "yaxis": {
           "automargin": true,
           "gridcolor": "white",
           "linecolor": "white",
           "ticks": "",
           "title": {
            "standoff": 15
           },
           "zerolinecolor": "white",
           "zerolinewidth": 2
          }
         }
        },
        "width": 1000
       }
      },
      "text/html": [
       "<div>                            <div id=\"d873c175-db8b-48ff-bcad-41d9f7d2ba71\" class=\"plotly-graph-div\" style=\"height:500px; width:1000px;\"></div>            <script type=\"text/javascript\">                require([\"plotly\"], function(Plotly) {                    window.PLOTLYENV=window.PLOTLYENV || {};                                    if (document.getElementById(\"d873c175-db8b-48ff-bcad-41d9f7d2ba71\")) {                    Plotly.newPlot(                        \"d873c175-db8b-48ff-bcad-41d9f7d2ba71\",                        [{\"branchvalues\":\"total\",\"customdata\":[[-13837.767400000002],[-10153.548499999999],[-7299.050200000001],[-7239.0684],[-6654.5688],[-3622.8771999999994],[-2846.5257],[-2790.8831999999998],[-2691.7386],[-2323.835],[-1479.04],[-1430.3129000000001],[-1343.0446],[-1183.4313],[-1165.0755000000001],[-1150.3704],[-1149.5077999999999],[-1055.3532000000002],[-1003.0958],[-956.6841000000001],[-900.9719],[-848.0079000000001],[-837.4908],[-718.6388999999999],[-632.9229],[-559.2314],[-548.9884],[-544.1518000000001],[-536.1275999999999],[-520.1034],[-470.21389999999997],[-465.9909],[-443.7086],[-429.7824],[-387.9683],[-383.0554],[-380.36229999999995],[-351.89610000000005],[-349.9295],[-346.87],[-339.99679999999995],[-325.2366],[-268.76419999999996],[-252.6926],[-249.35500000000002],[-244.92000000000002],[-238.45],[-237.5528],[-236.7674],[-226.4504],[-216.28610000000003],[-213.7116],[-212.13209999999998],[-188.63649999999998],[-186.6356],[-182.35200000000003],[-179.9007],[-179.22749999999996],[-169.9406],[-164.1893],[-163.87169999999998],[-161.3551],[-153.7178],[-146.5324],[-127.86630000000002],[-123.27420000000002],[-122.9534],[-117.6224],[-110.0232],[-107.39620000000005],[-102.16919999999999],[-100.5125],[-98.8018],[-89.6478],[-89.4879],[-87.61999999999999],[-85.2311],[-72.4491],[-69.71180000000001],[-66.7913],[-64.96680000000002],[-58.5532],[-54.613899999999994],[-52.334],[-46.137],[-45.386700000000005],[-43.7304],[-39.8775],[-39.8683],[-32.9292],[-32.373],[-31.349899999999998],[-26.055999999999997],[-24.489299999999997],[-22.645599999999995],[-20.393799999999967],[-20.087999999999994],[-19.3413],[-18.8016],[-14.7708],[-14.743599999999994],[-14.336000000000002],[-12.575199999999999],[-11.827200000000001],[-10.386],[-9.555],[-9.385000000000002],[-8.9152],[-4.660999999999998],[-4.235199999999999],[-3.7584],[-1.9656],[-1.476],[-1.3984],[-1.1835],[-1.0956000000000001],[0.1548],[1.1946],[1.2348],[1.419],[1.5455000000000005],[2.1],[2.3312],[2.3328],[2.6936],[2.934],[3.0576],[3.0798000000000005],[3.3150000000000004],[3.4415999999999998],[3.6288],[3.792],[3.9032],[4.449],[4.4778],[4.4955],[4.7304],[6.5120000000000005],[6.63],[6.7232],[6.9795],[7.156700000000001],[7.846],[7.98],[8.0178],[8.662],[8.7749],[9.3312],[9.5616],[9.670200000000001],[9.757299999999997],[9.8856],[10.008],[10.3614],[10.6202],[10.9584],[11.635200000000003],[11.679999999999998],[11.824800000000002],[11.856199999999994],[12.039100000000005],[13.1952],[13.208],[13.5126],[13.7547],[13.8579],[14.1426],[14.169999999999998],[15.006499999999999],[15.552],[15.6891],[16.6721],[16.8281],[16.9632],[17.6552],[17.745],[18.0648],[18.1275],[18.556800000000003],[18.5886],[18.7173],[19.700899999999997],[19.7976],[19.943],[20.221799999999995],[20.586],[20.688000000000002],[20.8106],[21.4053],[22.3291],[22.357799999999997],[22.6278],[23.0839],[23.2624],[24.8842],[25.0182],[26.6304],[27.191799999999994],[27.642799999999994],[27.753],[27.8086],[28.370800000000003],[29.0542],[30.0144],[31.061799999999995],[31.1692],[31.6092],[31.6586],[32.28099999999999],[33.0676],[33.3848],[33.3939],[34.3419],[34.8252],[35.3346],[35.6202],[37.0548],[38.8983],[39.4131],[41.4892],[41.9815],[42.5419],[42.8316],[43.9394],[44.4768],[44.4858],[44.7684],[44.8682],[45.294],[46.1733],[46.9632],[47.1344],[47.17359999999999],[48.357800000000005],[49.6048],[50.4861],[50.6615],[51.010400000000004],[51.955799999999996],[52.5888],[52.6872],[53.6884],[54.0386],[54.3332],[54.3438],[54.3634],[54.796800000000005],[57.718],[58.6966],[59.11639999999999],[59.238299999999995],[59.85560000000001],[60.392],[62.083800000000004],[62.2518],[62.445],[62.737],[66.5698],[66.6588],[67.60679999999999],[67.992],[68.3691],[69.982],[70.2048],[71.0588],[73.3529],[73.7442],[74.62219999999999],[75.4546],[76.0016],[76.169],[77.18010000000001],[77.5074],[77.5761],[78.6791],[79.403],[79.5016],[79.9929],[80.736],[81.46049999999998],[81.6363],[83.8057],[84.5982],[87.0338],[88.0478],[89.87190000000004],[90.4306],[90.6259],[92.0835],[92.72550000000001],[93.52079999999998],[95.214],[95.4496],[96.592],[98.5269],[98.5541],[98.5884],[99.914],[100.196],[101.4106],[101.8869],[102.0138],[102.6723],[105.541],[105.77600000000002],[107.5073],[108.2012],[110.0528],[114.387],[115.0527],[115.10940000000001],[116.8699],[119.5878],[122.1344],[124.1886],[131.5286],[133.2147],[134.03719999999998],[136.4532],[138.253],[139.6269],[140.8398],[140.8905],[144.8535],[146.4036],[147.1387],[149.2776],[150.299],[150.86440000000002],[151.06449999999998],[151.9823],[152.0428],[152.495],[153.17579999999998],[154.2138],[157.6159],[157.7661],[158.79559999999998],[161.83080000000012],[163.3746],[164.08960000000002],[169.4115],[172.2261],[172.2358],[173.7276],[174.6191],[175.3371],[176.4289],[179.4696],[181.35590000000002],[182.8598],[185.4324],[187.9247],[188.55960000000002],[191.9858],[196.09619999999998],[196.91320000000002],[202.07199999999997],[203.5218],[205.12539999999998],[207.4108],[213.0453],[217.0617],[221.9373],[228.4764],[228.536],[228.9158],[230.1497],[233.92270000000002],[235.50850000000003],[241.2558],[243.10389999999998],[248.43460000000002],[258.8366],[266.1649],[269.5287],[270.5181],[270.694],[272.0761],[279.5512],[283.6492],[290.8953],[292.589],[297.20889999999997],[298.73269999999997],[311.4834],[318.61830000000003],[319.054],[323.9266],[327.53139999999996],[329.2601],[332.4433],[336.03549999999996],[336.9608],[338.9355],[339.52639999999997],[343.4299],[346.4577],[347.0908],[353.313],[353.6301],[356.8186],[357.5244],[368.41099999999994],[374.7296],[377.72529999999995],[385.01009999999997],[388.5674],[389.5995],[389.8122],[392.71160000000003],[402.76],[411.88379999999995],[412.8734],[412.8902],[422.2204],[427.49780000000004],[442.5966],[451.25470000000007],[451.6626],[454.1556],[457.2858],[467.3864],[469.614],[470.2212],[471.73220000000003],[472.59399999999994],[477.6744],[479.3221],[512.1456],[514.0822000000001],[514.6335],[520.5891],[545.1510000000001],[554.7663],[575.5226],[580.6549],[582.0694],[591.7956],[600.5054],[603.3858],[610.5908],[629.0645999999999],[633.644],[634.0880999999999],[634.2478],[637.4977],[652.0998],[654.9194],[662.5146],[689.0556],[696.6242],[734.9167],[740.49],[763.6886000000001],[764.5337999999998],[772.6798999999999],[801.1113],[826.7036],[834.1029000000001],[834.6571],[836.7465000000001],[880.0391999999999],[889.5239],[907.0072],[948.2681],[953.8323],[975.663],[992.8791],[1021.4940999999999],[1026.6960000000001],[1028.0728],[1059.5892999999999],[1063.7956],[1123.6552],[1154.6691],[1197.0469],[1210.3119],[1216.0579],[1216.8104],[1234.0036],[1235.6657],[1253.3871],[1262.787],[1274.2421],[1285.7714999999998],[1312.5717],[1346.6021],[1361.4787000000001],[1506.9349999999997],[1580.7606999999998],[1582.7071],[1610.7442999999998],[1664.8679],[1676.198],[1743.4191],[1818.6692],[1838.2271000000003],[1841.6268],[1947.7019],[2024.8837],[2069.6859],[2108.9306],[2168.9661],[2175.8292],[2247.6899000000003],[2293.6828],[2382.1465],[2427.4353],[2741.6538],[2767.7557],[2793.0851000000002],[3234.0278],[4169.6969],[4911.8609],[5505.6569],[5567.2486],[5606.1167],[5793.758799999999],[5897.101300000001],[6200.6974],[6377.196],[6824.584599999999],[6993.6629],[7581.6828],[10018.3876],[13181.790799999999],[17507.3854],[29156.0967],[30440.7579],[62036.9837],[6.63],[-3.7584],[-186.6356],[634.0880999999999],[318.61830000000003],[-39.8775],[-226.4504],[-1.1835],[-387.9683],[1234.0036],[124.1886],[228.9158],[9.3312],[54.3634],[292.589],[554.7663],[4169.6969],[1.2348],[59.85560000000001],[77.5074],[479.3221],[6993.6629],[11.679999999999998],[734.9167],[-2691.7386],[-20.393799999999967],[76.169],[187.9247],[1676.198],[422.2204],[10.008],[79.403],[3.6288],[59.11639999999999],[10.6202],[283.6492],[37.0548],[610.5908],[-1003.0958],[654.9194],[2.6936],[-249.35500000000002],[-22.645599999999995],[221.9373],[-4.660999999999998],[336.9608],[217.0617],[50.6615],[20.8106],[1216.8104],[3.4415999999999998],[81.6363],[575.5226],[62.445],[202.07199999999997],[-213.7116],[992.8791],[-89.6478],[6.7232],[764.5337999999998],[-3622.8771999999994],[58.6966],[158.79559999999998],[173.7276],[149.2776],[157.7661],[-39.8683],[-470.21389999999997],[54.0386],[42.8316],[80.736],[-182.35200000000003],[81.46049999999998],[4.7304],[-429.7824],[22.6278],[27.191799999999994],[1262.787],[48.357800000000005],[100.196],[-6654.5688],[205.12539999999998],[248.43460000000002],[175.3371],[54.3438],[-1055.3532000000002],[-848.0079000000001],[98.5884],[1274.2421],[11.635200000000003],[47.17359999999999],[-117.6224],[-956.6841000000001],[5606.1167],[5897.101300000001],[-32.9292],[-718.6388999999999],[6.9795],[45.294],[136.4532],[41.4892],[22.357799999999997],[18.556800000000003],[-43.7304],[297.20889999999997],[54.796800000000005],[115.10940000000001],[637.4977],[-12.575199999999999],[-2846.5257],[9.8856],[213.0453],[15.552],[-52.334],[467.3864],[140.8905],[689.0556],[-10.386],[29.0542],[122.1344],[-244.92000000000002],[1610.7442999999998],[-236.7674],[13181.790799999999],[1021.4940999999999],[92.72550000000001],[-349.9295],[477.6744],[116.8699],[87.0338],[174.6191],[102.0138],[427.49780000000004],[27.8086],[243.10389999999998],[634.2478],[52.6872],[-179.9007],[16.6721],[-212.13209999999998],[-1.3984],[71.0588],[13.7547],[27.753],[134.03719999999998],[411.88379999999995],[1361.4787000000001],[1210.3119],[230.1497],[169.4115],[1818.6692],[2168.9661],[-252.6926],[-161.3551],[298.73269999999997],[-26.055999999999997],[1664.8679],[-20.087999999999994],[179.4696],[948.2681],[-18.8016],[105.541],[90.6259],[-32.373],[-14.743599999999994],[402.76],[138.253],[52.5888],[182.8598],[13.8579],[3.0576],[7.98],[-85.2311],[233.92270000000002],[8.7749],[1582.7071],[10.3614],[228.4764],[-122.9534],[-548.9884],[471.73220000000003],[150.86440000000002],[13.1952],[77.5761],[451.25470000000007],[20.586],[51.955799999999996],[-9.385000000000002],[953.8323],[18.1275],[889.5239],[582.0694],[74.62219999999999],[629.0645999999999],[4911.8609],[-45.386700000000005],[98.5269],[-179.22749999999996],[-1.0956000000000001],[-169.9406],[1.5455000000000005],[66.6588],[108.2012],[60.392],[22.3291],[18.7173],[62.083800000000004],[-10153.548499999999],[880.0391999999999],[161.83080000000012],[975.663],[2741.6538],[1026.6960000000001],[4.4955],[-100.5125],[7581.6828],[-2323.835],[1285.7714999999998],[8.662],[11.856199999999994],[801.1113],[0.1548],[2.1],[19.7976],[1028.0728],[591.7956],[47.1344],[84.5982],[-1165.0755000000001],[272.0761],[114.387],[191.9858],[18.0648],[10018.3876],[41.9815],[241.2558],[17.745],[327.53139999999996],[-188.63649999999998],[1346.6021],[3234.0278],[-7239.0684],[412.8734],[-54.613899999999994],[43.9394],[332.4433],[46.1733],[2382.1465],[235.50850000000003],[2.3312],[-31.349899999999998],[83.8057],[451.6626],[79.5016],[35.6202],[68.3691],[49.6048],[26.6304],[1154.6691],[-98.8018],[44.4858],[46.9632],[2108.9306],[34.8252],[38.8983],[-632.9229],[30440.7579],[-1430.3129000000001],[4.4778],[1312.5717],[147.1387],[144.8535],[1123.6552],[31.1692],[600.5054],[10.9584],[-66.7913],[172.2358],[385.01009999999997],[2.3328],[512.1456],[-380.36229999999995],[67.60679999999999],[3.3150000000000004],[-4.235199999999999],[-163.87169999999998],[19.700899999999997],[-1343.0446],[9.5616],[-1479.04],[-123.27420000000002],[470.2212],[95.214],[-559.2314],[-87.61999999999999],[-1150.3704],[157.6159],[2293.6828],[319.054],[2793.0851000000002],[6824.584599999999],[32.28099999999999],[96.592],[151.06449999999998],[152.495],[-9.555],[2175.8292],[19.943],[696.6242],[3.9032],[834.6571],[101.4106],[353.6301],[7.846],[1838.2271000000003],[93.52079999999998],[662.5146],[15.6891],[131.5286],[92.0835],[442.5966],[-146.5324],[13.5126],[-837.4908],[73.3529],[50.4861],[7.156700000000001],[23.0839],[368.41099999999994],[62036.9837],[5793.758799999999],[1197.0469],[59.238299999999995],[353.313],[8.0178],[-110.0232],[269.5287],[9.670200000000001],[2247.6899000000003],[3.0798000000000005],[164.08960000000002],[152.0428],[834.1029000000001],[772.6798999999999],[-69.71180000000001],[1580.7606999999998],[207.4108],[139.6269],[1841.6268],[-46.137],[66.5698],[514.6335],[67.992],[377.72529999999995],[-1.9656],[-536.1275999999999],[203.5218],[27.642799999999994],[346.4577],[23.2624],[17.6552],[-238.45],[-164.1893],[31.061799999999995],[89.87190000000004],[357.5244],[356.8186],[740.49],[39.4131],[-72.4491],[-1.476],[-127.86630000000002],[633.644],[-237.5528],[-13837.767400000002],[-2790.8831999999998],[62.737],[70.2048],[1235.6657],[-383.0554],[12.039100000000005],[580.6549],[181.35590000000002],[150.299],[15.006499999999999],[105.77600000000002],[2.934],[4.449],[6.5120000000000005],[9.757299999999997],[5505.6569],[388.5674],[-900.9719],[347.0908],[472.59399999999994],[73.7442],[44.7684],[-268.76419999999996],[25.0182],[454.1556],[-153.7178],[176.4289],[14.1426],[115.0527],[185.4324],[258.8366],[-24.489299999999997],[5567.2486],[119.5878],[374.7296],[1743.4191],[54.3332],[3.792],[-1149.5077999999999],[133.2147],[18.5886],[154.2138],[-14.7708],[1253.3871],[2427.4353],[-1183.4313],[16.9632],[2069.6859],[77.18010000000001],[311.4834],[469.614],[98.5541],[24.8842],[146.4036],[151.9823],[270.694],[270.5181],[329.2601],[-58.5532],[-7299.050200000001],[69.982],[42.5419],[6377.196],[17507.3854],[290.8953],[1216.0579],[1.1946],[-19.3413],[35.3346],[520.5891],[-11.827200000000001],[836.7465000000001],[457.2858],[76.0016],[20.688000000000002],[30.0144],[-89.4879],[29156.0967],[34.3419],[21.4053],[16.8281],[343.4299],[-346.87],[826.7036],[279.5512],[412.8902],[228.536],[172.2261],[1.419],[6200.6974],[33.0676],[339.52639999999997],[389.8122],[196.91320000000002],[107.5073],[514.0822000000001],[392.71160000000003],[-351.89610000000005],[-325.2366],[44.8682],[101.8869],[95.4496],[163.3746],[20.221799999999995],[31.6586],[33.3939],[140.8398],[99.914],[-216.28610000000003],[-8.9152],[-339.99679999999995],[545.1510000000001],[652.0998],[-544.1518000000001],[-64.96680000000002],[1506.9349999999997],[51.010400000000004],[266.1649],[-443.7086],[57.718],[188.55960000000002],[110.0528],[336.03549999999996],[75.4546],[62.2518],[2024.8837],[88.0478],[-520.1034],[53.6884],[1063.7956],[1059.5892999999999],[338.9355],[11.824800000000002],[907.0072],[14.169999999999998],[90.4306],[603.3858],[28.370800000000003],[102.6723],[31.6092],[153.17579999999998],[389.5995],[763.6886000000001],[-107.39620000000005],[44.4768],[323.9266],[1947.7019],[-14.336000000000002],[196.09619999999998],[33.3848],[79.9929],[78.6791],[2767.7557],[-102.16919999999999],[13.208],[-465.9909]],\"domain\":{\"x\":[0.0,1.0],\"y\":[0.0,1.0]},\"hovertemplate\":\"labels=%{label}<br>Profit_sum=%{value}<br>parent=%{parent}<br>id=%{id}<br>Profit=%{color}<extra></extra>\",\"ids\":[\"Philadelphia/-13837.7674\",\"Houston/-10153.548499999999\",\"San Antonio/-7299.050200000001\",\"Lancaster/-7239.0684\",\"Chicago/-6654.5688\",\"Burlington/-3622.8772\",\"Dallas/-2846.5257\",\"Phoenix/-2790.8831999999998\",\"Aurora/-2691.7386\",\"Jacksonville/-2323.835\",\"Memphis/-1479.04\",\"Louisville/-1430.3129000000001\",\"Medina/-1343.0446\",\"Round Rock/-1183.4313\",\"Knoxville/-1165.0755000000001\",\"Miami/-1150.3704\",\"Rockford/-1149.5077999999999\",\"Clarksville/-1055.3532000000002\",\"Bethlehem/-1003.0958\",\"Colorado Springs/-956.6841000000001\",\"Pueblo/-900.9719\",\"Cleveland/-848.0079000000001\",\"Nashville/-837.4908\",\"Concord/-718.6388999999999\",\"Lorain/-632.9229\",\"Mesa/-559.2314\",\"Greenville/-548.9884\",\"Troy/-544.1518000000001\",\"Oswego/-536.1275999999999\",\"Waco/-520.1034\",\"Carrollton/-470.21389999999997\",\"Yuma/-465.9909\",\"Tyler/-443.7086\",\"Charlotte/-429.7824\",\"Amarillo/-387.9683\",\"Plano/-383.0554\",\"Marion/-380.3623\",\"Tamarac/-351.89610000000005\",\"Dublin/-349.9295\",\"Skokie/-346.87\",\"Toledo/-339.99679999999995\",\"Tampa/-325.2366\",\"Reading/-268.76419999999996\",\"Fort Collins/-252.6926\",\"Bloomington/-249.35500000000002\",\"Denver/-244.92000000000002\",\"Park Ridge/-238.45\",\"Pharr/-237.5528\",\"Des Plaines/-236.7674\",\"Allentown/-226.4504\",\"Tigard/-216.2861\",\"Bryan/-213.7116\",\"Elmhurst/-212.13209999999998\",\"Lakeland/-188.63649999999998\",\"Akron/-186.6356\",\"Champaign/-182.352\",\"El Paso/-179.9007\",\"Hialeah/-179.22749999999996\",\"Highland Park/-169.9406\",\"Parker/-164.1893\",\"Mcallen/-163.87169999999998\",\"Fort Lauderdale/-161.3551\",\"Redmond/-153.7178\",\"Naperville/-146.5324\",\"Peoria/-127.86630000000002\",\"Mentor/-123.27420000000002\",\"Greensboro/-122.9534\",\"College Station/-117.6224\",\"Normal/-110.0232\",\"Wheeling/-107.39620000000005\",\"York/-102.16919999999999\",\"Irving/-100.51250000000002\",\"Littleton/-98.8018\",\"Buffalo Grove/-89.6478\",\"Scottsdale/-89.4879\",\"Mesquite/-87.61999999999999\",\"Grand Prairie/-85.2311\",\"Pembroke Pines/-72.4491\",\"Odessa/-69.71180000000001\",\"Mansfield/-66.7913\",\"Tucson/-64.96680000000002\",\"San Angelo/-58.5532\",\"Laredo/-54.613899999999994\",\"Daytona Beach/-52.334\",\"Ontario/-46.137\",\"Hendersonville/-45.386700000000005\",\"Corpus Christi/-43.7304\",\"Allen/-39.8775\",\"Carol Stream/-39.8683\",\"Commerce City/-32.9292\",\"Garland/-32.373\",\"League City/-31.349899999999998\",\"Frankfort/-26.055999999999997\",\"Richardson/-24.4893\",\"Boca Raton/-22.645599999999998\",\"Austin/-20.393799999999967\",\"Freeport/-20.087999999999994\",\"San Marcos/-19.3413\",\"Frisco/-18.8016\",\"Romeoville/-14.7708\",\"Gastonia/-14.743599999999995\",\"Wilson/-14.336000000000002\",\"Cuyahoga Falls/-12.575199999999999\",\"Sanford/-11.827200000000001\",\"Deer Park/-10.386\",\"Missouri City/-9.555\",\"Hamilton/-9.385000000000002\",\"Tinley Park/-8.9152\",\"Bolingbrook/-4.660999999999998\",\"Mason/-4.235199999999999\",\"Abilene/-3.7584\",\"Ormond Beach/-1.9656\",\"Pensacola/-1.476\",\"Elyria/-1.3984\",\"Altoona/-1.1835\",\"Hickory/-1.0956000000000001\",\"Jupiter/0.1548\",\"San Luis Obispo/1.1946\",\"Arlington Heights/1.2348\",\"Springdale/1.419\",\"Hillsboro/1.5455000000000005\",\"Keller/2.1\",\"Layton/2.3312\",\"Margate/2.3328\",\"Billings/2.6936\",\"Port Orange/2.934\",\"Goldsboro/3.0576\",\"North Miami/3.0798000000000005\",\"Marysville/3.3150000000000004\",\"Bridgeton/3.4415999999999998\",\"Baytown/3.6288\",\"Rock Hill/3.792\",\"Montebello/3.9032\",\"Port Saint Lucie/4.449\",\"Loveland/4.4778\",\"Iowa City/4.4955\",\"Chapel Hill/4.7304\",\"Portage/6.512\",\"Aberdeen/6.63\",\"Bullhead City/6.7232\",\"Conroe/6.9795\",\"New Brunswick/7.156700000000001\",\"Morgan Hill/7.846\",\"Grand Island/7.98\",\"Norfolk/8.0178\",\"Jefferson City/8.662\",\"Grapevine/8.7749\",\"Antioch/9.3312\",\"Melbourne/9.5616\",\"North Charleston/9.670200000000001\",\"Portland/9.757299999999997\",\"Danbury/9.8856\",\"Bartlett/10.008\",\"Greeley/10.3614\",\"Bedford/10.6202\",\"Manhattan/10.9584\",\"Clovis/11.635200000000001\",\"Atlantic City/11.68\",\"Waterloo/11.8248\",\"Johnson City/11.856199999999994\",\"Plantation/12.039100000000005\",\"Grove City/13.1952\",\"Yucaipa/13.208\",\"Nashua/13.512599999999999\",\"Englewood/13.7547\",\"Glenview/13.8579\",\"Redwood City/14.1426\",\"Waukesha/14.17\",\"Pompano Beach/15.006499999999999\",\"Davis/15.552\",\"Murfreesboro/15.6891\",\"Elkhart/16.6721\",\"Sierra Vista/16.8281\",\"Royal Oak/16.9632\",\"Palm Coast/17.6552\",\"Lake Elsinore/17.745\",\"La Quinta/18.0648\",\"Harlingen/18.1275\",\"Coral Springs/18.556800000000003\",\"Rogers/18.5886\",\"Hoover/18.7173\",\"Medford/19.700899999999997\",\"Kenner/19.7976\",\"Modesto/19.943\",\"Texas City/20.221799999999995\",\"Hagerstown/20.586\",\"Santa Fe/20.688000000000002\",\"Bozeman/20.8106\",\"Shelton/21.4053\",\"Homestead/22.3291\",\"Coral Gables/22.357799999999997\",\"Charlottesville/22.6278\",\"New Castle/23.0839\",\"Palatine/23.2624\",\"Saint Paul/24.8842\",\"Redding/25.0182\",\"Lindenhurst/26.6304\",\"Chattanooga/27.191799999999994\",\"Owensboro/27.642799999999998\",\"Escondido/27.753\",\"Edinburg/27.8086\",\"West Allis/28.370800000000003\",\"Delray Beach/29.0542\",\"Santa Maria/30.0144\",\"Parma/31.061799999999995\",\"Malden/31.1692\",\"West Palm Beach/31.6092\",\"The Colony/31.6586\",\"Miramar/32.28099999999999\",\"Sterling Heights/33.0676\",\"Woodland/33.3848\",\"Thomasville/33.3939\",\"Sheboygan/34.3419\",\"Longmont/34.8252\",\"San Mateo/35.3346\",\"Lewiston/35.6202\",\"Bellevue/37.0548\",\"Longview/38.8983\",\"Pearland/39.4131\",\"Coppell/41.4892\",\"Laguna Niguel/41.9815\",\"San Clemente/42.5419\",\"Cedar Hill/42.8316\",\"Las Cruces/43.9394\",\"Whittier/44.4768\",\"Lodi/44.4858\",\"Rapid City/44.7684\",\"Taylor/44.8682\",\"Conway/45.294\",\"Laurel/46.1733\",\"Logan/46.9632\",\"Kirkwood/47.1344\",\"Coachella/47.1736\",\"Chester/48.357800000000005\",\"Linden/49.6048\",\"New Bedford/50.4861\",\"Boynton Beach/50.661500000000004\",\"Tuscaloosa/51.010400000000004\",\"Haltom City/51.955799999999996\",\"Gladstone/52.5888\",\"El Cajon/52.6872\",\"Warner Robins/53.6884\",\"Cary/54.0386\",\"Rochester Hills/54.3332\",\"Citrus Heights/54.3438\",\"Apopka/54.3634\",\"Cottage Grove/54.796800000000005\",\"Urbandale/57.718\",\"Caldwell/58.6966\",\"Beaumont/59.11639999999999\",\"Niagara Falls/59.238299999999995\",\"Arvada/59.8556\",\"Holyoke/60.392\",\"Hot Springs/62.083800000000004\",\"Vineland/62.2518\",\"Broomfield/62.445\",\"Pico Rivera/62.737\",\"Orange/66.5698\",\"Holland/66.6588\",\"Marlborough/67.60679999999999\",\"Orland Park/67.992\",\"Lincoln Park/68.3691\",\"San Bernardino/69.982\",\"Pine Bluff/70.2048\",\"Encinitas/71.0588\",\"New Albany/73.3529\",\"Rancho Cucamonga/73.7442\",\"Helena/74.62219999999999\",\"Vancouver/75.4546\",\"Santa Clara/76.0016\",\"Avondale/76.169\",\"Saginaw/77.18010000000001\",\"Asheville/77.5074\",\"Gulfport/77.5761\",\"Woonsocket/78.6791\",\"Bayonne/79.403\",\"Leominster/79.5016\",\"Woodstock/79.9929\",\"Cedar Rapids/80.736\",\"Chandler/81.46049999999998\",\"Bristol/81.6363\",\"Lebanon/83.8057\",\"Kissimmee/84.5982\",\"Eagan/87.0338\",\"Visalia/88.0478\",\"Pasadena/89.87190000000004\",\"Wausau/90.4306\",\"Garden City/90.6259\",\"Murrieta/92.0835\",\"Draper/92.72550000000001\",\"Mount Pleasant/93.5208\",\"Meridian/95.214\",\"Tempe/95.4496\",\"Mishawaka/96.59200000000001\",\"Hesperia/98.5269\",\"Saint Louis/98.5541\",\"Clifton/98.58840000000001\",\"Thousand Oaks/99.914\",\"Cheyenne/100.196\",\"Moorhead/101.4106\",\"Temecula/101.8869\",\"East Point/102.0138\",\"West Jordan/102.6723\",\"Gaithersburg/105.541\",\"Port Arthur/105.77600000000001\",\"Sunnyvale/107.5073\",\"Hollywood/108.2012\",\"Vacaville/110.0528\",\"La Mesa/114.387\",\"Reno/115.0527\",\"Covington/115.10940000000001\",\"Durham/116.8699\",\"Rio Rancho/119.5878\",\"Deltona/122.1344\",\"Andover/124.1886\",\"Murray/131.5286\",\"Rockville/133.2147\",\"Eugene/134.03719999999998\",\"Coon Rapids/136.4532\",\"Gilbert/138.253\",\"Olympia/139.6269\",\"Thornton/140.8398\",\"Dearborn Heights/140.8905\",\"Macon/144.8535\",\"Saint Peters/146.4036\",\"Lubbock/147.1387\",\"Canton/149.2776\",\"Pomona/150.299\",\"Gresham/150.86440000000002\",\"Mission Viejo/151.06449999999998\",\"Saint Petersburg/151.9823\",\"Oak Park/152.0428\",\"Missoula/152.495\",\"Westfield/153.17579999999998\",\"Rome/154.2138\",\"Middletown/157.6159\",\"Carlsbad/157.7661\",\"Camarillo/158.79559999999998\",\"Huntsville/161.83080000000012\",\"Texarkana/163.3746\",\"Norwich/164.08960000000002\",\"Farmington/169.4115\",\"Spokane/172.2261\",\"Manteca/172.2358\",\"Cambridge/173.7276\",\"East Orange/174.6191\",\"Cincinnati/175.3371\",\"Redondo Beach/176.4289\",\"Fremont/179.4696\",\"Pocatello/181.35590000000002\",\"Glendale/182.8598\",\"Renton/185.4324\",\"Bakersfield/187.9247\",\"Utica/188.55960000000002\",\"La Porte/191.98579999999998\",\"Woodbury/196.09619999999998\",\"Summerville/196.91320000000002\",\"Brownsville/202.072\",\"Overland Park/203.5218\",\"Chico/205.12539999999998\",\"Olathe/207.4108\",\"Danville/213.0453\",\"Bowling Green/217.0617\",\"Boise/221.9373\",\"Green Bay/228.4764\",\"Sparks/228.536\",\"Ann Arbor/228.9158\",\"Fargo/230.1497\",\"Grand Rapids/233.92270000000002\",\"Lawton/235.50850000000003\",\"Lake Charles/241.2558\",\"Edmond/243.10389999999998\",\"Chula Vista/248.43460000000002\",\"Revere/258.8366\",\"Twin Falls/266.1649\",\"Norman/269.5287\",\"Salinas/270.5181\",\"Salem/270.694\",\"La Crosse/272.0761\",\"South Bend/279.5512\",\"Belleville/283.6492\",\"San Gabriel/290.8953\",\"Apple Valley/292.589\",\"Costa Mesa/297.20889999999997\",\"Fort Worth/298.73269999999997\",\"Saint Charles/311.4834\",\"Alexandria/318.61830000000003\",\"Milford/319.054\",\"Wichita/323.9266\",\"Lake Forest/327.53139999999996\",\"Salt Lake City/329.2601\",\"Las Vegas/332.4433\",\"Vallejo/336.03549999999996\",\"Bossier City/336.9608\",\"Waterbury/338.9355\",\"Stockton/339.52639999999997\",\"Sioux Falls/343.4299\",\"Oxnard/346.4577\",\"Quincy/347.0908\",\"Noblesville/353.313\",\"Moreno Valley/353.6301\",\"Passaic/356.8186\",\"Pasco/357.5244\",\"New Rochelle/368.411\",\"Riverside/374.7296\",\"Orlando/377.7253\",\"Maple Grove/385.01009999999997\",\"Provo/388.5674\",\"Westland/389.5995\",\"Suffolk/389.8122\",\"Tallahassee/392.71160000000003\",\"Georgetown/402.76\",\"Evanston/411.88379999999995\",\"Lansing/412.8734\",\"Southaven/412.8902\",\"Bangor/422.2204\",\"Eau Claire/427.49780000000004\",\"Muskogee/442.5966\",\"Hackensack/451.2547\",\"Lehi/451.6626\",\"Redlands/454.1556\",\"Santa Barbara/457.2858\",\"Dearborn/467.3864\",\"Saint Cloud/469.614\",\"Meriden/470.2212\",\"Greenwood/471.73220000000003\",\"Raleigh/472.594\",\"Dubuque/477.6744\",\"Athens/479.3221\",\"Marietta/512.1456\",\"Superior/514.0822000000001\",\"Orem/514.6335\",\"Sandy Springs/520.5891\",\"Torrance/545.1510000000001\",\"Appleton/554.7663\",\"Broken Arrow/575.5226\",\"Pleasant Grove/580.6549\",\"Hattiesburg/582.0694\",\"Kent/591.7956\",\"Manchester/600.5054\",\"Waynesboro/603.3858\",\"Bellingham/610.5908\",\"Hempstead/629.0645999999999\",\"Perth Amboy/633.644\",\"Albuquerque/634.0880999999999\",\"Edmonds/634.2478\",\"Cranston/637.4977\",\"Trenton/652.0998\",\"Beverly/654.9194\",\"Mount Vernon/662.5146\",\"Decatur/689.0556\",\"Monroe/696.6242\",\"Auburn/734.9167\",\"Paterson/740.49\",\"Westminster/763.6886000000001\",\"Burbank/764.5337999999999\",\"Oceanside/772.6799\",\"Jonesboro/801.1113\",\"Smyrna/826.7036\",\"Oakland/834.1029000000001\",\"Montgomery/834.6571\",\"Santa Ana/836.7465000000001\",\"Huntington Beach/880.0391999999999\",\"Harrisonburg/889.5239\",\"Watertown/907.0072\",\"Fresno/948.2681\",\"Hampton/953.8323\",\"Independence/975.663\",\"Buffalo/992.8791000000001\",\"Dover/1021.4940999999999\",\"Inglewood/1026.6960000000001\",\"Kenosha/1028.0728\",\"Washington/1059.5892999999999\",\"Warwick/1063.7956\",\"Madison/1123.6552\",\"Little Rock/1154.6691\",\"Newport News/1197.0469\",\"Fairfield/1210.3119\",\"San Jose/1216.0579\",\"Brentwood/1216.8104\",\"Anaheim/1234.0036\",\"Plainfield/1235.6657\",\"Roseville/1253.3871\",\"Chesapeake/1262.787\",\"Clinton/1274.2421\",\"Jamestown/1285.7714999999998\",\"Lowell/1312.5717\",\"Lakeville/1346.6021\",\"Everett/1361.4787000000001\",\"Tulsa/1506.935\",\"Oklahoma City/1580.7607\",\"Great Falls/1582.7071\",\"Des Moines/1610.7442999999998\",\"Franklin/1664.8679\",\"Baltimore/1676.198\",\"Rochester/1743.4191\",\"Fayetteville/1818.6692\",\"Morristown/1838.2271\",\"Omaha/1841.6268\",\"Wilmington/1947.7019\",\"Virginia Beach/2024.8837\",\"Sacramento/2069.6859\",\"Long Beach/2108.9306\",\"Florence/2168.9661\",\"Mobile/2175.8292\",\"North Las Vegas/2247.6899000000003\",\"Midland/2293.6828\",\"Lawrence/2382.1465\",\"Roswell/2427.4353\",\"Indianapolis/2741.6538\",\"Yonkers/2767.7557\",\"Milwaukee/2793.0851000000002\",\"Lakewood/3234.0278\",\"Arlington/4169.6969\",\"Henderson/4911.8609\",\"Providence/5505.6569\",\"Richmond/5567.2486\",\"Columbia/5606.1167\",\"Newark/5793.7588\",\"Columbus/5897.1013\",\"Springfield/6200.6974\",\"San Diego/6377.196\",\"Minneapolis/6824.584599999999\",\"Atlanta/6993.6629\",\"Jackson/7581.6828\",\"Lafayette/10018.3876\",\"Detroit/13181.790799999999\",\"San Francisco/17507.3854\",\"Seattle/29156.0967\",\"Los Angeles/30440.7579\",\"New York City/62036.9837\",\"Aberdeen\",\"Abilene\",\"Akron\",\"Albuquerque\",\"Alexandria\",\"Allen\",\"Allentown\",\"Altoona\",\"Amarillo\",\"Anaheim\",\"Andover\",\"Ann Arbor\",\"Antioch\",\"Apopka\",\"Apple Valley\",\"Appleton\",\"Arlington\",\"Arlington Heights\",\"Arvada\",\"Asheville\",\"Athens\",\"Atlanta\",\"Atlantic City\",\"Auburn\",\"Aurora\",\"Austin\",\"Avondale\",\"Bakersfield\",\"Baltimore\",\"Bangor\",\"Bartlett\",\"Bayonne\",\"Baytown\",\"Beaumont\",\"Bedford\",\"Belleville\",\"Bellevue\",\"Bellingham\",\"Bethlehem\",\"Beverly\",\"Billings\",\"Bloomington\",\"Boca Raton\",\"Boise\",\"Bolingbrook\",\"Bossier City\",\"Bowling Green\",\"Boynton Beach\",\"Bozeman\",\"Brentwood\",\"Bridgeton\",\"Bristol\",\"Broken Arrow\",\"Broomfield\",\"Brownsville\",\"Bryan\",\"Buffalo\",\"Buffalo Grove\",\"Bullhead City\",\"Burbank\",\"Burlington\",\"Caldwell\",\"Camarillo\",\"Cambridge\",\"Canton\",\"Carlsbad\",\"Carol Stream\",\"Carrollton\",\"Cary\",\"Cedar Hill\",\"Cedar Rapids\",\"Champaign\",\"Chandler\",\"Chapel Hill\",\"Charlotte\",\"Charlottesville\",\"Chattanooga\",\"Chesapeake\",\"Chester\",\"Cheyenne\",\"Chicago\",\"Chico\",\"Chula Vista\",\"Cincinnati\",\"Citrus Heights\",\"Clarksville\",\"Cleveland\",\"Clifton\",\"Clinton\",\"Clovis\",\"Coachella\",\"College Station\",\"Colorado Springs\",\"Columbia\",\"Columbus\",\"Commerce City\",\"Concord\",\"Conroe\",\"Conway\",\"Coon Rapids\",\"Coppell\",\"Coral Gables\",\"Coral Springs\",\"Corpus Christi\",\"Costa Mesa\",\"Cottage Grove\",\"Covington\",\"Cranston\",\"Cuyahoga Falls\",\"Dallas\",\"Danbury\",\"Danville\",\"Davis\",\"Daytona Beach\",\"Dearborn\",\"Dearborn Heights\",\"Decatur\",\"Deer Park\",\"Delray Beach\",\"Deltona\",\"Denver\",\"Des Moines\",\"Des Plaines\",\"Detroit\",\"Dover\",\"Draper\",\"Dublin\",\"Dubuque\",\"Durham\",\"Eagan\",\"East Orange\",\"East Point\",\"Eau Claire\",\"Edinburg\",\"Edmond\",\"Edmonds\",\"El Cajon\",\"El Paso\",\"Elkhart\",\"Elmhurst\",\"Elyria\",\"Encinitas\",\"Englewood\",\"Escondido\",\"Eugene\",\"Evanston\",\"Everett\",\"Fairfield\",\"Fargo\",\"Farmington\",\"Fayetteville\",\"Florence\",\"Fort Collins\",\"Fort Lauderdale\",\"Fort Worth\",\"Frankfort\",\"Franklin\",\"Freeport\",\"Fremont\",\"Fresno\",\"Frisco\",\"Gaithersburg\",\"Garden City\",\"Garland\",\"Gastonia\",\"Georgetown\",\"Gilbert\",\"Gladstone\",\"Glendale\",\"Glenview\",\"Goldsboro\",\"Grand Island\",\"Grand Prairie\",\"Grand Rapids\",\"Grapevine\",\"Great Falls\",\"Greeley\",\"Green Bay\",\"Greensboro\",\"Greenville\",\"Greenwood\",\"Gresham\",\"Grove City\",\"Gulfport\",\"Hackensack\",\"Hagerstown\",\"Haltom City\",\"Hamilton\",\"Hampton\",\"Harlingen\",\"Harrisonburg\",\"Hattiesburg\",\"Helena\",\"Hempstead\",\"Henderson\",\"Hendersonville\",\"Hesperia\",\"Hialeah\",\"Hickory\",\"Highland Park\",\"Hillsboro\",\"Holland\",\"Hollywood\",\"Holyoke\",\"Homestead\",\"Hoover\",\"Hot Springs\",\"Houston\",\"Huntington Beach\",\"Huntsville\",\"Independence\",\"Indianapolis\",\"Inglewood\",\"Iowa City\",\"Irving\",\"Jackson\",\"Jacksonville\",\"Jamestown\",\"Jefferson City\",\"Johnson City\",\"Jonesboro\",\"Jupiter\",\"Keller\",\"Kenner\",\"Kenosha\",\"Kent\",\"Kirkwood\",\"Kissimmee\",\"Knoxville\",\"La Crosse\",\"La Mesa\",\"La Porte\",\"La Quinta\",\"Lafayette\",\"Laguna Niguel\",\"Lake Charles\",\"Lake Elsinore\",\"Lake Forest\",\"Lakeland\",\"Lakeville\",\"Lakewood\",\"Lancaster\",\"Lansing\",\"Laredo\",\"Las Cruces\",\"Las Vegas\",\"Laurel\",\"Lawrence\",\"Lawton\",\"Layton\",\"League City\",\"Lebanon\",\"Lehi\",\"Leominster\",\"Lewiston\",\"Lincoln Park\",\"Linden\",\"Lindenhurst\",\"Little Rock\",\"Littleton\",\"Lodi\",\"Logan\",\"Long Beach\",\"Longmont\",\"Longview\",\"Lorain\",\"Los Angeles\",\"Louisville\",\"Loveland\",\"Lowell\",\"Lubbock\",\"Macon\",\"Madison\",\"Malden\",\"Manchester\",\"Manhattan\",\"Mansfield\",\"Manteca\",\"Maple Grove\",\"Margate\",\"Marietta\",\"Marion\",\"Marlborough\",\"Marysville\",\"Mason\",\"Mcallen\",\"Medford\",\"Medina\",\"Melbourne\",\"Memphis\",\"Mentor\",\"Meriden\",\"Meridian\",\"Mesa\",\"Mesquite\",\"Miami\",\"Middletown\",\"Midland\",\"Milford\",\"Milwaukee\",\"Minneapolis\",\"Miramar\",\"Mishawaka\",\"Mission Viejo\",\"Missoula\",\"Missouri City\",\"Mobile\",\"Modesto\",\"Monroe\",\"Montebello\",\"Montgomery\",\"Moorhead\",\"Moreno Valley\",\"Morgan Hill\",\"Morristown\",\"Mount Pleasant\",\"Mount Vernon\",\"Murfreesboro\",\"Murray\",\"Murrieta\",\"Muskogee\",\"Naperville\",\"Nashua\",\"Nashville\",\"New Albany\",\"New Bedford\",\"New Brunswick\",\"New Castle\",\"New Rochelle\",\"New York City\",\"Newark\",\"Newport News\",\"Niagara Falls\",\"Noblesville\",\"Norfolk\",\"Normal\",\"Norman\",\"North Charleston\",\"North Las Vegas\",\"North Miami\",\"Norwich\",\"Oak Park\",\"Oakland\",\"Oceanside\",\"Odessa\",\"Oklahoma City\",\"Olathe\",\"Olympia\",\"Omaha\",\"Ontario\",\"Orange\",\"Orem\",\"Orland Park\",\"Orlando\",\"Ormond Beach\",\"Oswego\",\"Overland Park\",\"Owensboro\",\"Oxnard\",\"Palatine\",\"Palm Coast\",\"Park Ridge\",\"Parker\",\"Parma\",\"Pasadena\",\"Pasco\",\"Passaic\",\"Paterson\",\"Pearland\",\"Pembroke Pines\",\"Pensacola\",\"Peoria\",\"Perth Amboy\",\"Pharr\",\"Philadelphia\",\"Phoenix\",\"Pico Rivera\",\"Pine Bluff\",\"Plainfield\",\"Plano\",\"Plantation\",\"Pleasant Grove\",\"Pocatello\",\"Pomona\",\"Pompano Beach\",\"Port Arthur\",\"Port Orange\",\"Port Saint Lucie\",\"Portage\",\"Portland\",\"Providence\",\"Provo\",\"Pueblo\",\"Quincy\",\"Raleigh\",\"Rancho Cucamonga\",\"Rapid City\",\"Reading\",\"Redding\",\"Redlands\",\"Redmond\",\"Redondo Beach\",\"Redwood City\",\"Reno\",\"Renton\",\"Revere\",\"Richardson\",\"Richmond\",\"Rio Rancho\",\"Riverside\",\"Rochester\",\"Rochester Hills\",\"Rock Hill\",\"Rockford\",\"Rockville\",\"Rogers\",\"Rome\",\"Romeoville\",\"Roseville\",\"Roswell\",\"Round Rock\",\"Royal Oak\",\"Sacramento\",\"Saginaw\",\"Saint Charles\",\"Saint Cloud\",\"Saint Louis\",\"Saint Paul\",\"Saint Peters\",\"Saint Petersburg\",\"Salem\",\"Salinas\",\"Salt Lake City\",\"San Angelo\",\"San Antonio\",\"San Bernardino\",\"San Clemente\",\"San Diego\",\"San Francisco\",\"San Gabriel\",\"San Jose\",\"San Luis Obispo\",\"San Marcos\",\"San Mateo\",\"Sandy Springs\",\"Sanford\",\"Santa Ana\",\"Santa Barbara\",\"Santa Clara\",\"Santa Fe\",\"Santa Maria\",\"Scottsdale\",\"Seattle\",\"Sheboygan\",\"Shelton\",\"Sierra Vista\",\"Sioux Falls\",\"Skokie\",\"Smyrna\",\"South Bend\",\"Southaven\",\"Sparks\",\"Spokane\",\"Springdale\",\"Springfield\",\"Sterling Heights\",\"Stockton\",\"Suffolk\",\"Summerville\",\"Sunnyvale\",\"Superior\",\"Tallahassee\",\"Tamarac\",\"Tampa\",\"Taylor\",\"Temecula\",\"Tempe\",\"Texarkana\",\"Texas City\",\"The Colony\",\"Thomasville\",\"Thornton\",\"Thousand Oaks\",\"Tigard\",\"Tinley Park\",\"Toledo\",\"Torrance\",\"Trenton\",\"Troy\",\"Tucson\",\"Tulsa\",\"Tuscaloosa\",\"Twin Falls\",\"Tyler\",\"Urbandale\",\"Utica\",\"Vacaville\",\"Vallejo\",\"Vancouver\",\"Vineland\",\"Virginia Beach\",\"Visalia\",\"Waco\",\"Warner Robins\",\"Warwick\",\"Washington\",\"Waterbury\",\"Waterloo\",\"Watertown\",\"Waukesha\",\"Wausau\",\"Waynesboro\",\"West Allis\",\"West Jordan\",\"West Palm Beach\",\"Westfield\",\"Westland\",\"Westminster\",\"Wheeling\",\"Whittier\",\"Wichita\",\"Wilmington\",\"Wilson\",\"Woodbury\",\"Woodland\",\"Woodstock\",\"Woonsocket\",\"Yonkers\",\"York\",\"Yucaipa\",\"Yuma\"],\"labels\":[\"-13837.7674\",\"-10153.548499999999\",\"-7299.050200000001\",\"-7239.0684\",\"-6654.5688\",\"-3622.8772\",\"-2846.5257\",\"-2790.8831999999998\",\"-2691.7386\",\"-2323.835\",\"-1479.04\",\"-1430.3129000000001\",\"-1343.0446\",\"-1183.4313\",\"-1165.0755000000001\",\"-1150.3704\",\"-1149.5077999999999\",\"-1055.3532000000002\",\"-1003.0958\",\"-956.6841000000001\",\"-900.9719\",\"-848.0079000000001\",\"-837.4908\",\"-718.6388999999999\",\"-632.9229\",\"-559.2314\",\"-548.9884\",\"-544.1518000000001\",\"-536.1275999999999\",\"-520.1034\",\"-470.21389999999997\",\"-465.9909\",\"-443.7086\",\"-429.7824\",\"-387.9683\",\"-383.0554\",\"-380.3623\",\"-351.89610000000005\",\"-349.9295\",\"-346.87\",\"-339.99679999999995\",\"-325.2366\",\"-268.76419999999996\",\"-252.6926\",\"-249.35500000000002\",\"-244.92000000000002\",\"-238.45\",\"-237.5528\",\"-236.7674\",\"-226.4504\",\"-216.2861\",\"-213.7116\",\"-212.13209999999998\",\"-188.63649999999998\",\"-186.6356\",\"-182.352\",\"-179.9007\",\"-179.22749999999996\",\"-169.9406\",\"-164.1893\",\"-163.87169999999998\",\"-161.3551\",\"-153.7178\",\"-146.5324\",\"-127.86630000000002\",\"-123.27420000000002\",\"-122.9534\",\"-117.6224\",\"-110.0232\",\"-107.39620000000005\",\"-102.16919999999999\",\"-100.51250000000002\",\"-98.8018\",\"-89.6478\",\"-89.4879\",\"-87.61999999999999\",\"-85.2311\",\"-72.4491\",\"-69.71180000000001\",\"-66.7913\",\"-64.96680000000002\",\"-58.5532\",\"-54.613899999999994\",\"-52.334\",\"-46.137\",\"-45.386700000000005\",\"-43.7304\",\"-39.8775\",\"-39.8683\",\"-32.9292\",\"-32.373\",\"-31.349899999999998\",\"-26.055999999999997\",\"-24.4893\",\"-22.645599999999998\",\"-20.393799999999967\",\"-20.087999999999994\",\"-19.3413\",\"-18.8016\",\"-14.7708\",\"-14.743599999999995\",\"-14.336000000000002\",\"-12.575199999999999\",\"-11.827200000000001\",\"-10.386\",\"-9.555\",\"-9.385000000000002\",\"-8.9152\",\"-4.660999999999998\",\"-4.235199999999999\",\"-3.7584\",\"-1.9656\",\"-1.476\",\"-1.3984\",\"-1.1835\",\"-1.0956000000000001\",\"0.1548\",\"1.1946\",\"1.2348\",\"1.419\",\"1.5455000000000005\",\"2.1\",\"2.3312\",\"2.3328\",\"2.6936\",\"2.934\",\"3.0576\",\"3.0798000000000005\",\"3.3150000000000004\",\"3.4415999999999998\",\"3.6288\",\"3.792\",\"3.9032\",\"4.449\",\"4.4778\",\"4.4955\",\"4.7304\",\"6.512\",\"6.63\",\"6.7232\",\"6.9795\",\"7.156700000000001\",\"7.846\",\"7.98\",\"8.0178\",\"8.662\",\"8.7749\",\"9.3312\",\"9.5616\",\"9.670200000000001\",\"9.757299999999997\",\"9.8856\",\"10.008\",\"10.3614\",\"10.6202\",\"10.9584\",\"11.635200000000001\",\"11.68\",\"11.8248\",\"11.856199999999994\",\"12.039100000000005\",\"13.1952\",\"13.208\",\"13.512599999999999\",\"13.7547\",\"13.8579\",\"14.1426\",\"14.17\",\"15.006499999999999\",\"15.552\",\"15.6891\",\"16.6721\",\"16.8281\",\"16.9632\",\"17.6552\",\"17.745\",\"18.0648\",\"18.1275\",\"18.556800000000003\",\"18.5886\",\"18.7173\",\"19.700899999999997\",\"19.7976\",\"19.943\",\"20.221799999999995\",\"20.586\",\"20.688000000000002\",\"20.8106\",\"21.4053\",\"22.3291\",\"22.357799999999997\",\"22.6278\",\"23.0839\",\"23.2624\",\"24.8842\",\"25.0182\",\"26.6304\",\"27.191799999999994\",\"27.642799999999998\",\"27.753\",\"27.8086\",\"28.370800000000003\",\"29.0542\",\"30.0144\",\"31.061799999999995\",\"31.1692\",\"31.6092\",\"31.6586\",\"32.28099999999999\",\"33.0676\",\"33.3848\",\"33.3939\",\"34.3419\",\"34.8252\",\"35.3346\",\"35.6202\",\"37.0548\",\"38.8983\",\"39.4131\",\"41.4892\",\"41.9815\",\"42.5419\",\"42.8316\",\"43.9394\",\"44.4768\",\"44.4858\",\"44.7684\",\"44.8682\",\"45.294\",\"46.1733\",\"46.9632\",\"47.1344\",\"47.1736\",\"48.357800000000005\",\"49.6048\",\"50.4861\",\"50.661500000000004\",\"51.010400000000004\",\"51.955799999999996\",\"52.5888\",\"52.6872\",\"53.6884\",\"54.0386\",\"54.3332\",\"54.3438\",\"54.3634\",\"54.796800000000005\",\"57.718\",\"58.6966\",\"59.11639999999999\",\"59.238299999999995\",\"59.8556\",\"60.392\",\"62.083800000000004\",\"62.2518\",\"62.445\",\"62.737\",\"66.5698\",\"66.6588\",\"67.60679999999999\",\"67.992\",\"68.3691\",\"69.982\",\"70.2048\",\"71.0588\",\"73.3529\",\"73.7442\",\"74.62219999999999\",\"75.4546\",\"76.0016\",\"76.169\",\"77.18010000000001\",\"77.5074\",\"77.5761\",\"78.6791\",\"79.403\",\"79.5016\",\"79.9929\",\"80.736\",\"81.46049999999998\",\"81.6363\",\"83.8057\",\"84.5982\",\"87.0338\",\"88.0478\",\"89.87190000000004\",\"90.4306\",\"90.6259\",\"92.0835\",\"92.72550000000001\",\"93.5208\",\"95.214\",\"95.4496\",\"96.59200000000001\",\"98.5269\",\"98.5541\",\"98.58840000000001\",\"99.914\",\"100.196\",\"101.4106\",\"101.8869\",\"102.0138\",\"102.6723\",\"105.541\",\"105.77600000000001\",\"107.5073\",\"108.2012\",\"110.0528\",\"114.387\",\"115.0527\",\"115.10940000000001\",\"116.8699\",\"119.5878\",\"122.1344\",\"124.1886\",\"131.5286\",\"133.2147\",\"134.03719999999998\",\"136.4532\",\"138.253\",\"139.6269\",\"140.8398\",\"140.8905\",\"144.8535\",\"146.4036\",\"147.1387\",\"149.2776\",\"150.299\",\"150.86440000000002\",\"151.06449999999998\",\"151.9823\",\"152.0428\",\"152.495\",\"153.17579999999998\",\"154.2138\",\"157.6159\",\"157.7661\",\"158.79559999999998\",\"161.83080000000012\",\"163.3746\",\"164.08960000000002\",\"169.4115\",\"172.2261\",\"172.2358\",\"173.7276\",\"174.6191\",\"175.3371\",\"176.4289\",\"179.4696\",\"181.35590000000002\",\"182.8598\",\"185.4324\",\"187.9247\",\"188.55960000000002\",\"191.98579999999998\",\"196.09619999999998\",\"196.91320000000002\",\"202.072\",\"203.5218\",\"205.12539999999998\",\"207.4108\",\"213.0453\",\"217.0617\",\"221.9373\",\"228.4764\",\"228.536\",\"228.9158\",\"230.1497\",\"233.92270000000002\",\"235.50850000000003\",\"241.2558\",\"243.10389999999998\",\"248.43460000000002\",\"258.8366\",\"266.1649\",\"269.5287\",\"270.5181\",\"270.694\",\"272.0761\",\"279.5512\",\"283.6492\",\"290.8953\",\"292.589\",\"297.20889999999997\",\"298.73269999999997\",\"311.4834\",\"318.61830000000003\",\"319.054\",\"323.9266\",\"327.53139999999996\",\"329.2601\",\"332.4433\",\"336.03549999999996\",\"336.9608\",\"338.9355\",\"339.52639999999997\",\"343.4299\",\"346.4577\",\"347.0908\",\"353.313\",\"353.6301\",\"356.8186\",\"357.5244\",\"368.411\",\"374.7296\",\"377.7253\",\"385.01009999999997\",\"388.5674\",\"389.5995\",\"389.8122\",\"392.71160000000003\",\"402.76\",\"411.88379999999995\",\"412.8734\",\"412.8902\",\"422.2204\",\"427.49780000000004\",\"442.5966\",\"451.2547\",\"451.6626\",\"454.1556\",\"457.2858\",\"467.3864\",\"469.614\",\"470.2212\",\"471.73220000000003\",\"472.594\",\"477.6744\",\"479.3221\",\"512.1456\",\"514.0822000000001\",\"514.6335\",\"520.5891\",\"545.1510000000001\",\"554.7663\",\"575.5226\",\"580.6549\",\"582.0694\",\"591.7956\",\"600.5054\",\"603.3858\",\"610.5908\",\"629.0645999999999\",\"633.644\",\"634.0880999999999\",\"634.2478\",\"637.4977\",\"652.0998\",\"654.9194\",\"662.5146\",\"689.0556\",\"696.6242\",\"734.9167\",\"740.49\",\"763.6886000000001\",\"764.5337999999999\",\"772.6799\",\"801.1113\",\"826.7036\",\"834.1029000000001\",\"834.6571\",\"836.7465000000001\",\"880.0391999999999\",\"889.5239\",\"907.0072\",\"948.2681\",\"953.8323\",\"975.663\",\"992.8791000000001\",\"1021.4940999999999\",\"1026.6960000000001\",\"1028.0728\",\"1059.5892999999999\",\"1063.7956\",\"1123.6552\",\"1154.6691\",\"1197.0469\",\"1210.3119\",\"1216.0579\",\"1216.8104\",\"1234.0036\",\"1235.6657\",\"1253.3871\",\"1262.787\",\"1274.2421\",\"1285.7714999999998\",\"1312.5717\",\"1346.6021\",\"1361.4787000000001\",\"1506.935\",\"1580.7607\",\"1582.7071\",\"1610.7442999999998\",\"1664.8679\",\"1676.198\",\"1743.4191\",\"1818.6692\",\"1838.2271\",\"1841.6268\",\"1947.7019\",\"2024.8837\",\"2069.6859\",\"2108.9306\",\"2168.9661\",\"2175.8292\",\"2247.6899000000003\",\"2293.6828\",\"2382.1465\",\"2427.4353\",\"2741.6538\",\"2767.7557\",\"2793.0851000000002\",\"3234.0278\",\"4169.6969\",\"4911.8609\",\"5505.6569\",\"5567.2486\",\"5606.1167\",\"5793.7588\",\"5897.1013\",\"6200.6974\",\"6377.196\",\"6824.584599999999\",\"6993.6629\",\"7581.6828\",\"10018.3876\",\"13181.790799999999\",\"17507.3854\",\"29156.0967\",\"30440.7579\",\"62036.9837\",\"Aberdeen\",\"Abilene\",\"Akron\",\"Albuquerque\",\"Alexandria\",\"Allen\",\"Allentown\",\"Altoona\",\"Amarillo\",\"Anaheim\",\"Andover\",\"Ann Arbor\",\"Antioch\",\"Apopka\",\"Apple Valley\",\"Appleton\",\"Arlington\",\"Arlington Heights\",\"Arvada\",\"Asheville\",\"Athens\",\"Atlanta\",\"Atlantic City\",\"Auburn\",\"Aurora\",\"Austin\",\"Avondale\",\"Bakersfield\",\"Baltimore\",\"Bangor\",\"Bartlett\",\"Bayonne\",\"Baytown\",\"Beaumont\",\"Bedford\",\"Belleville\",\"Bellevue\",\"Bellingham\",\"Bethlehem\",\"Beverly\",\"Billings\",\"Bloomington\",\"Boca Raton\",\"Boise\",\"Bolingbrook\",\"Bossier City\",\"Bowling Green\",\"Boynton Beach\",\"Bozeman\",\"Brentwood\",\"Bridgeton\",\"Bristol\",\"Broken Arrow\",\"Broomfield\",\"Brownsville\",\"Bryan\",\"Buffalo\",\"Buffalo Grove\",\"Bullhead City\",\"Burbank\",\"Burlington\",\"Caldwell\",\"Camarillo\",\"Cambridge\",\"Canton\",\"Carlsbad\",\"Carol Stream\",\"Carrollton\",\"Cary\",\"Cedar Hill\",\"Cedar Rapids\",\"Champaign\",\"Chandler\",\"Chapel Hill\",\"Charlotte\",\"Charlottesville\",\"Chattanooga\",\"Chesapeake\",\"Chester\",\"Cheyenne\",\"Chicago\",\"Chico\",\"Chula Vista\",\"Cincinnati\",\"Citrus Heights\",\"Clarksville\",\"Cleveland\",\"Clifton\",\"Clinton\",\"Clovis\",\"Coachella\",\"College Station\",\"Colorado Springs\",\"Columbia\",\"Columbus\",\"Commerce City\",\"Concord\",\"Conroe\",\"Conway\",\"Coon Rapids\",\"Coppell\",\"Coral Gables\",\"Coral Springs\",\"Corpus Christi\",\"Costa Mesa\",\"Cottage Grove\",\"Covington\",\"Cranston\",\"Cuyahoga Falls\",\"Dallas\",\"Danbury\",\"Danville\",\"Davis\",\"Daytona Beach\",\"Dearborn\",\"Dearborn Heights\",\"Decatur\",\"Deer Park\",\"Delray Beach\",\"Deltona\",\"Denver\",\"Des Moines\",\"Des Plaines\",\"Detroit\",\"Dover\",\"Draper\",\"Dublin\",\"Dubuque\",\"Durham\",\"Eagan\",\"East Orange\",\"East Point\",\"Eau Claire\",\"Edinburg\",\"Edmond\",\"Edmonds\",\"El Cajon\",\"El Paso\",\"Elkhart\",\"Elmhurst\",\"Elyria\",\"Encinitas\",\"Englewood\",\"Escondido\",\"Eugene\",\"Evanston\",\"Everett\",\"Fairfield\",\"Fargo\",\"Farmington\",\"Fayetteville\",\"Florence\",\"Fort Collins\",\"Fort Lauderdale\",\"Fort Worth\",\"Frankfort\",\"Franklin\",\"Freeport\",\"Fremont\",\"Fresno\",\"Frisco\",\"Gaithersburg\",\"Garden City\",\"Garland\",\"Gastonia\",\"Georgetown\",\"Gilbert\",\"Gladstone\",\"Glendale\",\"Glenview\",\"Goldsboro\",\"Grand Island\",\"Grand Prairie\",\"Grand Rapids\",\"Grapevine\",\"Great Falls\",\"Greeley\",\"Green Bay\",\"Greensboro\",\"Greenville\",\"Greenwood\",\"Gresham\",\"Grove City\",\"Gulfport\",\"Hackensack\",\"Hagerstown\",\"Haltom City\",\"Hamilton\",\"Hampton\",\"Harlingen\",\"Harrisonburg\",\"Hattiesburg\",\"Helena\",\"Hempstead\",\"Henderson\",\"Hendersonville\",\"Hesperia\",\"Hialeah\",\"Hickory\",\"Highland Park\",\"Hillsboro\",\"Holland\",\"Hollywood\",\"Holyoke\",\"Homestead\",\"Hoover\",\"Hot Springs\",\"Houston\",\"Huntington Beach\",\"Huntsville\",\"Independence\",\"Indianapolis\",\"Inglewood\",\"Iowa City\",\"Irving\",\"Jackson\",\"Jacksonville\",\"Jamestown\",\"Jefferson City\",\"Johnson City\",\"Jonesboro\",\"Jupiter\",\"Keller\",\"Kenner\",\"Kenosha\",\"Kent\",\"Kirkwood\",\"Kissimmee\",\"Knoxville\",\"La Crosse\",\"La Mesa\",\"La Porte\",\"La Quinta\",\"Lafayette\",\"Laguna Niguel\",\"Lake Charles\",\"Lake Elsinore\",\"Lake Forest\",\"Lakeland\",\"Lakeville\",\"Lakewood\",\"Lancaster\",\"Lansing\",\"Laredo\",\"Las Cruces\",\"Las Vegas\",\"Laurel\",\"Lawrence\",\"Lawton\",\"Layton\",\"League City\",\"Lebanon\",\"Lehi\",\"Leominster\",\"Lewiston\",\"Lincoln Park\",\"Linden\",\"Lindenhurst\",\"Little Rock\",\"Littleton\",\"Lodi\",\"Logan\",\"Long Beach\",\"Longmont\",\"Longview\",\"Lorain\",\"Los Angeles\",\"Louisville\",\"Loveland\",\"Lowell\",\"Lubbock\",\"Macon\",\"Madison\",\"Malden\",\"Manchester\",\"Manhattan\",\"Mansfield\",\"Manteca\",\"Maple Grove\",\"Margate\",\"Marietta\",\"Marion\",\"Marlborough\",\"Marysville\",\"Mason\",\"Mcallen\",\"Medford\",\"Medina\",\"Melbourne\",\"Memphis\",\"Mentor\",\"Meriden\",\"Meridian\",\"Mesa\",\"Mesquite\",\"Miami\",\"Middletown\",\"Midland\",\"Milford\",\"Milwaukee\",\"Minneapolis\",\"Miramar\",\"Mishawaka\",\"Mission Viejo\",\"Missoula\",\"Missouri City\",\"Mobile\",\"Modesto\",\"Monroe\",\"Montebello\",\"Montgomery\",\"Moorhead\",\"Moreno Valley\",\"Morgan Hill\",\"Morristown\",\"Mount Pleasant\",\"Mount Vernon\",\"Murfreesboro\",\"Murray\",\"Murrieta\",\"Muskogee\",\"Naperville\",\"Nashua\",\"Nashville\",\"New Albany\",\"New Bedford\",\"New Brunswick\",\"New Castle\",\"New Rochelle\",\"New York City\",\"Newark\",\"Newport News\",\"Niagara Falls\",\"Noblesville\",\"Norfolk\",\"Normal\",\"Norman\",\"North Charleston\",\"North Las Vegas\",\"North Miami\",\"Norwich\",\"Oak Park\",\"Oakland\",\"Oceanside\",\"Odessa\",\"Oklahoma City\",\"Olathe\",\"Olympia\",\"Omaha\",\"Ontario\",\"Orange\",\"Orem\",\"Orland Park\",\"Orlando\",\"Ormond Beach\",\"Oswego\",\"Overland Park\",\"Owensboro\",\"Oxnard\",\"Palatine\",\"Palm Coast\",\"Park Ridge\",\"Parker\",\"Parma\",\"Pasadena\",\"Pasco\",\"Passaic\",\"Paterson\",\"Pearland\",\"Pembroke Pines\",\"Pensacola\",\"Peoria\",\"Perth Amboy\",\"Pharr\",\"Philadelphia\",\"Phoenix\",\"Pico Rivera\",\"Pine Bluff\",\"Plainfield\",\"Plano\",\"Plantation\",\"Pleasant Grove\",\"Pocatello\",\"Pomona\",\"Pompano Beach\",\"Port Arthur\",\"Port Orange\",\"Port Saint Lucie\",\"Portage\",\"Portland\",\"Providence\",\"Provo\",\"Pueblo\",\"Quincy\",\"Raleigh\",\"Rancho Cucamonga\",\"Rapid City\",\"Reading\",\"Redding\",\"Redlands\",\"Redmond\",\"Redondo Beach\",\"Redwood City\",\"Reno\",\"Renton\",\"Revere\",\"Richardson\",\"Richmond\",\"Rio Rancho\",\"Riverside\",\"Rochester\",\"Rochester Hills\",\"Rock Hill\",\"Rockford\",\"Rockville\",\"Rogers\",\"Rome\",\"Romeoville\",\"Roseville\",\"Roswell\",\"Round Rock\",\"Royal Oak\",\"Sacramento\",\"Saginaw\",\"Saint Charles\",\"Saint Cloud\",\"Saint Louis\",\"Saint Paul\",\"Saint Peters\",\"Saint Petersburg\",\"Salem\",\"Salinas\",\"Salt Lake City\",\"San Angelo\",\"San Antonio\",\"San Bernardino\",\"San Clemente\",\"San Diego\",\"San Francisco\",\"San Gabriel\",\"San Jose\",\"San Luis Obispo\",\"San Marcos\",\"San Mateo\",\"Sandy Springs\",\"Sanford\",\"Santa Ana\",\"Santa Barbara\",\"Santa Clara\",\"Santa Fe\",\"Santa Maria\",\"Scottsdale\",\"Seattle\",\"Sheboygan\",\"Shelton\",\"Sierra Vista\",\"Sioux Falls\",\"Skokie\",\"Smyrna\",\"South Bend\",\"Southaven\",\"Sparks\",\"Spokane\",\"Springdale\",\"Springfield\",\"Sterling Heights\",\"Stockton\",\"Suffolk\",\"Summerville\",\"Sunnyvale\",\"Superior\",\"Tallahassee\",\"Tamarac\",\"Tampa\",\"Taylor\",\"Temecula\",\"Tempe\",\"Texarkana\",\"Texas City\",\"The Colony\",\"Thomasville\",\"Thornton\",\"Thousand Oaks\",\"Tigard\",\"Tinley Park\",\"Toledo\",\"Torrance\",\"Trenton\",\"Troy\",\"Tucson\",\"Tulsa\",\"Tuscaloosa\",\"Twin Falls\",\"Tyler\",\"Urbandale\",\"Utica\",\"Vacaville\",\"Vallejo\",\"Vancouver\",\"Vineland\",\"Virginia Beach\",\"Visalia\",\"Waco\",\"Warner Robins\",\"Warwick\",\"Washington\",\"Waterbury\",\"Waterloo\",\"Watertown\",\"Waukesha\",\"Wausau\",\"Waynesboro\",\"West Allis\",\"West Jordan\",\"West Palm Beach\",\"Westfield\",\"Westland\",\"Westminster\",\"Wheeling\",\"Whittier\",\"Wichita\",\"Wilmington\",\"Wilson\",\"Woodbury\",\"Woodland\",\"Woodstock\",\"Woonsocket\",\"Yonkers\",\"York\",\"Yucaipa\",\"Yuma\"],\"marker\":{\"coloraxis\":\"coloraxis\",\"colors\":[-13837.767400000002,-10153.548499999999,-7299.050200000001,-7239.0684,-6654.5688,-3622.8771999999994,-2846.5257,-2790.8831999999998,-2691.7386,-2323.835,-1479.04,-1430.3129000000001,-1343.0446,-1183.4313,-1165.0755000000001,-1150.3704,-1149.5077999999999,-1055.3532000000002,-1003.0958,-956.6841000000001,-900.9719,-848.0079000000001,-837.4908,-718.6388999999999,-632.9229,-559.2314,-548.9884,-544.1518000000001,-536.1275999999999,-520.1034,-470.21389999999997,-465.9909,-443.7086,-429.7824,-387.9683,-383.0554,-380.36229999999995,-351.89610000000005,-349.9295,-346.87,-339.99679999999995,-325.2366,-268.76419999999996,-252.6926,-249.35500000000002,-244.92000000000002,-238.45,-237.5528,-236.7674,-226.4504,-216.28610000000003,-213.7116,-212.13209999999998,-188.63649999999998,-186.6356,-182.35200000000003,-179.9007,-179.22749999999996,-169.9406,-164.1893,-163.87169999999998,-161.3551,-153.7178,-146.5324,-127.86630000000002,-123.27420000000002,-122.9534,-117.6224,-110.0232,-107.39620000000005,-102.16919999999999,-100.5125,-98.8018,-89.6478,-89.4879,-87.61999999999999,-85.2311,-72.4491,-69.71180000000001,-66.7913,-64.96680000000002,-58.5532,-54.613899999999994,-52.334,-46.137,-45.386700000000005,-43.7304,-39.8775,-39.8683,-32.9292,-32.373,-31.349899999999998,-26.055999999999997,-24.489299999999997,-22.645599999999995,-20.393799999999967,-20.087999999999994,-19.3413,-18.8016,-14.7708,-14.743599999999994,-14.336000000000002,-12.575199999999999,-11.827200000000001,-10.386,-9.555,-9.385000000000002,-8.9152,-4.660999999999998,-4.235199999999999,-3.7584,-1.9656,-1.476,-1.3984,-1.1835,-1.0956000000000001,0.1548,1.1946,1.2348,1.419,1.5455000000000005,2.1,2.3312,2.3328,2.6936,2.934,3.0576,3.0798000000000005,3.3150000000000004,3.4415999999999998,3.6288,3.792,3.9032,4.449,4.4778,4.4955,4.7304,6.5120000000000005,6.63,6.7232,6.9795,7.156700000000001,7.846,7.98,8.0178,8.662,8.7749,9.3312,9.5616,9.670200000000001,9.757299999999997,9.8856,10.008,10.3614,10.6202,10.9584,11.635200000000003,11.679999999999998,11.824800000000002,11.856199999999994,12.039100000000005,13.1952,13.208,13.5126,13.7547,13.8579,14.1426,14.169999999999998,15.006499999999999,15.552,15.6891,16.6721,16.8281,16.9632,17.6552,17.745,18.0648,18.1275,18.556800000000003,18.5886,18.7173,19.700899999999997,19.7976,19.943,20.221799999999995,20.586,20.688000000000002,20.8106,21.4053,22.3291,22.357799999999997,22.6278,23.0839,23.2624,24.8842,25.0182,26.6304,27.191799999999994,27.642799999999994,27.753,27.8086,28.370800000000003,29.0542,30.0144,31.061799999999995,31.1692,31.6092,31.6586,32.28099999999999,33.0676,33.3848,33.3939,34.3419,34.8252,35.3346,35.6202,37.0548,38.8983,39.4131,41.4892,41.9815,42.5419,42.8316,43.9394,44.4768,44.4858,44.7684,44.8682,45.294,46.1733,46.9632,47.1344,47.17359999999999,48.357800000000005,49.6048,50.4861,50.6615,51.010400000000004,51.955799999999996,52.5888,52.6872,53.6884,54.0386,54.3332,54.3438,54.3634,54.796800000000005,57.718,58.6966,59.11639999999999,59.238299999999995,59.85560000000001,60.392,62.083800000000004,62.2518,62.445,62.737,66.5698,66.6588,67.60679999999999,67.992,68.3691,69.982,70.2048,71.0588,73.3529,73.7442,74.62219999999999,75.4546,76.0016,76.169,77.18010000000001,77.5074,77.5761,78.6791,79.403,79.5016,79.9929,80.736,81.46049999999998,81.6363,83.8057,84.5982,87.0338,88.0478,89.87190000000004,90.4306,90.6259,92.0835,92.72550000000001,93.52079999999998,95.214,95.4496,96.592,98.5269,98.5541,98.5884,99.914,100.196,101.4106,101.8869,102.0138,102.6723,105.541,105.77600000000002,107.5073,108.2012,110.0528,114.387,115.0527,115.10940000000001,116.8699,119.5878,122.1344,124.1886,131.5286,133.2147,134.03719999999998,136.4532,138.253,139.6269,140.8398,140.8905,144.8535,146.4036,147.1387,149.2776,150.299,150.86440000000002,151.06449999999998,151.9823,152.0428,152.495,153.17579999999998,154.2138,157.6159,157.7661,158.79559999999998,161.83080000000012,163.3746,164.08960000000002,169.4115,172.2261,172.2358,173.7276,174.6191,175.3371,176.4289,179.4696,181.35590000000002,182.8598,185.4324,187.9247,188.55960000000002,191.9858,196.09619999999998,196.91320000000002,202.07199999999997,203.5218,205.12539999999998,207.4108,213.0453,217.0617,221.9373,228.4764,228.536,228.9158,230.1497,233.92270000000002,235.50850000000003,241.2558,243.10389999999998,248.43460000000002,258.8366,266.1649,269.5287,270.5181,270.694,272.0761,279.5512,283.6492,290.8953,292.589,297.20889999999997,298.73269999999997,311.4834,318.61830000000003,319.054,323.9266,327.53139999999996,329.2601,332.4433,336.03549999999996,336.9608,338.9355,339.52639999999997,343.4299,346.4577,347.0908,353.313,353.6301,356.8186,357.5244,368.41099999999994,374.7296,377.72529999999995,385.01009999999997,388.5674,389.5995,389.8122,392.71160000000003,402.76,411.88379999999995,412.8734,412.8902,422.2204,427.49780000000004,442.5966,451.25470000000007,451.6626,454.1556,457.2858,467.3864,469.614,470.2212,471.73220000000003,472.59399999999994,477.6744,479.3221,512.1456,514.0822000000001,514.6335,520.5891,545.1510000000001,554.7663,575.5226,580.6549,582.0694,591.7956,600.5054,603.3858,610.5908,629.0645999999999,633.644,634.0880999999999,634.2478,637.4977,652.0998,654.9194,662.5146,689.0556,696.6242,734.9167,740.49,763.6886000000001,764.5337999999998,772.6798999999999,801.1113,826.7036,834.1029000000001,834.6571,836.7465000000001,880.0391999999999,889.5239,907.0072,948.2681,953.8323,975.663,992.8791,1021.4940999999999,1026.6960000000001,1028.0728,1059.5892999999999,1063.7956,1123.6552,1154.6691,1197.0469,1210.3119,1216.0579,1216.8104,1234.0036,1235.6657,1253.3871,1262.787,1274.2421,1285.7714999999998,1312.5717,1346.6021,1361.4787000000001,1506.9349999999997,1580.7606999999998,1582.7071,1610.7442999999998,1664.8679,1676.198,1743.4191,1818.6692,1838.2271000000003,1841.6268,1947.7019,2024.8837,2069.6859,2108.9306,2168.9661,2175.8292,2247.6899000000003,2293.6828,2382.1465,2427.4353,2741.6538,2767.7557,2793.0851000000002,3234.0278,4169.6969,4911.8609,5505.6569,5567.2486,5606.1167,5793.758799999999,5897.101300000001,6200.6974,6377.196,6824.584599999999,6993.6629,7581.6828,10018.3876,13181.790799999999,17507.3854,29156.0967,30440.7579,62036.9837,6.63,-3.7584,-186.6356,634.0880999999999,318.61830000000003,-39.8775,-226.4504,-1.1835,-387.9683,1234.0036,124.1886,228.9158,9.3312,54.3634,292.589,554.7663,4169.6969,1.2348,59.85560000000001,77.5074,479.3221,6993.6629,11.679999999999998,734.9167,-2691.7386,-20.393799999999967,76.169,187.9247,1676.198,422.2204,10.008,79.403,3.6288,59.11639999999999,10.6202,283.6492,37.0548,610.5908,-1003.0958,654.9194,2.6936,-249.35500000000002,-22.645599999999995,221.9373,-4.660999999999998,336.9608,217.0617,50.6615,20.8106,1216.8104,3.4415999999999998,81.6363,575.5226,62.445,202.07199999999997,-213.7116,992.8791,-89.6478,6.7232,764.5337999999998,-3622.8771999999994,58.6966,158.79559999999998,173.7276,149.2776,157.7661,-39.8683,-470.21389999999997,54.0386,42.8316,80.736,-182.35200000000003,81.46049999999998,4.7304,-429.7824,22.6278,27.191799999999994,1262.787,48.357800000000005,100.196,-6654.5688,205.12539999999998,248.43460000000002,175.3371,54.3438,-1055.3532000000002,-848.0079000000001,98.5884,1274.2421,11.635200000000003,47.17359999999999,-117.6224,-956.6841000000001,5606.1167,5897.101300000001,-32.9292,-718.6388999999999,6.9795,45.294,136.4532,41.4892,22.357799999999997,18.556800000000003,-43.7304,297.20889999999997,54.796800000000005,115.10940000000001,637.4977,-12.575199999999999,-2846.5257,9.8856,213.0453,15.552,-52.334,467.3864,140.8905,689.0556,-10.386,29.0542,122.1344,-244.92000000000002,1610.7442999999998,-236.7674,13181.790799999999,1021.4940999999999,92.72550000000001,-349.9295,477.6744,116.8699,87.0338,174.6191,102.0138,427.49780000000004,27.8086,243.10389999999998,634.2478,52.6872,-179.9007,16.6721,-212.13209999999998,-1.3984,71.0588,13.7547,27.753,134.03719999999998,411.88379999999995,1361.4787000000001,1210.3119,230.1497,169.4115,1818.6692,2168.9661,-252.6926,-161.3551,298.73269999999997,-26.055999999999997,1664.8679,-20.087999999999994,179.4696,948.2681,-18.8016,105.541,90.6259,-32.373,-14.743599999999994,402.76,138.253,52.5888,182.8598,13.8579,3.0576,7.98,-85.2311,233.92270000000002,8.7749,1582.7071,10.3614,228.4764,-122.9534,-548.9884,471.73220000000003,150.86440000000002,13.1952,77.5761,451.25470000000007,20.586,51.955799999999996,-9.385000000000002,953.8323,18.1275,889.5239,582.0694,74.62219999999999,629.0645999999999,4911.8609,-45.386700000000005,98.5269,-179.22749999999996,-1.0956000000000001,-169.9406,1.5455000000000005,66.6588,108.2012,60.392,22.3291,18.7173,62.083800000000004,-10153.548499999999,880.0391999999999,161.83080000000012,975.663,2741.6538,1026.6960000000001,4.4955,-100.5125,7581.6828,-2323.835,1285.7714999999998,8.662,11.856199999999994,801.1113,0.1548,2.1,19.7976,1028.0728,591.7956,47.1344,84.5982,-1165.0755000000001,272.0761,114.387,191.9858,18.0648,10018.3876,41.9815,241.2558,17.745,327.53139999999996,-188.63649999999998,1346.6021,3234.0278,-7239.0684,412.8734,-54.613899999999994,43.9394,332.4433,46.1733,2382.1465,235.50850000000003,2.3312,-31.349899999999998,83.8057,451.6626,79.5016,35.6202,68.3691,49.6048,26.6304,1154.6691,-98.8018,44.4858,46.9632,2108.9306,34.8252,38.8983,-632.9229,30440.7579,-1430.3129000000001,4.4778,1312.5717,147.1387,144.8535,1123.6552,31.1692,600.5054,10.9584,-66.7913,172.2358,385.01009999999997,2.3328,512.1456,-380.36229999999995,67.60679999999999,3.3150000000000004,-4.235199999999999,-163.87169999999998,19.700899999999997,-1343.0446,9.5616,-1479.04,-123.27420000000002,470.2212,95.214,-559.2314,-87.61999999999999,-1150.3704,157.6159,2293.6828,319.054,2793.0851000000002,6824.584599999999,32.28099999999999,96.592,151.06449999999998,152.495,-9.555,2175.8292,19.943,696.6242,3.9032,834.6571,101.4106,353.6301,7.846,1838.2271000000003,93.52079999999998,662.5146,15.6891,131.5286,92.0835,442.5966,-146.5324,13.5126,-837.4908,73.3529,50.4861,7.156700000000001,23.0839,368.41099999999994,62036.9837,5793.758799999999,1197.0469,59.238299999999995,353.313,8.0178,-110.0232,269.5287,9.670200000000001,2247.6899000000003,3.0798000000000005,164.08960000000002,152.0428,834.1029000000001,772.6798999999999,-69.71180000000001,1580.7606999999998,207.4108,139.6269,1841.6268,-46.137,66.5698,514.6335,67.992,377.72529999999995,-1.9656,-536.1275999999999,203.5218,27.642799999999994,346.4577,23.2624,17.6552,-238.45,-164.1893,31.061799999999995,89.87190000000004,357.5244,356.8186,740.49,39.4131,-72.4491,-1.476,-127.86630000000002,633.644,-237.5528,-13837.767400000002,-2790.8831999999998,62.737,70.2048,1235.6657,-383.0554,12.039100000000005,580.6549,181.35590000000002,150.299,15.006499999999999,105.77600000000002,2.934,4.449,6.5120000000000005,9.757299999999997,5505.6569,388.5674,-900.9719,347.0908,472.59399999999994,73.7442,44.7684,-268.76419999999996,25.0182,454.1556,-153.7178,176.4289,14.1426,115.0527,185.4324,258.8366,-24.489299999999997,5567.2486,119.5878,374.7296,1743.4191,54.3332,3.792,-1149.5077999999999,133.2147,18.5886,154.2138,-14.7708,1253.3871,2427.4353,-1183.4313,16.9632,2069.6859,77.18010000000001,311.4834,469.614,98.5541,24.8842,146.4036,151.9823,270.694,270.5181,329.2601,-58.5532,-7299.050200000001,69.982,42.5419,6377.196,17507.3854,290.8953,1216.0579,1.1946,-19.3413,35.3346,520.5891,-11.827200000000001,836.7465000000001,457.2858,76.0016,20.688000000000002,30.0144,-89.4879,29156.0967,34.3419,21.4053,16.8281,343.4299,-346.87,826.7036,279.5512,412.8902,228.536,172.2261,1.419,6200.6974,33.0676,339.52639999999997,389.8122,196.91320000000002,107.5073,514.0822000000001,392.71160000000003,-351.89610000000005,-325.2366,44.8682,101.8869,95.4496,163.3746,20.221799999999995,31.6586,33.3939,140.8398,99.914,-216.28610000000003,-8.9152,-339.99679999999995,545.1510000000001,652.0998,-544.1518000000001,-64.96680000000002,1506.9349999999997,51.010400000000004,266.1649,-443.7086,57.718,188.55960000000002,110.0528,336.03549999999996,75.4546,62.2518,2024.8837,88.0478,-520.1034,53.6884,1063.7956,1059.5892999999999,338.9355,11.824800000000002,907.0072,14.169999999999998,90.4306,603.3858,28.370800000000003,102.6723,31.6092,153.17579999999998,389.5995,763.6886000000001,-107.39620000000005,44.4768,323.9266,1947.7019,-14.336000000000002,196.09619999999998,33.3848,79.9929,78.6791,2767.7557,-102.16919999999999,13.208,-465.9909]},\"name\":\"\",\"parents\":[\"Philadelphia\",\"Houston\",\"San Antonio\",\"Lancaster\",\"Chicago\",\"Burlington\",\"Dallas\",\"Phoenix\",\"Aurora\",\"Jacksonville\",\"Memphis\",\"Louisville\",\"Medina\",\"Round Rock\",\"Knoxville\",\"Miami\",\"Rockford\",\"Clarksville\",\"Bethlehem\",\"Colorado Springs\",\"Pueblo\",\"Cleveland\",\"Nashville\",\"Concord\",\"Lorain\",\"Mesa\",\"Greenville\",\"Troy\",\"Oswego\",\"Waco\",\"Carrollton\",\"Yuma\",\"Tyler\",\"Charlotte\",\"Amarillo\",\"Plano\",\"Marion\",\"Tamarac\",\"Dublin\",\"Skokie\",\"Toledo\",\"Tampa\",\"Reading\",\"Fort Collins\",\"Bloomington\",\"Denver\",\"Park Ridge\",\"Pharr\",\"Des Plaines\",\"Allentown\",\"Tigard\",\"Bryan\",\"Elmhurst\",\"Lakeland\",\"Akron\",\"Champaign\",\"El Paso\",\"Hialeah\",\"Highland Park\",\"Parker\",\"Mcallen\",\"Fort Lauderdale\",\"Redmond\",\"Naperville\",\"Peoria\",\"Mentor\",\"Greensboro\",\"College Station\",\"Normal\",\"Wheeling\",\"York\",\"Irving\",\"Littleton\",\"Buffalo Grove\",\"Scottsdale\",\"Mesquite\",\"Grand Prairie\",\"Pembroke Pines\",\"Odessa\",\"Mansfield\",\"Tucson\",\"San Angelo\",\"Laredo\",\"Daytona Beach\",\"Ontario\",\"Hendersonville\",\"Corpus Christi\",\"Allen\",\"Carol Stream\",\"Commerce City\",\"Garland\",\"League City\",\"Frankfort\",\"Richardson\",\"Boca Raton\",\"Austin\",\"Freeport\",\"San Marcos\",\"Frisco\",\"Romeoville\",\"Gastonia\",\"Wilson\",\"Cuyahoga Falls\",\"Sanford\",\"Deer Park\",\"Missouri City\",\"Hamilton\",\"Tinley Park\",\"Bolingbrook\",\"Mason\",\"Abilene\",\"Ormond Beach\",\"Pensacola\",\"Elyria\",\"Altoona\",\"Hickory\",\"Jupiter\",\"San Luis Obispo\",\"Arlington Heights\",\"Springdale\",\"Hillsboro\",\"Keller\",\"Layton\",\"Margate\",\"Billings\",\"Port Orange\",\"Goldsboro\",\"North Miami\",\"Marysville\",\"Bridgeton\",\"Baytown\",\"Rock Hill\",\"Montebello\",\"Port Saint Lucie\",\"Loveland\",\"Iowa City\",\"Chapel Hill\",\"Portage\",\"Aberdeen\",\"Bullhead City\",\"Conroe\",\"New Brunswick\",\"Morgan Hill\",\"Grand Island\",\"Norfolk\",\"Jefferson City\",\"Grapevine\",\"Antioch\",\"Melbourne\",\"North Charleston\",\"Portland\",\"Danbury\",\"Bartlett\",\"Greeley\",\"Bedford\",\"Manhattan\",\"Clovis\",\"Atlantic City\",\"Waterloo\",\"Johnson City\",\"Plantation\",\"Grove City\",\"Yucaipa\",\"Nashua\",\"Englewood\",\"Glenview\",\"Redwood City\",\"Waukesha\",\"Pompano Beach\",\"Davis\",\"Murfreesboro\",\"Elkhart\",\"Sierra Vista\",\"Royal Oak\",\"Palm Coast\",\"Lake Elsinore\",\"La Quinta\",\"Harlingen\",\"Coral Springs\",\"Rogers\",\"Hoover\",\"Medford\",\"Kenner\",\"Modesto\",\"Texas City\",\"Hagerstown\",\"Santa Fe\",\"Bozeman\",\"Shelton\",\"Homestead\",\"Coral Gables\",\"Charlottesville\",\"New Castle\",\"Palatine\",\"Saint Paul\",\"Redding\",\"Lindenhurst\",\"Chattanooga\",\"Owensboro\",\"Escondido\",\"Edinburg\",\"West Allis\",\"Delray Beach\",\"Santa Maria\",\"Parma\",\"Malden\",\"West Palm Beach\",\"The Colony\",\"Miramar\",\"Sterling Heights\",\"Woodland\",\"Thomasville\",\"Sheboygan\",\"Longmont\",\"San Mateo\",\"Lewiston\",\"Bellevue\",\"Longview\",\"Pearland\",\"Coppell\",\"Laguna Niguel\",\"San Clemente\",\"Cedar Hill\",\"Las Cruces\",\"Whittier\",\"Lodi\",\"Rapid City\",\"Taylor\",\"Conway\",\"Laurel\",\"Logan\",\"Kirkwood\",\"Coachella\",\"Chester\",\"Linden\",\"New Bedford\",\"Boynton Beach\",\"Tuscaloosa\",\"Haltom City\",\"Gladstone\",\"El Cajon\",\"Warner Robins\",\"Cary\",\"Rochester Hills\",\"Citrus Heights\",\"Apopka\",\"Cottage Grove\",\"Urbandale\",\"Caldwell\",\"Beaumont\",\"Niagara Falls\",\"Arvada\",\"Holyoke\",\"Hot Springs\",\"Vineland\",\"Broomfield\",\"Pico Rivera\",\"Orange\",\"Holland\",\"Marlborough\",\"Orland Park\",\"Lincoln Park\",\"San Bernardino\",\"Pine Bluff\",\"Encinitas\",\"New Albany\",\"Rancho Cucamonga\",\"Helena\",\"Vancouver\",\"Santa Clara\",\"Avondale\",\"Saginaw\",\"Asheville\",\"Gulfport\",\"Woonsocket\",\"Bayonne\",\"Leominster\",\"Woodstock\",\"Cedar Rapids\",\"Chandler\",\"Bristol\",\"Lebanon\",\"Kissimmee\",\"Eagan\",\"Visalia\",\"Pasadena\",\"Wausau\",\"Garden City\",\"Murrieta\",\"Draper\",\"Mount Pleasant\",\"Meridian\",\"Tempe\",\"Mishawaka\",\"Hesperia\",\"Saint Louis\",\"Clifton\",\"Thousand Oaks\",\"Cheyenne\",\"Moorhead\",\"Temecula\",\"East Point\",\"West Jordan\",\"Gaithersburg\",\"Port Arthur\",\"Sunnyvale\",\"Hollywood\",\"Vacaville\",\"La Mesa\",\"Reno\",\"Covington\",\"Durham\",\"Rio Rancho\",\"Deltona\",\"Andover\",\"Murray\",\"Rockville\",\"Eugene\",\"Coon Rapids\",\"Gilbert\",\"Olympia\",\"Thornton\",\"Dearborn Heights\",\"Macon\",\"Saint Peters\",\"Lubbock\",\"Canton\",\"Pomona\",\"Gresham\",\"Mission Viejo\",\"Saint Petersburg\",\"Oak Park\",\"Missoula\",\"Westfield\",\"Rome\",\"Middletown\",\"Carlsbad\",\"Camarillo\",\"Huntsville\",\"Texarkana\",\"Norwich\",\"Farmington\",\"Spokane\",\"Manteca\",\"Cambridge\",\"East Orange\",\"Cincinnati\",\"Redondo Beach\",\"Fremont\",\"Pocatello\",\"Glendale\",\"Renton\",\"Bakersfield\",\"Utica\",\"La Porte\",\"Woodbury\",\"Summerville\",\"Brownsville\",\"Overland Park\",\"Chico\",\"Olathe\",\"Danville\",\"Bowling Green\",\"Boise\",\"Green Bay\",\"Sparks\",\"Ann Arbor\",\"Fargo\",\"Grand Rapids\",\"Lawton\",\"Lake Charles\",\"Edmond\",\"Chula Vista\",\"Revere\",\"Twin Falls\",\"Norman\",\"Salinas\",\"Salem\",\"La Crosse\",\"South Bend\",\"Belleville\",\"San Gabriel\",\"Apple Valley\",\"Costa Mesa\",\"Fort Worth\",\"Saint Charles\",\"Alexandria\",\"Milford\",\"Wichita\",\"Lake Forest\",\"Salt Lake City\",\"Las Vegas\",\"Vallejo\",\"Bossier City\",\"Waterbury\",\"Stockton\",\"Sioux Falls\",\"Oxnard\",\"Quincy\",\"Noblesville\",\"Moreno Valley\",\"Passaic\",\"Pasco\",\"New Rochelle\",\"Riverside\",\"Orlando\",\"Maple Grove\",\"Provo\",\"Westland\",\"Suffolk\",\"Tallahassee\",\"Georgetown\",\"Evanston\",\"Lansing\",\"Southaven\",\"Bangor\",\"Eau Claire\",\"Muskogee\",\"Hackensack\",\"Lehi\",\"Redlands\",\"Santa Barbara\",\"Dearborn\",\"Saint Cloud\",\"Meriden\",\"Greenwood\",\"Raleigh\",\"Dubuque\",\"Athens\",\"Marietta\",\"Superior\",\"Orem\",\"Sandy Springs\",\"Torrance\",\"Appleton\",\"Broken Arrow\",\"Pleasant Grove\",\"Hattiesburg\",\"Kent\",\"Manchester\",\"Waynesboro\",\"Bellingham\",\"Hempstead\",\"Perth Amboy\",\"Albuquerque\",\"Edmonds\",\"Cranston\",\"Trenton\",\"Beverly\",\"Mount Vernon\",\"Decatur\",\"Monroe\",\"Auburn\",\"Paterson\",\"Westminster\",\"Burbank\",\"Oceanside\",\"Jonesboro\",\"Smyrna\",\"Oakland\",\"Montgomery\",\"Santa Ana\",\"Huntington Beach\",\"Harrisonburg\",\"Watertown\",\"Fresno\",\"Hampton\",\"Independence\",\"Buffalo\",\"Dover\",\"Inglewood\",\"Kenosha\",\"Washington\",\"Warwick\",\"Madison\",\"Little Rock\",\"Newport News\",\"Fairfield\",\"San Jose\",\"Brentwood\",\"Anaheim\",\"Plainfield\",\"Roseville\",\"Chesapeake\",\"Clinton\",\"Jamestown\",\"Lowell\",\"Lakeville\",\"Everett\",\"Tulsa\",\"Oklahoma City\",\"Great Falls\",\"Des Moines\",\"Franklin\",\"Baltimore\",\"Rochester\",\"Fayetteville\",\"Morristown\",\"Omaha\",\"Wilmington\",\"Virginia Beach\",\"Sacramento\",\"Long Beach\",\"Florence\",\"Mobile\",\"North Las Vegas\",\"Midland\",\"Lawrence\",\"Roswell\",\"Indianapolis\",\"Yonkers\",\"Milwaukee\",\"Lakewood\",\"Arlington\",\"Henderson\",\"Providence\",\"Richmond\",\"Columbia\",\"Newark\",\"Columbus\",\"Springfield\",\"San Diego\",\"Minneapolis\",\"Atlanta\",\"Jackson\",\"Lafayette\",\"Detroit\",\"San Francisco\",\"Seattle\",\"Los Angeles\",\"New York City\",\"\",\"\",\"\",\"\",\"\",\"\",\"\",\"\",\"\",\"\",\"\",\"\",\"\",\"\",\"\",\"\",\"\",\"\",\"\",\"\",\"\",\"\",\"\",\"\",\"\",\"\",\"\",\"\",\"\",\"\",\"\",\"\",\"\",\"\",\"\",\"\",\"\",\"\",\"\",\"\",\"\",\"\",\"\",\"\",\"\",\"\",\"\",\"\",\"\",\"\",\"\",\"\",\"\",\"\",\"\",\"\",\"\",\"\",\"\",\"\",\"\",\"\",\"\",\"\",\"\",\"\",\"\",\"\",\"\",\"\",\"\",\"\",\"\",\"\",\"\",\"\",\"\",\"\",\"\",\"\",\"\",\"\",\"\",\"\",\"\",\"\",\"\",\"\",\"\",\"\",\"\",\"\",\"\",\"\",\"\",\"\",\"\",\"\",\"\",\"\",\"\",\"\",\"\",\"\",\"\",\"\",\"\",\"\",\"\",\"\",\"\",\"\",\"\",\"\",\"\",\"\",\"\",\"\",\"\",\"\",\"\",\"\",\"\",\"\",\"\",\"\",\"\",\"\",\"\",\"\",\"\",\"\",\"\",\"\",\"\",\"\",\"\",\"\",\"\",\"\",\"\",\"\",\"\",\"\",\"\",\"\",\"\",\"\",\"\",\"\",\"\",\"\",\"\",\"\",\"\",\"\",\"\",\"\",\"\",\"\",\"\",\"\",\"\",\"\",\"\",\"\",\"\",\"\",\"\",\"\",\"\",\"\",\"\",\"\",\"\",\"\",\"\",\"\",\"\",\"\",\"\",\"\",\"\",\"\",\"\",\"\",\"\",\"\",\"\",\"\",\"\",\"\",\"\",\"\",\"\",\"\",\"\",\"\",\"\",\"\",\"\",\"\",\"\",\"\",\"\",\"\",\"\",\"\",\"\",\"\",\"\",\"\",\"\",\"\",\"\",\"\",\"\",\"\",\"\",\"\",\"\",\"\",\"\",\"\",\"\",\"\",\"\",\"\",\"\",\"\",\"\",\"\",\"\",\"\",\"\",\"\",\"\",\"\",\"\",\"\",\"\",\"\",\"\",\"\",\"\",\"\",\"\",\"\",\"\",\"\",\"\",\"\",\"\",\"\",\"\",\"\",\"\",\"\",\"\",\"\",\"\",\"\",\"\",\"\",\"\",\"\",\"\",\"\",\"\",\"\",\"\",\"\",\"\",\"\",\"\",\"\",\"\",\"\",\"\",\"\",\"\",\"\",\"\",\"\",\"\",\"\",\"\",\"\",\"\",\"\",\"\",\"\",\"\",\"\",\"\",\"\",\"\",\"\",\"\",\"\",\"\",\"\",\"\",\"\",\"\",\"\",\"\",\"\",\"\",\"\",\"\",\"\",\"\",\"\",\"\",\"\",\"\",\"\",\"\",\"\",\"\",\"\",\"\",\"\",\"\",\"\",\"\",\"\",\"\",\"\",\"\",\"\",\"\",\"\",\"\",\"\",\"\",\"\",\"\",\"\",\"\",\"\",\"\",\"\",\"\",\"\",\"\",\"\",\"\",\"\",\"\",\"\",\"\",\"\",\"\",\"\",\"\",\"\",\"\",\"\",\"\",\"\",\"\",\"\",\"\",\"\",\"\",\"\",\"\",\"\",\"\",\"\",\"\",\"\",\"\",\"\",\"\",\"\",\"\",\"\",\"\",\"\",\"\",\"\",\"\",\"\",\"\",\"\",\"\",\"\",\"\",\"\",\"\",\"\",\"\",\"\",\"\",\"\",\"\",\"\",\"\",\"\",\"\",\"\",\"\",\"\",\"\",\"\",\"\",\"\",\"\",\"\",\"\",\"\",\"\",\"\",\"\",\"\",\"\",\"\",\"\",\"\",\"\",\"\",\"\",\"\",\"\",\"\",\"\",\"\",\"\",\"\",\"\",\"\",\"\",\"\",\"\",\"\",\"\",\"\",\"\",\"\",\"\",\"\",\"\",\"\",\"\",\"\",\"\",\"\",\"\",\"\",\"\",\"\",\"\",\"\",\"\",\"\",\"\",\"\",\"\",\"\",\"\",\"\",\"\",\"\",\"\",\"\",\"\",\"\",\"\",\"\",\"\",\"\",\"\",\"\",\"\",\"\",\"\",\"\",\"\",\"\",\"\",\"\",\"\",\"\",\"\",\"\",\"\",\"\",\"\",\"\",\"\",\"\",\"\",\"\",\"\",\"\",\"\",\"\",\"\",\"\",\"\",\"\",\"\",\"\",\"\",\"\",\"\",\"\",\"\",\"\",\"\",\"\",\"\",\"\",\"\",\"\",\"\",\"\",\"\",\"\",\"\",\"\",\"\",\"\",\"\",\"\",\"\",\"\",\"\"],\"values\":[-13837.7674,-10153.548499999999,-7299.050200000001,-7239.0684,-6654.5688,-3622.8772,-2846.5257,-2790.8831999999998,-2691.7386,-2323.835,-1479.04,-1430.3129000000001,-1343.0446,-1183.4313,-1165.0755000000001,-1150.3704,-1149.5077999999999,-1055.3532000000002,-1003.0958,-956.6841000000001,-900.9719,-848.0079000000001,-837.4908,-718.6388999999999,-632.9229,-559.2314,-548.9884,-544.1518000000001,-536.1275999999999,-520.1034,-470.21389999999997,-465.9909,-443.7086,-429.7824,-387.9683,-383.0554,-380.3623,-351.89610000000005,-349.9295,-346.87,-339.99679999999995,-325.2366,-268.76419999999996,-252.6926,-249.35500000000002,-244.92000000000002,-238.45,-237.5528,-236.7674,-226.4504,-216.2861,-213.7116,-212.13209999999998,-188.63649999999998,-186.6356,-182.352,-179.9007,-179.22749999999996,-169.9406,-164.1893,-163.87169999999998,-161.3551,-153.7178,-146.5324,-127.86630000000002,-123.27420000000002,-122.9534,-117.6224,-110.0232,-107.39620000000005,-102.16919999999999,-100.51250000000002,-98.8018,-89.6478,-89.4879,-87.61999999999999,-85.2311,-72.4491,-69.71180000000001,-66.7913,-64.96680000000002,-58.5532,-54.613899999999994,-52.334,-46.137,-45.386700000000005,-43.7304,-39.8775,-39.8683,-32.9292,-32.373,-31.349899999999998,-26.055999999999997,-24.4893,-22.645599999999998,-20.393799999999967,-20.087999999999994,-19.3413,-18.8016,-14.7708,-14.743599999999995,-14.336000000000002,-12.575199999999999,-11.827200000000001,-10.386,-9.555,-9.385000000000002,-8.9152,-4.660999999999998,-4.235199999999999,-3.7584,-1.9656,-1.476,-1.3984,-1.1835,-1.0956000000000001,0.1548,1.1946,1.2348,1.419,1.5455000000000005,2.1,2.3312,2.3328,2.6936,2.934,3.0576,3.0798000000000005,3.3150000000000004,3.4415999999999998,3.6288,3.792,3.9032,4.449,4.4778,4.4955,4.7304,6.512,6.63,6.7232,6.9795,7.156700000000001,7.846,7.98,8.0178,8.662,8.7749,9.3312,9.5616,9.670200000000001,9.757299999999997,9.8856,10.008,10.3614,10.6202,10.9584,11.635200000000001,11.68,11.8248,11.856199999999994,12.039100000000005,13.1952,13.208,13.512599999999999,13.7547,13.8579,14.1426,14.17,15.006499999999999,15.552,15.6891,16.6721,16.8281,16.9632,17.6552,17.745,18.0648,18.1275,18.556800000000003,18.5886,18.7173,19.700899999999997,19.7976,19.943,20.221799999999995,20.586,20.688000000000002,20.8106,21.4053,22.3291,22.357799999999997,22.6278,23.0839,23.2624,24.8842,25.0182,26.6304,27.191799999999994,27.642799999999998,27.753,27.8086,28.370800000000003,29.0542,30.0144,31.061799999999995,31.1692,31.6092,31.6586,32.28099999999999,33.0676,33.3848,33.3939,34.3419,34.8252,35.3346,35.6202,37.0548,38.8983,39.4131,41.4892,41.9815,42.5419,42.8316,43.9394,44.4768,44.4858,44.7684,44.8682,45.294,46.1733,46.9632,47.1344,47.1736,48.357800000000005,49.6048,50.4861,50.661500000000004,51.010400000000004,51.955799999999996,52.5888,52.6872,53.6884,54.0386,54.3332,54.3438,54.3634,54.796800000000005,57.718,58.6966,59.11639999999999,59.238299999999995,59.8556,60.392,62.083800000000004,62.2518,62.445,62.737,66.5698,66.6588,67.60679999999999,67.992,68.3691,69.982,70.2048,71.0588,73.3529,73.7442,74.62219999999999,75.4546,76.0016,76.169,77.18010000000001,77.5074,77.5761,78.6791,79.403,79.5016,79.9929,80.736,81.46049999999998,81.6363,83.8057,84.5982,87.0338,88.0478,89.87190000000004,90.4306,90.6259,92.0835,92.72550000000001,93.5208,95.214,95.4496,96.59200000000001,98.5269,98.5541,98.58840000000001,99.914,100.196,101.4106,101.8869,102.0138,102.6723,105.541,105.77600000000001,107.5073,108.2012,110.0528,114.387,115.0527,115.10940000000001,116.8699,119.5878,122.1344,124.1886,131.5286,133.2147,134.03719999999998,136.4532,138.253,139.6269,140.8398,140.8905,144.8535,146.4036,147.1387,149.2776,150.299,150.86440000000002,151.06449999999998,151.9823,152.0428,152.495,153.17579999999998,154.2138,157.6159,157.7661,158.79559999999998,161.83080000000012,163.3746,164.08960000000002,169.4115,172.2261,172.2358,173.7276,174.6191,175.3371,176.4289,179.4696,181.35590000000002,182.8598,185.4324,187.9247,188.55960000000002,191.98579999999998,196.09619999999998,196.91320000000002,202.072,203.5218,205.12539999999998,207.4108,213.0453,217.0617,221.9373,228.4764,228.536,228.9158,230.1497,233.92270000000002,235.50850000000003,241.2558,243.10389999999998,248.43460000000002,258.8366,266.1649,269.5287,270.5181,270.694,272.0761,279.5512,283.6492,290.8953,292.589,297.20889999999997,298.73269999999997,311.4834,318.61830000000003,319.054,323.9266,327.53139999999996,329.2601,332.4433,336.03549999999996,336.9608,338.9355,339.52639999999997,343.4299,346.4577,347.0908,353.313,353.6301,356.8186,357.5244,368.411,374.7296,377.7253,385.01009999999997,388.5674,389.5995,389.8122,392.71160000000003,402.76,411.88379999999995,412.8734,412.8902,422.2204,427.49780000000004,442.5966,451.2547,451.6626,454.1556,457.2858,467.3864,469.614,470.2212,471.73220000000003,472.594,477.6744,479.3221,512.1456,514.0822000000001,514.6335,520.5891,545.1510000000001,554.7663,575.5226,580.6549,582.0694,591.7956,600.5054,603.3858,610.5908,629.0645999999999,633.644,634.0880999999999,634.2478,637.4977,652.0998,654.9194,662.5146,689.0556,696.6242,734.9167,740.49,763.6886000000001,764.5337999999999,772.6799,801.1113,826.7036,834.1029000000001,834.6571,836.7465000000001,880.0391999999999,889.5239,907.0072,948.2681,953.8323,975.663,992.8791000000001,1021.4940999999999,1026.6960000000001,1028.0728,1059.5892999999999,1063.7956,1123.6552,1154.6691,1197.0469,1210.3119,1216.0579,1216.8104,1234.0036,1235.6657,1253.3871,1262.787,1274.2421,1285.7714999999998,1312.5717,1346.6021,1361.4787000000001,1506.935,1580.7607,1582.7071,1610.7442999999998,1664.8679,1676.198,1743.4191,1818.6692,1838.2271,1841.6268,1947.7019,2024.8837,2069.6859,2108.9306,2168.9661,2175.8292,2247.6899000000003,2293.6828,2382.1465,2427.4353,2741.6538,2767.7557,2793.0851000000002,3234.0278,4169.6969,4911.8609,5505.6569,5567.2486,5606.1167,5793.7588,5897.1013,6200.6974,6377.196,6824.584599999999,6993.6629,7581.6828,10018.3876,13181.790799999999,17507.3854,29156.0967,30440.7579,62036.9837,6.63,-3.7584,-186.6356,634.0880999999999,318.61830000000003,-39.8775,-226.4504,-1.1835,-387.9683,1234.0036,124.1886,228.9158,9.3312,54.3634,292.589,554.7663,4169.6969,1.2348,59.8556,77.5074,479.3221,6993.6629,11.68,734.9167,-2691.7386,-20.393799999999967,76.169,187.9247,1676.198,422.2204,10.008,79.403,3.6288,59.11639999999999,10.6202,283.6492,37.0548,610.5908,-1003.0958,654.9194,2.6936,-249.35500000000002,-22.645599999999998,221.9373,-4.660999999999998,336.9608,217.0617,50.661500000000004,20.8106,1216.8104,3.4415999999999998,81.6363,575.5226,62.445,202.072,-213.7116,992.8791000000001,-89.6478,6.7232,764.5337999999999,-3622.8772,58.6966,158.79559999999998,173.7276,149.2776,157.7661,-39.8683,-470.21389999999997,54.0386,42.8316,80.736,-182.352,81.46049999999998,4.7304,-429.7824,22.6278,27.191799999999994,1262.787,48.357800000000005,100.196,-6654.5688,205.12539999999998,248.43460000000002,175.3371,54.3438,-1055.3532000000002,-848.0079000000001,98.58840000000001,1274.2421,11.635200000000001,47.1736,-117.6224,-956.6841000000001,5606.1167,5897.1013,-32.9292,-718.6388999999999,6.9795,45.294,136.4532,41.4892,22.357799999999997,18.556800000000003,-43.7304,297.20889999999997,54.796800000000005,115.10940000000001,637.4977,-12.575199999999999,-2846.5257,9.8856,213.0453,15.552,-52.334,467.3864,140.8905,689.0556,-10.386,29.0542,122.1344,-244.92000000000002,1610.7442999999998,-236.7674,13181.790799999999,1021.4940999999999,92.72550000000001,-349.9295,477.6744,116.8699,87.0338,174.6191,102.0138,427.49780000000004,27.8086,243.10389999999998,634.2478,52.6872,-179.9007,16.6721,-212.13209999999998,-1.3984,71.0588,13.7547,27.753,134.03719999999998,411.88379999999995,1361.4787000000001,1210.3119,230.1497,169.4115,1818.6692,2168.9661,-252.6926,-161.3551,298.73269999999997,-26.055999999999997,1664.8679,-20.087999999999994,179.4696,948.2681,-18.8016,105.541,90.6259,-32.373,-14.743599999999995,402.76,138.253,52.5888,182.8598,13.8579,3.0576,7.98,-85.2311,233.92270000000002,8.7749,1582.7071,10.3614,228.4764,-122.9534,-548.9884,471.73220000000003,150.86440000000002,13.1952,77.5761,451.2547,20.586,51.955799999999996,-9.385000000000002,953.8323,18.1275,889.5239,582.0694,74.62219999999999,629.0645999999999,4911.8609,-45.386700000000005,98.5269,-179.22749999999996,-1.0956000000000001,-169.9406,1.5455000000000005,66.6588,108.2012,60.392,22.3291,18.7173,62.083800000000004,-10153.548499999999,880.0391999999999,161.83080000000012,975.663,2741.6538,1026.6960000000001,4.4955,-100.51250000000002,7581.6828,-2323.835,1285.7714999999998,8.662,11.856199999999994,801.1113,0.1548,2.1,19.7976,1028.0728,591.7956,47.1344,84.5982,-1165.0755000000001,272.0761,114.387,191.98579999999998,18.0648,10018.3876,41.9815,241.2558,17.745,327.53139999999996,-188.63649999999998,1346.6021,3234.0278,-7239.0684,412.8734,-54.613899999999994,43.9394,332.4433,46.1733,2382.1465,235.50850000000003,2.3312,-31.349899999999998,83.8057,451.6626,79.5016,35.6202,68.3691,49.6048,26.6304,1154.6691,-98.8018,44.4858,46.9632,2108.9306,34.8252,38.8983,-632.9229,30440.7579,-1430.3129000000001,4.4778,1312.5717,147.1387,144.8535,1123.6552,31.1692,600.5054,10.9584,-66.7913,172.2358,385.01009999999997,2.3328,512.1456,-380.3623,67.60679999999999,3.3150000000000004,-4.235199999999999,-163.87169999999998,19.700899999999997,-1343.0446,9.5616,-1479.04,-123.27420000000002,470.2212,95.214,-559.2314,-87.61999999999999,-1150.3704,157.6159,2293.6828,319.054,2793.0851000000002,6824.584599999999,32.28099999999999,96.59200000000001,151.06449999999998,152.495,-9.555,2175.8292,19.943,696.6242,3.9032,834.6571,101.4106,353.6301,7.846,1838.2271,93.5208,662.5146,15.6891,131.5286,92.0835,442.5966,-146.5324,13.512599999999999,-837.4908,73.3529,50.4861,7.156700000000001,23.0839,368.411,62036.9837,5793.7588,1197.0469,59.238299999999995,353.313,8.0178,-110.0232,269.5287,9.670200000000001,2247.6899000000003,3.0798000000000005,164.08960000000002,152.0428,834.1029000000001,772.6799,-69.71180000000001,1580.7607,207.4108,139.6269,1841.6268,-46.137,66.5698,514.6335,67.992,377.7253,-1.9656,-536.1275999999999,203.5218,27.642799999999998,346.4577,23.2624,17.6552,-238.45,-164.1893,31.061799999999995,89.87190000000004,357.5244,356.8186,740.49,39.4131,-72.4491,-1.476,-127.86630000000002,633.644,-237.5528,-13837.7674,-2790.8831999999998,62.737,70.2048,1235.6657,-383.0554,12.039100000000005,580.6549,181.35590000000002,150.299,15.006499999999999,105.77600000000001,2.934,4.449,6.512,9.757299999999997,5505.6569,388.5674,-900.9719,347.0908,472.594,73.7442,44.7684,-268.76419999999996,25.0182,454.1556,-153.7178,176.4289,14.1426,115.0527,185.4324,258.8366,-24.4893,5567.2486,119.5878,374.7296,1743.4191,54.3332,3.792,-1149.5077999999999,133.2147,18.5886,154.2138,-14.7708,1253.3871,2427.4353,-1183.4313,16.9632,2069.6859,77.18010000000001,311.4834,469.614,98.5541,24.8842,146.4036,151.9823,270.694,270.5181,329.2601,-58.5532,-7299.050200000001,69.982,42.5419,6377.196,17507.3854,290.8953,1216.0579,1.1946,-19.3413,35.3346,520.5891,-11.827200000000001,836.7465000000001,457.2858,76.0016,20.688000000000002,30.0144,-89.4879,29156.0967,34.3419,21.4053,16.8281,343.4299,-346.87,826.7036,279.5512,412.8902,228.536,172.2261,1.419,6200.6974,33.0676,339.52639999999997,389.8122,196.91320000000002,107.5073,514.0822000000001,392.71160000000003,-351.89610000000005,-325.2366,44.8682,101.8869,95.4496,163.3746,20.221799999999995,31.6586,33.3939,140.8398,99.914,-216.2861,-8.9152,-339.99679999999995,545.1510000000001,652.0998,-544.1518000000001,-64.96680000000002,1506.935,51.010400000000004,266.1649,-443.7086,57.718,188.55960000000002,110.0528,336.03549999999996,75.4546,62.2518,2024.8837,88.0478,-520.1034,53.6884,1063.7956,1059.5892999999999,338.9355,11.8248,907.0072,14.17,90.4306,603.3858,28.370800000000003,102.6723,31.6092,153.17579999999998,389.5995,763.6886000000001,-107.39620000000005,44.4768,323.9266,1947.7019,-14.336000000000002,196.09619999999998,33.3848,79.9929,78.6791,2767.7557,-102.16919999999999,13.208,-465.9909],\"type\":\"treemap\"}],                        {\"template\":{\"data\":{\"histogram2dcontour\":[{\"type\":\"histogram2dcontour\",\"colorbar\":{\"outlinewidth\":0,\"ticks\":\"\"},\"colorscale\":[[0.0,\"#0d0887\"],[0.1111111111111111,\"#46039f\"],[0.2222222222222222,\"#7201a8\"],[0.3333333333333333,\"#9c179e\"],[0.4444444444444444,\"#bd3786\"],[0.5555555555555556,\"#d8576b\"],[0.6666666666666666,\"#ed7953\"],[0.7777777777777778,\"#fb9f3a\"],[0.8888888888888888,\"#fdca26\"],[1.0,\"#f0f921\"]]}],\"choropleth\":[{\"type\":\"choropleth\",\"colorbar\":{\"outlinewidth\":0,\"ticks\":\"\"}}],\"histogram2d\":[{\"type\":\"histogram2d\",\"colorbar\":{\"outlinewidth\":0,\"ticks\":\"\"},\"colorscale\":[[0.0,\"#0d0887\"],[0.1111111111111111,\"#46039f\"],[0.2222222222222222,\"#7201a8\"],[0.3333333333333333,\"#9c179e\"],[0.4444444444444444,\"#bd3786\"],[0.5555555555555556,\"#d8576b\"],[0.6666666666666666,\"#ed7953\"],[0.7777777777777778,\"#fb9f3a\"],[0.8888888888888888,\"#fdca26\"],[1.0,\"#f0f921\"]]}],\"heatmap\":[{\"type\":\"heatmap\",\"colorbar\":{\"outlinewidth\":0,\"ticks\":\"\"},\"colorscale\":[[0.0,\"#0d0887\"],[0.1111111111111111,\"#46039f\"],[0.2222222222222222,\"#7201a8\"],[0.3333333333333333,\"#9c179e\"],[0.4444444444444444,\"#bd3786\"],[0.5555555555555556,\"#d8576b\"],[0.6666666666666666,\"#ed7953\"],[0.7777777777777778,\"#fb9f3a\"],[0.8888888888888888,\"#fdca26\"],[1.0,\"#f0f921\"]]}],\"heatmapgl\":[{\"type\":\"heatmapgl\",\"colorbar\":{\"outlinewidth\":0,\"ticks\":\"\"},\"colorscale\":[[0.0,\"#0d0887\"],[0.1111111111111111,\"#46039f\"],[0.2222222222222222,\"#7201a8\"],[0.3333333333333333,\"#9c179e\"],[0.4444444444444444,\"#bd3786\"],[0.5555555555555556,\"#d8576b\"],[0.6666666666666666,\"#ed7953\"],[0.7777777777777778,\"#fb9f3a\"],[0.8888888888888888,\"#fdca26\"],[1.0,\"#f0f921\"]]}],\"contourcarpet\":[{\"type\":\"contourcarpet\",\"colorbar\":{\"outlinewidth\":0,\"ticks\":\"\"}}],\"contour\":[{\"type\":\"contour\",\"colorbar\":{\"outlinewidth\":0,\"ticks\":\"\"},\"colorscale\":[[0.0,\"#0d0887\"],[0.1111111111111111,\"#46039f\"],[0.2222222222222222,\"#7201a8\"],[0.3333333333333333,\"#9c179e\"],[0.4444444444444444,\"#bd3786\"],[0.5555555555555556,\"#d8576b\"],[0.6666666666666666,\"#ed7953\"],[0.7777777777777778,\"#fb9f3a\"],[0.8888888888888888,\"#fdca26\"],[1.0,\"#f0f921\"]]}],\"surface\":[{\"type\":\"surface\",\"colorbar\":{\"outlinewidth\":0,\"ticks\":\"\"},\"colorscale\":[[0.0,\"#0d0887\"],[0.1111111111111111,\"#46039f\"],[0.2222222222222222,\"#7201a8\"],[0.3333333333333333,\"#9c179e\"],[0.4444444444444444,\"#bd3786\"],[0.5555555555555556,\"#d8576b\"],[0.6666666666666666,\"#ed7953\"],[0.7777777777777778,\"#fb9f3a\"],[0.8888888888888888,\"#fdca26\"],[1.0,\"#f0f921\"]]}],\"mesh3d\":[{\"type\":\"mesh3d\",\"colorbar\":{\"outlinewidth\":0,\"ticks\":\"\"}}],\"scatter\":[{\"fillpattern\":{\"fillmode\":\"overlay\",\"size\":10,\"solidity\":0.2},\"type\":\"scatter\"}],\"parcoords\":[{\"type\":\"parcoords\",\"line\":{\"colorbar\":{\"outlinewidth\":0,\"ticks\":\"\"}}}],\"scatterpolargl\":[{\"type\":\"scatterpolargl\",\"marker\":{\"colorbar\":{\"outlinewidth\":0,\"ticks\":\"\"}}}],\"bar\":[{\"error_x\":{\"color\":\"#2a3f5f\"},\"error_y\":{\"color\":\"#2a3f5f\"},\"marker\":{\"line\":{\"color\":\"#E5ECF6\",\"width\":0.5},\"pattern\":{\"fillmode\":\"overlay\",\"size\":10,\"solidity\":0.2}},\"type\":\"bar\"}],\"scattergeo\":[{\"type\":\"scattergeo\",\"marker\":{\"colorbar\":{\"outlinewidth\":0,\"ticks\":\"\"}}}],\"scatterpolar\":[{\"type\":\"scatterpolar\",\"marker\":{\"colorbar\":{\"outlinewidth\":0,\"ticks\":\"\"}}}],\"histogram\":[{\"marker\":{\"pattern\":{\"fillmode\":\"overlay\",\"size\":10,\"solidity\":0.2}},\"type\":\"histogram\"}],\"scattergl\":[{\"type\":\"scattergl\",\"marker\":{\"colorbar\":{\"outlinewidth\":0,\"ticks\":\"\"}}}],\"scatter3d\":[{\"type\":\"scatter3d\",\"line\":{\"colorbar\":{\"outlinewidth\":0,\"ticks\":\"\"}},\"marker\":{\"colorbar\":{\"outlinewidth\":0,\"ticks\":\"\"}}}],\"scattermapbox\":[{\"type\":\"scattermapbox\",\"marker\":{\"colorbar\":{\"outlinewidth\":0,\"ticks\":\"\"}}}],\"scatterternary\":[{\"type\":\"scatterternary\",\"marker\":{\"colorbar\":{\"outlinewidth\":0,\"ticks\":\"\"}}}],\"scattercarpet\":[{\"type\":\"scattercarpet\",\"marker\":{\"colorbar\":{\"outlinewidth\":0,\"ticks\":\"\"}}}],\"carpet\":[{\"aaxis\":{\"endlinecolor\":\"#2a3f5f\",\"gridcolor\":\"white\",\"linecolor\":\"white\",\"minorgridcolor\":\"white\",\"startlinecolor\":\"#2a3f5f\"},\"baxis\":{\"endlinecolor\":\"#2a3f5f\",\"gridcolor\":\"white\",\"linecolor\":\"white\",\"minorgridcolor\":\"white\",\"startlinecolor\":\"#2a3f5f\"},\"type\":\"carpet\"}],\"table\":[{\"cells\":{\"fill\":{\"color\":\"#EBF0F8\"},\"line\":{\"color\":\"white\"}},\"header\":{\"fill\":{\"color\":\"#C8D4E3\"},\"line\":{\"color\":\"white\"}},\"type\":\"table\"}],\"barpolar\":[{\"marker\":{\"line\":{\"color\":\"#E5ECF6\",\"width\":0.5},\"pattern\":{\"fillmode\":\"overlay\",\"size\":10,\"solidity\":0.2}},\"type\":\"barpolar\"}],\"pie\":[{\"automargin\":true,\"type\":\"pie\"}]},\"layout\":{\"autotypenumbers\":\"strict\",\"colorway\":[\"#636efa\",\"#EF553B\",\"#00cc96\",\"#ab63fa\",\"#FFA15A\",\"#19d3f3\",\"#FF6692\",\"#B6E880\",\"#FF97FF\",\"#FECB52\"],\"font\":{\"color\":\"#2a3f5f\"},\"hovermode\":\"closest\",\"hoverlabel\":{\"align\":\"left\"},\"paper_bgcolor\":\"white\",\"plot_bgcolor\":\"#E5ECF6\",\"polar\":{\"bgcolor\":\"#E5ECF6\",\"angularaxis\":{\"gridcolor\":\"white\",\"linecolor\":\"white\",\"ticks\":\"\"},\"radialaxis\":{\"gridcolor\":\"white\",\"linecolor\":\"white\",\"ticks\":\"\"}},\"ternary\":{\"bgcolor\":\"#E5ECF6\",\"aaxis\":{\"gridcolor\":\"white\",\"linecolor\":\"white\",\"ticks\":\"\"},\"baxis\":{\"gridcolor\":\"white\",\"linecolor\":\"white\",\"ticks\":\"\"},\"caxis\":{\"gridcolor\":\"white\",\"linecolor\":\"white\",\"ticks\":\"\"}},\"coloraxis\":{\"colorbar\":{\"outlinewidth\":0,\"ticks\":\"\"}},\"colorscale\":{\"sequential\":[[0.0,\"#0d0887\"],[0.1111111111111111,\"#46039f\"],[0.2222222222222222,\"#7201a8\"],[0.3333333333333333,\"#9c179e\"],[0.4444444444444444,\"#bd3786\"],[0.5555555555555556,\"#d8576b\"],[0.6666666666666666,\"#ed7953\"],[0.7777777777777778,\"#fb9f3a\"],[0.8888888888888888,\"#fdca26\"],[1.0,\"#f0f921\"]],\"sequentialminus\":[[0.0,\"#0d0887\"],[0.1111111111111111,\"#46039f\"],[0.2222222222222222,\"#7201a8\"],[0.3333333333333333,\"#9c179e\"],[0.4444444444444444,\"#bd3786\"],[0.5555555555555556,\"#d8576b\"],[0.6666666666666666,\"#ed7953\"],[0.7777777777777778,\"#fb9f3a\"],[0.8888888888888888,\"#fdca26\"],[1.0,\"#f0f921\"]],\"diverging\":[[0,\"#8e0152\"],[0.1,\"#c51b7d\"],[0.2,\"#de77ae\"],[0.3,\"#f1b6da\"],[0.4,\"#fde0ef\"],[0.5,\"#f7f7f7\"],[0.6,\"#e6f5d0\"],[0.7,\"#b8e186\"],[0.8,\"#7fbc41\"],[0.9,\"#4d9221\"],[1,\"#276419\"]]},\"xaxis\":{\"gridcolor\":\"white\",\"linecolor\":\"white\",\"ticks\":\"\",\"title\":{\"standoff\":15},\"zerolinecolor\":\"white\",\"automargin\":true,\"zerolinewidth\":2},\"yaxis\":{\"gridcolor\":\"white\",\"linecolor\":\"white\",\"ticks\":\"\",\"title\":{\"standoff\":15},\"zerolinecolor\":\"white\",\"automargin\":true,\"zerolinewidth\":2},\"scene\":{\"xaxis\":{\"backgroundcolor\":\"#E5ECF6\",\"gridcolor\":\"white\",\"linecolor\":\"white\",\"showbackground\":true,\"ticks\":\"\",\"zerolinecolor\":\"white\",\"gridwidth\":2},\"yaxis\":{\"backgroundcolor\":\"#E5ECF6\",\"gridcolor\":\"white\",\"linecolor\":\"white\",\"showbackground\":true,\"ticks\":\"\",\"zerolinecolor\":\"white\",\"gridwidth\":2},\"zaxis\":{\"backgroundcolor\":\"#E5ECF6\",\"gridcolor\":\"white\",\"linecolor\":\"white\",\"showbackground\":true,\"ticks\":\"\",\"zerolinecolor\":\"white\",\"gridwidth\":2}},\"shapedefaults\":{\"line\":{\"color\":\"#2a3f5f\"}},\"annotationdefaults\":{\"arrowcolor\":\"#2a3f5f\",\"arrowhead\":0,\"arrowwidth\":1},\"geo\":{\"bgcolor\":\"white\",\"landcolor\":\"#E5ECF6\",\"subunitcolor\":\"white\",\"showland\":true,\"showlakes\":true,\"lakecolor\":\"white\"},\"title\":{\"x\":0.05},\"mapbox\":{\"style\":\"light\"}}},\"coloraxis\":{\"colorbar\":{\"title\":{\"text\":\"Profit\"}},\"colorscale\":[[0.0,\"rgb(253, 253, 204)\"],[0.09090909090909091,\"rgb(206, 236, 179)\"],[0.18181818181818182,\"rgb(156, 219, 165)\"],[0.2727272727272727,\"rgb(111, 201, 163)\"],[0.36363636363636365,\"rgb(86, 177, 163)\"],[0.45454545454545453,\"rgb(76, 153, 160)\"],[0.5454545454545454,\"rgb(68, 130, 155)\"],[0.6363636363636364,\"rgb(62, 108, 150)\"],[0.7272727272727273,\"rgb(62, 82, 143)\"],[0.8181818181818182,\"rgb(64, 60, 115)\"],[0.9090909090909091,\"rgb(54, 43, 77)\"],[1.0,\"rgb(39, 26, 44)\"]]},\"legend\":{\"tracegroupgap\":0},\"margin\":{\"t\":60},\"width\":1000,\"height\":500},                        {\"responsive\": true}                    ).then(function(){\n",
       "                            \n",
       "var gd = document.getElementById('d873c175-db8b-48ff-bcad-41d9f7d2ba71');\n",
       "var x = new MutationObserver(function (mutations, observer) {{\n",
       "        var display = window.getComputedStyle(gd).display;\n",
       "        if (!display || display === 'none') {{\n",
       "            console.log([gd, 'removed!']);\n",
       "            Plotly.purge(gd);\n",
       "            observer.disconnect();\n",
       "        }}\n",
       "}});\n",
       "\n",
       "// Listen for the removal of the full notebook cells\n",
       "var notebookContainer = gd.closest('#notebook-container');\n",
       "if (notebookContainer) {{\n",
       "    x.observe(notebookContainer, {childList: true});\n",
       "}}\n",
       "\n",
       "// Listen for the clearing of the current output cell\n",
       "var outputEl = gd.closest('.output');\n",
       "if (outputEl) {{\n",
       "    x.observe(outputEl, {childList: true});\n",
       "}}\n",
       "\n",
       "                        })                };                });            </script>        </div>"
      ]
     },
     "metadata": {},
     "output_type": "display_data"
    }
   ],
   "source": [
    "fig = px.treemap(cities_profit, path=['City' ,'Profit'], color_continuous_scale='deep', values='Profit',color='Profit')\n",
    "fig.update_layout(width=1000, height=500)\n",
    "fig.show()"
   ]
  },
  {
   "cell_type": "markdown",
   "id": "8f042cfa",
   "metadata": {},
   "source": [
    "# Top 10 states by most profit"
   ]
  },
  {
   "cell_type": "code",
   "execution_count": 23,
   "id": "dcf53917",
   "metadata": {},
   "outputs": [
    {
     "data": {
      "text/plain": [
       "array(['Kentucky', 'California', 'Florida', 'North Carolina',\n",
       "       'Washington', 'Texas', 'Wisconsin', 'Utah', 'Nebraska',\n",
       "       'Pennsylvania', 'Illinois', 'Minnesota', 'Michigan', 'Delaware',\n",
       "       'Indiana', 'New York', 'Arizona', 'Virginia', 'Tennessee',\n",
       "       'Alabama', 'South Carolina', 'Oregon', 'Colorado', 'Iowa', 'Ohio',\n",
       "       'Missouri', 'Oklahoma', 'New Mexico', 'Louisiana', 'Connecticut',\n",
       "       'New Jersey', 'Massachusetts', 'Georgia', 'Nevada', 'Rhode Island',\n",
       "       'Mississippi', 'Arkansas', 'Montana', 'New Hampshire', 'Maryland',\n",
       "       'District of Columbia', 'Kansas', 'Vermont', 'Maine',\n",
       "       'South Dakota', 'Idaho', 'North Dakota', 'Wyoming',\n",
       "       'West Virginia'], dtype=object)"
      ]
     },
     "execution_count": 23,
     "metadata": {},
     "output_type": "execute_result"
    }
   ],
   "source": [
    "data[\"State\"].unique()"
   ]
  },
  {
   "cell_type": "code",
   "execution_count": 24,
   "id": "641ac520",
   "metadata": {},
   "outputs": [],
   "source": [
    "state_profit=pd.DataFrame(data.groupby(\"State\")[\"Profit\"].sum())\n",
    "state_profit.reset_index(inplace=True)"
   ]
  },
  {
   "cell_type": "code",
   "execution_count": 25,
   "id": "4677eaa5",
   "metadata": {},
   "outputs": [
    {
     "data": {
      "text/html": [
       "<div>\n",
       "<style scoped>\n",
       "    .dataframe tbody tr th:only-of-type {\n",
       "        vertical-align: middle;\n",
       "    }\n",
       "\n",
       "    .dataframe tbody tr th {\n",
       "        vertical-align: top;\n",
       "    }\n",
       "\n",
       "    .dataframe thead th {\n",
       "        text-align: right;\n",
       "    }\n",
       "</style>\n",
       "<table border=\"1\" class=\"dataframe\">\n",
       "  <thead>\n",
       "    <tr style=\"text-align: right;\">\n",
       "      <th></th>\n",
       "      <th>State</th>\n",
       "      <th>Profit</th>\n",
       "    </tr>\n",
       "  </thead>\n",
       "  <tbody>\n",
       "    <tr>\n",
       "      <th>3</th>\n",
       "      <td>California</td>\n",
       "      <td>76381.3871</td>\n",
       "    </tr>\n",
       "    <tr>\n",
       "      <th>30</th>\n",
       "      <td>New York</td>\n",
       "      <td>74038.5486</td>\n",
       "    </tr>\n",
       "    <tr>\n",
       "      <th>45</th>\n",
       "      <td>Washington</td>\n",
       "      <td>33402.6517</td>\n",
       "    </tr>\n",
       "    <tr>\n",
       "      <th>20</th>\n",
       "      <td>Michigan</td>\n",
       "      <td>24463.1876</td>\n",
       "    </tr>\n",
       "    <tr>\n",
       "      <th>44</th>\n",
       "      <td>Virginia</td>\n",
       "      <td>18597.9504</td>\n",
       "    </tr>\n",
       "    <tr>\n",
       "      <th>12</th>\n",
       "      <td>Indiana</td>\n",
       "      <td>18382.9363</td>\n",
       "    </tr>\n",
       "    <tr>\n",
       "      <th>9</th>\n",
       "      <td>Georgia</td>\n",
       "      <td>16250.0433</td>\n",
       "    </tr>\n",
       "    <tr>\n",
       "      <th>15</th>\n",
       "      <td>Kentucky</td>\n",
       "      <td>11199.6966</td>\n",
       "    </tr>\n",
       "    <tr>\n",
       "      <th>21</th>\n",
       "      <td>Minnesota</td>\n",
       "      <td>10823.1874</td>\n",
       "    </tr>\n",
       "    <tr>\n",
       "      <th>6</th>\n",
       "      <td>Delaware</td>\n",
       "      <td>9977.3748</td>\n",
       "    </tr>\n",
       "  </tbody>\n",
       "</table>\n",
       "</div>"
      ],
      "text/plain": [
       "         State      Profit\n",
       "3   California  76381.3871\n",
       "30    New York  74038.5486\n",
       "45  Washington  33402.6517\n",
       "20    Michigan  24463.1876\n",
       "44    Virginia  18597.9504\n",
       "12     Indiana  18382.9363\n",
       "9      Georgia  16250.0433\n",
       "15    Kentucky  11199.6966\n",
       "21   Minnesota  10823.1874\n",
       "6     Delaware   9977.3748"
      ]
     },
     "execution_count": 25,
     "metadata": {},
     "output_type": "execute_result"
    }
   ],
   "source": [
    "state_profit=state_profit.sort_values(by=\"Profit\",ascending=False)\n",
    "state_profit.head(10)"
   ]
  },
  {
   "cell_type": "code",
   "execution_count": 26,
   "id": "37d2ac48",
   "metadata": {},
   "outputs": [
    {
     "data": {
      "application/vnd.plotly.v1+json": {
       "config": {
        "plotlyServerURL": "https://plot.ly"
       },
       "data": [
        {
         "branchvalues": "total",
         "customdata": [
          [
           -25729.3563
          ],
          [
           -16971.3766
          ],
          [
           -15559.9603
          ],
          [
           -12607.887
          ],
          [
           -7490.9122
          ],
          [
           -6527.8579
          ],
          [
           -5341.6936
          ],
          [
           -3427.9246
          ],
          [
           -3399.3017000000004
          ],
          [
           -1190.4705
          ],
          [
           100.196
          ],
          [
           185.9216
          ],
          [
           230.1497
          ],
          [
           394.8283
          ],
          [
           454.4862
          ],
          [
           826.7230999999999
          ],
          [
           836.4435
          ],
          [
           1059.5892999999999
          ],
          [
           1157.1161
          ],
          [
           1183.8119
          ],
          [
           1706.5028
          ],
          [
           1769.0566
          ],
          [
           1833.3285
          ],
          [
           2037.0942000000002
          ],
          [
           2196.1023
          ],
          [
           2244.9782999999998
          ],
          [
           2546.5335
          ],
          [
           3172.9762
          ],
          [
           3316.7658999999994
          ],
          [
           3511.4918
          ],
          [
           4008.6871
          ],
          [
           4853.956
          ],
          [
           5786.8253
          ],
          [
           6436.2105
          ],
          [
           6785.5016000000005
          ],
          [
           7031.1788
          ],
          [
           7285.6293000000005
          ],
          [
           8401.8004
          ],
          [
           9772.9138
          ],
          [
           9977.3748
          ],
          [
           10823.1874
          ],
          [
           11199.6966
          ],
          [
           16250.0433
          ],
          [
           18382.9363
          ],
          [
           18597.9504
          ],
          [
           24463.187600000005
          ],
          [
           33402.6517
          ],
          [
           74038.5486
          ],
          [
           76381.38709999999
          ],
          [
           5786.8253
          ],
          [
           -3427.9246
          ],
          [
           4008.6871
          ],
          [
           76381.38709999999
          ],
          [
           -6527.8579
          ],
          [
           3511.4918
          ],
          [
           9977.3748
          ],
          [
           1059.5892999999999
          ],
          [
           -3399.3017000000004
          ],
          [
           16250.0433
          ],
          [
           826.7230999999999
          ],
          [
           -12607.887
          ],
          [
           18382.9363
          ],
          [
           1183.8119
          ],
          [
           836.4435
          ],
          [
           11199.6966
          ],
          [
           2196.1023
          ],
          [
           454.4862
          ],
          [
           7031.1788
          ],
          [
           6785.5016000000005
          ],
          [
           24463.187600000005
          ],
          [
           10823.1874
          ],
          [
           3172.9762
          ],
          [
           6436.2105
          ],
          [
           1833.3285
          ],
          [
           2037.0942000000002
          ],
          [
           3316.7658999999994
          ],
          [
           1706.5028
          ],
          [
           9772.9138
          ],
          [
           1157.1161
          ],
          [
           74038.5486
          ],
          [
           -7490.9122
          ],
          [
           230.1497
          ],
          [
           -16971.3766
          ],
          [
           4853.956
          ],
          [
           -1190.4705
          ],
          [
           -15559.9603
          ],
          [
           7285.6293000000005
          ],
          [
           1769.0566
          ],
          [
           394.8283
          ],
          [
           -5341.6936
          ],
          [
           -25729.3563
          ],
          [
           2546.5335
          ],
          [
           2244.9782999999998
          ],
          [
           18597.9504
          ],
          [
           33402.6517
          ],
          [
           185.9216
          ],
          [
           8401.8004
          ],
          [
           100.196
          ]
         ],
         "domain": {
          "x": [
           0,
           1
          ],
          "y": [
           0,
           1
          ]
         },
         "hovertemplate": "labels=%{label}<br>Profit_sum=%{value}<br>parent=%{parent}<br>id=%{id}<br>Profit=%{color}<extra></extra>",
         "ids": [
          "Texas/-25729.3563",
          "Ohio/-16971.3766",
          "Pennsylvania/-15559.9603",
          "Illinois/-12607.887",
          "North Carolina/-7490.9122",
          "Colorado/-6527.8579",
          "Tennessee/-5341.6936",
          "Arizona/-3427.9246",
          "Florida/-3399.3017000000004",
          "Oregon/-1190.4705",
          "Wyoming/100.196",
          "West Virginia/185.9216",
          "North Dakota/230.1497",
          "South Dakota/394.8283",
          "Maine/454.4862",
          "Idaho/826.7231",
          "Kansas/836.4435",
          "District of Columbia/1059.5892999999999",
          "New Mexico/1157.1161",
          "Iowa/1183.8119",
          "New Hampshire/1706.5028",
          "South Carolina/1769.0566",
          "Montana/1833.3285",
          "Nebraska/2037.0942000000002",
          "Louisiana/2196.1023",
          "Vermont/2244.9782999999998",
          "Utah/2546.5335",
          "Mississippi/3172.9762",
          "Nevada/3316.7659",
          "Connecticut/3511.4918",
          "Arkansas/4008.6871",
          "Oklahoma/4853.956",
          "Alabama/5786.8253",
          "Missouri/6436.2105",
          "Massachusetts/6785.5016000000005",
          "Maryland/7031.1788",
          "Rhode Island/7285.6293000000005",
          "Wisconsin/8401.8004",
          "New Jersey/9772.9138",
          "Delaware/9977.3748",
          "Minnesota/10823.1874",
          "Kentucky/11199.6966",
          "Georgia/16250.0433",
          "Indiana/18382.9363",
          "Virginia/18597.9504",
          "Michigan/24463.1876",
          "Washington/33402.6517",
          "New York/74038.5486",
          "California/76381.38709999999",
          "Alabama",
          "Arizona",
          "Arkansas",
          "California",
          "Colorado",
          "Connecticut",
          "Delaware",
          "District of Columbia",
          "Florida",
          "Georgia",
          "Idaho",
          "Illinois",
          "Indiana",
          "Iowa",
          "Kansas",
          "Kentucky",
          "Louisiana",
          "Maine",
          "Maryland",
          "Massachusetts",
          "Michigan",
          "Minnesota",
          "Mississippi",
          "Missouri",
          "Montana",
          "Nebraska",
          "Nevada",
          "New Hampshire",
          "New Jersey",
          "New Mexico",
          "New York",
          "North Carolina",
          "North Dakota",
          "Ohio",
          "Oklahoma",
          "Oregon",
          "Pennsylvania",
          "Rhode Island",
          "South Carolina",
          "South Dakota",
          "Tennessee",
          "Texas",
          "Utah",
          "Vermont",
          "Virginia",
          "Washington",
          "West Virginia",
          "Wisconsin",
          "Wyoming"
         ],
         "labels": [
          "-25729.3563",
          "-16971.3766",
          "-15559.9603",
          "-12607.887",
          "-7490.9122",
          "-6527.8579",
          "-5341.6936",
          "-3427.9246",
          "-3399.3017000000004",
          "-1190.4705",
          "100.196",
          "185.9216",
          "230.1497",
          "394.8283",
          "454.4862",
          "826.7231",
          "836.4435",
          "1059.5892999999999",
          "1157.1161",
          "1183.8119",
          "1706.5028",
          "1769.0566",
          "1833.3285",
          "2037.0942000000002",
          "2196.1023",
          "2244.9782999999998",
          "2546.5335",
          "3172.9762",
          "3316.7659",
          "3511.4918",
          "4008.6871",
          "4853.956",
          "5786.8253",
          "6436.2105",
          "6785.5016000000005",
          "7031.1788",
          "7285.6293000000005",
          "8401.8004",
          "9772.9138",
          "9977.3748",
          "10823.1874",
          "11199.6966",
          "16250.0433",
          "18382.9363",
          "18597.9504",
          "24463.1876",
          "33402.6517",
          "74038.5486",
          "76381.38709999999",
          "Alabama",
          "Arizona",
          "Arkansas",
          "California",
          "Colorado",
          "Connecticut",
          "Delaware",
          "District of Columbia",
          "Florida",
          "Georgia",
          "Idaho",
          "Illinois",
          "Indiana",
          "Iowa",
          "Kansas",
          "Kentucky",
          "Louisiana",
          "Maine",
          "Maryland",
          "Massachusetts",
          "Michigan",
          "Minnesota",
          "Mississippi",
          "Missouri",
          "Montana",
          "Nebraska",
          "Nevada",
          "New Hampshire",
          "New Jersey",
          "New Mexico",
          "New York",
          "North Carolina",
          "North Dakota",
          "Ohio",
          "Oklahoma",
          "Oregon",
          "Pennsylvania",
          "Rhode Island",
          "South Carolina",
          "South Dakota",
          "Tennessee",
          "Texas",
          "Utah",
          "Vermont",
          "Virginia",
          "Washington",
          "West Virginia",
          "Wisconsin",
          "Wyoming"
         ],
         "marker": {
          "coloraxis": "coloraxis",
          "colors": [
           -25729.3563,
           -16971.3766,
           -15559.9603,
           -12607.887,
           -7490.9122,
           -6527.8579,
           -5341.6936,
           -3427.9246,
           -3399.3017000000004,
           -1190.4705,
           100.196,
           185.9216,
           230.1497,
           394.8283,
           454.4862,
           826.7230999999999,
           836.4435,
           1059.5892999999999,
           1157.1161,
           1183.8119,
           1706.5028,
           1769.0566,
           1833.3285,
           2037.0942000000002,
           2196.1023,
           2244.9782999999998,
           2546.5335,
           3172.9762,
           3316.7658999999994,
           3511.4918,
           4008.6871,
           4853.956,
           5786.8253,
           6436.2105,
           6785.5016000000005,
           7031.1788,
           7285.6293000000005,
           8401.8004,
           9772.9138,
           9977.3748,
           10823.1874,
           11199.6966,
           16250.0433,
           18382.9363,
           18597.9504,
           24463.187600000005,
           33402.6517,
           74038.5486,
           76381.38709999999,
           5786.8253,
           -3427.9246,
           4008.6871,
           76381.38709999999,
           -6527.8579,
           3511.4918,
           9977.3748,
           1059.5892999999999,
           -3399.3017000000004,
           16250.0433,
           826.7230999999999,
           -12607.887,
           18382.9363,
           1183.8119,
           836.4435,
           11199.6966,
           2196.1023,
           454.4862,
           7031.1788,
           6785.5016000000005,
           24463.187600000005,
           10823.1874,
           3172.9762,
           6436.2105,
           1833.3285,
           2037.0942000000002,
           3316.7658999999994,
           1706.5028,
           9772.9138,
           1157.1161,
           74038.5486,
           -7490.9122,
           230.1497,
           -16971.3766,
           4853.956,
           -1190.4705,
           -15559.9603,
           7285.6293000000005,
           1769.0566,
           394.8283,
           -5341.6936,
           -25729.3563,
           2546.5335,
           2244.9782999999998,
           18597.9504,
           33402.6517,
           185.9216,
           8401.8004,
           100.196
          ]
         },
         "name": "",
         "parents": [
          "Texas",
          "Ohio",
          "Pennsylvania",
          "Illinois",
          "North Carolina",
          "Colorado",
          "Tennessee",
          "Arizona",
          "Florida",
          "Oregon",
          "Wyoming",
          "West Virginia",
          "North Dakota",
          "South Dakota",
          "Maine",
          "Idaho",
          "Kansas",
          "District of Columbia",
          "New Mexico",
          "Iowa",
          "New Hampshire",
          "South Carolina",
          "Montana",
          "Nebraska",
          "Louisiana",
          "Vermont",
          "Utah",
          "Mississippi",
          "Nevada",
          "Connecticut",
          "Arkansas",
          "Oklahoma",
          "Alabama",
          "Missouri",
          "Massachusetts",
          "Maryland",
          "Rhode Island",
          "Wisconsin",
          "New Jersey",
          "Delaware",
          "Minnesota",
          "Kentucky",
          "Georgia",
          "Indiana",
          "Virginia",
          "Michigan",
          "Washington",
          "New York",
          "California",
          "",
          "",
          "",
          "",
          "",
          "",
          "",
          "",
          "",
          "",
          "",
          "",
          "",
          "",
          "",
          "",
          "",
          "",
          "",
          "",
          "",
          "",
          "",
          "",
          "",
          "",
          "",
          "",
          "",
          "",
          "",
          "",
          "",
          "",
          "",
          "",
          "",
          "",
          "",
          "",
          "",
          "",
          "",
          "",
          "",
          "",
          "",
          "",
          ""
         ],
         "type": "treemap",
         "values": [
          -25729.3563,
          -16971.3766,
          -15559.9603,
          -12607.887,
          -7490.9122,
          -6527.8579,
          -5341.6936,
          -3427.9246,
          -3399.3017000000004,
          -1190.4705,
          100.196,
          185.9216,
          230.1497,
          394.8283,
          454.4862,
          826.7231,
          836.4435,
          1059.5892999999999,
          1157.1161,
          1183.8119,
          1706.5028,
          1769.0566,
          1833.3285,
          2037.0942000000002,
          2196.1023,
          2244.9782999999998,
          2546.5335,
          3172.9762,
          3316.7659,
          3511.4918,
          4008.6871,
          4853.956,
          5786.8253,
          6436.2105,
          6785.5016000000005,
          7031.1788,
          7285.6293000000005,
          8401.8004,
          9772.9138,
          9977.3748,
          10823.1874,
          11199.6966,
          16250.0433,
          18382.9363,
          18597.9504,
          24463.1876,
          33402.6517,
          74038.5486,
          76381.38709999999,
          5786.8253,
          -3427.9246,
          4008.6871,
          76381.38709999999,
          -6527.8579,
          3511.4918,
          9977.3748,
          1059.5892999999999,
          -3399.3017000000004,
          16250.0433,
          826.7231,
          -12607.887,
          18382.9363,
          1183.8119,
          836.4435,
          11199.6966,
          2196.1023,
          454.4862,
          7031.1788,
          6785.5016000000005,
          24463.1876,
          10823.1874,
          3172.9762,
          6436.2105,
          1833.3285,
          2037.0942000000002,
          3316.7659,
          1706.5028,
          9772.9138,
          1157.1161,
          74038.5486,
          -7490.9122,
          230.1497,
          -16971.3766,
          4853.956,
          -1190.4705,
          -15559.9603,
          7285.6293000000005,
          1769.0566,
          394.8283,
          -5341.6936,
          -25729.3563,
          2546.5335,
          2244.9782999999998,
          18597.9504,
          33402.6517,
          185.9216,
          8401.8004,
          100.196
         ]
        }
       ],
       "layout": {
        "coloraxis": {
         "colorbar": {
          "title": {
           "text": "Profit"
          }
         },
         "colorscale": [
          [
           0,
           "rgb(253, 253, 204)"
          ],
          [
           0.09090909090909091,
           "rgb(206, 236, 179)"
          ],
          [
           0.18181818181818182,
           "rgb(156, 219, 165)"
          ],
          [
           0.2727272727272727,
           "rgb(111, 201, 163)"
          ],
          [
           0.36363636363636365,
           "rgb(86, 177, 163)"
          ],
          [
           0.45454545454545453,
           "rgb(76, 153, 160)"
          ],
          [
           0.5454545454545454,
           "rgb(68, 130, 155)"
          ],
          [
           0.6363636363636364,
           "rgb(62, 108, 150)"
          ],
          [
           0.7272727272727273,
           "rgb(62, 82, 143)"
          ],
          [
           0.8181818181818182,
           "rgb(64, 60, 115)"
          ],
          [
           0.9090909090909091,
           "rgb(54, 43, 77)"
          ],
          [
           1,
           "rgb(39, 26, 44)"
          ]
         ]
        },
        "height": 500,
        "legend": {
         "tracegroupgap": 0
        },
        "margin": {
         "t": 60
        },
        "template": {
         "data": {
          "bar": [
           {
            "error_x": {
             "color": "#2a3f5f"
            },
            "error_y": {
             "color": "#2a3f5f"
            },
            "marker": {
             "line": {
              "color": "#E5ECF6",
              "width": 0.5
             },
             "pattern": {
              "fillmode": "overlay",
              "size": 10,
              "solidity": 0.2
             }
            },
            "type": "bar"
           }
          ],
          "barpolar": [
           {
            "marker": {
             "line": {
              "color": "#E5ECF6",
              "width": 0.5
             },
             "pattern": {
              "fillmode": "overlay",
              "size": 10,
              "solidity": 0.2
             }
            },
            "type": "barpolar"
           }
          ],
          "carpet": [
           {
            "aaxis": {
             "endlinecolor": "#2a3f5f",
             "gridcolor": "white",
             "linecolor": "white",
             "minorgridcolor": "white",
             "startlinecolor": "#2a3f5f"
            },
            "baxis": {
             "endlinecolor": "#2a3f5f",
             "gridcolor": "white",
             "linecolor": "white",
             "minorgridcolor": "white",
             "startlinecolor": "#2a3f5f"
            },
            "type": "carpet"
           }
          ],
          "choropleth": [
           {
            "colorbar": {
             "outlinewidth": 0,
             "ticks": ""
            },
            "type": "choropleth"
           }
          ],
          "contour": [
           {
            "colorbar": {
             "outlinewidth": 0,
             "ticks": ""
            },
            "colorscale": [
             [
              0,
              "#0d0887"
             ],
             [
              0.1111111111111111,
              "#46039f"
             ],
             [
              0.2222222222222222,
              "#7201a8"
             ],
             [
              0.3333333333333333,
              "#9c179e"
             ],
             [
              0.4444444444444444,
              "#bd3786"
             ],
             [
              0.5555555555555556,
              "#d8576b"
             ],
             [
              0.6666666666666666,
              "#ed7953"
             ],
             [
              0.7777777777777778,
              "#fb9f3a"
             ],
             [
              0.8888888888888888,
              "#fdca26"
             ],
             [
              1,
              "#f0f921"
             ]
            ],
            "type": "contour"
           }
          ],
          "contourcarpet": [
           {
            "colorbar": {
             "outlinewidth": 0,
             "ticks": ""
            },
            "type": "contourcarpet"
           }
          ],
          "heatmap": [
           {
            "colorbar": {
             "outlinewidth": 0,
             "ticks": ""
            },
            "colorscale": [
             [
              0,
              "#0d0887"
             ],
             [
              0.1111111111111111,
              "#46039f"
             ],
             [
              0.2222222222222222,
              "#7201a8"
             ],
             [
              0.3333333333333333,
              "#9c179e"
             ],
             [
              0.4444444444444444,
              "#bd3786"
             ],
             [
              0.5555555555555556,
              "#d8576b"
             ],
             [
              0.6666666666666666,
              "#ed7953"
             ],
             [
              0.7777777777777778,
              "#fb9f3a"
             ],
             [
              0.8888888888888888,
              "#fdca26"
             ],
             [
              1,
              "#f0f921"
             ]
            ],
            "type": "heatmap"
           }
          ],
          "heatmapgl": [
           {
            "colorbar": {
             "outlinewidth": 0,
             "ticks": ""
            },
            "colorscale": [
             [
              0,
              "#0d0887"
             ],
             [
              0.1111111111111111,
              "#46039f"
             ],
             [
              0.2222222222222222,
              "#7201a8"
             ],
             [
              0.3333333333333333,
              "#9c179e"
             ],
             [
              0.4444444444444444,
              "#bd3786"
             ],
             [
              0.5555555555555556,
              "#d8576b"
             ],
             [
              0.6666666666666666,
              "#ed7953"
             ],
             [
              0.7777777777777778,
              "#fb9f3a"
             ],
             [
              0.8888888888888888,
              "#fdca26"
             ],
             [
              1,
              "#f0f921"
             ]
            ],
            "type": "heatmapgl"
           }
          ],
          "histogram": [
           {
            "marker": {
             "pattern": {
              "fillmode": "overlay",
              "size": 10,
              "solidity": 0.2
             }
            },
            "type": "histogram"
           }
          ],
          "histogram2d": [
           {
            "colorbar": {
             "outlinewidth": 0,
             "ticks": ""
            },
            "colorscale": [
             [
              0,
              "#0d0887"
             ],
             [
              0.1111111111111111,
              "#46039f"
             ],
             [
              0.2222222222222222,
              "#7201a8"
             ],
             [
              0.3333333333333333,
              "#9c179e"
             ],
             [
              0.4444444444444444,
              "#bd3786"
             ],
             [
              0.5555555555555556,
              "#d8576b"
             ],
             [
              0.6666666666666666,
              "#ed7953"
             ],
             [
              0.7777777777777778,
              "#fb9f3a"
             ],
             [
              0.8888888888888888,
              "#fdca26"
             ],
             [
              1,
              "#f0f921"
             ]
            ],
            "type": "histogram2d"
           }
          ],
          "histogram2dcontour": [
           {
            "colorbar": {
             "outlinewidth": 0,
             "ticks": ""
            },
            "colorscale": [
             [
              0,
              "#0d0887"
             ],
             [
              0.1111111111111111,
              "#46039f"
             ],
             [
              0.2222222222222222,
              "#7201a8"
             ],
             [
              0.3333333333333333,
              "#9c179e"
             ],
             [
              0.4444444444444444,
              "#bd3786"
             ],
             [
              0.5555555555555556,
              "#d8576b"
             ],
             [
              0.6666666666666666,
              "#ed7953"
             ],
             [
              0.7777777777777778,
              "#fb9f3a"
             ],
             [
              0.8888888888888888,
              "#fdca26"
             ],
             [
              1,
              "#f0f921"
             ]
            ],
            "type": "histogram2dcontour"
           }
          ],
          "mesh3d": [
           {
            "colorbar": {
             "outlinewidth": 0,
             "ticks": ""
            },
            "type": "mesh3d"
           }
          ],
          "parcoords": [
           {
            "line": {
             "colorbar": {
              "outlinewidth": 0,
              "ticks": ""
             }
            },
            "type": "parcoords"
           }
          ],
          "pie": [
           {
            "automargin": true,
            "type": "pie"
           }
          ],
          "scatter": [
           {
            "fillpattern": {
             "fillmode": "overlay",
             "size": 10,
             "solidity": 0.2
            },
            "type": "scatter"
           }
          ],
          "scatter3d": [
           {
            "line": {
             "colorbar": {
              "outlinewidth": 0,
              "ticks": ""
             }
            },
            "marker": {
             "colorbar": {
              "outlinewidth": 0,
              "ticks": ""
             }
            },
            "type": "scatter3d"
           }
          ],
          "scattercarpet": [
           {
            "marker": {
             "colorbar": {
              "outlinewidth": 0,
              "ticks": ""
             }
            },
            "type": "scattercarpet"
           }
          ],
          "scattergeo": [
           {
            "marker": {
             "colorbar": {
              "outlinewidth": 0,
              "ticks": ""
             }
            },
            "type": "scattergeo"
           }
          ],
          "scattergl": [
           {
            "marker": {
             "colorbar": {
              "outlinewidth": 0,
              "ticks": ""
             }
            },
            "type": "scattergl"
           }
          ],
          "scattermapbox": [
           {
            "marker": {
             "colorbar": {
              "outlinewidth": 0,
              "ticks": ""
             }
            },
            "type": "scattermapbox"
           }
          ],
          "scatterpolar": [
           {
            "marker": {
             "colorbar": {
              "outlinewidth": 0,
              "ticks": ""
             }
            },
            "type": "scatterpolar"
           }
          ],
          "scatterpolargl": [
           {
            "marker": {
             "colorbar": {
              "outlinewidth": 0,
              "ticks": ""
             }
            },
            "type": "scatterpolargl"
           }
          ],
          "scatterternary": [
           {
            "marker": {
             "colorbar": {
              "outlinewidth": 0,
              "ticks": ""
             }
            },
            "type": "scatterternary"
           }
          ],
          "surface": [
           {
            "colorbar": {
             "outlinewidth": 0,
             "ticks": ""
            },
            "colorscale": [
             [
              0,
              "#0d0887"
             ],
             [
              0.1111111111111111,
              "#46039f"
             ],
             [
              0.2222222222222222,
              "#7201a8"
             ],
             [
              0.3333333333333333,
              "#9c179e"
             ],
             [
              0.4444444444444444,
              "#bd3786"
             ],
             [
              0.5555555555555556,
              "#d8576b"
             ],
             [
              0.6666666666666666,
              "#ed7953"
             ],
             [
              0.7777777777777778,
              "#fb9f3a"
             ],
             [
              0.8888888888888888,
              "#fdca26"
             ],
             [
              1,
              "#f0f921"
             ]
            ],
            "type": "surface"
           }
          ],
          "table": [
           {
            "cells": {
             "fill": {
              "color": "#EBF0F8"
             },
             "line": {
              "color": "white"
             }
            },
            "header": {
             "fill": {
              "color": "#C8D4E3"
             },
             "line": {
              "color": "white"
             }
            },
            "type": "table"
           }
          ]
         },
         "layout": {
          "annotationdefaults": {
           "arrowcolor": "#2a3f5f",
           "arrowhead": 0,
           "arrowwidth": 1
          },
          "autotypenumbers": "strict",
          "coloraxis": {
           "colorbar": {
            "outlinewidth": 0,
            "ticks": ""
           }
          },
          "colorscale": {
           "diverging": [
            [
             0,
             "#8e0152"
            ],
            [
             0.1,
             "#c51b7d"
            ],
            [
             0.2,
             "#de77ae"
            ],
            [
             0.3,
             "#f1b6da"
            ],
            [
             0.4,
             "#fde0ef"
            ],
            [
             0.5,
             "#f7f7f7"
            ],
            [
             0.6,
             "#e6f5d0"
            ],
            [
             0.7,
             "#b8e186"
            ],
            [
             0.8,
             "#7fbc41"
            ],
            [
             0.9,
             "#4d9221"
            ],
            [
             1,
             "#276419"
            ]
           ],
           "sequential": [
            [
             0,
             "#0d0887"
            ],
            [
             0.1111111111111111,
             "#46039f"
            ],
            [
             0.2222222222222222,
             "#7201a8"
            ],
            [
             0.3333333333333333,
             "#9c179e"
            ],
            [
             0.4444444444444444,
             "#bd3786"
            ],
            [
             0.5555555555555556,
             "#d8576b"
            ],
            [
             0.6666666666666666,
             "#ed7953"
            ],
            [
             0.7777777777777778,
             "#fb9f3a"
            ],
            [
             0.8888888888888888,
             "#fdca26"
            ],
            [
             1,
             "#f0f921"
            ]
           ],
           "sequentialminus": [
            [
             0,
             "#0d0887"
            ],
            [
             0.1111111111111111,
             "#46039f"
            ],
            [
             0.2222222222222222,
             "#7201a8"
            ],
            [
             0.3333333333333333,
             "#9c179e"
            ],
            [
             0.4444444444444444,
             "#bd3786"
            ],
            [
             0.5555555555555556,
             "#d8576b"
            ],
            [
             0.6666666666666666,
             "#ed7953"
            ],
            [
             0.7777777777777778,
             "#fb9f3a"
            ],
            [
             0.8888888888888888,
             "#fdca26"
            ],
            [
             1,
             "#f0f921"
            ]
           ]
          },
          "colorway": [
           "#636efa",
           "#EF553B",
           "#00cc96",
           "#ab63fa",
           "#FFA15A",
           "#19d3f3",
           "#FF6692",
           "#B6E880",
           "#FF97FF",
           "#FECB52"
          ],
          "font": {
           "color": "#2a3f5f"
          },
          "geo": {
           "bgcolor": "white",
           "lakecolor": "white",
           "landcolor": "#E5ECF6",
           "showlakes": true,
           "showland": true,
           "subunitcolor": "white"
          },
          "hoverlabel": {
           "align": "left"
          },
          "hovermode": "closest",
          "mapbox": {
           "style": "light"
          },
          "paper_bgcolor": "white",
          "plot_bgcolor": "#E5ECF6",
          "polar": {
           "angularaxis": {
            "gridcolor": "white",
            "linecolor": "white",
            "ticks": ""
           },
           "bgcolor": "#E5ECF6",
           "radialaxis": {
            "gridcolor": "white",
            "linecolor": "white",
            "ticks": ""
           }
          },
          "scene": {
           "xaxis": {
            "backgroundcolor": "#E5ECF6",
            "gridcolor": "white",
            "gridwidth": 2,
            "linecolor": "white",
            "showbackground": true,
            "ticks": "",
            "zerolinecolor": "white"
           },
           "yaxis": {
            "backgroundcolor": "#E5ECF6",
            "gridcolor": "white",
            "gridwidth": 2,
            "linecolor": "white",
            "showbackground": true,
            "ticks": "",
            "zerolinecolor": "white"
           },
           "zaxis": {
            "backgroundcolor": "#E5ECF6",
            "gridcolor": "white",
            "gridwidth": 2,
            "linecolor": "white",
            "showbackground": true,
            "ticks": "",
            "zerolinecolor": "white"
           }
          },
          "shapedefaults": {
           "line": {
            "color": "#2a3f5f"
           }
          },
          "ternary": {
           "aaxis": {
            "gridcolor": "white",
            "linecolor": "white",
            "ticks": ""
           },
           "baxis": {
            "gridcolor": "white",
            "linecolor": "white",
            "ticks": ""
           },
           "bgcolor": "#E5ECF6",
           "caxis": {
            "gridcolor": "white",
            "linecolor": "white",
            "ticks": ""
           }
          },
          "title": {
           "x": 0.05
          },
          "xaxis": {
           "automargin": true,
           "gridcolor": "white",
           "linecolor": "white",
           "ticks": "",
           "title": {
            "standoff": 15
           },
           "zerolinecolor": "white",
           "zerolinewidth": 2
          },
          "yaxis": {
           "automargin": true,
           "gridcolor": "white",
           "linecolor": "white",
           "ticks": "",
           "title": {
            "standoff": 15
           },
           "zerolinecolor": "white",
           "zerolinewidth": 2
          }
         }
        },
        "width": 1000
       }
      },
      "text/html": [
       "<div>                            <div id=\"b93d0b59-064a-4451-a5bb-b4143b2c813a\" class=\"plotly-graph-div\" style=\"height:500px; width:1000px;\"></div>            <script type=\"text/javascript\">                require([\"plotly\"], function(Plotly) {                    window.PLOTLYENV=window.PLOTLYENV || {};                                    if (document.getElementById(\"b93d0b59-064a-4451-a5bb-b4143b2c813a\")) {                    Plotly.newPlot(                        \"b93d0b59-064a-4451-a5bb-b4143b2c813a\",                        [{\"branchvalues\":\"total\",\"customdata\":[[-25729.3563],[-16971.3766],[-15559.9603],[-12607.887],[-7490.9122],[-6527.8579],[-5341.6936],[-3427.9246],[-3399.3017000000004],[-1190.4705],[100.196],[185.9216],[230.1497],[394.8283],[454.4862],[826.7230999999999],[836.4435],[1059.5892999999999],[1157.1161],[1183.8119],[1706.5028],[1769.0566],[1833.3285],[2037.0942000000002],[2196.1023],[2244.9782999999998],[2546.5335],[3172.9762],[3316.7658999999994],[3511.4918],[4008.6871],[4853.956],[5786.8253],[6436.2105],[6785.5016000000005],[7031.1788],[7285.6293000000005],[8401.8004],[9772.9138],[9977.3748],[10823.1874],[11199.6966],[16250.0433],[18382.9363],[18597.9504],[24463.187600000005],[33402.6517],[74038.5486],[76381.38709999999],[5786.8253],[-3427.9246],[4008.6871],[76381.38709999999],[-6527.8579],[3511.4918],[9977.3748],[1059.5892999999999],[-3399.3017000000004],[16250.0433],[826.7230999999999],[-12607.887],[18382.9363],[1183.8119],[836.4435],[11199.6966],[2196.1023],[454.4862],[7031.1788],[6785.5016000000005],[24463.187600000005],[10823.1874],[3172.9762],[6436.2105],[1833.3285],[2037.0942000000002],[3316.7658999999994],[1706.5028],[9772.9138],[1157.1161],[74038.5486],[-7490.9122],[230.1497],[-16971.3766],[4853.956],[-1190.4705],[-15559.9603],[7285.6293000000005],[1769.0566],[394.8283],[-5341.6936],[-25729.3563],[2546.5335],[2244.9782999999998],[18597.9504],[33402.6517],[185.9216],[8401.8004],[100.196]],\"domain\":{\"x\":[0.0,1.0],\"y\":[0.0,1.0]},\"hovertemplate\":\"labels=%{label}<br>Profit_sum=%{value}<br>parent=%{parent}<br>id=%{id}<br>Profit=%{color}<extra></extra>\",\"ids\":[\"Texas/-25729.3563\",\"Ohio/-16971.3766\",\"Pennsylvania/-15559.9603\",\"Illinois/-12607.887\",\"North Carolina/-7490.9122\",\"Colorado/-6527.8579\",\"Tennessee/-5341.6936\",\"Arizona/-3427.9246\",\"Florida/-3399.3017000000004\",\"Oregon/-1190.4705\",\"Wyoming/100.196\",\"West Virginia/185.9216\",\"North Dakota/230.1497\",\"South Dakota/394.8283\",\"Maine/454.4862\",\"Idaho/826.7231\",\"Kansas/836.4435\",\"District of Columbia/1059.5892999999999\",\"New Mexico/1157.1161\",\"Iowa/1183.8119\",\"New Hampshire/1706.5028\",\"South Carolina/1769.0566\",\"Montana/1833.3285\",\"Nebraska/2037.0942000000002\",\"Louisiana/2196.1023\",\"Vermont/2244.9782999999998\",\"Utah/2546.5335\",\"Mississippi/3172.9762\",\"Nevada/3316.7659\",\"Connecticut/3511.4918\",\"Arkansas/4008.6871\",\"Oklahoma/4853.956\",\"Alabama/5786.8253\",\"Missouri/6436.2105\",\"Massachusetts/6785.5016000000005\",\"Maryland/7031.1788\",\"Rhode Island/7285.6293000000005\",\"Wisconsin/8401.8004\",\"New Jersey/9772.9138\",\"Delaware/9977.3748\",\"Minnesota/10823.1874\",\"Kentucky/11199.6966\",\"Georgia/16250.0433\",\"Indiana/18382.9363\",\"Virginia/18597.9504\",\"Michigan/24463.1876\",\"Washington/33402.6517\",\"New York/74038.5486\",\"California/76381.38709999999\",\"Alabama\",\"Arizona\",\"Arkansas\",\"California\",\"Colorado\",\"Connecticut\",\"Delaware\",\"District of Columbia\",\"Florida\",\"Georgia\",\"Idaho\",\"Illinois\",\"Indiana\",\"Iowa\",\"Kansas\",\"Kentucky\",\"Louisiana\",\"Maine\",\"Maryland\",\"Massachusetts\",\"Michigan\",\"Minnesota\",\"Mississippi\",\"Missouri\",\"Montana\",\"Nebraska\",\"Nevada\",\"New Hampshire\",\"New Jersey\",\"New Mexico\",\"New York\",\"North Carolina\",\"North Dakota\",\"Ohio\",\"Oklahoma\",\"Oregon\",\"Pennsylvania\",\"Rhode Island\",\"South Carolina\",\"South Dakota\",\"Tennessee\",\"Texas\",\"Utah\",\"Vermont\",\"Virginia\",\"Washington\",\"West Virginia\",\"Wisconsin\",\"Wyoming\"],\"labels\":[\"-25729.3563\",\"-16971.3766\",\"-15559.9603\",\"-12607.887\",\"-7490.9122\",\"-6527.8579\",\"-5341.6936\",\"-3427.9246\",\"-3399.3017000000004\",\"-1190.4705\",\"100.196\",\"185.9216\",\"230.1497\",\"394.8283\",\"454.4862\",\"826.7231\",\"836.4435\",\"1059.5892999999999\",\"1157.1161\",\"1183.8119\",\"1706.5028\",\"1769.0566\",\"1833.3285\",\"2037.0942000000002\",\"2196.1023\",\"2244.9782999999998\",\"2546.5335\",\"3172.9762\",\"3316.7659\",\"3511.4918\",\"4008.6871\",\"4853.956\",\"5786.8253\",\"6436.2105\",\"6785.5016000000005\",\"7031.1788\",\"7285.6293000000005\",\"8401.8004\",\"9772.9138\",\"9977.3748\",\"10823.1874\",\"11199.6966\",\"16250.0433\",\"18382.9363\",\"18597.9504\",\"24463.1876\",\"33402.6517\",\"74038.5486\",\"76381.38709999999\",\"Alabama\",\"Arizona\",\"Arkansas\",\"California\",\"Colorado\",\"Connecticut\",\"Delaware\",\"District of Columbia\",\"Florida\",\"Georgia\",\"Idaho\",\"Illinois\",\"Indiana\",\"Iowa\",\"Kansas\",\"Kentucky\",\"Louisiana\",\"Maine\",\"Maryland\",\"Massachusetts\",\"Michigan\",\"Minnesota\",\"Mississippi\",\"Missouri\",\"Montana\",\"Nebraska\",\"Nevada\",\"New Hampshire\",\"New Jersey\",\"New Mexico\",\"New York\",\"North Carolina\",\"North Dakota\",\"Ohio\",\"Oklahoma\",\"Oregon\",\"Pennsylvania\",\"Rhode Island\",\"South Carolina\",\"South Dakota\",\"Tennessee\",\"Texas\",\"Utah\",\"Vermont\",\"Virginia\",\"Washington\",\"West Virginia\",\"Wisconsin\",\"Wyoming\"],\"marker\":{\"coloraxis\":\"coloraxis\",\"colors\":[-25729.3563,-16971.3766,-15559.9603,-12607.887,-7490.9122,-6527.8579,-5341.6936,-3427.9246,-3399.3017000000004,-1190.4705,100.196,185.9216,230.1497,394.8283,454.4862,826.7230999999999,836.4435,1059.5892999999999,1157.1161,1183.8119,1706.5028,1769.0566,1833.3285,2037.0942000000002,2196.1023,2244.9782999999998,2546.5335,3172.9762,3316.7658999999994,3511.4918,4008.6871,4853.956,5786.8253,6436.2105,6785.5016000000005,7031.1788,7285.6293000000005,8401.8004,9772.9138,9977.3748,10823.1874,11199.6966,16250.0433,18382.9363,18597.9504,24463.187600000005,33402.6517,74038.5486,76381.38709999999,5786.8253,-3427.9246,4008.6871,76381.38709999999,-6527.8579,3511.4918,9977.3748,1059.5892999999999,-3399.3017000000004,16250.0433,826.7230999999999,-12607.887,18382.9363,1183.8119,836.4435,11199.6966,2196.1023,454.4862,7031.1788,6785.5016000000005,24463.187600000005,10823.1874,3172.9762,6436.2105,1833.3285,2037.0942000000002,3316.7658999999994,1706.5028,9772.9138,1157.1161,74038.5486,-7490.9122,230.1497,-16971.3766,4853.956,-1190.4705,-15559.9603,7285.6293000000005,1769.0566,394.8283,-5341.6936,-25729.3563,2546.5335,2244.9782999999998,18597.9504,33402.6517,185.9216,8401.8004,100.196]},\"name\":\"\",\"parents\":[\"Texas\",\"Ohio\",\"Pennsylvania\",\"Illinois\",\"North Carolina\",\"Colorado\",\"Tennessee\",\"Arizona\",\"Florida\",\"Oregon\",\"Wyoming\",\"West Virginia\",\"North Dakota\",\"South Dakota\",\"Maine\",\"Idaho\",\"Kansas\",\"District of Columbia\",\"New Mexico\",\"Iowa\",\"New Hampshire\",\"South Carolina\",\"Montana\",\"Nebraska\",\"Louisiana\",\"Vermont\",\"Utah\",\"Mississippi\",\"Nevada\",\"Connecticut\",\"Arkansas\",\"Oklahoma\",\"Alabama\",\"Missouri\",\"Massachusetts\",\"Maryland\",\"Rhode Island\",\"Wisconsin\",\"New Jersey\",\"Delaware\",\"Minnesota\",\"Kentucky\",\"Georgia\",\"Indiana\",\"Virginia\",\"Michigan\",\"Washington\",\"New York\",\"California\",\"\",\"\",\"\",\"\",\"\",\"\",\"\",\"\",\"\",\"\",\"\",\"\",\"\",\"\",\"\",\"\",\"\",\"\",\"\",\"\",\"\",\"\",\"\",\"\",\"\",\"\",\"\",\"\",\"\",\"\",\"\",\"\",\"\",\"\",\"\",\"\",\"\",\"\",\"\",\"\",\"\",\"\",\"\",\"\",\"\",\"\",\"\",\"\",\"\"],\"values\":[-25729.3563,-16971.3766,-15559.9603,-12607.887,-7490.9122,-6527.8579,-5341.6936,-3427.9246,-3399.3017000000004,-1190.4705,100.196,185.9216,230.1497,394.8283,454.4862,826.7231,836.4435,1059.5892999999999,1157.1161,1183.8119,1706.5028,1769.0566,1833.3285,2037.0942000000002,2196.1023,2244.9782999999998,2546.5335,3172.9762,3316.7659,3511.4918,4008.6871,4853.956,5786.8253,6436.2105,6785.5016000000005,7031.1788,7285.6293000000005,8401.8004,9772.9138,9977.3748,10823.1874,11199.6966,16250.0433,18382.9363,18597.9504,24463.1876,33402.6517,74038.5486,76381.38709999999,5786.8253,-3427.9246,4008.6871,76381.38709999999,-6527.8579,3511.4918,9977.3748,1059.5892999999999,-3399.3017000000004,16250.0433,826.7231,-12607.887,18382.9363,1183.8119,836.4435,11199.6966,2196.1023,454.4862,7031.1788,6785.5016000000005,24463.1876,10823.1874,3172.9762,6436.2105,1833.3285,2037.0942000000002,3316.7659,1706.5028,9772.9138,1157.1161,74038.5486,-7490.9122,230.1497,-16971.3766,4853.956,-1190.4705,-15559.9603,7285.6293000000005,1769.0566,394.8283,-5341.6936,-25729.3563,2546.5335,2244.9782999999998,18597.9504,33402.6517,185.9216,8401.8004,100.196],\"type\":\"treemap\"}],                        {\"template\":{\"data\":{\"histogram2dcontour\":[{\"type\":\"histogram2dcontour\",\"colorbar\":{\"outlinewidth\":0,\"ticks\":\"\"},\"colorscale\":[[0.0,\"#0d0887\"],[0.1111111111111111,\"#46039f\"],[0.2222222222222222,\"#7201a8\"],[0.3333333333333333,\"#9c179e\"],[0.4444444444444444,\"#bd3786\"],[0.5555555555555556,\"#d8576b\"],[0.6666666666666666,\"#ed7953\"],[0.7777777777777778,\"#fb9f3a\"],[0.8888888888888888,\"#fdca26\"],[1.0,\"#f0f921\"]]}],\"choropleth\":[{\"type\":\"choropleth\",\"colorbar\":{\"outlinewidth\":0,\"ticks\":\"\"}}],\"histogram2d\":[{\"type\":\"histogram2d\",\"colorbar\":{\"outlinewidth\":0,\"ticks\":\"\"},\"colorscale\":[[0.0,\"#0d0887\"],[0.1111111111111111,\"#46039f\"],[0.2222222222222222,\"#7201a8\"],[0.3333333333333333,\"#9c179e\"],[0.4444444444444444,\"#bd3786\"],[0.5555555555555556,\"#d8576b\"],[0.6666666666666666,\"#ed7953\"],[0.7777777777777778,\"#fb9f3a\"],[0.8888888888888888,\"#fdca26\"],[1.0,\"#f0f921\"]]}],\"heatmap\":[{\"type\":\"heatmap\",\"colorbar\":{\"outlinewidth\":0,\"ticks\":\"\"},\"colorscale\":[[0.0,\"#0d0887\"],[0.1111111111111111,\"#46039f\"],[0.2222222222222222,\"#7201a8\"],[0.3333333333333333,\"#9c179e\"],[0.4444444444444444,\"#bd3786\"],[0.5555555555555556,\"#d8576b\"],[0.6666666666666666,\"#ed7953\"],[0.7777777777777778,\"#fb9f3a\"],[0.8888888888888888,\"#fdca26\"],[1.0,\"#f0f921\"]]}],\"heatmapgl\":[{\"type\":\"heatmapgl\",\"colorbar\":{\"outlinewidth\":0,\"ticks\":\"\"},\"colorscale\":[[0.0,\"#0d0887\"],[0.1111111111111111,\"#46039f\"],[0.2222222222222222,\"#7201a8\"],[0.3333333333333333,\"#9c179e\"],[0.4444444444444444,\"#bd3786\"],[0.5555555555555556,\"#d8576b\"],[0.6666666666666666,\"#ed7953\"],[0.7777777777777778,\"#fb9f3a\"],[0.8888888888888888,\"#fdca26\"],[1.0,\"#f0f921\"]]}],\"contourcarpet\":[{\"type\":\"contourcarpet\",\"colorbar\":{\"outlinewidth\":0,\"ticks\":\"\"}}],\"contour\":[{\"type\":\"contour\",\"colorbar\":{\"outlinewidth\":0,\"ticks\":\"\"},\"colorscale\":[[0.0,\"#0d0887\"],[0.1111111111111111,\"#46039f\"],[0.2222222222222222,\"#7201a8\"],[0.3333333333333333,\"#9c179e\"],[0.4444444444444444,\"#bd3786\"],[0.5555555555555556,\"#d8576b\"],[0.6666666666666666,\"#ed7953\"],[0.7777777777777778,\"#fb9f3a\"],[0.8888888888888888,\"#fdca26\"],[1.0,\"#f0f921\"]]}],\"surface\":[{\"type\":\"surface\",\"colorbar\":{\"outlinewidth\":0,\"ticks\":\"\"},\"colorscale\":[[0.0,\"#0d0887\"],[0.1111111111111111,\"#46039f\"],[0.2222222222222222,\"#7201a8\"],[0.3333333333333333,\"#9c179e\"],[0.4444444444444444,\"#bd3786\"],[0.5555555555555556,\"#d8576b\"],[0.6666666666666666,\"#ed7953\"],[0.7777777777777778,\"#fb9f3a\"],[0.8888888888888888,\"#fdca26\"],[1.0,\"#f0f921\"]]}],\"mesh3d\":[{\"type\":\"mesh3d\",\"colorbar\":{\"outlinewidth\":0,\"ticks\":\"\"}}],\"scatter\":[{\"fillpattern\":{\"fillmode\":\"overlay\",\"size\":10,\"solidity\":0.2},\"type\":\"scatter\"}],\"parcoords\":[{\"type\":\"parcoords\",\"line\":{\"colorbar\":{\"outlinewidth\":0,\"ticks\":\"\"}}}],\"scatterpolargl\":[{\"type\":\"scatterpolargl\",\"marker\":{\"colorbar\":{\"outlinewidth\":0,\"ticks\":\"\"}}}],\"bar\":[{\"error_x\":{\"color\":\"#2a3f5f\"},\"error_y\":{\"color\":\"#2a3f5f\"},\"marker\":{\"line\":{\"color\":\"#E5ECF6\",\"width\":0.5},\"pattern\":{\"fillmode\":\"overlay\",\"size\":10,\"solidity\":0.2}},\"type\":\"bar\"}],\"scattergeo\":[{\"type\":\"scattergeo\",\"marker\":{\"colorbar\":{\"outlinewidth\":0,\"ticks\":\"\"}}}],\"scatterpolar\":[{\"type\":\"scatterpolar\",\"marker\":{\"colorbar\":{\"outlinewidth\":0,\"ticks\":\"\"}}}],\"histogram\":[{\"marker\":{\"pattern\":{\"fillmode\":\"overlay\",\"size\":10,\"solidity\":0.2}},\"type\":\"histogram\"}],\"scattergl\":[{\"type\":\"scattergl\",\"marker\":{\"colorbar\":{\"outlinewidth\":0,\"ticks\":\"\"}}}],\"scatter3d\":[{\"type\":\"scatter3d\",\"line\":{\"colorbar\":{\"outlinewidth\":0,\"ticks\":\"\"}},\"marker\":{\"colorbar\":{\"outlinewidth\":0,\"ticks\":\"\"}}}],\"scattermapbox\":[{\"type\":\"scattermapbox\",\"marker\":{\"colorbar\":{\"outlinewidth\":0,\"ticks\":\"\"}}}],\"scatterternary\":[{\"type\":\"scatterternary\",\"marker\":{\"colorbar\":{\"outlinewidth\":0,\"ticks\":\"\"}}}],\"scattercarpet\":[{\"type\":\"scattercarpet\",\"marker\":{\"colorbar\":{\"outlinewidth\":0,\"ticks\":\"\"}}}],\"carpet\":[{\"aaxis\":{\"endlinecolor\":\"#2a3f5f\",\"gridcolor\":\"white\",\"linecolor\":\"white\",\"minorgridcolor\":\"white\",\"startlinecolor\":\"#2a3f5f\"},\"baxis\":{\"endlinecolor\":\"#2a3f5f\",\"gridcolor\":\"white\",\"linecolor\":\"white\",\"minorgridcolor\":\"white\",\"startlinecolor\":\"#2a3f5f\"},\"type\":\"carpet\"}],\"table\":[{\"cells\":{\"fill\":{\"color\":\"#EBF0F8\"},\"line\":{\"color\":\"white\"}},\"header\":{\"fill\":{\"color\":\"#C8D4E3\"},\"line\":{\"color\":\"white\"}},\"type\":\"table\"}],\"barpolar\":[{\"marker\":{\"line\":{\"color\":\"#E5ECF6\",\"width\":0.5},\"pattern\":{\"fillmode\":\"overlay\",\"size\":10,\"solidity\":0.2}},\"type\":\"barpolar\"}],\"pie\":[{\"automargin\":true,\"type\":\"pie\"}]},\"layout\":{\"autotypenumbers\":\"strict\",\"colorway\":[\"#636efa\",\"#EF553B\",\"#00cc96\",\"#ab63fa\",\"#FFA15A\",\"#19d3f3\",\"#FF6692\",\"#B6E880\",\"#FF97FF\",\"#FECB52\"],\"font\":{\"color\":\"#2a3f5f\"},\"hovermode\":\"closest\",\"hoverlabel\":{\"align\":\"left\"},\"paper_bgcolor\":\"white\",\"plot_bgcolor\":\"#E5ECF6\",\"polar\":{\"bgcolor\":\"#E5ECF6\",\"angularaxis\":{\"gridcolor\":\"white\",\"linecolor\":\"white\",\"ticks\":\"\"},\"radialaxis\":{\"gridcolor\":\"white\",\"linecolor\":\"white\",\"ticks\":\"\"}},\"ternary\":{\"bgcolor\":\"#E5ECF6\",\"aaxis\":{\"gridcolor\":\"white\",\"linecolor\":\"white\",\"ticks\":\"\"},\"baxis\":{\"gridcolor\":\"white\",\"linecolor\":\"white\",\"ticks\":\"\"},\"caxis\":{\"gridcolor\":\"white\",\"linecolor\":\"white\",\"ticks\":\"\"}},\"coloraxis\":{\"colorbar\":{\"outlinewidth\":0,\"ticks\":\"\"}},\"colorscale\":{\"sequential\":[[0.0,\"#0d0887\"],[0.1111111111111111,\"#46039f\"],[0.2222222222222222,\"#7201a8\"],[0.3333333333333333,\"#9c179e\"],[0.4444444444444444,\"#bd3786\"],[0.5555555555555556,\"#d8576b\"],[0.6666666666666666,\"#ed7953\"],[0.7777777777777778,\"#fb9f3a\"],[0.8888888888888888,\"#fdca26\"],[1.0,\"#f0f921\"]],\"sequentialminus\":[[0.0,\"#0d0887\"],[0.1111111111111111,\"#46039f\"],[0.2222222222222222,\"#7201a8\"],[0.3333333333333333,\"#9c179e\"],[0.4444444444444444,\"#bd3786\"],[0.5555555555555556,\"#d8576b\"],[0.6666666666666666,\"#ed7953\"],[0.7777777777777778,\"#fb9f3a\"],[0.8888888888888888,\"#fdca26\"],[1.0,\"#f0f921\"]],\"diverging\":[[0,\"#8e0152\"],[0.1,\"#c51b7d\"],[0.2,\"#de77ae\"],[0.3,\"#f1b6da\"],[0.4,\"#fde0ef\"],[0.5,\"#f7f7f7\"],[0.6,\"#e6f5d0\"],[0.7,\"#b8e186\"],[0.8,\"#7fbc41\"],[0.9,\"#4d9221\"],[1,\"#276419\"]]},\"xaxis\":{\"gridcolor\":\"white\",\"linecolor\":\"white\",\"ticks\":\"\",\"title\":{\"standoff\":15},\"zerolinecolor\":\"white\",\"automargin\":true,\"zerolinewidth\":2},\"yaxis\":{\"gridcolor\":\"white\",\"linecolor\":\"white\",\"ticks\":\"\",\"title\":{\"standoff\":15},\"zerolinecolor\":\"white\",\"automargin\":true,\"zerolinewidth\":2},\"scene\":{\"xaxis\":{\"backgroundcolor\":\"#E5ECF6\",\"gridcolor\":\"white\",\"linecolor\":\"white\",\"showbackground\":true,\"ticks\":\"\",\"zerolinecolor\":\"white\",\"gridwidth\":2},\"yaxis\":{\"backgroundcolor\":\"#E5ECF6\",\"gridcolor\":\"white\",\"linecolor\":\"white\",\"showbackground\":true,\"ticks\":\"\",\"zerolinecolor\":\"white\",\"gridwidth\":2},\"zaxis\":{\"backgroundcolor\":\"#E5ECF6\",\"gridcolor\":\"white\",\"linecolor\":\"white\",\"showbackground\":true,\"ticks\":\"\",\"zerolinecolor\":\"white\",\"gridwidth\":2}},\"shapedefaults\":{\"line\":{\"color\":\"#2a3f5f\"}},\"annotationdefaults\":{\"arrowcolor\":\"#2a3f5f\",\"arrowhead\":0,\"arrowwidth\":1},\"geo\":{\"bgcolor\":\"white\",\"landcolor\":\"#E5ECF6\",\"subunitcolor\":\"white\",\"showland\":true,\"showlakes\":true,\"lakecolor\":\"white\"},\"title\":{\"x\":0.05},\"mapbox\":{\"style\":\"light\"}}},\"coloraxis\":{\"colorbar\":{\"title\":{\"text\":\"Profit\"}},\"colorscale\":[[0.0,\"rgb(253, 253, 204)\"],[0.09090909090909091,\"rgb(206, 236, 179)\"],[0.18181818181818182,\"rgb(156, 219, 165)\"],[0.2727272727272727,\"rgb(111, 201, 163)\"],[0.36363636363636365,\"rgb(86, 177, 163)\"],[0.45454545454545453,\"rgb(76, 153, 160)\"],[0.5454545454545454,\"rgb(68, 130, 155)\"],[0.6363636363636364,\"rgb(62, 108, 150)\"],[0.7272727272727273,\"rgb(62, 82, 143)\"],[0.8181818181818182,\"rgb(64, 60, 115)\"],[0.9090909090909091,\"rgb(54, 43, 77)\"],[1.0,\"rgb(39, 26, 44)\"]]},\"legend\":{\"tracegroupgap\":0},\"margin\":{\"t\":60},\"width\":1000,\"height\":500},                        {\"responsive\": true}                    ).then(function(){\n",
       "                            \n",
       "var gd = document.getElementById('b93d0b59-064a-4451-a5bb-b4143b2c813a');\n",
       "var x = new MutationObserver(function (mutations, observer) {{\n",
       "        var display = window.getComputedStyle(gd).display;\n",
       "        if (!display || display === 'none') {{\n",
       "            console.log([gd, 'removed!']);\n",
       "            Plotly.purge(gd);\n",
       "            observer.disconnect();\n",
       "        }}\n",
       "}});\n",
       "\n",
       "// Listen for the removal of the full notebook cells\n",
       "var notebookContainer = gd.closest('#notebook-container');\n",
       "if (notebookContainer) {{\n",
       "    x.observe(notebookContainer, {childList: true});\n",
       "}}\n",
       "\n",
       "// Listen for the clearing of the current output cell\n",
       "var outputEl = gd.closest('.output');\n",
       "if (outputEl) {{\n",
       "    x.observe(outputEl, {childList: true});\n",
       "}}\n",
       "\n",
       "                        })                };                });            </script>        </div>"
      ]
     },
     "metadata": {},
     "output_type": "display_data"
    }
   ],
   "source": [
    "fig=px.treemap(state_profit,path=[\"State\",\"Profit\"],color_continuous_scale=\"deep\", values=\"Profit\",color=\"Profit\")\n",
    "fig.update_layout(width=1000,height=500)\n",
    "fig.show()"
   ]
  },
  {
   "cell_type": "markdown",
   "id": "bfaf268a",
   "metadata": {},
   "source": [
    "# Which is the most profitable sub category"
   ]
  },
  {
   "cell_type": "code",
   "execution_count": 27,
   "id": "96b55209",
   "metadata": {},
   "outputs": [
    {
     "data": {
      "text/plain": [
       "array(['Bookcases', 'Chairs', 'Labels', 'Tables', 'Storage',\n",
       "       'Furnishings', 'Art', 'Phones', 'Binders', 'Appliances', 'Paper',\n",
       "       'Accessories', 'Envelopes', 'Fasteners', 'Supplies', 'Machines',\n",
       "       'Copiers'], dtype=object)"
      ]
     },
     "execution_count": 27,
     "metadata": {},
     "output_type": "execute_result"
    }
   ],
   "source": [
    "data[\"Sub-Category\"].unique()"
   ]
  },
  {
   "cell_type": "code",
   "execution_count": 28,
   "id": "c900d782",
   "metadata": {},
   "outputs": [
    {
     "data": {
      "text/html": [
       "<div>\n",
       "<style scoped>\n",
       "    .dataframe tbody tr th:only-of-type {\n",
       "        vertical-align: middle;\n",
       "    }\n",
       "\n",
       "    .dataframe tbody tr th {\n",
       "        vertical-align: top;\n",
       "    }\n",
       "\n",
       "    .dataframe thead th {\n",
       "        text-align: right;\n",
       "    }\n",
       "</style>\n",
       "<table border=\"1\" class=\"dataframe\">\n",
       "  <thead>\n",
       "    <tr style=\"text-align: right;\">\n",
       "      <th></th>\n",
       "      <th>Sub-Category</th>\n",
       "      <th>Profit</th>\n",
       "    </tr>\n",
       "  </thead>\n",
       "  <tbody>\n",
       "    <tr>\n",
       "      <th>6</th>\n",
       "      <td>Copiers</td>\n",
       "      <td>55617.8249</td>\n",
       "    </tr>\n",
       "    <tr>\n",
       "      <th>13</th>\n",
       "      <td>Phones</td>\n",
       "      <td>44515.7306</td>\n",
       "    </tr>\n",
       "    <tr>\n",
       "      <th>0</th>\n",
       "      <td>Accessories</td>\n",
       "      <td>41936.6357</td>\n",
       "    </tr>\n",
       "    <tr>\n",
       "      <th>12</th>\n",
       "      <td>Paper</td>\n",
       "      <td>34053.5693</td>\n",
       "    </tr>\n",
       "    <tr>\n",
       "      <th>3</th>\n",
       "      <td>Binders</td>\n",
       "      <td>30221.7633</td>\n",
       "    </tr>\n",
       "    <tr>\n",
       "      <th>5</th>\n",
       "      <td>Chairs</td>\n",
       "      <td>26590.1663</td>\n",
       "    </tr>\n",
       "    <tr>\n",
       "      <th>14</th>\n",
       "      <td>Storage</td>\n",
       "      <td>21278.8264</td>\n",
       "    </tr>\n",
       "    <tr>\n",
       "      <th>1</th>\n",
       "      <td>Appliances</td>\n",
       "      <td>18138.0054</td>\n",
       "    </tr>\n",
       "    <tr>\n",
       "      <th>9</th>\n",
       "      <td>Furnishings</td>\n",
       "      <td>13059.1436</td>\n",
       "    </tr>\n",
       "    <tr>\n",
       "      <th>7</th>\n",
       "      <td>Envelopes</td>\n",
       "      <td>6964.1767</td>\n",
       "    </tr>\n",
       "  </tbody>\n",
       "</table>\n",
       "</div>"
      ],
      "text/plain": [
       "   Sub-Category      Profit\n",
       "6       Copiers  55617.8249\n",
       "13       Phones  44515.7306\n",
       "0   Accessories  41936.6357\n",
       "12        Paper  34053.5693\n",
       "3       Binders  30221.7633\n",
       "5        Chairs  26590.1663\n",
       "14      Storage  21278.8264\n",
       "1    Appliances  18138.0054\n",
       "9   Furnishings  13059.1436\n",
       "7     Envelopes   6964.1767"
      ]
     },
     "execution_count": 28,
     "metadata": {},
     "output_type": "execute_result"
    }
   ],
   "source": [
    "sub_categories_info=pd.DataFrame(data.groupby(\"Sub-Category\")[\"Profit\"].sum())\n",
    "sub_categories_info.reset_index(inplace=True)\n",
    "sub_categories_profit=sub_categories_info.sort_values(by=\"Profit\",ascending=False)\n",
    "sub_categories_profit.head(10)"
   ]
  },
  {
   "cell_type": "code",
   "execution_count": 29,
   "id": "1185f45d",
   "metadata": {},
   "outputs": [
    {
     "data": {
      "image/png": "[encoded data removed]",
      "text/plain": [
       "<Figure size 640x480 with 1 Axes>"
      ]
     },
     "metadata": {},
     "output_type": "display_data"
    }
   ],
   "source": [
    "plt.bar(sub_categories_profit[\"Sub-Category\"],sub_categories_profit[\"Profit\"])\n",
    "plt.xticks(sub_categories_profit['Sub-Category'] , rotation = \"vertical\")\n",
    "plt.xlabel(\"Sub-Categories\")\n",
    "plt.ylabel(\"Profit\")\n",
    "plt.show()"
   ]
  },
  {
   "cell_type": "markdown",
   "id": "f0aa7052",
   "metadata": {},
   "source": [
    "# Which category sales the most"
   ]
  },
  {
   "cell_type": "code",
   "execution_count": 30,
   "id": "06951c50",
   "metadata": {},
   "outputs": [
    {
     "data": {
      "text/plain": [
       "Office Supplies    6026\n",
       "Furniture          2121\n",
       "Technology         1847\n",
       "Name: Category, dtype: int64"
      ]
     },
     "execution_count": 30,
     "metadata": {},
     "output_type": "execute_result"
    }
   ],
   "source": [
    "data[\"Category\"].value_counts()"
   ]
  },
  {
   "cell_type": "code",
   "execution_count": 31,
   "id": "b69f1cf9",
   "metadata": {},
   "outputs": [
    {
     "name": "stderr",
     "output_type": "stream",
     "text": [
      "C:\\Users\\rohan\\AppData\\Local\\Temp\\ipykernel_10244\\2866133472.py:1: FutureWarning:\n",
      "\n",
      "The default value of numeric_only in DataFrameGroupBy.sum is deprecated. In a future version, numeric_only will default to False. Either specify numeric_only or select only columns which should be valid for the function.\n",
      "\n"
     ]
    },
    {
     "data": {
      "text/html": [
       "<div>\n",
       "<style scoped>\n",
       "    .dataframe tbody tr th:only-of-type {\n",
       "        vertical-align: middle;\n",
       "    }\n",
       "\n",
       "    .dataframe tbody tr th {\n",
       "        vertical-align: top;\n",
       "    }\n",
       "\n",
       "    .dataframe thead th {\n",
       "        text-align: right;\n",
       "    }\n",
       "</style>\n",
       "<table border=\"1\" class=\"dataframe\">\n",
       "  <thead>\n",
       "    <tr style=\"text-align: right;\">\n",
       "      <th></th>\n",
       "      <th>Category</th>\n",
       "      <th>Sales</th>\n",
       "      <th>Quantity</th>\n",
       "      <th>Discount</th>\n",
       "      <th>Profit</th>\n",
       "    </tr>\n",
       "  </thead>\n",
       "  <tbody>\n",
       "    <tr>\n",
       "      <th>0</th>\n",
       "      <td>Furniture</td>\n",
       "      <td>741999.7953</td>\n",
       "      <td>8028</td>\n",
       "      <td>368.89</td>\n",
       "      <td>18451.2728</td>\n",
       "    </tr>\n",
       "    <tr>\n",
       "      <th>1</th>\n",
       "      <td>Office Supplies</td>\n",
       "      <td>719047.0320</td>\n",
       "      <td>22906</td>\n",
       "      <td>947.80</td>\n",
       "      <td>122490.8008</td>\n",
       "    </tr>\n",
       "    <tr>\n",
       "      <th>2</th>\n",
       "      <td>Technology</td>\n",
       "      <td>836154.0330</td>\n",
       "      <td>6939</td>\n",
       "      <td>244.40</td>\n",
       "      <td>145454.9481</td>\n",
       "    </tr>\n",
       "  </tbody>\n",
       "</table>\n",
       "</div>"
      ],
      "text/plain": [
       "          Category        Sales  Quantity  Discount       Profit\n",
       "0        Furniture  741999.7953      8028    368.89   18451.2728\n",
       "1  Office Supplies  719047.0320     22906    947.80  122490.8008\n",
       "2       Technology  836154.0330      6939    244.40  145454.9481"
      ]
     },
     "execution_count": 31,
     "metadata": {},
     "output_type": "execute_result"
    }
   ],
   "source": [
    "categories_sales=data.groupby(\"Category\").sum()\n",
    "categories_sales.reset_index(inplace=True)\n",
    "categories_sales.head()"
   ]
  },
  {
   "cell_type": "markdown",
   "id": "655ff30e",
   "metadata": {},
   "source": [
    "# Categories with highest sales"
   ]
  },
  {
   "cell_type": "code",
   "execution_count": 32,
   "id": "2af93c24",
   "metadata": {},
   "outputs": [
    {
     "data": {
      "image/png": "[encoded data removed]",
      "text/plain": [
       "<Figure size 640x480 with 1 Axes>"
      ]
     },
     "metadata": {},
     "output_type": "display_data"
    }
   ],
   "source": [
    "plt.bar(categories_sales[\"Category\"], categories_sales['Sales'])\n",
    "plt.xticks(categories_sales.index)\n",
    "plt.xlabel(\"Category\")\n",
    "plt.ylabel(\"Sales\")\n",
    "plt.show()"
   ]
  },
  {
   "cell_type": "markdown",
   "id": "25921172",
   "metadata": {},
   "source": [
    "# Which is most popular sub-category"
   ]
  },
  {
   "cell_type": "code",
   "execution_count": 33,
   "id": "c75de912",
   "metadata": {},
   "outputs": [],
   "source": [
    "popular_sub_category=pd.DataFrame(data.groupby(\"Sub-Category\")[\"Quantity\"].sum())\n",
    "popular_sub_category.reset_index(inplace=True)\n",
    "popular_sub_category=popular_sub_category.sort_values(by=\"Quantity\",ascending=False)"
   ]
  },
  {
   "cell_type": "code",
   "execution_count": 34,
   "id": "efc6e434",
   "metadata": {},
   "outputs": [
    {
     "data": {
      "image/png": "[encoded data removed]",
      "text/plain": [
       "<Figure size 640x480 with 1 Axes>"
      ]
     },
     "metadata": {},
     "output_type": "display_data"
    }
   ],
   "source": [
    "plt.bar(popular_sub_category[\"Sub-Category\"],popular_sub_category[\"Quantity\"],color=\"yellow\")\n",
    "plt.xticks(popular_sub_category[\"Sub-Category\"],rotation=\"vertical\")\n",
    "plt.title(\"Sub-Category Vs Quantity\")\n",
    "plt.xlabel(\"Sub Category\")\n",
    "plt.ylabel(\"Quantity\")\n",
    "plt.show()"
   ]
  },
  {
   "cell_type": "markdown",
   "id": "8ad64b91",
   "metadata": {},
   "source": [
    "# What is the most profitable cutomer segment"
   ]
  },
  {
   "cell_type": "code",
   "execution_count": 35,
   "id": "8eb25bab",
   "metadata": {},
   "outputs": [
    {
     "name": "stderr",
     "output_type": "stream",
     "text": [
      "C:\\Users\\rohan\\AppData\\Local\\Temp\\ipykernel_10244\\2179921002.py:1: FutureWarning:\n",
      "\n",
      "The default value of numeric_only in DataFrameGroupBy.sum is deprecated. In a future version, numeric_only will default to False. Either specify numeric_only or select only columns which should be valid for the function.\n",
      "\n"
     ]
    },
    {
     "data": {
      "text/html": [
       "<div>\n",
       "<style scoped>\n",
       "    .dataframe tbody tr th:only-of-type {\n",
       "        vertical-align: middle;\n",
       "    }\n",
       "\n",
       "    .dataframe tbody tr th {\n",
       "        vertical-align: top;\n",
       "    }\n",
       "\n",
       "    .dataframe thead th {\n",
       "        text-align: right;\n",
       "    }\n",
       "</style>\n",
       "<table border=\"1\" class=\"dataframe\">\n",
       "  <thead>\n",
       "    <tr style=\"text-align: right;\">\n",
       "      <th></th>\n",
       "      <th>Segment</th>\n",
       "      <th>Sales</th>\n",
       "      <th>Quantity</th>\n",
       "      <th>Discount</th>\n",
       "      <th>Profit</th>\n",
       "    </tr>\n",
       "  </thead>\n",
       "  <tbody>\n",
       "    <tr>\n",
       "      <th>0</th>\n",
       "      <td>Consumer</td>\n",
       "      <td>1.161401e+06</td>\n",
       "      <td>19521</td>\n",
       "      <td>820.91</td>\n",
       "      <td>134119.2092</td>\n",
       "    </tr>\n",
       "    <tr>\n",
       "      <th>1</th>\n",
       "      <td>Corporate</td>\n",
       "      <td>7.061464e+05</td>\n",
       "      <td>11608</td>\n",
       "      <td>477.85</td>\n",
       "      <td>91979.1340</td>\n",
       "    </tr>\n",
       "    <tr>\n",
       "      <th>2</th>\n",
       "      <td>Home Office</td>\n",
       "      <td>4.296531e+05</td>\n",
       "      <td>6744</td>\n",
       "      <td>262.33</td>\n",
       "      <td>60298.6785</td>\n",
       "    </tr>\n",
       "  </tbody>\n",
       "</table>\n",
       "</div>"
      ],
      "text/plain": [
       "       Segment         Sales  Quantity  Discount       Profit\n",
       "0     Consumer  1.161401e+06     19521    820.91  134119.2092\n",
       "1    Corporate  7.061464e+05     11608    477.85   91979.1340\n",
       "2  Home Office  4.296531e+05      6744    262.33   60298.6785"
      ]
     },
     "execution_count": 35,
     "metadata": {},
     "output_type": "execute_result"
    }
   ],
   "source": [
    "customer_segment=data.groupby(\"Segment\").sum()\n",
    "customer_segment.reset_index(inplace=True)\n",
    "customer_segment"
   ]
  },
  {
   "cell_type": "code",
   "execution_count": 36,
   "id": "23b80444",
   "metadata": {},
   "outputs": [
    {
     "data": {
      "image/png": "[encoded data removed]",
      "text/plain": [
       "<Figure size 640x480 with 1 Axes>"
      ]
     },
     "metadata": {},
     "output_type": "display_data"
    }
   ],
   "source": [
    "plt.bar(customer_segment[\"Segment\"],customer_segment[\"Profit\"],color=\"pink\")\n",
    "plt.xticks(customer_segment[\"Segment\"],rotation=\"vertical\")\n",
    "plt.title(\"Segment Vs Profit\")\n",
    "plt.xlabel(\"Segment\")\n",
    "plt.ylabel(\"Profit\")\n",
    "plt.show()"
   ]
  },
  {
   "cell_type": "markdown",
   "id": "47385bfa",
   "metadata": {},
   "source": [
    "# What is the most profitable Region"
   ]
  },
  {
   "cell_type": "code",
   "execution_count": 37,
   "id": "cfb8119f",
   "metadata": {},
   "outputs": [
    {
     "data": {
      "text/plain": [
       "West       3203\n",
       "East       2848\n",
       "Central    2323\n",
       "South      1620\n",
       "Name: Region, dtype: int64"
      ]
     },
     "execution_count": 37,
     "metadata": {},
     "output_type": "execute_result"
    }
   ],
   "source": [
    "data[\"Region\"].value_counts()"
   ]
  },
  {
   "cell_type": "code",
   "execution_count": 38,
   "id": "4742004c",
   "metadata": {},
   "outputs": [
    {
     "data": {
      "text/html": [
       "<div>\n",
       "<style scoped>\n",
       "    .dataframe tbody tr th:only-of-type {\n",
       "        vertical-align: middle;\n",
       "    }\n",
       "\n",
       "    .dataframe tbody tr th {\n",
       "        vertical-align: top;\n",
       "    }\n",
       "\n",
       "    .dataframe thead th {\n",
       "        text-align: right;\n",
       "    }\n",
       "</style>\n",
       "<table border=\"1\" class=\"dataframe\">\n",
       "  <thead>\n",
       "    <tr style=\"text-align: right;\">\n",
       "      <th></th>\n",
       "      <th>Region</th>\n",
       "      <th>Profit</th>\n",
       "    </tr>\n",
       "  </thead>\n",
       "  <tbody>\n",
       "    <tr>\n",
       "      <th>0</th>\n",
       "      <td>Central</td>\n",
       "      <td>39706.3625</td>\n",
       "    </tr>\n",
       "    <tr>\n",
       "      <th>1</th>\n",
       "      <td>East</td>\n",
       "      <td>91522.7800</td>\n",
       "    </tr>\n",
       "    <tr>\n",
       "      <th>2</th>\n",
       "      <td>South</td>\n",
       "      <td>46749.4303</td>\n",
       "    </tr>\n",
       "    <tr>\n",
       "      <th>3</th>\n",
       "      <td>West</td>\n",
       "      <td>108418.4489</td>\n",
       "    </tr>\n",
       "  </tbody>\n",
       "</table>\n",
       "</div>"
      ],
      "text/plain": [
       "    Region       Profit\n",
       "0  Central   39706.3625\n",
       "1     East   91522.7800\n",
       "2    South   46749.4303\n",
       "3     West  108418.4489"
      ]
     },
     "execution_count": 38,
     "metadata": {},
     "output_type": "execute_result"
    }
   ],
   "source": [
    "profitable_region=pd.DataFrame(data.groupby(\"Region\")[\"Profit\"].sum())\n",
    "profitable_region.reset_index(inplace=True)\n",
    "profitable_region"
   ]
  },
  {
   "cell_type": "markdown",
   "id": "71cbbdfc",
   "metadata": {},
   "source": [
    "# Which city has the highest Sales Volume"
   ]
  },
  {
   "cell_type": "code",
   "execution_count": 39,
   "id": "b31fc2ca",
   "metadata": {},
   "outputs": [
    {
     "data": {
      "text/html": [
       "<div>\n",
       "<style scoped>\n",
       "    .dataframe tbody tr th:only-of-type {\n",
       "        vertical-align: middle;\n",
       "    }\n",
       "\n",
       "    .dataframe tbody tr th {\n",
       "        vertical-align: top;\n",
       "    }\n",
       "\n",
       "    .dataframe thead th {\n",
       "        text-align: right;\n",
       "    }\n",
       "</style>\n",
       "<table border=\"1\" class=\"dataframe\">\n",
       "  <thead>\n",
       "    <tr style=\"text-align: right;\">\n",
       "      <th></th>\n",
       "      <th>Sales</th>\n",
       "    </tr>\n",
       "    <tr>\n",
       "      <th>City</th>\n",
       "      <th></th>\n",
       "    </tr>\n",
       "  </thead>\n",
       "  <tbody>\n",
       "    <tr>\n",
       "      <th>New York City</th>\n",
       "      <td>256368.161</td>\n",
       "    </tr>\n",
       "    <tr>\n",
       "      <th>Los Angeles</th>\n",
       "      <td>175851.341</td>\n",
       "    </tr>\n",
       "    <tr>\n",
       "      <th>Seattle</th>\n",
       "      <td>119540.742</td>\n",
       "    </tr>\n",
       "    <tr>\n",
       "      <th>San Francisco</th>\n",
       "      <td>112669.092</td>\n",
       "    </tr>\n",
       "    <tr>\n",
       "      <th>Philadelphia</th>\n",
       "      <td>109077.013</td>\n",
       "    </tr>\n",
       "  </tbody>\n",
       "</table>\n",
       "</div>"
      ],
      "text/plain": [
       "                    Sales\n",
       "City                     \n",
       "New York City  256368.161\n",
       "Los Angeles    175851.341\n",
       "Seattle        119540.742\n",
       "San Francisco  112669.092\n",
       "Philadelphia   109077.013"
      ]
     },
     "execution_count": 39,
     "metadata": {},
     "output_type": "execute_result"
    }
   ],
   "source": [
    "city_volume = pd.DataFrame(data.groupby('City')['Sales'].sum())\n",
    "city_volume =city_volume.sort_values(by=\"Sales\",ascending=False)\n",
    "city_volume.head()"
   ]
  },
  {
   "cell_type": "code",
   "execution_count": 40,
   "id": "e32c4924",
   "metadata": {},
   "outputs": [
    {
     "data": {
      "image/png": "[encoded data removed]",
      "text/plain": [
       "<Figure size 640x480 with 1 Axes>"
      ]
     },
     "metadata": {},
     "output_type": "display_data"
    }
   ],
   "source": [
    "plt.bar(city_volume.index[0:20], city_volume['Sales'][0:20],color=\"green\")\n",
    "plt.xticks(city_volume.index[0:20],rotation = 'vertical')\n",
    "plt.xlabel(\"City\" )\n",
    "plt.ylabel(\"Sales\")\n",
    "plt.show()"
   ]
  },
  {
   "cell_type": "markdown",
   "id": "c74efc23",
   "metadata": {},
   "source": [
    "# Building a Machine Learning Model to predict the profit"
   ]
  },
  {
   "cell_type": "code",
   "execution_count": 41,
   "id": "97fbef9d",
   "metadata": {},
   "outputs": [
    {
     "data": {
      "text/html": [
       "<div>\n",
       "<style scoped>\n",
       "    .dataframe tbody tr th:only-of-type {\n",
       "        vertical-align: middle;\n",
       "    }\n",
       "\n",
       "    .dataframe tbody tr th {\n",
       "        vertical-align: top;\n",
       "    }\n",
       "\n",
       "    .dataframe thead th {\n",
       "        text-align: right;\n",
       "    }\n",
       "</style>\n",
       "<table border=\"1\" class=\"dataframe\">\n",
       "  <thead>\n",
       "    <tr style=\"text-align: right;\">\n",
       "      <th></th>\n",
       "      <th>Ship Mode</th>\n",
       "      <th>Segment</th>\n",
       "      <th>Country</th>\n",
       "      <th>City</th>\n",
       "      <th>State</th>\n",
       "      <th>Region</th>\n",
       "      <th>Category</th>\n",
       "      <th>Sub-Category</th>\n",
       "      <th>Product Name</th>\n",
       "      <th>Sales</th>\n",
       "      <th>Quantity</th>\n",
       "      <th>Discount</th>\n",
       "      <th>Profit</th>\n",
       "    </tr>\n",
       "  </thead>\n",
       "  <tbody>\n",
       "    <tr>\n",
       "      <th>0</th>\n",
       "      <td>Second Class</td>\n",
       "      <td>Consumer</td>\n",
       "      <td>United States</td>\n",
       "      <td>Henderson</td>\n",
       "      <td>Kentucky</td>\n",
       "      <td>South</td>\n",
       "      <td>Furniture</td>\n",
       "      <td>Bookcases</td>\n",
       "      <td>Bush Somerset Collection Bookcase</td>\n",
       "      <td>261.9600</td>\n",
       "      <td>2</td>\n",
       "      <td>0.00</td>\n",
       "      <td>41.9136</td>\n",
       "    </tr>\n",
       "    <tr>\n",
       "      <th>1</th>\n",
       "      <td>Second Class</td>\n",
       "      <td>Consumer</td>\n",
       "      <td>United States</td>\n",
       "      <td>Henderson</td>\n",
       "      <td>Kentucky</td>\n",
       "      <td>South</td>\n",
       "      <td>Furniture</td>\n",
       "      <td>Chairs</td>\n",
       "      <td>Hon Deluxe Fabric Upholstered Stacking Chairs,...</td>\n",
       "      <td>731.9400</td>\n",
       "      <td>3</td>\n",
       "      <td>0.00</td>\n",
       "      <td>219.5820</td>\n",
       "    </tr>\n",
       "    <tr>\n",
       "      <th>2</th>\n",
       "      <td>Second Class</td>\n",
       "      <td>Corporate</td>\n",
       "      <td>United States</td>\n",
       "      <td>Los Angeles</td>\n",
       "      <td>California</td>\n",
       "      <td>West</td>\n",
       "      <td>Office Supplies</td>\n",
       "      <td>Labels</td>\n",
       "      <td>Self-Adhesive Address Labels for Typewriters b...</td>\n",
       "      <td>14.6200</td>\n",
       "      <td>2</td>\n",
       "      <td>0.00</td>\n",
       "      <td>6.8714</td>\n",
       "    </tr>\n",
       "    <tr>\n",
       "      <th>3</th>\n",
       "      <td>Standard Class</td>\n",
       "      <td>Consumer</td>\n",
       "      <td>United States</td>\n",
       "      <td>Fort Lauderdale</td>\n",
       "      <td>Florida</td>\n",
       "      <td>South</td>\n",
       "      <td>Furniture</td>\n",
       "      <td>Tables</td>\n",
       "      <td>Bretford CR4500 Series Slim Rectangular Table</td>\n",
       "      <td>957.5775</td>\n",
       "      <td>5</td>\n",
       "      <td>0.45</td>\n",
       "      <td>-383.0310</td>\n",
       "    </tr>\n",
       "    <tr>\n",
       "      <th>4</th>\n",
       "      <td>Standard Class</td>\n",
       "      <td>Consumer</td>\n",
       "      <td>United States</td>\n",
       "      <td>Fort Lauderdale</td>\n",
       "      <td>Florida</td>\n",
       "      <td>South</td>\n",
       "      <td>Office Supplies</td>\n",
       "      <td>Storage</td>\n",
       "      <td>Eldon Fold 'N Roll Cart System</td>\n",
       "      <td>22.3680</td>\n",
       "      <td>2</td>\n",
       "      <td>0.20</td>\n",
       "      <td>2.5164</td>\n",
       "    </tr>\n",
       "  </tbody>\n",
       "</table>\n",
       "</div>"
      ],
      "text/plain": [
       "        Ship Mode    Segment        Country             City       State  \\\n",
       "0    Second Class   Consumer  United States        Henderson    Kentucky   \n",
       "1    Second Class   Consumer  United States        Henderson    Kentucky   \n",
       "2    Second Class  Corporate  United States      Los Angeles  California   \n",
       "3  Standard Class   Consumer  United States  Fort Lauderdale     Florida   \n",
       "4  Standard Class   Consumer  United States  Fort Lauderdale     Florida   \n",
       "\n",
       "  Region         Category Sub-Category  \\\n",
       "0  South        Furniture    Bookcases   \n",
       "1  South        Furniture       Chairs   \n",
       "2   West  Office Supplies       Labels   \n",
       "3  South        Furniture       Tables   \n",
       "4  South  Office Supplies      Storage   \n",
       "\n",
       "                                        Product Name     Sales  Quantity  \\\n",
       "0                  Bush Somerset Collection Bookcase  261.9600         2   \n",
       "1  Hon Deluxe Fabric Upholstered Stacking Chairs,...  731.9400         3   \n",
       "2  Self-Adhesive Address Labels for Typewriters b...   14.6200         2   \n",
       "3      Bretford CR4500 Series Slim Rectangular Table  957.5775         5   \n",
       "4                     Eldon Fold 'N Roll Cart System   22.3680         2   \n",
       "\n",
       "   Discount    Profit  \n",
       "0      0.00   41.9136  \n",
       "1      0.00  219.5820  \n",
       "2      0.00    6.8714  \n",
       "3      0.45 -383.0310  \n",
       "4      0.20    2.5164  "
      ]
     },
     "execution_count": 41,
     "metadata": {},
     "output_type": "execute_result"
    }
   ],
   "source": [
    "data.head()"
   ]
  },
  {
   "cell_type": "code",
   "execution_count": 42,
   "id": "4a21328a",
   "metadata": {},
   "outputs": [
    {
     "data": {
      "text/html": [
       "<div>\n",
       "<style scoped>\n",
       "    .dataframe tbody tr th:only-of-type {\n",
       "        vertical-align: middle;\n",
       "    }\n",
       "\n",
       "    .dataframe tbody tr th {\n",
       "        vertical-align: top;\n",
       "    }\n",
       "\n",
       "    .dataframe thead th {\n",
       "        text-align: right;\n",
       "    }\n",
       "</style>\n",
       "<table border=\"1\" class=\"dataframe\">\n",
       "  <thead>\n",
       "    <tr style=\"text-align: right;\">\n",
       "      <th></th>\n",
       "      <th>Ship Mode</th>\n",
       "      <th>Segment</th>\n",
       "      <th>Region</th>\n",
       "      <th>Category</th>\n",
       "      <th>Sales</th>\n",
       "      <th>Quantity</th>\n",
       "      <th>Discount</th>\n",
       "      <th>Profit</th>\n",
       "    </tr>\n",
       "  </thead>\n",
       "  <tbody>\n",
       "    <tr>\n",
       "      <th>0</th>\n",
       "      <td>Second Class</td>\n",
       "      <td>Consumer</td>\n",
       "      <td>South</td>\n",
       "      <td>Furniture</td>\n",
       "      <td>261.9600</td>\n",
       "      <td>2</td>\n",
       "      <td>0.00</td>\n",
       "      <td>41.9136</td>\n",
       "    </tr>\n",
       "    <tr>\n",
       "      <th>1</th>\n",
       "      <td>Second Class</td>\n",
       "      <td>Consumer</td>\n",
       "      <td>South</td>\n",
       "      <td>Furniture</td>\n",
       "      <td>731.9400</td>\n",
       "      <td>3</td>\n",
       "      <td>0.00</td>\n",
       "      <td>219.5820</td>\n",
       "    </tr>\n",
       "    <tr>\n",
       "      <th>2</th>\n",
       "      <td>Second Class</td>\n",
       "      <td>Corporate</td>\n",
       "      <td>West</td>\n",
       "      <td>Office Supplies</td>\n",
       "      <td>14.6200</td>\n",
       "      <td>2</td>\n",
       "      <td>0.00</td>\n",
       "      <td>6.8714</td>\n",
       "    </tr>\n",
       "    <tr>\n",
       "      <th>3</th>\n",
       "      <td>Standard Class</td>\n",
       "      <td>Consumer</td>\n",
       "      <td>South</td>\n",
       "      <td>Furniture</td>\n",
       "      <td>957.5775</td>\n",
       "      <td>5</td>\n",
       "      <td>0.45</td>\n",
       "      <td>-383.0310</td>\n",
       "    </tr>\n",
       "    <tr>\n",
       "      <th>4</th>\n",
       "      <td>Standard Class</td>\n",
       "      <td>Consumer</td>\n",
       "      <td>South</td>\n",
       "      <td>Office Supplies</td>\n",
       "      <td>22.3680</td>\n",
       "      <td>2</td>\n",
       "      <td>0.20</td>\n",
       "      <td>2.5164</td>\n",
       "    </tr>\n",
       "  </tbody>\n",
       "</table>\n",
       "</div>"
      ],
      "text/plain": [
       "        Ship Mode    Segment Region         Category     Sales  Quantity  \\\n",
       "0    Second Class   Consumer  South        Furniture  261.9600         2   \n",
       "1    Second Class   Consumer  South        Furniture  731.9400         3   \n",
       "2    Second Class  Corporate   West  Office Supplies   14.6200         2   \n",
       "3  Standard Class   Consumer  South        Furniture  957.5775         5   \n",
       "4  Standard Class   Consumer  South  Office Supplies   22.3680         2   \n",
       "\n",
       "   Discount    Profit  \n",
       "0      0.00   41.9136  \n",
       "1      0.00  219.5820  \n",
       "2      0.00    6.8714  \n",
       "3      0.45 -383.0310  \n",
       "4      0.20    2.5164  "
      ]
     },
     "execution_count": 42,
     "metadata": {},
     "output_type": "execute_result"
    }
   ],
   "source": [
    "dataset1=data.drop(columns=[\"Country\",\"City\",\"State\",\"Product Name\",\"Sub-Category\"])\n",
    "dataset1.head()"
   ]
  },
  {
   "cell_type": "code",
   "execution_count": 43,
   "id": "4cda36e5",
   "metadata": {},
   "outputs": [
    {
     "data": {
      "text/plain": [
       "(9994, 8)"
      ]
     },
     "execution_count": 43,
     "metadata": {},
     "output_type": "execute_result"
    }
   ],
   "source": [
    "dataset1.shape"
   ]
  },
  {
   "cell_type": "code",
   "execution_count": 44,
   "id": "4fa494f6",
   "metadata": {},
   "outputs": [
    {
     "data": {
      "text/plain": [
       "Standard Class    5968\n",
       "Second Class      1945\n",
       "First Class       1538\n",
       "Same Day           543\n",
       "Name: Ship Mode, dtype: int64"
      ]
     },
     "execution_count": 44,
     "metadata": {},
     "output_type": "execute_result"
    }
   ],
   "source": [
    "dataset1[\"Ship Mode\"].value_counts()"
   ]
  },
  {
   "cell_type": "code",
   "execution_count": 45,
   "id": "b4cce74a",
   "metadata": {},
   "outputs": [
    {
     "data": {
      "text/plain": [
       "Consumer       5191\n",
       "Corporate      3020\n",
       "Home Office    1783\n",
       "Name: Segment, dtype: int64"
      ]
     },
     "execution_count": 45,
     "metadata": {},
     "output_type": "execute_result"
    }
   ],
   "source": [
    "dataset1[\"Segment\"].value_counts()"
   ]
  },
  {
   "cell_type": "code",
   "execution_count": 46,
   "id": "9f50232f",
   "metadata": {},
   "outputs": [
    {
     "data": {
      "text/plain": [
       "Office Supplies    6026\n",
       "Furniture          2121\n",
       "Technology         1847\n",
       "Name: Category, dtype: int64"
      ]
     },
     "execution_count": 46,
     "metadata": {},
     "output_type": "execute_result"
    }
   ],
   "source": [
    "dataset1[\"Category\"].value_counts()"
   ]
  },
  {
   "cell_type": "code",
   "execution_count": 47,
   "id": "659e6dae",
   "metadata": {},
   "outputs": [
    {
     "data": {
      "text/plain": [
       "West       3203\n",
       "East       2848\n",
       "Central    2323\n",
       "South      1620\n",
       "Name: Region, dtype: int64"
      ]
     },
     "execution_count": 47,
     "metadata": {},
     "output_type": "execute_result"
    }
   ],
   "source": [
    "dataset1[\"Region\"].value_counts()"
   ]
  },
  {
   "cell_type": "markdown",
   "id": "9fdc2bb8",
   "metadata": {},
   "source": [
    "# Converting categorical variable into numerical value"
   ]
  },
  {
   "cell_type": "code",
   "execution_count": 48,
   "id": "2148196a",
   "metadata": {},
   "outputs": [],
   "source": [
    "dataset1.replace({\"Ship Mode\":{\"Standard Class\":0,\"Second Class\":1,\"First Class\":2,\"Same Day\":3},\"Segment\":{\"Consumer\":0,\"Corporate\":1,\"Home Office\":2},\n",
    "                 \"Category\":{\"Office Supplies\":0,\"Furniture\":1,\"Technology\":2},\"Region\":{\"West\":0,\"East\":1,\"Central\":2,\"South\":3}},inplace=True)"
   ]
  },
  {
   "cell_type": "code",
   "execution_count": 49,
   "id": "c14aae47",
   "metadata": {},
   "outputs": [
    {
     "data": {
      "text/html": [
       "<div>\n",
       "<style scoped>\n",
       "    .dataframe tbody tr th:only-of-type {\n",
       "        vertical-align: middle;\n",
       "    }\n",
       "\n",
       "    .dataframe tbody tr th {\n",
       "        vertical-align: top;\n",
       "    }\n",
       "\n",
       "    .dataframe thead th {\n",
       "        text-align: right;\n",
       "    }\n",
       "</style>\n",
       "<table border=\"1\" class=\"dataframe\">\n",
       "  <thead>\n",
       "    <tr style=\"text-align: right;\">\n",
       "      <th></th>\n",
       "      <th>Ship Mode</th>\n",
       "      <th>Segment</th>\n",
       "      <th>Region</th>\n",
       "      <th>Category</th>\n",
       "      <th>Sales</th>\n",
       "      <th>Quantity</th>\n",
       "      <th>Discount</th>\n",
       "      <th>Profit</th>\n",
       "    </tr>\n",
       "  </thead>\n",
       "  <tbody>\n",
       "    <tr>\n",
       "      <th>0</th>\n",
       "      <td>1</td>\n",
       "      <td>0</td>\n",
       "      <td>3</td>\n",
       "      <td>1</td>\n",
       "      <td>261.9600</td>\n",
       "      <td>2</td>\n",
       "      <td>0.00</td>\n",
       "      <td>41.9136</td>\n",
       "    </tr>\n",
       "    <tr>\n",
       "      <th>1</th>\n",
       "      <td>1</td>\n",
       "      <td>0</td>\n",
       "      <td>3</td>\n",
       "      <td>1</td>\n",
       "      <td>731.9400</td>\n",
       "      <td>3</td>\n",
       "      <td>0.00</td>\n",
       "      <td>219.5820</td>\n",
       "    </tr>\n",
       "    <tr>\n",
       "      <th>2</th>\n",
       "      <td>1</td>\n",
       "      <td>1</td>\n",
       "      <td>0</td>\n",
       "      <td>0</td>\n",
       "      <td>14.6200</td>\n",
       "      <td>2</td>\n",
       "      <td>0.00</td>\n",
       "      <td>6.8714</td>\n",
       "    </tr>\n",
       "    <tr>\n",
       "      <th>3</th>\n",
       "      <td>0</td>\n",
       "      <td>0</td>\n",
       "      <td>3</td>\n",
       "      <td>1</td>\n",
       "      <td>957.5775</td>\n",
       "      <td>5</td>\n",
       "      <td>0.45</td>\n",
       "      <td>-383.0310</td>\n",
       "    </tr>\n",
       "    <tr>\n",
       "      <th>4</th>\n",
       "      <td>0</td>\n",
       "      <td>0</td>\n",
       "      <td>3</td>\n",
       "      <td>0</td>\n",
       "      <td>22.3680</td>\n",
       "      <td>2</td>\n",
       "      <td>0.20</td>\n",
       "      <td>2.5164</td>\n",
       "    </tr>\n",
       "  </tbody>\n",
       "</table>\n",
       "</div>"
      ],
      "text/plain": [
       "   Ship Mode  Segment  Region  Category     Sales  Quantity  Discount  \\\n",
       "0          1        0       3         1  261.9600         2      0.00   \n",
       "1          1        0       3         1  731.9400         3      0.00   \n",
       "2          1        1       0         0   14.6200         2      0.00   \n",
       "3          0        0       3         1  957.5775         5      0.45   \n",
       "4          0        0       3         0   22.3680         2      0.20   \n",
       "\n",
       "     Profit  \n",
       "0   41.9136  \n",
       "1  219.5820  \n",
       "2    6.8714  \n",
       "3 -383.0310  \n",
       "4    2.5164  "
      ]
     },
     "execution_count": 49,
     "metadata": {},
     "output_type": "execute_result"
    }
   ],
   "source": [
    "dataset1.head()"
   ]
  },
  {
   "cell_type": "markdown",
   "id": "5545cbc2",
   "metadata": {},
   "source": [
    "# Seprating the dataset into x and y"
   ]
  },
  {
   "cell_type": "code",
   "execution_count": 50,
   "id": "274c7021",
   "metadata": {},
   "outputs": [
    {
     "name": "stdout",
     "output_type": "stream",
     "text": [
      "      Ship Mode  Segment  Region  Category     Sales  Quantity  Discount\n",
      "0             1        0       3         1  261.9600         2      0.00\n",
      "1             1        0       3         1  731.9400         3      0.00\n",
      "2             1        1       0         0   14.6200         2      0.00\n",
      "3             0        0       3         1  957.5775         5      0.45\n",
      "4             0        0       3         0   22.3680         2      0.20\n",
      "...         ...      ...     ...       ...       ...       ...       ...\n",
      "9989          1        0       3         1   25.2480         3      0.20\n",
      "9990          0        0       0         1   91.9600         2      0.00\n",
      "9991          0        0       0         2  258.5760         2      0.20\n",
      "9992          0        0       0         0   29.6000         4      0.00\n",
      "9993          1        0       0         0  243.1600         2      0.00\n",
      "\n",
      "[9994 rows x 7 columns]\n"
     ]
    }
   ],
   "source": [
    "x=dataset1.iloc[:,:-1]\n",
    "print(x)"
   ]
  },
  {
   "cell_type": "code",
   "execution_count": 51,
   "id": "fc009aa1",
   "metadata": {},
   "outputs": [
    {
     "name": "stdout",
     "output_type": "stream",
     "text": [
      "0        41.9136\n",
      "1       219.5820\n",
      "2         6.8714\n",
      "3      -383.0310\n",
      "4         2.5164\n",
      "          ...   \n",
      "9989      4.1028\n",
      "9990     15.6332\n",
      "9991     19.3932\n",
      "9992     13.3200\n",
      "9993     72.9480\n",
      "Name: Profit, Length: 9994, dtype: float64\n"
     ]
    }
   ],
   "source": [
    "y=dataset1.iloc[:,-1]\n",
    "print(y)"
   ]
  },
  {
   "cell_type": "markdown",
   "id": "ca917067",
   "metadata": {},
   "source": [
    "# Rescaling the features"
   ]
  },
  {
   "cell_type": "code",
   "execution_count": 52,
   "id": "8dd2214b",
   "metadata": {},
   "outputs": [],
   "source": [
    "from sklearn.preprocessing import MinMaxScaler\n",
    "scaler=MinMaxScaler()"
   ]
  },
  {
   "cell_type": "code",
   "execution_count": 53,
   "id": "22985f84",
   "metadata": {},
   "outputs": [
    {
     "name": "stdout",
     "output_type": "stream",
     "text": [
      "      Ship Mode  Segment  Region  Category     Sales  Quantity  Discount\n",
      "0             1        0       3         1  0.011552  0.076923      0.00\n",
      "1             1        0       3         1  0.032313  0.153846      0.00\n",
      "2             1        1       0         0  0.000626  0.076923      0.00\n",
      "3             0        0       3         1  0.042280  0.307692      0.45\n",
      "4             0        0       3         0  0.000968  0.076923      0.20\n",
      "...         ...      ...     ...       ...       ...       ...       ...\n",
      "9989          1        0       3         1  0.001096  0.153846      0.20\n",
      "9990          0        0       0         1  0.004043  0.076923      0.00\n",
      "9991          0        0       0         2  0.011403  0.076923      0.20\n",
      "9992          0        0       0         0  0.001288  0.230769      0.00\n",
      "9993          1        0       0         0  0.010722  0.076923      0.00\n",
      "\n",
      "[9994 rows x 7 columns]\n"
     ]
    }
   ],
   "source": [
    "num_vars=[\"Sales\",\"Quantity\"]\n",
    "x[num_vars]=scaler.fit_transform(x[num_vars])\n",
    "print(x)"
   ]
  },
  {
   "cell_type": "markdown",
   "id": "f59729cd",
   "metadata": {},
   "source": [
    "# Spliting the dataset into training and testing data"
   ]
  },
  {
   "cell_type": "code",
   "execution_count": 54,
   "id": "b444b535",
   "metadata": {},
   "outputs": [],
   "source": [
    "from sklearn.model_selection import train_test_split\n",
    "x_train,x_test,y_train,y_test=train_test_split(x,y,test_size=0.25,random_state=100)"
   ]
  },
  {
   "cell_type": "code",
   "execution_count": 55,
   "id": "dbcc7b45",
   "metadata": {},
   "outputs": [
    {
     "name": "stdout",
     "output_type": "stream",
     "text": [
      "(7495, 7) (2499, 7) (7495,) (2499,)\n"
     ]
    }
   ],
   "source": [
    "print(x_train.shape,x_test.shape,y_train.shape,y_test.shape)"
   ]
  },
  {
   "cell_type": "markdown",
   "id": "11d735de",
   "metadata": {},
   "source": [
    "# Creating Machine Learning Model"
   ]
  },
  {
   "cell_type": "code",
   "execution_count": 56,
   "id": "c5b5c7d3",
   "metadata": {},
   "outputs": [
    {
     "data": {
      "text/html": [
       "<style>#sk-container-id-1 {color: black;background-color: white;}#sk-container-id-1 pre{padding: 0;}#sk-container-id-1 div.sk-toggleable {background-color: white;}#sk-container-id-1 label.sk-toggleable__label {cursor: pointer;display: block;width: 100%;margin-bottom: 0;padding: 0.3em;box-sizing: border-box;text-align: center;}#sk-container-id-1 label.sk-toggleable__label-arrow:before {content: \"▸\";float: left;margin-right: 0.25em;color: #696969;}#sk-container-id-1 label.sk-toggleable__label-arrow:hover:before {color: black;}#sk-container-id-1 div.sk-estimator:hover label.sk-toggleable__label-arrow:before {color: black;}#sk-container-id-1 div.sk-toggleable__content {max-height: 0;max-width: 0;overflow: hidden;text-align: left;background-color: #f0f8ff;}#sk-container-id-1 div.sk-toggleable__content pre {margin: 0.2em;color: black;border-radius: 0.25em;background-color: #f0f8ff;}#sk-container-id-1 input.sk-toggleable__control:checked~div.sk-toggleable__content {max-height: 200px;max-width: 100%;overflow: auto;}#sk-container-id-1 input.sk-toggleable__control:checked~label.sk-toggleable__label-arrow:before {content: \"▾\";}#sk-container-id-1 div.sk-estimator input.sk-toggleable__control:checked~label.sk-toggleable__label {background-color: #d4ebff;}#sk-container-id-1 div.sk-label input.sk-toggleable__control:checked~label.sk-toggleable__label {background-color: #d4ebff;}#sk-container-id-1 input.sk-hidden--visually {border: 0;clip: rect(1px 1px 1px 1px);clip: rect(1px, 1px, 1px, 1px);height: 1px;margin: -1px;overflow: hidden;padding: 0;position: absolute;width: 1px;}#sk-container-id-1 div.sk-estimator {font-family: monospace;background-color: #f0f8ff;border: 1px dotted black;border-radius: 0.25em;box-sizing: border-box;margin-bottom: 0.5em;}#sk-container-id-1 div.sk-estimator:hover {background-color: #d4ebff;}#sk-container-id-1 div.sk-parallel-item::after {content: \"\";width: 100%;border-bottom: 1px solid gray;flex-grow: 1;}#sk-container-id-1 div.sk-label:hover label.sk-toggleable__label {background-color: #d4ebff;}#sk-container-id-1 div.sk-serial::before {content: \"\";position: absolute;border-left: 1px solid gray;box-sizing: border-box;top: 0;bottom: 0;left: 50%;z-index: 0;}#sk-container-id-1 div.sk-serial {display: flex;flex-direction: column;align-items: center;background-color: white;padding-right: 0.2em;padding-left: 0.2em;position: relative;}#sk-container-id-1 div.sk-item {position: relative;z-index: 1;}#sk-container-id-1 div.sk-parallel {display: flex;align-items: stretch;justify-content: center;background-color: white;position: relative;}#sk-container-id-1 div.sk-item::before, #sk-container-id-1 div.sk-parallel-item::before {content: \"\";position: absolute;border-left: 1px solid gray;box-sizing: border-box;top: 0;bottom: 0;left: 50%;z-index: -1;}#sk-container-id-1 div.sk-parallel-item {display: flex;flex-direction: column;z-index: 1;position: relative;background-color: white;}#sk-container-id-1 div.sk-parallel-item:first-child::after {align-self: flex-end;width: 50%;}#sk-container-id-1 div.sk-parallel-item:last-child::after {align-self: flex-start;width: 50%;}#sk-container-id-1 div.sk-parallel-item:only-child::after {width: 0;}#sk-container-id-1 div.sk-dashed-wrapped {border: 1px dashed gray;margin: 0 0.4em 0.5em 0.4em;box-sizing: border-box;padding-bottom: 0.4em;background-color: white;}#sk-container-id-1 div.sk-label label {font-family: monospace;font-weight: bold;display: inline-block;line-height: 1.2em;}#sk-container-id-1 div.sk-label-container {text-align: center;}#sk-container-id-1 div.sk-container {/* jupyter's `normalize.less` sets `[hidden] { display: none; }` but bootstrap.min.css set `[hidden] { display: none !important; }` so we also need the `!important` here to be able to override the default hidden behavior on the sphinx rendered scikit-learn.org. See: https://github.com/scikit-learn/scikit-learn/issues/21755 */display: inline-block !important;position: relative;}#sk-container-id-1 div.sk-text-repr-fallback {display: none;}</style><div id=\"sk-container-id-1\" class=\"sk-top-container\"><div class=\"sk-text-repr-fallback\"><pre>RandomForestRegressor(n_estimators=117, random_state=0)</pre><b>In a Jupyter environment, please rerun this cell to show the HTML representation or trust the notebook. <br />On GitHub, the HTML representation is unable to render, please try loading this page with nbviewer.org.</b></div><div class=\"sk-container\" hidden><div class=\"sk-item\"><div class=\"sk-estimator sk-toggleable\"><input class=\"sk-toggleable__control sk-hidden--visually\" id=\"sk-estimator-id-1\" type=\"checkbox\" checked><label for=\"sk-estimator-id-1\" class=\"sk-toggleable__label sk-toggleable__label-arrow\">RandomForestRegressor</label><div class=\"sk-toggleable__content\"><pre>RandomForestRegressor(n_estimators=117, random_state=0)</pre></div></div></div></div></div>"
      ],
      "text/plain": [
       "RandomForestRegressor(n_estimators=117, random_state=0)"
      ]
     },
     "execution_count": 56,
     "metadata": {},
     "output_type": "execute_result"
    }
   ],
   "source": [
    "from sklearn.ensemble import RandomForestRegressor\n",
    "model=RandomForestRegressor(random_state=0,n_estimators=117)\n",
    "model.fit(x_train,y_train)"
   ]
  },
  {
   "cell_type": "code",
   "execution_count": 57,
   "id": "99d1c977",
   "metadata": {},
   "outputs": [],
   "source": [
    "y_pred=model.predict(x_test)"
   ]
  },
  {
   "cell_type": "code",
   "execution_count": 58,
   "id": "53dbb260",
   "metadata": {},
   "outputs": [
    {
     "name": "stdout",
     "output_type": "stream",
     "text": [
      "R2 Score= 74.08625323324485\n"
     ]
    }
   ],
   "source": [
    "from sklearn.metrics import r2_score\n",
    "print(\"R2 Score=\",r2_score(y_pred,y_test)*100)"
   ]
  },
  {
   "cell_type": "code",
   "execution_count": 59,
   "id": "15d9805c",
   "metadata": {},
   "outputs": [
    {
     "data": {
      "text/plain": [
       "Text(0, 0.5, 'Y_pred')"
      ]
     },
     "execution_count": 59,
     "metadata": {},
     "output_type": "execute_result"
    },
    {
     "data": {
      "image/png": "[encoded data removed]",
      "text/plain": [
       "<Figure size 640x480 with 1 Axes>"
      ]
     },
     "metadata": {},
     "output_type": "display_data"
    }
   ],
   "source": [
    "fig = plt.figure()\n",
    "plt.scatter(y_test,y_pred)\n",
    "fig.suptitle('y_test vs y_pred', fontsize=20)              # Plot heading\n",
    "plt.xlabel('y_test', fontsize=18)                          # X-label\n",
    "plt.ylabel('Y_pred', fontsize=16)"
   ]
  },
  {
   "cell_type": "code",
   "execution_count": null,
   "id": "84703b7c",
   "metadata": {},
   "outputs": [],
   "source": []
  }
 ],
 "metadata": {
  "kernelspec": {
   "display_name": "Python 3 (ipykernel)",
   "language": "python",
   "name": "python3"
  },
  "language_info": {
   "codemirror_mode": {
    "name": "ipython",
    "version": 3
   },
   "file_extension": ".py",
   "mimetype": "text/x-python",
   "name": "python",
   "nbconvert_exporter": "python",
   "pygments_lexer": "ipython3",
   "version": "3.10.9"
  }
 },
 "nbformat": 4,
 "nbformat_minor": 5
}
